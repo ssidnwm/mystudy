{
 "cells": [
  {
   "cell_type": "markdown",
   "id": "13f81c70",
   "metadata": {},
   "source": [
    "One thing I do know, I was blind but now I see. (John 9:25b)\n",
    "\n",
    "-------\n",
    "<img src=\"https://github.com/idebtor/DSpy/blob/6b3676c3de29f85d2e7f30679676d1fd96d88b17/images/WelcomeToDataStructures.jpg?raw=true\" width=1000>\n",
    "\n",
    "__NOTE:__ The following materials have been compiled and adapted from the numerous sources including my own. Please help me to keep this tutorial up-to-date by reporting any issues or questions. Send any comments or criticisms to `idebtor@gmail.com` Your assistances and comments will be appreciated.\n",
    "\n",
    "--------"
   ]
  },
  {
   "cell_type": "markdown",
   "id": "95431d18",
   "metadata": {},
   "source": [
    "<b style=\"font-size:30px\">Problem Set: Profiling </b>\n",
    "\n",
    "\n",
    "Honor Code: \n",
    "\n",
    "--------------\n"
   ]
  },
  {
   "cell_type": "markdown",
   "id": "54596d55-56b9-4a10-908c-01492f1ebacd",
   "metadata": {},
   "source": [
    "# Problem 1. 시간복잡도의 시각화\n",
    "\n",
    "## Step 1: Pop(0) and Pop() Profiling "
   ]
  },
  {
   "cell_type": "markdown",
   "id": "2904bf01-d4cd-42cf-9f2c-e0905ec565c0",
   "metadata": {},
   "source": [
    "`pop(0)`와 `pop()` 연산의 시간 측정 결과를 시각화하기 위하여, 앞에서 우리가 다룬 코드를 변경하여 샘플의 갯수를 좀 더 세분화하여 2만개부터 시작하여 최대 100만개까지, 단계는 2만으로 계산합니다.  또한 타임 측정 결과도 리스트 형식으로 담아 저장합니다. 아래 실행 코드와 시각화 코드를 완성하여 아래와 같은 그래프를 가능한 동일하게 만들어 내십시오. \n",
    "\n",
    "__힌트:__ 코드를 test할 때 시간을 절약하기 위해서, `timeit`에서 사용하는 반복 횟수 옵션을 `number=100` 내지는 그 이하로 설정하고, 최종적으로는 그래프를 그리려면 `number=1000`을 사용하십시오. 이 때는 5분 이상 걸릴 수도 있습니다"
   ]
  },
  {
   "cell_type": "markdown",
   "id": "acf26eb9-410e-4035-9c70-9017bb6aa327",
   "metadata": {},
   "source": [
    "<center><img src=\"https://github.com/idebtor/DSpy/blob/main/images/chap2/chapter2-10.png?raw=true\" width=500> </center>\n",
    "<center>그림1. pop(0)와 pop() 연산자의 시간복잡도 비교, timeit(number=1000)</center>"
   ]
  },
  {
   "cell_type": "code",
   "execution_count": 1,
   "id": "245a2ff3-5d4c-49f7-ad6d-26b172477127",
   "metadata": {},
   "outputs": [],
   "source": [
    "from timeit import Timer\n",
    "\n",
    "pop_zero = Timer(\"x.pop(0)\", \"from __main__ import x\")\n",
    "pop_last = Timer(\"x.pop( )\", \"from __main__ import x\")\n",
    "\n",
    "pop_zero_time = []\n",
    "pop_last_time = []\n",
    "n = []                   # list of samples or i \n",
    "\n",
    "for i in range(20_000, 1_000_001, 20_000):\n",
    "    x = list(range(i))\n",
    "    pop_zero_time.append(None)\n",
    "    \n",
    "    x = list(range(i))\n",
    "    pop_last_time.append(None)\n",
    "    \n",
    "    n.append(i)"
   ]
  },
  {
   "cell_type": "markdown",
   "id": "424e00f9-45dc-43c4-a041-3f647742cf72",
   "metadata": {
    "tags": []
   },
   "source": [
    "## Step 2: Pop(0) and Pop() Profiling 시각화  \n",
    "\n",
    "아래의 시각화 코드를 완성하십시오. 시각화를 위해 `scatter(), axvline(), axhline(), legend()` 등과 같은 함수가 도움이 될 것이며, `fontsize = 16`을 사용합니다."
   ]
  },
  {
   "cell_type": "code",
   "execution_count": null,
   "id": "74efd434-920d-4d73-8ab9-b49dcf37aa56",
   "metadata": {},
   "outputs": [],
   "source": [
    "import matplotlib.pylab as plt\n",
    "\n",
    "plt.figure(figsize=(8, 6))\n",
    "\n",
    "None  # two lines for data \n",
    "\n",
    "plt.axvline(0, color='black', linewidth=0.5)\n",
    "plt.axhline(0, color='black', linewidth=0.5)\n",
    "plt.xlabel('n, number of samples', fontsize = 16)\n",
    "plt.ylabel('second', fontsize = 16)\n",
    "plt.title('Time Complexity Comparison', fontsize = 16)\n",
    "plt.legend(fontsize = 16)\n",
    "plt.show()"
   ]
  },
  {
   "cell_type": "markdown",
   "id": "a942049e-0393-44b8-8d01-d80ec2cc5cc3",
   "metadata": {},
   "source": [
    "\n",
    "## Step 3: 리스트와 딕셔너리 Profiling  "
   ]
  },
  {
   "cell_type": "markdown",
   "id": "ca086ad5-8d14-4d26-8189-14db8e4d932b",
   "metadata": {},
   "source": [
    "리스트와 딕셔너리의 container 연산의 시간복잡도 측정 결과를 시각화하기 위하여, 앞에서 우리가 다룬 코드를 변경하여 샘플의 갯수를 좀 더 세분화하여 2만개부터 시작하여 최대 100만개까지, 단계는 2만으로 계산합니다. (5분 이상 걸릴 수도 있습니다) 또한 타임 측정 결과도 리스트 형식으로 담아 저장합니다. 아래 실행 코드와 시각화 코드를 완성하여 아래와 같은 그래프를 가능한 동일하게 만들어 내십시오. \n",
    "\n",
    "__힌트:__ 시간을 절약하기 위해 test할 때는, `timeit`에서 사용하는 반복 횟수 옵션을 `number=100` 내지는 그 이하로 설정하고, 최종적으로는 그래프를 그리려면 `number=1000`을 사용하십시오. 이 때는 5분 이상 걸릴 수도 있습니다"
   ]
  },
  {
   "cell_type": "markdown",
   "id": "5829bbe3-08dc-46e1-9971-eec256ff37f5",
   "metadata": {},
   "source": [
    "<center><img src=\"https://github.com/idebtor/DSpy/blob/main/images/chap2/chapter2-9.png?raw=true\" width=500> </center>\n",
    "<center>그림2. 리스트와 딕셔너리 연산자의 시간복잡도 비교, timeit(number=1000)</center>"
   ]
  },
  {
   "cell_type": "code",
   "execution_count": null,
   "id": "4ecc9685",
   "metadata": {},
   "outputs": [],
   "source": [
    "from timeit import Timer\n",
    "import random\n",
    "\n",
    "list_time = []    # list of list_time values\n",
    "dict_time = []    # list of dict_time values\n",
    "n = []            # list of samples or i \n",
    "\n",
    "for i in range(20_000, 1_000_001, 20_000):\n",
    "    \n",
    "    t = Timer(f\"random.randrange({i}) in x\", \"from __main__ import random, x\")\n",
    "    \n",
    "    None\n",
    "    \n",
    "    n.append(i)"
   ]
  },
  {
   "cell_type": "markdown",
   "id": "137bedbf",
   "metadata": {},
   "source": [
    "## Step 4: 리스트와 딕션너리의 in 연산자 Profiling 시각화  \n",
    "\n",
    "아래의 시각화 코드를 완성하십시오. 시각화를 위해 `scatter(), axvline(), axhline(), legend()` 등과 같은 함수가 도움이 될 것이며, `fontsize = 16`를 사용합니다."
   ]
  },
  {
   "cell_type": "code",
   "execution_count": null,
   "id": "16982c59",
   "metadata": {
    "tags": []
   },
   "outputs": [],
   "source": [
    "import matplotlib.pylab as plt\n",
    "\n",
    "plt.figure(figsize=(8, 6))\n",
    "\n",
    "None  # two lines for data \n",
    "\n",
    "plt.axvline(0, color='black', linewidth=0.5)\n",
    "plt.axhline(0, color='black', linewidth=0.5)\n",
    "plt.xlabel('n, number of samples', fontsize = 16)\n",
    "plt.ylabel('second', fontsize = 16)\n",
    "plt.title('Time Complexity Comparison', fontsize = 16)\n",
    "plt.legend(fontsize = 16)\n",
    "plt.show()"
   ]
  },
  {
   "cell_type": "markdown",
   "id": "34c4f2b3-339f-424a-b7ef-091b2f226b67",
   "metadata": {},
   "source": [
    "# Problem 2. Sort Algorithms Performance Analysis\n",
    "\n",
    "파이썬은 기본적으로 정렬(sort)함수가 내장되어 있습니다. 파이썬의 정렬함수는 `timsort` 알고리즘으로 알려져 있습니다. 이러한 팀소트 알고리즘과 고전적인 삽입정렬(insertion sort)알고리즘의 성능을 비교 분석하고자 합니다. "
   ]
  },
  {
   "cell_type": "markdown",
   "id": "4d39c5cc-1ae2-4cbd-a055-8e82e1fc4fe7",
   "metadata": {},
   "source": [
    "## Step 1: 팀소트 Profiling \n",
    "    \n",
    "팀소트 알고리즘 실행하여 다음과 같은 형식으로 실행 시간들을 산출하십시오.\n",
    "    \n",
    "__Sample Run:__\n",
    "```\n",
    "         n   timsort\n",
    "   100,000    0.0558\n",
    "   200,000    0.1270\n",
    "   300,000    0.2020\n",
    "   400,000    0.3160\n",
    "   500,000    0.4185\n",
    "   600,000    0.4760\n",
    "   700,000    0.5713\n",
    "   800,000    0.6805\n",
    "   900,000    0.7897\n",
    " 1,000,000    0.8776\n",
    " ```"
   ]
  },
  {
   "cell_type": "code",
   "execution_count": null,
   "id": "fdbbece7-8d98-452c-81f1-21ffe7281f43",
   "metadata": {},
   "outputs": [],
   "source": [
    "import timeit\n",
    "import random\n",
    "\n",
    "print(f\"{'n':>10s}{'timsort':>10s}\")\n",
    "\n",
    "for i in range(100_000, 10_00_001, 100_000):\n",
    "    x = list(range(i))\n",
    "    random.shuffle(x)\n",
    "    \n",
    "    t = None\n",
    "    timsort_time = None\n",
    "    \n",
    "    print(f\"{i: >10,}{timsort_time: >10.4f}\")"
   ]
  },
  {
   "cell_type": "markdown",
   "id": "f528bcd4-e8b5-45bf-af09-aee4ba9d7b9e",
   "metadata": {},
   "source": [
    "## Step 2: 팀소트 Growth Rate\n",
    "\n",
    "자신의 컴퓨터에서 실제적으로 측정한 실행시간으로부터 Growth Rate를 계산하십시오. 샘플의 수가 (`n = 200,000`과 `n = 400,000`)의 경우를 사용하십시오. 아래 식의 $a$와 $b$를 구하는 것입니다. 이를 이용하여 샘플의 크기 `n = 1,000,000` 일 때의 실행 시간을 예측하십시오.  \n",
    "\n",
    "\\begin{align}\n",
    "                                T(n) = a N^b\n",
    "\\end{align}\n",
    "\n",
    "__Solutions:__ your answer here:\n",
    "\\begin{align}\n",
    "T(n) &=   \\\\\n",
    "T(10^6) &=  \\\\\n",
    "\\end{align}"
   ]
  },
  {
   "cell_type": "markdown",
   "id": "d35abfd7-1e1d-4a83-b7e5-7feff759a80d",
   "metadata": {},
   "source": [
    "## Step 3: 삽입정렬(insertion sort) Profiling \n",
    "\n",
    "삽입정렬을 실행하여 다음과 같은 형식으로 실행 시간들을 산출하십시오. `timeit()`의 옵션 `number` 설정을 크게하면 시간을 오래 걸립니다. 처음에 코딩할 때는 다소 작은 수를 설정하여 시작하는 것이 한 방법입니다.\n",
    "\n",
    "__Sample Run:__\n",
    "```\n",
    "         n insertion\n",
    "     1,000    0.0700\n",
    "     2,000    0.2651\n",
    "     3,000    0.5851\n",
    "     4,000    1.0253\n",
    "     5,000    1.5938\n",
    "     6,000    2.2087\n",
    "     7,000    2.9957\n",
    "     8,000    4.0640\n",
    "     9,000    5.0401\n",
    "    10,000    6.2439\n",
    " ```"
   ]
  },
  {
   "cell_type": "code",
   "execution_count": null,
   "id": "07418e1b-263e-464e-8fad-ff0f490087b3",
   "metadata": {},
   "outputs": [],
   "source": [
    "def insertion(arr):\n",
    "    for end in range(1, len(arr)):\n",
    "        i = end\n",
    "        while i > 0 and arr[i - 1] > arr[i]:\n",
    "            arr[i - 1], arr[i] = arr[i], arr[i - 1]\n",
    "            i -= 1"
   ]
  },
  {
   "cell_type": "code",
   "execution_count": null,
   "id": "7b09cf85-8aea-4577-8623-0d2ca6a12e05",
   "metadata": {},
   "outputs": [],
   "source": [
    "import timeit\n",
    "import random\n",
    "\n",
    "print(f\"{'n':>10s}{'insertion':>10s}\")\n",
    "\n",
    "for i in range(1_000, 10_001, 1_000):\n",
    "    x = list(range(i))\n",
    "    random.shuffle(x)\n",
    "    \n",
    "    t = None\n",
    "    insertion_time = None\n",
    "    \n",
    "    \n",
    "    print(f\"{i: >10,}{insertion_time: >10.4f}\")"
   ]
  },
  {
   "cell_type": "markdown",
   "id": "490c81ae-bfe9-4dac-9a5a-b19a913f24c5",
   "metadata": {},
   "source": [
    "## Step 4: 삽입정렬의 Growth Rate\n",
    "\n",
    "자신의 컴퓨터에서 실제적으로 측정한 실행시간으로부터 Growth Rate를 계산하십시오. (n = 4,000과 n = 8,000)의 경우를 사용하십시오. 아래 식의 $a$와 $b$를 구하는 것입니다. 이를 이용하여 샘플의 크기 n = 1,000,000 일 때의 실행 시간을 예측하십시오.  \n",
    "\n",
    "\\begin{align}\n",
    "                                T(n) = a N^b\n",
    "\\end{align}\n",
    "\n",
    "__Solutions:__ your answer here:\n",
    "\\begin{align}\n",
    "T(n) &=   \\\\\n",
    "T(10^6) &=  \\\\\n",
    "\\end{align}"
   ]
  },
  {
   "cell_type": "markdown",
   "id": "2c9c705f-aa49-45f6-8eca-069ab4ce8aa4",
   "metadata": {},
   "source": [
    "## Step 5: 팀소트와 삽입정렬의 Growth Rates 비교\n",
    "\n",
    "팀소트와 삽입정렬의 Growth Rate를 상호 비교하기 위하여, 두 정렬 알고리즘을 함께 실행하여 아래와 같이 형식의 Profiling 결과를 도출하십시오.  \n",
    "\n",
    "__Sample Run:__\n",
    "```\n",
    "         n   timsort insertion\n",
    "     2,000    0.0004    0.4356\n",
    "     4,000    0.0005    1.1322\n",
    "     6,000    0.0008    2.5748\n",
    "     8,000    0.0022    4.1878\n",
    "    10,000    0.0013    6.4006\n",
    "    12,000    0.0017    9.3310\n",
    "    14,000    0.0020   12.2513\n",
    "    16,000    0.0023   16.1699\n",
    "    18,000    0.0026   20.0950\n",
    "    20,000    0.0034   25.6012\n",
    "```"
   ]
  },
  {
   "cell_type": "code",
   "execution_count": null,
   "id": "145a4a90-e30d-447e-85cb-dda760305f74",
   "metadata": {
    "tags": []
   },
   "outputs": [],
   "source": [
    "import random\n",
    "import timeit\n",
    "\n",
    "timsort_time = []      # list of timsort running time\n",
    "insertion_time = []    # list of insertion sort running time\n",
    "n = []                 # list of samples or i - save it for graph\n",
    "\n",
    "print(f\"{'n':>10s}{'timsort':>10s}{'insertion':>10s}\")\n",
    "\n",
    "for i in range(2000, 20_001, 2000):\n",
    "    x = list(range(i))\n",
    "    random.shuffle(x)\n",
    "    \n",
    "    t = None\n",
    "    timsort_t = None\n",
    "    timsort_time.None\n",
    "    \n",
    "    random.shuffle(x)\n",
    "    t = None\n",
    "    insertion_t = None\n",
    "    insertion_time.None\n",
    "    \n",
    "    n.append(i)   \n",
    "    print(f\"{i: >10,}{timsort_t: >10.4f}{insertion_t: >10.4f}\")"
   ]
  },
  {
   "cell_type": "markdown",
   "id": "7c1ddbae-3c1b-4b61-8a17-d04f5c9ef0e3",
   "metadata": {
    "tags": []
   },
   "source": [
    "## Step 6: 팀소트와 삽입정렬의 Growth Rates 시각화 \n",
    "\n",
    "팀소트와 삽입정렬의 Growth Rates를 상호 비교하기 위하여 두 정렬 알고리즘을 동시에 실행하여 얻은 Profiling 결과를 시각화 하십시오.\n",
    "\n",
    "__Sample Run:__\n",
    "\n",
    "<center><img src=\"https://github.com/idebtor/DSpy/blob/4811a70ab4e080ba631094e5516359ffc493e94a/images/chap2/chapter2-11.png?raw=true\" width=500> </center>\n",
    "<center>그림3. 파이썬의 팀소트와 삽입정령의 Growth Rates 비교</center>\n",
    "\n",
    "\n"
   ]
  },
  {
   "cell_type": "code",
   "execution_count": null,
   "id": "68ac5da7-e665-4f99-aff4-db4445ece929",
   "metadata": {},
   "outputs": [],
   "source": [
    "import matplotlib.pylab as plt\n",
    "\n",
    "plt.figure(figsize=(8, 6))\n",
    "\n",
    "None # two lines for data \n",
    "\n",
    "plt.axvline(0, color='black', linewidth=0.5)\n",
    "plt.axhline(0, color='black', linewidth=0.5)\n",
    "plt.xlabel('n, number of samples', fontsize = 16)\n",
    "plt.ylabel('second', fontsize = 16)\n",
    "plt.title('Time Complexity Comparison', fontsize = 16)\n",
    "plt.legend(fontsize = 16)\n",
    "plt.show()"
   ]
  },
  {
   "cell_type": "markdown",
   "id": "9b4ad155",
   "metadata": {},
   "source": [
    "# 참고자료\n",
    "- Problem Solving with Algorithms and Data Structures using Python, [Here](https://runestone.academy/runestone/books/published/pythonds3/AlgorithmAnalysis/Lists.html)\n"
   ]
  },
  {
   "attachments": {},
   "cell_type": "markdown",
   "id": "e5c40fe4-4ef1-45c4-a5dd-27b05abfbc3b",
   "metadata": {},
   "source": [
    "# Exploratory Data Analysis \n",
    "### - StudentID: 22000245\n",
    "### - Name: Moon ByeoRi\n",
    "### - 1st Major: ACE\n",
    "### - 2nd Major: Data Science\n",
    "<br>\n",
    "\n",
    "\n",
    "\n",
    "\n",
    "<br><br>\n",
    "## 1. Data overview <br>\n",
    "Data review\n",
    "-BT_data 5000000 obs, 5 variable\n",
    "Date, Description, De[psots, Withdrawls, Balance\n",
    "\n",
    "Date 2020-Aug-21 ~ 2155-Nov-15.\n",
    "\n",
    "Description type is char, each ATM, Bill, Cash, Cheque, Commission, Debit Card, IMPS, Interest, Miscellaneous, NEFT, Purchase, Reversal, RTGS, Tax, Transfer.\n",
    "\n",
    "Deposits type is char, but convert to numeric data and use it.\n",
    "\n",
    "Withdrawls also char type, necessary convert to nymeric data.\n",
    "\n",
    "Balance type is char, It is Results after the transaction ends.\n",
    "\n",
    "\n",
    "\n",
    "\n",
    "\n",
    "\n",
    "\n",
    "<br><br>\n",
    "## 2. Univariate analysis <br>\n",
    "\r\n",
    "I started the analysis first with the date variable\n",
    ".\n",
    "### 2.1 (ex) Variable 1: Date <br>\n",
    "~~First, we examine the first variable, Date, from the BT_Data. The Date variable is of char type and is formatted like 21-Aug-2020. To check the volume of transactions on a daily basis, as well as monthly and yearly, we separated the Date variable..\n",
    "After that, we calculated the average daily trading volume for each month and visualized each to make them easy to see..\n",
    "#2020 Annual Graph Image지\n",
    "<figure>\n",
    "  <img src=\"https://github.com/ssidnwm/bdt/blob/main/grap1.png?raw=true\" alt=\"2020 그래프\"/>\n",
    "    \n",
    "</figure>The monthly average trading volume for the year 2020 was visualized in a graph. August appears slightly higher due to fewer samples compared to other months, while the volumes for the other months are almost similar..\n",
    "\n",
    "#2021 Annual Graph Image지\n",
    "<figure>\n",
    "  <img src=\"https://github.com/ssidnwm/bdt/blob/main/grap2.png?raw=true\" alt=\"2021 그래프\"/>\n",
    "\n",
    "</figure>This is the graph image for the year 2021. It's not sorted by month, which makes it a bit harder to read. Notably, there was a sharp increase in trading volume in June compared to other months, and again in December, the trading volume showed a significant spike in average volume..\n",
    "\n",
    "#2020~ 2024 Annual Graph Image지\n",
    "<figure>\n",
    "  <img src=\"https://github.com/ssidnwm/bdt/blob/main/grap3.png?raw=true\" alt=\"2020 ~2024 그래프\"/>\n",
    "\n",
    "</figure>\n",
    "We visualized the changes in trading volume for five years, from 2020 to 2024, in a line graph to observe the trading volume of all 12 months at once. The most noticeable feature is the graph for 2024, which shows very rapid changes. Additionally, significant fluctuations are observed once in other years as well.\r\n",
    "\r\n",
    "The variance between the graphs is quite severe, and since we only checked the frequency of trades, it seems difficult to gain meaningful insights from this alone..\n",
    "\n",
    "\n",
    "\n",
    "<br><br>\n",
    "## 3. Multivariate analysis <bcWe were unable to obtain meaningful results with just the daily transaction frequency. This time, we will use another variable, \"Description,\" to explore the frequency of each transaction method, the annual monthly average, and so on.\r\n",
    "\r\n",
    "\r\n",
    "\r\n",
    "니다.ATM Transaction Frequency Image이미지\n",
    "<figure>\n",
    "  <img src=\"https://github.com/ssidnwm/bdt/blob/main/grap4.png?raw=true\" alt=\"ATM이용 빈도수\"/>\n",
    "\n",
    "This time, in addition to the date, we will also use the description variable for a more diversified analysis. We have gathered the daily average ATM usage frequency by month for the entire year. On average, the daily number of ATM uses exceeds 200, but only February is observed to be slightly lower than that. 낮게 Monthly Average Transactions of the Entire Description Image월평균 거래 이미지\n",
    "<figure>\n",
    "  <img src=\"https://github.com/ssidnwm/bdt/blob/main/grap5.png?raw=true\" alt=\"2020 그래프\"/>\n",
    "\n",
    "Feeling it was insufficient to look at just one transaction method, we filled the graph for all descriptions. Overall, the results were very uniform, with only February noticeably lower. Apart from that peculiarity, there are no other significant outliers. 이상치ATM Deposit/Withdrawal Image출금에 대한 이미지\n",
    "\n",
    "\n",
    "<figure>\n",
    "  <img src=\"https://github.com/ssidnwm/bdt/blob/main/grap6.png?raw=true\" alt=\"2020 그래프\"/>\n",
    "\n",
    "Then, let's check the frequency of deposits and withdrawals. We visualized how much the deposit and withdrawal records differ within the day's transaction volume. In December, the most active trading month, deposits and withdrawals occurred at similar frequencies. For most months, as the average daily transaction volume increases, both deposits and withdrawals increase proportionally, but overall, the frequency of withdrawals is higher than that of deposits. 높게 나타납<br><br>\n",
    "## 4. Suggestion <br>b\n",
    "Upon summarizing the above graph, we observe that a single transaction method, for example, financial transactions using an ATM, occurs about 6 times a day on average. When checking all transaction methods, on average, nearly 100 transactions occur. Moreover, among these, each transaction method averages around 200 transactions per month, and it was difficult to find significant differences among the financial transaction methods.\n",
    "\n",
    "Within this, deposit and withdrawal records show slightly more deposits than withdrawals. It's challenging to identify cases where transactions of a specific method significantly increase on certain months or days. Instead of conducting promotions for specific transaction methods, it might be more beneficial to offer fee discounts during December to January when average transactions are higher, to attract more users.o지 않을까 제안한다.\r\n",
    "."
   ]
  }
 ],
 "metadata": {
  "kernelspec": {
   "display_name": "Python 3 (ipykernel)",
   "language": "python",
   "name": "python3"
  },
  "language_info": {
   "codemirror_mode": {
    "name": "ipython",
    "version": 3
   },
   "file_extension": ".py",
   "mimetype": "text/x-python",
   "name": "python",
   "nbconvert_exporter": "python",
   "pygments_lexer": "ipython3",
   "version": "3.11.7"
  },
  "toc-autonumbering": true
 },
 "nbformat": 4,
 "nbformat_minor": 5
}

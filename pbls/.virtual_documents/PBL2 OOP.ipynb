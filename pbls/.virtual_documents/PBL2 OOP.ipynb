





class Point:
    # your code here
    def __init__(self,x,y):
        self.x = x
        self.y = y
    def halfway(self,p):
        return Point((self.x+p.x)/2,(self.y+p.y)/2)
    def midpoint(p,q):
        return Point((p.x+q.x)/2,(p.y+q.y)/2)
    def reflect_x(self):
        return Point(self.x,-self.y)
    def reflect_y(self):
        return Point(-self.x,self.y)
    def slope_to_origin(self):
        return self.y/self.x





# your code here
p = Point(3,4)
q = Point(5,12)
r = p.halfway(q)
print(r.x, r.y)





# your code here
p = Point(3, 4)  
q = Point(5, 12)
r = Point.midpoint(p, q)
print(r.x, r.y) 





# your code here
p = Point(3, 4)  
r = p.reflect_x()
print(r.x, r.y) 





# your code here
p = Point(4, 10)
print(p.slope_to_origin()) 





%%writefile Geometry.py

class Point:
    # your code here
    def __init__(self,x,y):
        self.x = x
        self.y = y
    def halfway(self,p):
        return Point((self.x+p.x)/2,(self.y+p.y)/2)
    def midpoint(p,q):
        return Point((p.x+q.x)/2,(p.y+q.y)/2)
    def reflect_x(self):
        return Point(self.x,-self.y)
    def reflect_y(self):
        return Point(-self.x,self.y)
    def slope_to_origin(self):
        return self.y/self.x



# %load Geometry.py

class Point:
    # your code here
    def __init__(self,x,y):
        self.x = x
        self.y = y
    def halfway(self,p):
        return Point((self.x+p.x)/2,(self.y+p.y)/2)
    def midpoint(p,q):
        return Point((p.x+q.x)/2,(p.y+q.y)/2)
    def reflect_x(self):
        return Point(self.x,-self.y)
    def reflect_y(self):
        return Point(-self.x,self.y)
    def slope_to_origin(self):
        return self.y/self.x






p = Point(1, 2)
print(p.x, p.y)





# your code here
class Square:
    def __init__(self,x):
        self.x = x
        self.y = x
    def perimeter(self):
        return self.x * 4
    def area(self):
        return self.x * self.y





# your code here
s = Square(10)
print(s.perimeter())
print(s.area())





%%writefile -a Geometry.py
class Square:
    def __init__(self,x):
        self.x = x
        self.y = x
    def perimeter(self):
        return self.x * 4
    def area(self):
        return self.x * self.y





%%writefile -a Geometry.py
class Circle:
    def __init__(self,r=0):
        self.__radius = r
    def radius(self):
        return self.__radius
    def diameter(self):
        return self.__radius*2





s = Circle(10)
print(s.radius())
print(s.diameter())
print(Circle().radius())





# %load Geometry.py

class Point:
    # your code here
    def __init__(self,x,y):
        self.x = x
        self.y = y
    def halfway(self,p):
        return Point((self.x+p.x)/2,(self.y+p.y)/2)
    def midpoint(p,q):
        return Point((p.x+q.x)/2,(p.y+q.y)/2)
    def reflect_x(self):
        return Point(self.x,-self.y)
    def reflect_y(self):
        return Point(-self.x,self.y)
    def slope_to_origin(self):
        return self.y/self.x
class Square:
    def __init__(self,x):
        self.x = x
        self.y = x
    def perimeter(self):
        return self.x * 4
    def area(self):
        return self.x * self.y






p = Point(1, 2)
print(p.x, p.y)
q = Square(10)
print(q.area())
c = Circle(10)
print(c.radius())
# your code here











try:
    Point
except NameError:
    print("Point class has not been defined after all!")
else:
    print("Point class is defined. Now nullify it.")
    del Point
    
try:
    Square
except NameError:
    print("Square class has not been defined after all!")
else:
    print("Square class is defined. Now nullify it.")
    del Square





# your code here
from Geometry import Point





# your code here
import Geometry

Geometry.Point





# your code here
import Geometry as gm









%%writefile Geometry.py
class Point:
    # your code here
    def __init__(self,x,y):
        self.x = x
        self.y = y
    def __str__(self):
        return 'A Point at ({},{})'.format(self.x,self.y)
    def __repr__(self):
        return 'Point at {},{}'.format(self.x,self.y)
    def halfway(self,p):
        return Point((self.x+p.x)/2,(self.y+p.y)/2)
    def midpoint(p,q):
        return Point((p.x+q.x)/2,(p.y+q.y)/2)
    def reflect_x(self):
        return Point(self.x,-self.y)
    def reflect_y(self):
        return Point(-self.x,self.y)
    def slope_to_origin(self):
        return self.y/self.x
class Square:
    def __init__(self,x):
        self.x = x
        self.y = x
    def __str__(self):
        return '{} X {} Square'.format(self.x,self.y)
    def __repr__(self):
        return 'Square {}'.format(self.x)
    def perimeter(self):
        return self.x * 4
    def area(self):
        return self.x * self.y
class Circle:
    def __init__(self,r=0):
        self.__radius = r
    def __str__(self):
        return 'A circle with a radius of {}cm'.format(self.__radius)
    def __repr__(self):
        return 'Circle ({})'.format(self.__radius)
    def radius(self):
        return self.__radius
    def diameter(self):
        return self.__radius*2



# %load Geometry.py
class Point:
    # your code here
    def __init__(self,x,y):
        self.x = x
        self.y = y
    def __str__(self):
        return 'A Point at ({},{})'.format(self.x,self.y)
    def __repr__(self):
        return 'Point at {},{}'.format(self.x,self.y)
    def halfway(self,p):
        return Point((self.x+p.x)/2,(self.y+p.y)/2)
    def midpoint(p,q):
        return Point((p.x+q.x)/2,(p.y+q.y)/2)
    def reflect_x(self):
        return Point(self.x,-self.y)
    def reflect_y(self):
        return Point(-self.x,self.y)
    def slope_to_origin(self):
        return self.y/self.x
class Square:
    def __init__(self,x):
        self.x = x
        self.y = x
    def __str__(self):
        return '{} X {} Square'.format(self.x,self.y)
    def __repr__(self):
        return 'Square {}'.format(self.x)
    def perimeter(self):
        return self.x * 4
    def area(self):
        return self.x * self.y
class Circle:
    def __init__(self,r=0):
        self.__radius = r
    def __str__(self):
        return 'A circle with a radius of {}cm'.format(self.__radius)
    def __repr__(self):
        return 'Circle ({})'.format(self.__radius)
    def radius(self):
        return self.__radius
    def diameter(self):
        return self.__radius*2









p = Point(1, 2)
print(p)
print(str(p))
print(p.__repr__())
print(repr(p))





s = Square(10)
print(s)
print(str(s))
print(s.__repr__())
print(repr(s))





c = Circle(10)
print(c)
print(str(c))
print(c.__repr__())
print(repr(c))




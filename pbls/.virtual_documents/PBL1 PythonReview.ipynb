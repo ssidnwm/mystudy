








vector = 'God loves you'
vowels = 'aeiou'
result = [ None ]
print(result)





a = [(0, 0, 0), (2, 4, 8), (4, 16, 64), (6, 36, 216), (8, 64, 512)] 
print(a)





store1 = [('apple', 3), ('kiwi', 6)]
store2 = [('apple', 3), ('kiwi', 6), ('orange', 9), ('banana', 1), ('pear', 1)] 
print(sum(price for product, price in store1))
print(sum(price for product, price in store2))





import requests 
response = requests.get('http://www.handong.edu') 
response.ok

response.text[:500]





from urllib.request import urlopen 
book = urlopen('http://www.gutenberg.org/10/10-0.txt')
#book = urlopen('http://composingprograms.com/shakespeare.txt')





wlist = book.read().decode().split()





print(len(wlist))





print(wlist[0:10])





wlist.sort()
print(wlist[0:10])





a = wlist.count('life')
b = wlist.count('truth')
print("life:",a)
print("truth:",b)





ulist = list(set(wlist))
print(len(ulist))
list(ulist)
ulist.sort()
print(ulist[0:10])





 ulist[:10]     # set is not subscriptable; read the error message








a = ulist.count('life')
b = ulist.count('truth')
print("life:",a)
print("truth:",b)











alist = []  # 결과를 저장할 빈 리스트

for word in wlist:
    if len(word) == 6 and word[::-1] in wlist and word[::-1] != word:
        alist.append(word)

print(alist)





six_letter_words = [word for word in wlist if len(word) == 6]

# 글자를 뒤집었을 때 다른 단어가 되는 단어 찾기
alist = [word for word in six_letter_words if word[::-1] in wlist and word[::-1] != word]

print("6-letter words that are emordnilaps:", alist)
print(alist)





%%time
alist = []  # 결과를 저장할 빈 리스트

for word in wlist:
    if len(word) == 6 and word[::-1] in wlist and word[::-1] != word:
        alist.append(word)

print(alist)


%%time
six_letter_words = [word for word in wlist if len(word) == 6]

# 글자를 뒤집었을 때 다른 단어가 되는 단어 찾기
alist = [word for word in six_letter_words if word[::-1] in wlist and word[::-1] != word]

print("6-letter words that are emordnilaps:", alist)
print(alist)











def isPalindrome(string):
    left_pos = 0
    right_pos = len(string)-1
    
    while right_pos > left_pos:
        if not string[left_pos] == string[right_pos]:
            return False
        left_pos += 1
        right_pos -= 1
    return True

if __name__ == "__main__":
    for w in ["", "ma'am", 'abba', 'madam', 'palindrome', 'redivider', 'level', 'yardy']:
        print(w, ":", isPalindrome(w)) 







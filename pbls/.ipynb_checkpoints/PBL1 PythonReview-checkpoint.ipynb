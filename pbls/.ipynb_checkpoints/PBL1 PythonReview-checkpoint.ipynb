{
 "cells": [
  {
   "cell_type": "markdown",
   "id": "94d76a6d-0e0f-4915-94f1-b41895f48400",
   "metadata": {},
   "source": [
    "너는 내게 부르짖으라 내가 네게 응답하겠고 네가 알지 못하는 크고 은밀한 일을 네게 보이리라 (렘33:3)\n",
    "\n",
    "-------\n",
    "<center><img src=\"https://github.com/idebtor/DSpy/blob/6b3676c3de29f85d2e7f30679676d1fd96d88b17/images/WelcomeToDataStructures.jpg?raw=true\" width=1000></center>\n",
    "\n",
    "__NOTE:__ The following materials have been compiled and adapted from the numerous sources including my own. Please help me to keep this tutorial up-to-date by reporting any issues or questions. Send any comments or criticisms to `idebtor@gmail.com` Your assistances and comments will be appreciated.\n",
    "\n",
    "--------"
   ]
  },
  {
   "cell_type": "markdown",
   "id": "2538e7de-0efe-4871-ae96-086322bbe548",
   "metadata": {},
   "source": [
    "<b style=\"font-size:30px\">Problem Based Learning: Python Review </b>\n",
    "\n",
    "\n",
    "Honor Code: "
   ]
  },
  {
   "cell_type": "markdown",
   "id": "a0a3b46f-ecde-48e0-a2e5-8b5a8f846ca3",
   "metadata": {},
   "source": [
    "# (Review) List Comprehension\n",
    "\n",
    "## All vowels only\n",
    "Create a list of all the vowels in the string:"
   ]
  },
  {
   "cell_type": "code",
   "execution_count": null,
   "id": "20eebd30-1e76-45c0-bdb5-2c3d782271b7",
   "metadata": {},
   "outputs": [],
   "source": [
    "vector = 'God loves you'\n",
    "vowels = 'aeiou'\n",
    "result = [ None ]\n",
    "print(result)"
   ]
  },
  {
   "cell_type": "markdown",
   "id": "baae2392-f617-454a-b0b9-a9e79a1c877b",
   "metadata": {},
   "source": [
    "## Generate a list of tuples\n",
    "\n",
    "Write a list comprehension that generates a list of tuples.\n",
    "- The tuple contains the number (even number between 0 to 9), the square of the number, and the cube of the number.\n",
    "\n",
    "Sample Run:\n",
    "```\n",
    "[(0, 0, 0), (2, 4, 8), (4, 16, 64), (6, 36, 216), (8, 64, 512)] \n",
    "```"
   ]
  },
  {
   "cell_type": "code",
   "execution_count": null,
   "id": "0a9ebd50-4a34-435b-a73e-015443761280",
   "metadata": {},
   "outputs": [],
   "source": []
  },
  {
   "cell_type": "markdown",
   "id": "c6fd39ce-cfd9-4098-be50-e18b22358b69",
   "metadata": {},
   "source": [
    "## The total number of fruits using list comprehension\n",
    "​\n",
    "In the following code cell, replace `None` with a list comprehension that counts the total number of the fruits in a `store` given in a list of tuples. \n",
    "​\n",
    "Sample Run:\n",
    "```\n",
    "store1 = [('apple', 3), ('kiwi', 6)]\n",
    "store2 = [('apple', 3), ('kiwi', 6), ('orange', 9), ('banana', 1), ('pear', 2)]\n",
    "9\n",
    "21\n",
    "```"
   ]
  },
  {
   "cell_type": "code",
   "execution_count": null,
   "id": "0b89cd4c-5d10-4cd9-bc6d-9473830ff245",
   "metadata": {},
   "outputs": [],
   "source": [
    "store1 = [('apple', 3), ('kiwi', 6)]\n",
    "store2 = [('apple', 3), ('kiwi', 6), ('orange', 9), ('banana', 1), ('pear', 1)] \n",
    "print(None)\n",
    "print(None)"
   ]
  },
  {
   "cell_type": "markdown",
   "id": "fbb7fd8e-bd38-4a06-ba41-5dadce51d7b3",
   "metadata": {},
   "source": [
    "# 웹 페이지 읽기\n",
    "\n",
    "파이썬에서는 간단한 코드로 웹 페이지를 읽어올 수 있고, 강력한 문자열 처리 기능이 있습니다. \n",
    "\n",
    "- 다음은 지정된 웹을 접속하여, 첫 500자를 읽어오는 코드입니다. "
   ]
  },
  {
   "cell_type": "code",
   "execution_count": null,
   "id": "cf541fbb-30c1-4ce2-91d8-2c6c010e425f",
   "metadata": {},
   "outputs": [],
   "source": [
    "import requests \n",
    "response = requests.get('http://www.handong.edu') \n",
    "response.ok\n",
    "\n",
    "response.text[:500]"
   ]
  },
  {
   "cell_type": "markdown",
   "id": "aae81f6c-3833-4a59-89d0-dd084443db78",
   "metadata": {},
   "source": [
    "## 원격으로 파일 읽어 오기\n",
    "\n",
    "다음 지정된 웹을 접속하여 파일을 읽어와서 처리하는 과정을 보여주며, 파이썬 코드의 간결성과 강력한 기능을 보여주는 예제입니다. "
   ]
  },
  {
   "cell_type": "code",
   "execution_count": null,
   "id": "49c65c77-9c04-4788-aba4-6657c3f8e56b",
   "metadata": {},
   "outputs": [],
   "source": [
    "from urllib.request import urlopen \n",
    "book = urlopen('http://www.gutenberg.org/10/10-0.txt')\n",
    "#book = urlopen('http://composingprograms.com/shakespeare.txt')"
   ]
  },
  {
   "cell_type": "markdown",
   "id": "dd005cb6-2515-4b63-8ac9-a8246006e8a0",
   "metadata": {},
   "source": [
    "주어진 URL로 파일(성경 혹은 세익스피어 작품)을 읽고, 그 파일에 담긴 단어들을 파이썬의 list객체로 만듭니다."
   ]
  },
  {
   "cell_type": "code",
   "execution_count": null,
   "id": "0bc612b2-d750-43a6-910e-dc338b32d437",
   "metadata": {},
   "outputs": [],
   "source": [
    "wlist = book.read().decode().split()"
   ]
  },
  {
   "cell_type": "markdown",
   "id": "e77afd31-2fc0-4b37-b2be-f5b17f7ffc47",
   "metadata": {},
   "source": [
    "__(1) 단어의 갯수는 얼마입니까?__  \n",
    "\n",
    "Sample Run:\n",
    "```\n",
    "824532\n",
    "```"
   ]
  },
  {
   "cell_type": "code",
   "execution_count": null,
   "id": "be8dc5a5-86a9-4246-b366-c45807c33979",
   "metadata": {},
   "outputs": [],
   "source": []
  },
  {
   "cell_type": "markdown",
   "id": "86236efe-9aff-4552-bd8e-6f942d484f04",
   "metadata": {},
   "source": [
    "__(2) 첫 10 단어들을 아래와 같이 출력하십시오.__ \n",
    "\n",
    "Sample Run:\n",
    "```\n",
    "['\\ufeffThe', 'Project', 'Gutenberg', 'eBook', 'of', 'The', 'King', 'James', 'Bible', 'This'] \n",
    "```"
   ]
  },
  {
   "cell_type": "code",
   "execution_count": null,
   "id": "924d21cf-3a4b-4bb3-9a94-39cfb0004cc1",
   "metadata": {},
   "outputs": [],
   "source": []
  },
  {
   "cell_type": "markdown",
   "id": "a95ee953-18fa-4c71-81c3-8fd213342c03",
   "metadata": {},
   "source": [
    "__(3) 단어들을 올림차순으로 정렬하고, 첫 열 단어를 아래와 같이 출력하십시오. list의 sort() 메소드를 사용하십시오. help(list)의 도움을 받을 수도 있습니다.__ \n",
    "\n",
    "Sample Run:\n",
    "```\n",
    "['\"Defects,\"', '\"Information', '\"Plain', '\"Plain', '\"Project', '\"Project', '\"Project', '\"Project', '\"Project', '\"Right'] \n",
    "``` "
   ]
  },
  {
   "cell_type": "code",
   "execution_count": null,
   "id": "a2394255-320f-457f-a3dd-ac0fd69a2a5c",
   "metadata": {},
   "outputs": [],
   "source": []
  },
  {
   "cell_type": "markdown",
   "id": "1ab06991-aca4-42d0-9930-2cbf2324573d",
   "metadata": {},
   "source": [
    "__(4) 이 성경에는 'life'와 'truth'라는 단어가 각각 몇 번이나 사용되었습니까?__\n",
    "- Use `count()` method.\n",
    "- help(list )\n",
    "\n",
    "Sample Run:\n",
    "```\n",
    "life: 197\n",
    "truth: 97\n",
    "```"
   ]
  },
  {
   "cell_type": "code",
   "execution_count": null,
   "id": "b6595081-4016-4694-8d19-7e15c427d152",
   "metadata": {},
   "outputs": [],
   "source": []
  },
  {
   "cell_type": "markdown",
   "id": "808b627e-d72b-4ecf-b600-797e2dda7f70",
   "metadata": {},
   "source": [
    "__(5) list객체인 wlist에서 중복된 단어들을 제거하여 유일한 단어들로만 단어 목록(ulist)을 만드십시오. 이제 몇 단어가 있는지 확인하십시오. 이제 다시 set 객체인 ulist를 list객체인 wlist로 전환하고, wlist의 첫 열 단어를 출력하십시오.__ \n",
    "- list 객체를 set()을 이용하면, 중복된 단어들을 제거할 수 있습니다. 그 이후, list()를 사용하여 set 객체를 다시 list객체로 전환하고, 올림차순으로 정렬하십시오.  \n",
    "\n",
    "Sample Run\n",
    "```\n",
    "34022\n",
    "['\"Defects,\"', '\"Information', '\"Plain', '\"Project', '\"Right', '#10]', '$5,000)', \"'AS-IS',\", '(\"the', '($1']\n",
    "```"
   ]
  },
  {
   "cell_type": "code",
   "execution_count": null,
   "id": "5faa5eba-e633-4992-ab2a-00a479eab7ea",
   "metadata": {},
   "outputs": [],
   "source": []
  },
  {
   "cell_type": "markdown",
   "id": "76e922a6-417b-4b61-9de5-e48a37b306fe",
   "metadata": {},
   "source": [
    "__(6) set 객체 출력하기__\n",
    "\n",
    "__Sample Run:__\n",
    "```\n",
    "---------------------------------------------------------------------------\n",
    "TypeError                                 Traceback (most recent call last)\n",
    "<ipython-input-32-e7a363738b60> in <module>\n",
    "----> 1 ulist[:10]     # set is not subscriptable; read the error message\n",
    "\n",
    "TypeError: 'set' object is not subscriptable\n",
    "```"
   ]
  },
  {
   "cell_type": "code",
   "execution_count": null,
   "id": "2e9d0b68-83cc-44ea-869b-bffa9341606a",
   "metadata": {},
   "outputs": [],
   "source": [
    " ulist[:10]     # set is not subscriptable; read the error message"
   ]
  },
  {
   "cell_type": "markdown",
   "id": "fe2cd751-97ae-4baf-b9f6-e8f70770a915",
   "metadata": {},
   "source": [
    "- Reading error messages is a good habit to have to improve your coding skills. \n",
    "- Make an every effort to understand the error message if possible. "
   ]
  },
  {
   "cell_type": "markdown",
   "id": "d534414e-a204-4e24-840f-c69e56554bac",
   "metadata": {},
   "source": [
    "__(7) `wlist`에 특정 단어, 예를 들면, 'life'와 'truth'가 각각 몇 개 있는지 다시 확인하십시오.__ \n",
    "\n",
    "Sample Run:\n",
    "```\n",
    "life: 1\n",
    "truth: 1\n",
    "``` "
   ]
  },
  {
   "cell_type": "code",
   "execution_count": null,
   "id": "3628ce28-e296-4da3-bd5f-33f560c83f71",
   "metadata": {},
   "outputs": [],
   "source": []
  },
  {
   "cell_type": "markdown",
   "id": "fee1e9aa-2ada-4443-8c07-4ff2e5f501d0",
   "metadata": {},
   "source": [
    "## Finding Emordnilaps - a sort of Palindrome (from wlist)\n",
    "A string is said to be __palindrome__ if the reverse of the string is the same as string. For example, “radar”or \"civic\" is a palindrome, \n",
    "\n",
    "Emordnilaps are like __palindromes'__ evil twins. Instead of being the same word, these rare words make a different real word when spelled backward! Reverse the word \"stop\" and it becomes \"pots.\" Flip \"drawer\" and you get \"reward.\" English contains a surprising variety of words that change meanings as soon as you read them right to left.\n",
    "\n",
    "Emordnilap Examples: \n",
    "- desserts and stressed, \n",
    "- decaf and faced\n",
    "- edit and tide\n",
    "- deeps and speed\n",
    "- stops and spots"
   ]
  },
  {
   "cell_type": "markdown",
   "id": "11810ae9-a736-4813-9ab1-2d0c1e76ce20",
   "metadata": {},
   "source": [
    "### A pythonic way of coding: For-loop vs List comprehension\n",
    "- Find 6-length words that are emordnilaps from wlist."
   ]
  },
  {
   "cell_type": "markdown",
   "id": "ca870978-cdb3-4ae3-873e-23507b750ee8",
   "metadata": {},
   "source": [
    "#### Using for-loop"
   ]
  },
  {
   "cell_type": "code",
   "execution_count": null,
   "id": "8bb1329b-89b2-4efe-9d53-770acc7f6c64",
   "metadata": {},
   "outputs": [],
   "source": [
    "alist = [] \n",
    "\n",
    "print(alist)"
   ]
  },
  {
   "cell_type": "markdown",
   "id": "bd525766-5c15-4e3f-ab7e-7694d18582e3",
   "metadata": {},
   "source": [
    "#### __a pythonic way?__ : using list comprehension"
   ]
  },
  {
   "cell_type": "code",
   "execution_count": null,
   "id": "afe810be-56ff-4c5c-8ac7-1c22c96929a2",
   "metadata": {},
   "outputs": [],
   "source": [
    "alist = None\n",
    "print(alist)"
   ]
  },
  {
   "cell_type": "markdown",
   "id": "47f8497b-c9f1-4bcd-a8b5-937f8b3b76c4",
   "metadata": {},
   "source": [
    "#### Which one is more efficient computationally?\n",
    "\n",
    "- You may use `%%time` instead of `%%timeit` since it takes long enough to run it once.\n",
    "- https://haloaround.tistory.com/241"
   ]
  },
  {
   "cell_type": "code",
   "execution_count": null,
   "id": "a3a6c157-2ac0-4d35-8d2d-0e69852dc804",
   "metadata": {},
   "outputs": [],
   "source": []
  },
  {
   "cell_type": "code",
   "execution_count": null,
   "id": "63bf68ab-42fd-402c-8905-e3b1d544b9f0",
   "metadata": {},
   "outputs": [],
   "source": []
  },
  {
   "cell_type": "markdown",
   "id": "a76945aa-4022-4824-a145-f1d86c715072",
   "metadata": {},
   "source": [
    "# Palindrome (회문)\n",
    "주어진 문자열이 회문인지 아닌지를 반환하는 함수입니다. 이를 구현하는 다양한 방법이 있지만, 여기서는 고전적인 방법 즉 반복문과 배열의 slicing을 사용하고 있으며, 파이썬의 특별한 기능인 음수 인덱싱도 사용하지 않고 있습니다. 그러나, 아래 주어진 코드에는 버그가 한 두 곳에 있습니다. __그 버그를 찾아서 수정하십시오__ 단, Palindrome을 구하는 새로운 알고리즘을 도입하지 말고, 현재의 코드를 수정하십시오.    \n",
    "\n",
    "__Note__: 주어진 문자열을 앞에서부터 읽으나 뒤로부터 읽으나 같은 경우, 이를 회문(Palindrome)이라고 합니다. 예를 들면, madam, redivider, level 같은 단어들입니다. \n",
    "\n",
    "__Sample Run:__\n",
    "```\n",
    "for w in [\"\", \"ma'am\", 'abba', 'madam', 'palindrome', 'redivider', 'level', 'yardy']:\n",
    "    print(w, \":\", isPalindrome(w)) \n",
    " : True\n",
    "ma'am : True\n",
    "abba : True\n",
    "madam : True\n",
    "palindrome : False\n",
    "redivider : True\n",
    "level : True\n",
    "yardy : False\n",
    "```"
   ]
  },
  {
   "cell_type": "markdown",
   "id": "e818b837-9bde-46c0-b4ea-5d62fc6c695e",
   "metadata": {},
   "source": [
    "__[hint]__ <img src=\"https://github.com/idebtor/DSpy/blob/main/images/chap1/Chapter%201-11.jpg?raw=true\">\n",
    "<center>그림2. palindrome</center>"
   ]
  },
  {
   "cell_type": "markdown",
   "id": "f81fabda-2fb9-440f-a1c4-af21b56d0c1a",
   "metadata": {},
   "source": [
    "__Solution:__"
   ]
  },
  {
   "cell_type": "code",
   "execution_count": null,
   "id": "52bc6fd6-ff3a-4a88-a4e6-a87bea07978c",
   "metadata": {},
   "outputs": [],
   "source": [
    "def isPalindrome(string):\n",
    "    left_pos = 0\n",
    "    right_pos = len(string)\n",
    "    \n",
    "    while right_pos > left_pos:\n",
    "        if not string[left_pos] == string[right_pos]:\n",
    "            return False\n",
    "        left_pos += 1\n",
    "        right_pos -= 1\n",
    "    return True\n",
    "\n",
    "if __name__ == \"__main__\":\n",
    "    for w in [\"\", \"ma'am\", 'abba', 'madam', 'palindrome', 'redivider', 'level', 'yardy']:\n",
    "        print(w, \":\", isPalindrome(w)) "
   ]
  },
  {
   "cell_type": "markdown",
   "id": "3e5896db-7195-429c-ae9f-1943b19ea041",
   "metadata": {},
   "source": [
    "# 참고자료\n",
    "- Problem Solving with Algorithms and Data Structures using Python, [Here](https://runestone.academy/runestone/books/published/pythonds3/Introduction/WhyStudyDataStructuresandAbstractDataTypes.html)\n",
    "- Python-추상적 자료형(ADT)과 자료 구조(Data Structure), [Here](https://ybdata-sci.tistory.com/16)\n",
    "- Python functions [Here](https://www.w3resource.com/index.php)\n"
   ]
  },
  {
   "cell_type": "code",
   "execution_count": null,
   "id": "5eef56cf-458e-4b7c-83d9-c2fe1c100af3",
   "metadata": {},
   "outputs": [],
   "source": []
  }
 ],
 "metadata": {
  "kernelspec": {
   "display_name": "Python 3 (ipykernel)",
   "language": "python",
   "name": "python3"
  },
  "language_info": {
   "codemirror_mode": {
    "name": "ipython",
    "version": 3
   },
   "file_extension": ".py",
   "mimetype": "text/x-python",
   "name": "python",
   "nbconvert_exporter": "python",
   "pygments_lexer": "ipython3",
   "version": "3.9.12"
  },
  "toc-autonumbering": true
 },
 "nbformat": 4,
 "nbformat_minor": 5
}

{
 "cells": [
  {
   "cell_type": "markdown",
   "id": "bfb7cd08-eaed-4448-a801-eb01f4000caf",
   "metadata": {},
   "source": [
    "예수께서 나아와 말씀하여 이르시되 하늘과 땅의 모든 권세를 내게 주셨으니\n",
    "그러므로 너희는 가서 모든 민족을 제자로 삼아 아버지와 아들과 성령의 이름으로 세례를 베풀고\n",
    "내가 너희에게 분부한 모든 것을 가르쳐 지키게 하라 볼지어다 내가 세상 끝날까지 너희와 항상 함께 있으리라 하시니라 (마28:18-20)\n",
    "\n",
    "-------\n",
    "<center><img src=\"https://github.com/idebtor/DSpy/blob/6b3676c3de29f85d2e7f30679676d1fd96d88b17/images/WelcomeToDataStructures.jpg?raw=true\" width=1000></center>\n",
    "\n",
    "__NOTE:__ The following materials have been compiled and adapted from the numerous sources including my own. Please help me to keep this tutorial up-to-date by reporting any issues or questions. Send any comments or criticisms to `idebtor@gmail.com` Your assistances and comments will be appreciated.\n",
    "\n",
    "--------"
   ]
  },
  {
   "cell_type": "markdown",
   "id": "7c2edcb7-b2bf-4da7-a2b8-e500df0381bf",
   "metadata": {},
   "source": [
    "<b style=\"font-size:30px\">Problem Set: JSON </b>\n",
    "\n",
    "\n",
    "Honor Code: "
   ]
  },
  {
   "cell_type": "markdown",
   "id": "1d5c0f1c-1cab-487c-b74e-9b1a8d4cba92",
   "metadata": {},
   "source": [
    "# JSON파일을 파이썬 객체화하기(디코딩, 역직렬화)\n",
    "\n",
    "- `json.load()`: 파일에 있는 JSON 포맷 데이터를 Python 객체로 읽어오기 (역직렬화 혹은 디코딩이라고 부르기도 합니다)\n",
    "- `json.loads()`: 메모리에 있는 JSON 형식의 문자열로 되어 있는 입력자료를 받아 파이썬 객체로 전환합니다.  \n",
    "\n",
    "<img src=\"https://github.com/idebtor/DSpy/blob/b67467b971cf48c14faf7c8ebed7a94871dbb2ad/images/chap1/Chapter%201-25json_load.jpg?raw=true\" width=\"100%\">\n",
    "<center>그림1. load() and loads() 비교</center>"
   ]
  },
  {
   "cell_type": "markdown",
   "id": "7bd7c70e-bea6-4567-9d58-325588fa6473",
   "metadata": {},
   "source": [
    "# 파이썬 객체로 JSON파일 만들기(인코딩, 직렬화)\n",
    "\n",
    "- `json.dump()`: Python객체를 파일에 저장할 때(직렬화, 인코딩) 사용합니다. \n",
    "- `json.dumps()`: Python객체를 문자열로 출력할 때 사용합니다. \n",
    "\n",
    "<img src=\"https://github.com/idebtor/DSpy/blob/b67467b971cf48c14faf7c8ebed7a94871dbb2ad/images/chap1/Chapter%201-27json_dump.jpg?raw=true\" width=\"100%\">\n",
    "\n",
    "<center>그림2. dump() and dumps() 비교</center>"
   ]
  },
  {
   "cell_type": "markdown",
   "id": "d6a56a12-22aa-4f9d-8287-a96e0c1fbd63",
   "metadata": {},
   "source": [
    "# JSON Exercise - JSON file\n",
    "\n",
    "## Code 편집기로 작성한 `companies.json`작성하기\n",
    "\n",
    "코드(텍스트) 편집기를 사용하여 아래의 내용을 가진 파일(`companies.json`)을 작성하십시오. \n",
    "```json\n",
    "[\n",
    "    {\n",
    "        \"name\": \"Big Corpration\",\n",
    "        \"numberOfEmployee\": 10000,\n",
    "        \"ceo\": \"June\", \n",
    "        \"rating\": 3.9\n",
    "    },\n",
    "    {\n",
    "        \"name\": \"Small Start-up\",\n",
    "        \"numberOfEmployee\": 5, \n",
    "        \"ceo\": null, \n",
    "        \"rating\": 4.5\n",
    "    }\n",
    "]\n",
    "```"
   ]
  },
  {
   "cell_type": "markdown",
   "id": "5fbe4cb7-0170-4ba5-b2c5-26cc18c476c3",
   "metadata": {},
   "source": [
    "## Code 편집기로 작성한 companies.json을 읽고 출력하기\n",
    "\n",
    "- `with open()`을 사용하면, `close()`을 호출할 필요가 없습니다. \n",
    "\n",
    "__Sample Run:__\n",
    "\n",
    "```json\n",
    "[{'name': 'Big Corpration', 'numberOfEmployee': 10000, 'ceo': 'June', 'rating': 3.9}, {'name': 'Small Start-up', 'numberOfEmployee': 5, 'ceo': None, 'rating': 4.5}]\n",
    "```"
   ]
  },
  {
   "cell_type": "code",
   "execution_count": null,
   "id": "b4b39d72-d5a7-4df6-975d-d3e26f4f132a",
   "metadata": {},
   "outputs": [],
   "source": [
    "import json\n",
    "\n",
    "None \n",
    "\n",
    "print(companies)"
   ]
  },
  {
   "cell_type": "markdown",
   "id": "ca13585f-11d4-47f2-984b-e58346e2d977",
   "metadata": {},
   "source": [
    "## 자료를 하나씩 출력하기\n",
    "\n",
    "각 회사(`company`)별로 출력합니다\n",
    "\n",
    "__Sample Run:__\n",
    "\n",
    "```json\n",
    "{'name': 'Big Corpration', 'numberOfEmployee': 10000, 'ceo': 'June', 'rating': 3.9}\n",
    "{'name': 'Small Start-up', 'numberOfEmployee': 5, 'ceo': None, 'rating': 4.5}\n",
    "```"
   ]
  },
  {
   "cell_type": "code",
   "execution_count": null,
   "id": "08fbb01e-8fff-4441-848c-7e6637570921",
   "metadata": {},
   "outputs": [],
   "source": [
    "None"
   ]
  },
  {
   "cell_type": "markdown",
   "id": "cc208478-e3ac-47a9-b290-13cede6c41b1",
   "metadata": {},
   "source": [
    "## 자료를 정렬하고 읽기 쉽게 포맷하기\n",
    "- 각 회사의 자료에서 `numberOfEmployee`를 삭제하십시오. \n",
    "- `indent = 2`를 추가하고 필요에 따라 `sort_keys = True` 추가합니다. \n",
    "- 아래와 같이 출력하십시오. "
   ]
  },
  {
   "cell_type": "markdown",
   "id": "7ddfd345-6849-4c68-beee-f4bc8aed95f7",
   "metadata": {},
   "source": [
    "__Sample Run:__\n",
    "```json\n",
    "[\n",
    "  {\n",
    "    \"ceo\": \"June\",\n",
    "    \"name\": \"Big Corpration\",\n",
    "    \"rating\": 3.9\n",
    "  },\n",
    "  {\n",
    "    \"ceo\": null,\n",
    "    \"name\": \"Small Start-up\",\n",
    "    \"rating\": 4.5\n",
    "  }\n",
    "]\n",
    "```"
   ]
  },
  {
   "cell_type": "code",
   "execution_count": null,
   "id": "a034f119-3546-4fcd-b3bf-a755023108a1",
   "metadata": {},
   "outputs": [],
   "source": [
    "None\n",
    "    \n",
    "sorted = None\n",
    "print(sorted)"
   ]
  },
  {
   "cell_type": "markdown",
   "id": "dab9bc88-7f29-45d3-a853-2f392cd15d5d",
   "metadata": {},
   "source": [
    "## 새로운 JSON 파일(`companies_new.json`)에 저장하기\n",
    "아래와 같은 내용으로 JSON파일(`companies_new.json`)을 작성하십시오. \n",
    "\n",
    "__Sample Run:__ Expected JSON File\n",
    "```json\n",
    "[\n",
    "  {\n",
    "    \"ceo\": \"June\",\n",
    "    \"name\": \"Big Corpration\",\n",
    "    \"rating\": 3.9\n",
    "  },\n",
    "  {\n",
    "    \"ceo\": null,\n",
    "    \"name\": \"Small Start-up\",\n",
    "    \"rating\": 4.5\n",
    "  }\n",
    "]\n",
    "```\n",
    "- 가독성(readability)를 높이기 위하여 `indent = 2`를 인자로 사용하는 것이 좋습니다. \n",
    "- `with open()`을 사용하면, `close()`을 호출할 필요가 없습니다. "
   ]
  },
  {
   "cell_type": "markdown",
   "id": "572455e6-76e6-4374-88ad-a7875e80c99d",
   "metadata": {},
   "source": [
    "__Solution__"
   ]
  },
  {
   "cell_type": "code",
   "execution_count": null,
   "id": "67ce8f9c-0c65-46c8-912e-73536719eec8",
   "metadata": {},
   "outputs": [],
   "source": [
    "None"
   ]
  },
  {
   "cell_type": "markdown",
   "id": "9ec79494-e4b2-43f6-811d-04220f58eaec",
   "metadata": {},
   "source": [
    "## 위에서 작성한 파일을 읽고 확인하기\n",
    "\n",
    "__Sample Run:__\n",
    "\n",
    "```json\n",
    "{'ceo': 'June', 'name': 'Big Corpration', 'rating': 3.9}\n",
    "{'ceo': None, 'name': 'Small Start-up', 'rating': 4.5}\n",
    "[\n",
    "  {\n",
    "    \"ceo\": \"June\",\n",
    "    \"name\": \"Big Corpration\",\n",
    "    \"rating\": 3.9\n",
    "  },\n",
    "  {\n",
    "    \"ceo\": null,\n",
    "    \"name\": \"Small Start-up\",\n",
    "    \"rating\": 4.5\n",
    "  }\n",
    "]\n",
    "```"
   ]
  },
  {
   "cell_type": "code",
   "execution_count": null,
   "id": "9e7bd843-81ec-4b85-90c8-84a72822e71a",
   "metadata": {
    "tags": []
   },
   "outputs": [],
   "source": [
    "None \n",
    "    \n",
    "for company in companies:\n",
    "    print(company)\n",
    "    \n",
    "print(json.dumps(companies, indent = 2, sort_keys = True))"
   ]
  },
  {
   "cell_type": "markdown",
   "id": "0df077ec-3942-4661-a821-83573fc4ad61",
   "metadata": {},
   "source": [
    "\n",
    "# JSON Exercise: Exchange Rate Extraction\n",
    "\n",
    "지금까지 경험해 본 JSON과 파이썬 코딩을 활용하여, 실생활 데이터를 가지고 응용하는 문제를 다루어 보도록 하겠습니다. \n",
    "\n",
    "이제는 대부분의 자료 제공자들이 JSON 파일 형식으로 자료를 제공합니다. 여기 연습문제로 무료로 140 여개의 환율 정보를 제공하는 Website에서 JSON 파일로 원화(KRW)에 대한 각 국가의 환율 정보를 가져옵니다. 그러한 환율 정보 중에서 몇 개의 특정한 통화를 계산해보는 응용 문제를 시도해봅니다. "
   ]
  },
  {
   "cell_type": "markdown",
   "id": "fa933dc0-510a-4eb3-9cbd-7e3365d45f6a",
   "metadata": {},
   "source": [
    "## JSON 파일을 다운받아 파이썬 객체로 변환하기\n",
    "- 파일을 읽을 때는 `load()`를 사용하고, 문자열(String)을 읽을 때는`loads()`를 사용합니다. "
   ]
  },
  {
   "cell_type": "code",
   "execution_count": 1,
   "id": "2d125e15-4379-4777-99c9-210751c3962f",
   "metadata": {
    "tags": []
   },
   "outputs": [],
   "source": [
    "import json\n",
    "from urllib.request import urlopen\n",
    "\n",
    "with urlopen(\"http://www.floatrates.com/daily/krw.json\") as response:\n",
    "    source = response.read()\n",
    "\n",
    "rates = json.loads(source)"
   ]
  },
  {
   "cell_type": "markdown",
   "id": "87f27e13-a6ea-4f3b-9b07-da12d76def7f",
   "metadata": {},
   "source": [
    "## 파이썬 객체로 변환한 것을 출력하기\n",
    "- 가독성을 위해 `ident = 2`로 설정하는 것이 필요합니다. \n",
    "\n",
    "__Sample Run:__\n",
    "```json\n",
    "{\n",
    "  \"usd\": {\n",
    "    \"code\": \"USD\",\n",
    "    \"alphaCode\": \"USD\",\n",
    "    \"numericCode\": \"840\",\n",
    "    \"name\": \"U.S. Dollar\",\n",
    "    \"rate\": 0.00086484208312665,\n",
    "    \"date\": \"Sat, 4 Sep 2021 23:55:01 GMT\",\n",
    "    \"inverseRate\": 1156.2804580285\n",
    "  },\n",
    "  \"eur\": {\n",
    "    \"code\": \"EUR\",\n",
    "    \"alphaCode\": \"EUR\",\n",
    "    \"numericCode\": \"978\",\n",
    "    \"name\": \"Euro\",\n",
    "  ...\n",
    "}\n",
    "```"
   ]
  },
  {
   "cell_type": "code",
   "execution_count": null,
   "id": "8ae67fa7-826f-4146-92fa-b744841603b1",
   "metadata": {
    "tags": []
   },
   "outputs": [],
   "source": [
    "None"
   ]
  },
  {
   "cell_type": "markdown",
   "id": "6ecc38c1-396b-4439-8288-65d5d5411e7d",
   "metadata": {},
   "source": [
    "## 파이썬 객체 `rates`의 `type`, 자료(통화)의 수, 각 환율 자료 출력하기\n",
    "\n",
    "__Sample Run:__\n",
    "```\n",
    "<class 'dict'>\n",
    "148\n",
    "{'code': 'USD', 'alphaCode': 'USD', 'numericCode': '840', 'name': 'U.S. Dollar', 'rate': 0.00086484208312665, 'date': 'Sat, 4 Sep 2021 23:55:01 GMT', 'inverseRate': 1156.2804580285}\n",
    "{'code': 'EUR', 'alphaCode': 'EUR', 'numericCode': '978', 'name': 'Euro', 'rate': 0.00072856130060557, 'date': 'Sat, 4 Sep 2021 23:55:01 GMT', 'inverseRate': 1372.5680998549}\n",
    "...\n",
    "```"
   ]
  },
  {
   "cell_type": "code",
   "execution_count": null,
   "id": "e889275a-4ea9-46f2-a718-3d2cdb01a322",
   "metadata": {
    "tags": []
   },
   "outputs": [],
   "source": [
    "print(type(rates))\n",
    "print(len(rates))\n",
    "\n",
    "None"
   ]
  },
  {
   "cell_type": "markdown",
   "id": "b9d18086-3633-4b5e-9eb0-e62c02a928a1",
   "metadata": {},
   "source": [
    "## 환율 정보에서 `code`와 `rate`만 추출하여 출력하기 \n",
    "__Sample Run:__\n",
    "```\n",
    "USD 0.00086484208312665\n",
    "EUR 0.00072856130060557\n",
    "GBP 0.00062543395312534\n",
    "JPY 0.09507474341514\n",
    "AUD 0.0011633915091951\n",
    "...\n",
    "```"
   ]
  },
  {
   "cell_type": "code",
   "execution_count": null,
   "id": "b84d95f1-4502-4930-afca-97c0f703fcb8",
   "metadata": {
    "tags": []
   },
   "outputs": [],
   "source": [
    "for item in rates:\n",
    "    None\n",
    "    print(code, rate)"
   ]
  },
  {
   "cell_type": "markdown",
   "id": "13e7b763-1bc9-4923-a3f4-f0d1f91d0040",
   "metadata": {},
   "source": [
    "## `code`를 key, `rate`를 value로 하는 dict type의 `krw_rates` 만들기 \n",
    "- 위의 코드를 수정하여 새로운 dict type의 객체 `krw_rates`를 만들어 `key`로 `rate`를 쉽게 찾는데 활용하려고 합니다. \n",
    "- 즉 `krw_rates['USD']`의 형식을 사용하여 환율 정보를 쉽게 접근할 수 있도록 하는 작업입니다.\n",
    "- 다른 말로, 위에서 출력해본 `code, rate` 정보를 모두 `krw_rates`에 저장하는 것입니다. \n",
    "\n",
    "__Sample Run:__\n",
    "```\n",
    "USD: 0.00076447912070859\n",
    "EUR: 0.00071372779815721\n",
    "JPY: 0.10051437371601\n",
    "CAD: 0.0010456669770955\n",
    "```"
   ]
  },
  {
   "cell_type": "code",
   "execution_count": null,
   "id": "b01df2d4-980c-4ff9-9c69-8f2b9ad60e35",
   "metadata": {
    "tags": []
   },
   "outputs": [],
   "source": [
    "krw_rates = dict()   # empty name in dict type \n",
    "\n",
    "for item in rates:\n",
    "    None\n",
    "\n",
    "print('USD:', krw_rates['USD']) \n",
    "print('EUR:', krw_rates['EUR'])\n",
    "print('JPY:', krw_rates['JPY'])\n",
    "print('CAD:', krw_rates['CAD'])"
   ]
  },
  {
   "cell_type": "markdown",
   "id": "62e26fc7-f905-4aed-a8b1-f7a47d38ca4a",
   "metadata": {},
   "source": [
    "## 환율 계산 하기 \n",
    "거의 다 했습니다. 이제 환율을 계산해봅니다. 여기서 제공되는 환율은 Korean Won(KRW)으로 1원에 대한 다른 통화의 가격입니다. 그러므로, 대개 숫자가 낮은 값으로 출력됨으로, 1000원에 대한 환율을 계산하여 봅시다. \n",
    "- `krw_rates[]`로 출력되는 값들은 모두 문자열(`str`) 타입이므로 `float()`로 변환하는 것이 필요합니다. \n",
    "\n",
    "__Sample Run:__\n",
    "```\n",
    "0.86484208312665\n",
    "0.72856130060557\n",
    "95.07474341513999\n",
    "1.084071583917\n",
    "```"
   ]
  },
  {
   "cell_type": "code",
   "execution_count": null,
   "id": "324a2836-5699-4c5e-aa45-271a2173ddba",
   "metadata": {},
   "outputs": [],
   "source": [
    "None"
   ]
  },
  {
   "cell_type": "markdown",
   "id": "92ce779c-2e6b-4a6c-8fd2-4e5a2fe152f2",
   "metadata": {},
   "source": [
    "## 환율 정보에서 `date`를 추출하여 `krw_rates`에 추가하기 \n",
    "- 환율 정보에서 빼놓을 수 없는 정보는 `date`입니다. `rate`와 더불어 `date`정보를 추가하려고 합니다. `krw_rates`의 `key`는 변함없이 각 통화 `code`값들(e.g. 'USD', 'EUR', etc.)이지만, `value`로 `rate`뿐만 아니라 `date`를 포함하여 정보를 유지관리하고 보호하려고 합니다. 다음과 같은 dict type을 만들려고 하는 것입니다. 이것을 어떻게 구현할 수 있겠습니까?  \n",
    "\n",
    "```\n",
    "{\n",
    "  'USD': ('Sat, 4 Sep 2021 23:55:01 GMT', '0.00086484208312665'), \n",
    "  'EUR': ('Sat, 4 Sep 2021 23:55:01 GMT', '0.00072856130060557'),\n",
    " ...\n",
    "}\n",
    "```\n",
    "값이 여러 개일 경우에는 list, tuple, dict types을 사용하여 하나로 묶어야 합니다. 자료를 수정하지 아니하도록 여기서는 tuple을 사용하도록 합니다.\n",
    "\n",
    "__Sample Run:__\n",
    "```\n",
    "Sat, 4 Sep 2021 23:55:01 GMT 0.86484208312665\n",
    "Sat, 4 Sep 2021 23:55:01 GMT 0.72856130060557\n",
    "Sat, 4 Sep 2021 23:55:01 GMT 95.07474341513999\n",
    "Sat, 4 Sep 2021 23:55:01 GMT 1.084071583917\n",
    "```"
   ]
  },
  {
   "cell_type": "code",
   "execution_count": null,
   "id": "3b9f98b3-2fbd-40f9-9dab-739f3178cd6a",
   "metadata": {
    "tags": []
   },
   "outputs": [],
   "source": [
    "krw_rates = dict()   # empty name in dict type \n",
    "\n",
    "None\n",
    "\n",
    "print(None)\n",
    "print(None)\n",
    "print(None)\n",
    "print(None)"
   ]
  },
  {
   "cell_type": "markdown",
   "id": "5962bfdc-87d8-4ba0-97dc-31224a797518",
   "metadata": {},
   "source": [
    "--------\n",
    "슬기로운 자는 재앙을 보면 숨어 피하여도 어리석은 자들은 나가다가 해를 받느니라. \n",
    "잠언22:3, 27:12"
   ]
  }
 ],
 "metadata": {
  "kernelspec": {
   "display_name": "Python 3 (ipykernel)",
   "language": "python",
   "name": "python3"
  },
  "language_info": {
   "codemirror_mode": {
    "name": "ipython",
    "version": 3
   },
   "file_extension": ".py",
   "mimetype": "text/x-python",
   "name": "python",
   "nbconvert_exporter": "python",
   "pygments_lexer": "ipython3",
   "version": "3.9.7"
  },
  "toc-autonumbering": true,
  "toc-showcode": false
 },
 "nbformat": 4,
 "nbformat_minor": 5
}

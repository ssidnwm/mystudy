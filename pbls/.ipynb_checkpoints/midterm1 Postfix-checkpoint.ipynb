{
 "cells": [
  {
   "cell_type": "markdown",
   "metadata": {},
   "source": [
    "항상 기뻐하라\n",
    "쉬지 말고 기도하라\n",
    "범사에 감사하라 이것이 그리스도 예수 안에서 너희를 향하신 하나님의 뜻이니라\n",
    "성령을 소멸하지 말며\n",
    "예언을 멸시하지 말고\n",
    "범사에 헤아려 좋은 것을 취하고\n",
    "악은 어떤 모양이라도 버리라 (살전5:16-22)\n",
    "\n",
    "-------\n",
    "\n",
    "<center><img src=\"https://github.com/idebtor/KMOOC-ML/blob/master/ipynb/images/joyai/pythonML.png?raw=true\" width=1000></center>\n",
    "\n",
    "__NOTE:__ The following materials have been compiled and adapted from the numerous sources including my own. Please help me to keep this tutorial up-to-date by reporting any issues or questions. Send any comments or criticisms to `idebtor@gmail.com` Your assistances and comments will be appreciated."
   ]
  },
  {
   "cell_type": "markdown",
   "metadata": {},
   "source": [
    "<b style=\"font-size:30px\">  Chapter 3. Linear Data Structures (선형 자료구조) </b>\n",
    "\n",
    ": 선형 자료구조란 무엇인가 (스택,큐,리스트 등)  \n",
    "\n",
    "--------------"
   ]
  },
  {
   "cell_type": "markdown",
   "metadata": {},
   "source": [
    "__무감독 양심 시험으로 실시합니다. Open Book 그리고 인터넷 검색이 가능합니다. 다른 사람들의 도움을 받는 것은 Cheating에 해당합니다. 한동의 학우들이 \"정직하고 성실하게\" 코딩할 수 있는 충분히 시간이 제공됩니다.__    \n",
    "God is good all the time~    \n",
    "(a debtor)<><\n",
    "\n",
    "\n",
    "__Honor Code:__   Your signature or name below represents your promise that this quiz is solely your own work. \n",
    "\n",
    "__Signature:__\n",
    "\n",
    "--------------"
   ]
  },
  {
   "cell_type": "markdown",
   "metadata": {},
   "source": [
    "# Infix의 표현식을 Postfix로 변환하기\n",
    "\n",
    "## Step 1: Basic step\n",
    "\n",
    "Infix(전위표기법)을 Postfix(후위표기법)으로 변환하는 get_postfix()함수가 아래와 같이 주어졌습니다. 그러나, 기대하는 결과값이 나오지 않습니다. 새로운 알고리즘이나 로직을 개발하지 아니하고, 기존의 코드를 최소한으로 수정하는 디버깅으로 원하는 결과를 얻을 수 있도록 수정하십시오. 아래의 코드를 바탕으로 점점 더 나은 코드글 개발하기 위한 Step들이 남아 있기 때문입니다.   "
   ]
  },
  {
   "cell_type": "markdown",
   "metadata": {},
   "source": [
    "__Sample Run__\n",
    "```\n",
    "if __name__ == '__main__':\n",
    "    print(get_postfix(['2', '*', '3', '-', '4']))\n",
    "    print(get_postfix(['7', '-', '4', '/', '2']))\n",
    "    print(get_postfix(['2', '*', '4', '+', '9', '/', '3']))\n",
    "    print(get_postfix(['2', '*', '(', '4', '+', '8', ')', '/', '12']))\n",
    "    print(get_postfix(['1', '*', '(', '2', '+', '3', '^', '2',')', '-', '5']))\n",
    "```"
   ]
  },
  {
   "cell_type": "markdown",
   "metadata": {},
   "source": [
    "__Expected Output__\n",
    "```\n",
    "2 3 * 4 -\n",
    "7 4 2 / -\n",
    "2 4 * 9 3 / +\n",
    "2 4 8 + * 12 /\n",
    "1 2 3 2 ^ + * 5 -\n",
    "```"
   ]
  },
  {
   "cell_type": "markdown",
   "metadata": {},
   "source": [
    "__Solution__"
   ]
  },
  {
   "cell_type": "code",
   "execution_count": null,
   "metadata": {},
   "outputs": [],
   "source": [
    "from dspy import Stack\n",
    "\n",
    "def get_postfix(infixList): \n",
    "    precedence = {\"^\":4, \"*\":3, \"/\":3, \"+\":2, \"-\":2, \"(\":1 }\n",
    "    operators = \"+-/*\"\n",
    "    op_stack = Stack()\n",
    "    postfixList = []\n",
    "    for op in infixList:\n",
    "        if op in operators:\n",
    "            while (not op_stack.is_empty()) and (precedence[op_stack.peek()] >= precedence[op]):\n",
    "                postfixList.append(op_stack.pop())\n",
    "                op_stack.push(op)\n",
    "        elif op == \"(\":\n",
    "            op_stack.push(op)\n",
    "        elif op == \")\":\n",
    "            op = op_stack.pop()\n",
    "            while not op == \"(\":\n",
    "                postfixList.append(op)\n",
    "            op = op_stack.pop()\n",
    "        else: #operand\n",
    "            postfixList.append(op)\n",
    "    while not op_stack.is_empty():\n",
    "        postfixList.append(op_stack.pop())\n",
    "    return \" \".join(postfixList)\n",
    "\n",
    "if __name__ == '__main__':\n",
    "    None"
   ]
  },
  {
   "cell_type": "markdown",
   "metadata": {},
   "source": [
    "## Step 2: Adding extra spaces\n",
    "\n",
    "**Step 1**에서 완성한 `get_postfix()`함수의 전달 인자는 `list`타입의 infix표현식이었습니다. **Step 2**에서는 전달 인자를 `string` 타입으로 받아서 postfix로 변환하는 to_postfix()를 구현하십시오. 단, operator와 operand, 괄호는 단 한 글자이며, 그 사이에는 하나 이상의 빈칸이 있다고 가정합니다.  \n",
    "\n",
    "__Sample Run__\n",
    "```\n",
    "if __name__ == '__main__':\n",
    "    inlist = ['2 * 3 - 4', \n",
    "              '7 - 4  / 2 ', \n",
    "              '2   * 4 + 9 / 3',\n",
    "              '2 * ( 4 + 8 ) / 2   ',\n",
    "              '1 * (2 + 3 ^ 2) - 5']\n",
    "    for iexp in inlist:\n",
    "        pexp = to_postfix(iexp)\n",
    "        print('    inifx:', iexp, '\\n  postfix:', pexp)\n",
    "```"
   ]
  },
  {
   "cell_type": "markdown",
   "metadata": {},
   "source": [
    "__Expected Output__\n",
    "```\n",
    "    inifx: 2 * 3 - 4 \n",
    "  postfix: 2 3 * 4 -\n",
    "    inifx: 7 - 4  / 2  \n",
    "  postfix: 7 4 2 / -\n",
    "    inifx: 2   * 4 + 9 / 3 \n",
    "  postfix: 2 4 * 9 3 / +\n",
    "    inifx: 2 * ( 4 + 8 ) / 2    \n",
    "  postfix: 2 4 8 + * 2 /\n",
    "    inifx: 1 * ( 2 + 3 ^ 2) - 5 \n",
    "  postfix: 1 2 3 2 ^ + * 5 -\n",
    "```"
   ]
  },
  {
   "cell_type": "markdown",
   "metadata": {},
   "source": [
    "__Solution:__"
   ]
  },
  {
   "cell_type": "code",
   "execution_count": null,
   "metadata": {},
   "outputs": [],
   "source": [
    "from dspy import Stack\n",
    "\n",
    "def to_postfix(infix): \n",
    "    precedence = {\"^\":4, \"*\":3, \"/\":3, \"+\":2, \"-\":2, \"(\":1 }\n",
    "    operators = \"+-/*\"\n",
    "    op_stack = Stack()\n",
    "    postfix = []\n",
    "    \n",
    "    for op in infix:\n",
    "        pass\n",
    "    \n",
    "    while not op_stack.is_empty():\n",
    "        postfix.append(op_stack.pop())\n",
    "    return \" \".join(postfix)\n",
    "\n",
    "if __name__ == '__main__':\n",
    "    None"
   ]
  },
  {
   "cell_type": "markdown",
   "metadata": {},
   "source": [
    "## Step 3: Adding multidigit operands\n",
    "\n",
    "**Step 2**에서 개발한 to_postfix()함수를 좀 더 확장하여 multidigit integer operand를 포함한 infix 수식을 다룰 수 있도록 코드를 수정하십시오. 단, operator와 operand, 괄호는 단 한 글자이며, 그 사이에는 하나 이상의 빈칸이 있다고 가정합니다.  \n",
    "\n",
    "__힌트:__ 아래 코드에서는 입력 문자열(infix)을 스캐닝하면서 digit이 연속적으로 나오는 경우인지 아닌지 체크하는지 판단할 수 있는 변수 `indigit`을 도입했습니다. 만약, `indigit`이 `False`인 상태에서, 새로운 토큰(`op`)을 나오면, digit을 시작하는 경우이므로, `indigit`을 `True`로 설정하고, 리스트(`postfix`)에 추가해야 합니다. 그러나, 현재 `indigit`이 `True`인 상태에서 새로운 토큰(`op`) digit이 나오면, 이전에 저장해둔 digit을 리스트(`postfix`)에서 꺼내서(삭제하고), 새로운 토큰(`op`)과 합하여 다시 삽입해야 합니다. "
   ]
  },
  {
   "cell_type": "markdown",
   "metadata": {},
   "source": [
    "__Sample Run__\n",
    "```\n",
    "if __name__ == '__main__':\n",
    "    inlist = ['2 * 3 - 456', \n",
    "              '7 - 4  / 2 ', \n",
    "              '2   * 4 + 9 / 3',\n",
    "              '2 * ( 4 + 8 ) / 12   ',\n",
    "              '100 * (2 + 3 ^ 2) - 50']\n",
    "    for iexp in inlist:\n",
    "        pexp = to_postfix(iexp)\n",
    "        print('    inifx:', iexp, '\\n  postfix:', pexp)\n",
    "```"
   ]
  },
  {
   "cell_type": "markdown",
   "metadata": {},
   "source": [
    "__Expected Output__\n",
    "```\n",
    "    inifx: 2 * 3 - 456 \n",
    "  postfix: 2 3 * 456 -\n",
    "    inifx: 7 - 4  / 2  \n",
    "  postfix: 7 4 2 / -\n",
    "    inifx: 2   * 4 + 9 / 3 \n",
    "  postfix: 2 4 * 9 3 / +\n",
    "    inifx: 2 * ( 4 + 8 ) / 12    \n",
    "  postfix: 2 4 8 + * 12 /\n",
    "    inifx: 100 * (2 + 3 ^ 2) - 50 \n",
    "  postfix: 100 2 3 2 ^ + * 50 -\n",
    "```"
   ]
  },
  {
   "cell_type": "markdown",
   "metadata": {},
   "source": [
    "__Solution:__"
   ]
  },
  {
   "cell_type": "code",
   "execution_count": 15,
   "metadata": {},
   "outputs": [],
   "source": [
    "from dspy import Stack\n",
    "\n",
    "def to_postfix(infix): \n",
    "    precedence = {\"^\": 4, \"*\":3, \"/\":3, \"+\":2, \"-\":2, \"(\":1 }\n",
    "    operators = \"+-/*^\"\n",
    "    op_stack = Stack()\n",
    "    postfix = []\n",
    "    indigit = False                 # starting status of a multidigit integer operand\n",
    "    \n",
    "    for op in infix:\n",
    "        if op in ' ':\n",
    "            indigit = False         # be ready to read a multidigit operand anytime\n",
    "            continue\n",
    "            \n",
    "        if op in '0123456789':      # a digit is encountered\n",
    "            pass\n",
    "        else:\n",
    "            pass\n",
    "            \n",
    "    while not op_stack.is_empty():\n",
    "        postfix.append(op_stack.pop())\n",
    "    \n",
    "    return \" \".join(postfix)\n",
    "\n",
    "\n",
    "if __name__ == '__main__':\n",
    "    None"
   ]
  },
  {
   "cell_type": "markdown",
   "metadata": {},
   "source": [
    "## Step 4: Evaluate postfix expression using a stack\n",
    "\n",
    "Postfix표현식은 컴퓨터가 다루기에 쉽게 표현함으로, 괄호가 없으며, $O(n)$ 시간복잡도로 연산을 수행할 수 있습니다. 컴퓨터가 다루기 쉽다는 말은 알고리즘을 구현하는 것도 간단하고 빠르게 실행할 수 있다는 것입니다. Postfix 표현식을 연산하려면, 주어진 표현식을 스캐닝할 때, operand는 스택에 push하고, operator가 나오면, 스택에서 두 개의 operands를 top해서 연산한 후, 그 결괏값을 다시 스택에 push를 합니다. Postfix표현식을 모두 스캐닝한 후, 스택에는 결괏값만 남아있게 됩니다. \n",
    "\n",
    "- 아래와 같은 `evaluate_postfix()`함수의 마지막 부분에 `assert(None)`의 `None`을 적절한 구문으로 대체하십시오."
   ]
  },
  {
   "cell_type": "markdown",
   "metadata": {},
   "source": [
    "__Sample Run__\n",
    "```\n",
    "if __name__ == '__main__':\n",
    "    inlist = ['2 * 3 - 456', \n",
    "              '7 - 4  / 2 ', \n",
    "              '  2 * 4 + 9 / 3', \n",
    "              '2 * ( 4 + 8 ) / 12   ',\n",
    "              '100 * (2 + 3 ^ 2) - 50' ]\n",
    "    for iexp in inlist:\n",
    "        pexp = to_postfix(iexp)\n",
    "        print('    inifx:', iexp, '\\n  postfix:', pexp, \"\\nevaluated:\", evaluate_postfix(pexp))\n",
    "```"
   ]
  },
  {
   "cell_type": "markdown",
   "metadata": {},
   "source": [
    "__Expected Output__\n",
    "```\n",
    "    inifx: 2 * 3 - 456 \n",
    "  postfix: 2 3 * 456 - \n",
    "evaluated: -450\n",
    "    inifx: 7 - 4  / 2  \n",
    "  postfix: 7 4 2 / - \n",
    "evaluated: 5\n",
    "    inifx:   2 * 4 + 9 / 3 \n",
    "  postfix: 2 4 * 9 3 / + \n",
    "evaluated: 11\n",
    "    inifx: 2 * ( 4 + 8 ) / 12    \n",
    "  postfix: 2 4 8 + * 12 / \n",
    "evaluated: 2\n",
    "    inifx: 100 * (2 + 3 ^ 2) - 50 \n",
    "  postfix: 100 2 3 2 ^ + * 50 - \n",
    "evaluated: 1050\n",
    "```"
   ]
  },
  {
   "cell_type": "markdown",
   "metadata": {},
   "source": [
    "__Solution:__"
   ]
  },
  {
   "cell_type": "code",
   "execution_count": null,
   "metadata": {},
   "outputs": [],
   "source": [
    "from dspy import Stack\n",
    "\n",
    "def evaluate_postfix(postfix): \n",
    "    exp_list = postfix.split(' ')       # split the expression into a list \n",
    "    va_stack = Stack()                  # value stack containing operands or integers\n",
    "    \n",
    "    for item in exp_list:\n",
    "        pass\n",
    "    \n",
    "    assert(None)                        # replace None with your code\n",
    "    return int(va_stack.pop()) \n",
    "\n",
    "if __name__ == '__main__':\n",
    "    None"
   ]
  },
  {
   "cell_type": "markdown",
   "metadata": {},
   "source": [
    "--------\n",
    "__슬기로운 자는 재앙을 보면 숨어 피하여도 어리석은 자들은 나가다가 해를 받느니라.__\n",
    "잠언27:12"
   ]
  }
 ],
 "metadata": {
  "kernelspec": {
   "display_name": "Python 3 (ipykernel)",
   "language": "python",
   "name": "python3"
  },
  "language_info": {
   "codemirror_mode": {
    "name": "ipython",
    "version": 3
   },
   "file_extension": ".py",
   "mimetype": "text/x-python",
   "name": "python",
   "nbconvert_exporter": "python",
   "pygments_lexer": "ipython3",
   "version": "3.8.12"
  },
  "toc-autonumbering": true
 },
 "nbformat": 4,
 "nbformat_minor": 4
}

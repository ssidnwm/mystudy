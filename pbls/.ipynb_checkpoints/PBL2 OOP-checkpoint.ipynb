{
 "cells": [
  {
   "cell_type": "markdown",
   "id": "c8233a17-3279-417e-a072-c555a4ada5db",
   "metadata": {},
   "source": [
    "너는 청년의 때에 너의 창조주를 기억하라 곧 곤고한 날이 이르기 전에, 나는 아무 낙이 없다고 할 해들이 가깝기 전에 (전12:1)\n",
    "\n",
    "-------\n",
    "<center><img src=\"https://github.com/idebtor/DSpy/blob/6b3676c3de29f85d2e7f30679676d1fd96d88b17/images/WelcomeToDataStructures.jpg?raw=true\" width=1000></center>\n",
    "\n",
    "__NOTE:__ The following materials have been compiled and adapted from the numerous sources including my own. Please help me to keep this tutorial up-to-date by reporting any issues or questions. Send any comments or criticisms to `idebtor@gmail.com` Your assistances and comments will be appreciated.\n",
    "\n",
    "--------"
   ]
  },
  {
   "cell_type": "markdown",
   "id": "c6a42f60-570d-430b-bab5-54a3194c557f",
   "metadata": {},
   "source": [
    "<b style=\"font-size:30px\">Problem Based Learning: OOP </b>\n",
    "\n",
    "Honor Code: On my honor, I pledge that I have neither received nor provided improper assistance in the completion of this assignment.\n",
    "\n",
    "Signed: [문벼리] Student Number: [22000245]\n",
    "\n",
    "# Define a class `Point`\n",
    "\n",
    "As you have learned during the OOP Lecture, you define `Point` class and its constructor. Then define additional functionalities to the class as you take the following exercises. "
   ]
  },
  {
   "cell_type": "code",
   "execution_count": 12,
   "id": "423ce06d-004e-4db7-b6e5-8f9e7cff46ae",
   "metadata": {},
   "outputs": [],
   "source": [
    "class Point:\n",
    "    # your code here\n",
    "    def __init__(self,x,y):\n",
    "        self.x = x\n",
    "        self.y = y\n",
    "    def halfway(self,p):\n",
    "        return Point((self.x+p.x)/2,(self.y+p.y)/2)\n",
    "    def midpoint(p,q):\n",
    "        return Point((p.x+q.x)/2,(p.y+q.y)/2)\n",
    "    def reflect_x(self):\n",
    "        return Point(self.x,-self.y)\n",
    "    def reflect_y(self):\n",
    "        return Point(-self.x,self.y)\n",
    "    def slope_to_origin(self):\n",
    "        return self.y/self.x"
   ]
  },
  {
   "cell_type": "markdown",
   "id": "5ac2afc4-f064-49c5-aaa0-444a5a76c23a",
   "metadata": {},
   "source": [
    "<b style=\"font-size:18px\"> Exercise 1 </b>\n",
    "\n",
    "Write a method named `halfway(target)` which takes a Point as an argument and returns the halfway point between itself and the parameter Point.\n",
    "\n",
    "__Sample Run:__ \n",
    "\n",
    "```\n",
    "p = Point(3, 4)  \n",
    "q = Point(5, 12)  \n",
    "r = p.halfway(q)\n",
    "print(r.x, r.y)    \n",
    "\n",
    "4.0 8.0\n",
    "```"
   ]
  },
  {
   "cell_type": "code",
   "execution_count": 5,
   "id": "6b3997fc-1e12-456e-acd4-bd75071a9f20",
   "metadata": {},
   "outputs": [
    {
     "name": "stdout",
     "output_type": "stream",
     "text": [
      "4.0 8.0\n"
     ]
    }
   ],
   "source": [
    "# your code here\n",
    "p = Point(3,4)\n",
    "q = Point(5,12)\n",
    "r = p.halfway(q)\n",
    "print(r.x, r.y)"
   ]
  },
  {
   "cell_type": "markdown",
   "id": "335a9a7e-3c45-49c9-a1b4-056cc4ab2a7f",
   "metadata": {},
   "source": [
    "<b style=\"font-size:18px\"> Exercise 2 </b>\n",
    "\n",
    "Write a method named `midpoint()` which takes two Points as arguments and returns the middle point between them. Define this method as a part of Point class even though it is possible to exist outside of the class. \n",
    "\n",
    "__Sample Run:__ \n",
    "```\n",
    "p = Point(3, 4)  \n",
    "q = Point(5, 12)\n",
    "r = Point.midpoint(p, q)\n",
    "print(r.x, r.y)   \n",
    "\n",
    "4.0 8.0\n",
    "```"
   ]
  },
  {
   "cell_type": "code",
   "execution_count": 7,
   "id": "edf8b3ad-5fa0-45a6-b9ee-7c8b19e0a374",
   "metadata": {},
   "outputs": [
    {
     "name": "stdout",
     "output_type": "stream",
     "text": [
      "4.0 8.0\n"
     ]
    }
   ],
   "source": [
    "# your code here\n",
    "p = Point(3, 4)  \n",
    "q = Point(5, 12)\n",
    "r = Point.midpoint(p, q)\n",
    "print(r.x, r.y) "
   ]
  },
  {
   "cell_type": "markdown",
   "id": "b8ff4bc3-94d1-46ca-b12a-967e2f67ceb0",
   "metadata": {},
   "source": [
    "<b style=\"font-size:18px\">Exercise 3</b>\n",
    "\n",
    "Write a method named `reflect_x()` which returns a new Point, one which is the reflection of the point about the x-axis. For example, Point(3, 4).refIect_x() is (3, -4)\n",
    "\n",
    "__Sample Run:__ \n",
    "```\n",
    "p = Point(3, 4)  \n",
    "r = p.reflect_x()\n",
    "print(r.x, r.y)   \n",
    "\n",
    "3 -4\n",
    "```"
   ]
  },
  {
   "cell_type": "code",
   "execution_count": 11,
   "id": "ec1fba4e-b7bc-4a19-9e67-a2b2d1760638",
   "metadata": {},
   "outputs": [
    {
     "name": "stdout",
     "output_type": "stream",
     "text": [
      "3 -4\n"
     ]
    }
   ],
   "source": [
    "# your code here\n",
    "p = Point(3, 4)  \n",
    "r = p.reflect_x()\n",
    "print(r.x, r.y) "
   ]
  },
  {
   "cell_type": "markdown",
   "id": "a82fc9fc-7a9a-41a8-8141-2fc1b34c580e",
   "metadata": {},
   "source": [
    "<b style=\"font-size:18px\"> Exercise 4</b>\n",
    "\n",
    "Write a method named `slope_to_origin()` which returns the slope of the line joining the origin to the point.  \n",
    "\n",
    "__Sample Run:__ \n",
    "```\n",
    "p = Point(4, 10)\n",
    "print(p.slope_to_origin())   \n",
    "\n",
    "2.5\n",
    "```"
   ]
  },
  {
   "cell_type": "code",
   "execution_count": 13,
   "id": "1f4e28cb-b11f-4c5d-88e1-b448a09b9cfd",
   "metadata": {},
   "outputs": [
    {
     "name": "stdout",
     "output_type": "stream",
     "text": [
      "2.5\n"
     ]
    }
   ],
   "source": [
    "# your code here\n",
    "p = Point(4, 10)\n",
    "print(p.slope_to_origin()) "
   ]
  },
  {
   "cell_type": "markdown",
   "id": "e775454e-0aab-4d2e-9ccc-519ef1d7eaee",
   "metadata": {},
   "source": [
    "# Save the `Point` class \n",
    "\n",
    "Save the `Point` class you defined above in a file called `Geometry.py`.\n",
    "\n",
    "- Use the cell magic commands, `%%writefile` or `%%writefile -a`, to write a cell contents to a file.  \n",
    "- These cell magic should be placed at the first line of the cell.\n",
    "- The file will be created or overwritten when the cell is executed. \n",
    "- The cell magic command line should be commented out after its execution.\n",
    "\n",
    "This step should be done at the cell that defines the `Point` class.\n",
    "\n",
    "# Load `Geometry.py` \n",
    "\n",
    "Now, load `Geometry.py' back to the following code cell. \n",
    "- Use `%load` magic command.\n"
   ]
  },
  {
   "cell_type": "code",
   "execution_count": 3,
   "id": "2aaf9397-df18-4f7c-938e-e0d0fc9c10ee",
   "metadata": {},
   "outputs": [
    {
     "name": "stdout",
     "output_type": "stream",
     "text": [
      "Writing Geometry.py\n"
     ]
    }
   ],
   "source": [
    "%%writefile Geometry.py\n",
    "\n",
    "class Point:\n",
    "    # your code here\n",
    "    def __init__(self,x,y):\n",
    "        self.x = x\n",
    "        self.y = y\n",
    "    def halfway(self,p):\n",
    "        return Point((self.x+p.x)/2,(self.y+p.y)/2)\n",
    "    def midpoint(p,q):\n",
    "        return Point((p.x+q.x)/2,(p.y+q.y)/2)\n",
    "    def reflect_x(self):\n",
    "        return Point(self.x,-self.y)\n",
    "    def reflect_y(self):\n",
    "        return Point(-self.x,self.y)\n",
    "    def slope_to_origin(self):\n",
    "        return self.y/self.x\n"
   ]
  },
  {
   "cell_type": "code",
   "execution_count": 5,
   "id": "f31c45cf-31d8-4ac1-ab12-04258e8687a8",
   "metadata": {},
   "outputs": [],
   "source": [
    "# %load Geometry.py\n",
    "\n",
    "class Point:\n",
    "    # your code here\n",
    "    def __init__(self,x,y):\n",
    "        self.x = x\n",
    "        self.y = y\n",
    "    def halfway(self,p):\n",
    "        return Point((self.x+p.x)/2,(self.y+p.y)/2)\n",
    "    def midpoint(p,q):\n",
    "        return Point((p.x+q.x)/2,(p.y+q.y)/2)\n",
    "    def reflect_x(self):\n",
    "        return Point(self.x,-self.y)\n",
    "    def reflect_y(self):\n",
    "        return Point(-self.x,self.y)\n",
    "    def slope_to_origin(self):\n",
    "        return self.y/self.x\n"
   ]
  },
  {
   "cell_type": "markdown",
   "id": "88e95466-6833-4586-b29f-ec1f5c421256",
   "metadata": {},
   "source": [
    "Now, run a simple test of the `Point` class.\n",
    "\n",
    "__Sample Run__:\n",
    "```\n",
    "p = Point(1, 2)\n",
    "print(p.x, p.y)\n",
    "\n",
    "1 2\n",
    "```"
   ]
  },
  {
   "cell_type": "code",
   "execution_count": 22,
   "id": "2f85bf69-c715-485f-ba1c-4e24e97e8baa",
   "metadata": {},
   "outputs": [
    {
     "name": "stdout",
     "output_type": "stream",
     "text": [
      "1 2\n"
     ]
    }
   ],
   "source": [
    "p = Point(1, 2)\n",
    "print(p.x, p.y)"
   ]
  },
  {
   "cell_type": "markdown",
   "id": "8e826af6-97a8-47dd-8436-4127cfa71d04",
   "metadata": {},
   "source": [
    "# Define a `Square` class \n",
    "\n",
    "Define a class `Square` and its constructor. Then define additional functionalities to the class as you take the following exercises. "
   ]
  },
  {
   "cell_type": "code",
   "execution_count": 8,
   "id": "bae7a30a-9831-4955-a461-cef9d2317322",
   "metadata": {},
   "outputs": [],
   "source": [
    "# your code here\n",
    "class Square:\n",
    "    def __init__(self,x):\n",
    "        self.x = x\n",
    "        self.y = x\n",
    "    def perimeter(self):\n",
    "        return self.x * 4\n",
    "    def area(self):\n",
    "        return self.x * self.y"
   ]
  },
  {
   "cell_type": "markdown",
   "id": "ce5267e1-c46f-4d7d-9936-6dcd2034a4ce",
   "metadata": {},
   "source": [
    "<b style=\"font-size:18px\"> Exercise 5 </b>\n",
    "\n",
    "Define a class that will be used to represent a square with a given `side` length in `Geometry.py`. Add two methods to the class to calculate the perimeter and the area of the square, respectively.\n",
    "\n",
    "__Sample Run:__ \n",
    "```\n",
    "s = Square(10)\n",
    "print(s.perimeter())\n",
    "print(s.area())\n",
    "\n",
    "40\n",
    "100\n",
    "```"
   ]
  },
  {
   "cell_type": "code",
   "execution_count": 9,
   "id": "e30e528a-37ad-45ee-b92c-91dda2176898",
   "metadata": {},
   "outputs": [
    {
     "name": "stdout",
     "output_type": "stream",
     "text": [
      "40\n",
      "100\n"
     ]
    }
   ],
   "source": [
    "# your code here\n",
    "s = Square(10)\n",
    "print(s.perimeter())\n",
    "print(s.area())"
   ]
  },
  {
   "cell_type": "markdown",
   "id": "e5c3846f-f59c-4d77-8efc-089d14ac3560",
   "metadata": {},
   "source": [
    "# Append the `Square` class \n",
    "\n",
    "Append the `Square` class you defined above in a file called `Geometry.py`. \n",
    "\n",
    "- Use the cell magic commands, `%%writefile` or `%%writefile -a`, to write a cell contents to a file.  \n",
    "\n",
    "This step should be done at the cell that defines the `Square` class."
   ]
  },
  {
   "cell_type": "code",
   "execution_count": 10,
   "id": "ed532a11-17e3-4b23-9e17-b4995b7fa62b",
   "metadata": {},
   "outputs": [
    {
     "name": "stdout",
     "output_type": "stream",
     "text": [
      "Appending to Geometry.py\n"
     ]
    }
   ],
   "source": [
    "%%writefile -a Geometry.py\n",
    "class Square:\n",
    "    def __init__(self,x):\n",
    "        self.x = x\n",
    "        self.y = x\n",
    "    def perimeter(self):\n",
    "        return self.x * 4\n",
    "    def area(self):\n",
    "        return self.x * self.y"
   ]
  },
  {
   "cell_type": "markdown",
   "id": "2906fba9-2649-4a60-9a44-297c9cf5eda1",
   "metadata": {},
   "source": [
    "# Define a `Circle` class \n",
    "\n",
    "Define a class `Circle` and its constructor. Then define additional functionalities to the class as you take the following exercises. \n"
   ]
  },
  {
   "cell_type": "code",
   "execution_count": 1,
   "id": "287f3778-6bc7-4a9c-bbeb-5b310039d34f",
   "metadata": {},
   "outputs": [
    {
     "name": "stdout",
     "output_type": "stream",
     "text": [
      "Appending to Geometry.py\n"
     ]
    }
   ],
   "source": [
    "%%writefile -a Geometry.py\n",
    "class Circle:\n",
    "    def __init__(self,r=0):\n",
    "        self.__radius = r\n",
    "    def radius(self):\n",
    "        return self.__radius\n",
    "    def diameter(self):\n",
    "        return self.__radius*2"
   ]
  },
  {
   "cell_type": "markdown",
   "id": "df44565b-8d09-410f-990c-a0317f62b54b",
   "metadata": {},
   "source": [
    "<b style=\"font-size:18px\"> Exercise 6 </b>\n",
    "\n",
    "Define a class `Circle` that will be used to represent a circle with a given radius in `Geometry.py`. \n",
    "- Define the radius of the circle to be private to prevent data from being tampered with and to make the class easy to maintain!\n",
    "- Make the circle with default values 0 for the radius. This enables the user to instantiate a circle like `c = Circle()`.\n",
    "- Define two methods to the class to return the radius and the diameter, respectively.\n",
    "\n",
    "__Sample Run:__ \n",
    "```\n",
    "s = Circle(10)\n",
    "print(s.radius())\n",
    "print(s.diameter())\n",
    "print(Circle().radius())\n",
    "10\n",
    "20\n",
    "0\n",
    "```"
   ]
  },
  {
   "cell_type": "code",
   "execution_count": 2,
   "id": "f804126b-ef5f-4695-b18e-67ab257042bd",
   "metadata": {},
   "outputs": [
    {
     "name": "stdout",
     "output_type": "stream",
     "text": [
      "10\n",
      "20\n",
      "0\n"
     ]
    }
   ],
   "source": [
    "s = Circle(10)\n",
    "print(s.radius())\n",
    "print(s.diameter())\n",
    "print(Circle().radius())"
   ]
  },
  {
   "cell_type": "markdown",
   "id": "780a3460-f714-4e0d-ae8a-240877b22ae6",
   "metadata": {},
   "source": [
    "# Load `Geometry.py` \n",
    "\n",
    "Now, load `Geometry.py` back to the following code cell and you should see all three classes once.\n",
    "- Use `%load` magic command."
   ]
  },
  {
   "cell_type": "code",
   "execution_count": 5,
   "id": "916b5339-6357-417a-99bf-852b0c43abff",
   "metadata": {},
   "outputs": [],
   "source": [
    "# %load Geometry.py\n",
    "\n",
    "class Point:\n",
    "    # your code here\n",
    "    def __init__(self,x,y):\n",
    "        self.x = x\n",
    "        self.y = y\n",
    "    def halfway(self,p):\n",
    "        return Point((self.x+p.x)/2,(self.y+p.y)/2)\n",
    "    def midpoint(p,q):\n",
    "        return Point((p.x+q.x)/2,(p.y+q.y)/2)\n",
    "    def reflect_x(self):\n",
    "        return Point(self.x,-self.y)\n",
    "    def reflect_y(self):\n",
    "        return Point(-self.x,self.y)\n",
    "    def slope_to_origin(self):\n",
    "        return self.y/self.x\n",
    "class Square:\n",
    "    def __init__(self,x):\n",
    "        self.x = x\n",
    "        self.y = x\n",
    "    def perimeter(self):\n",
    "        return self.x * 4\n",
    "    def area(self):\n",
    "        return self.x * self.y\n"
   ]
  },
  {
   "cell_type": "markdown",
   "id": "6f2f6d8a-0a1a-4bca-ab6b-f778e9511f28",
   "metadata": {},
   "source": [
    "Now, run a simple test of the `Point` and `Square` classes.\n",
    "\n",
    "__Sample Run__:\n",
    "```\n",
    "p = Point(1, 2)\n",
    "print(p.x, p.y)\n",
    "q = Square(10)\n",
    "print(q.area())\n",
    "c = Circle(10)\n",
    "print(c.radius())\n",
    "\n",
    "1 2\n",
    "100\n",
    "10\n",
    "```"
   ]
  },
  {
   "cell_type": "code",
   "execution_count": 6,
   "id": "ec63e4f0-f971-40c5-9a91-ded516317e20",
   "metadata": {},
   "outputs": [
    {
     "name": "stdout",
     "output_type": "stream",
     "text": [
      "1 2\n",
      "100\n",
      "10\n"
     ]
    }
   ],
   "source": [
    "p = Point(1, 2)\n",
    "print(p.x, p.y)\n",
    "q = Square(10)\n",
    "print(q.area())\n",
    "c = Circle(10)\n",
    "print(c.radius())\n",
    "# your code here"
   ]
  },
  {
   "cell_type": "markdown",
   "id": "ff0e5f6c-f7eb-432a-8969-d904057466bf",
   "metadata": {},
   "source": [
    "__FYI(For Your Information) A few different ways of importing a module__ \n",
    "\n",
    "There are a few different ways of importing a module. For example, \n",
    "\n",
    "1. ```from Geometry import Point```   \n",
    "    - This imports a specific class `Point` in `Geometry.py` module.  \n",
    "    - You may use the class `Point` such as `p = Point(1, 2)`   \n",
    "1. ```import Geometry```   \n",
    "    - This imports all things defined in `Geometry.py` module.\n",
    "    - You must specify the name of the module to use it such as `p = Geometry.Point(1, 2)`\n",
    "1. ```import Geometry as gm```\n",
    "    - It just simplify the way of calling the module. \n",
    "    - For example, `p = gm.Point(1, 2)`"
   ]
  },
  {
   "cell_type": "markdown",
   "id": "f99cc375-41a6-4ec9-a47f-36f8cadc443a",
   "metadata": {
    "tags": []
   },
   "source": [
    "# Exercise importing a module\n",
    "\n",
    "Let us practice three different ways of importing a module.\n",
    "\n",
    "Execute the following code snippet using three different ways of the importing the module, `Geometry.py`. You may add statements and/or modify the following script if necessay. \n",
    "\n",
    "To do this step properly, we must check `Point` and `Square` definitions since we may still have them in memory. If they are still valid, we need to nullify them first. Then we may import the module and test it properly. \n",
    "\n",
    "__Sample Run:__\n",
    "```\n",
    "a = Point(4, 10)\n",
    "b = Point(8, 10)\n",
    "c = a.halfway(b)\n",
    "print(c.x, c.y)\n",
    "r = a.reflect_x()\n",
    "print(r.x, r.y)\n",
    "print(r.slope_to_origin())\n",
    "\n",
    "b = Square(10)\n",
    "print(b.perimeter())\n",
    "print(b.area())\n",
    "\n",
    "c = Circle(10)\n",
    "print(c.diameter())\n",
    "print(Circle().radius())\n",
    "```\n",
    "__Run Results:__\n",
    "```\n",
    "6.0 10.0\n",
    "4 -10\n",
    "-2.5\n",
    "40\n",
    "100\n",
    "20\n",
    "0\n",
    "```"
   ]
  },
  {
   "cell_type": "markdown",
   "id": "3cf7565f-f1f8-4053-82f1-8eb5c76175bb",
   "metadata": {},
   "source": [
    "__(FYI) Nullify definitions of `Point` and `Square` if necessary.__ "
   ]
  },
  {
   "cell_type": "code",
   "execution_count": 7,
   "id": "32225b27-1ff0-47e3-9fc4-74d54a826e9f",
   "metadata": {},
   "outputs": [
    {
     "name": "stdout",
     "output_type": "stream",
     "text": [
      "Point class is defined. Now nullify it.\n",
      "Square class is defined. Now nullify it.\n"
     ]
    }
   ],
   "source": [
    "try:\n",
    "    Point\n",
    "except NameError:\n",
    "    print(\"Point class has not been defined after all!\")\n",
    "else:\n",
    "    print(\"Point class is defined. Now nullify it.\")\n",
    "    del Point\n",
    "    \n",
    "try:\n",
    "    Square\n",
    "except NameError:\n",
    "    print(\"Square class has not been defined after all!\")\n",
    "else:\n",
    "    print(\"Square class is defined. Now nullify it.\")\n",
    "    del Square"
   ]
  },
  {
   "cell_type": "markdown",
   "id": "b6c4adfa-5666-49da-b3b1-10e69d42d959",
   "metadata": {},
   "source": [
    "## Using ```from Geometry ... ```   "
   ]
  },
  {
   "cell_type": "code",
   "execution_count": 3,
   "id": "203d7109-d968-4cd5-932b-0611aeaeed48",
   "metadata": {},
   "outputs": [],
   "source": [
    "# your code here\n",
    "from Geometry import Point"
   ]
  },
  {
   "cell_type": "markdown",
   "id": "0a4127ee-4b5a-4c96-88ec-d5e0a719ab16",
   "metadata": {},
   "source": [
    "## Using ```import Geometry```   "
   ]
  },
  {
   "cell_type": "code",
   "execution_count": 4,
   "id": "90515b71-3867-43a8-bdd2-d69ece79f3d1",
   "metadata": {},
   "outputs": [
    {
     "data": {
      "text/plain": [
       "Geometry.Point"
      ]
     },
     "execution_count": 4,
     "metadata": {},
     "output_type": "execute_result"
    }
   ],
   "source": [
    "# your code here\n",
    "import Geometry\n",
    "\n",
    "Geometry.Point"
   ]
  },
  {
   "cell_type": "markdown",
   "id": "57965002-9547-4355-b99b-3d8d39f51422",
   "metadata": {},
   "source": [
    "## Using ```import Geometry as gm```"
   ]
  },
  {
   "cell_type": "code",
   "execution_count": 5,
   "id": "db427a52-1dc7-439c-aa72-8870369757b9",
   "metadata": {},
   "outputs": [],
   "source": [
    "# your code here\n",
    "import Geometry as gm\n"
   ]
  },
  {
   "cell_type": "markdown",
   "id": "9542f459-ecca-422e-8894-64e8733dd71f",
   "metadata": {},
   "source": [
    "# The final test step\n",
    "\n",
    "1. Comment out some magic commands in the code cells above.\n",
    "1. Execute the following command (double arrows in the menubar) or in the `Kernel` menu , then you should see all cells go through successfully.\n",
    "    - ```Restart Kernel and Run All Cells... ```\n",
    "1. Congratulations! "
   ]
  },
  {
   "cell_type": "markdown",
   "id": "a4d7db56-73f7-44e8-8006-1fc3c715c788",
   "metadata": {},
   "source": [
    "# Problem Set OOP Test </b>\n",
    "\n",
    "## Step 1: \n",
    "\n",
    "Load `Geometry.py` and define `__str__` and `__repr__` methods for `Point`, `Square` and `Circle`."
   ]
  },
  {
   "cell_type": "code",
   "execution_count": 9,
   "id": "a6848d29-7725-44c9-8c5b-0484ec3ea3f0",
   "metadata": {},
   "outputs": [
    {
     "name": "stdout",
     "output_type": "stream",
     "text": [
      "Overwriting Geometry.py\n"
     ]
    }
   ],
   "source": [
    "%%writefile Geometry.py\n",
    "class Point:\n",
    "    # your code here\n",
    "    def __init__(self,x,y):\n",
    "        self.x = x\n",
    "        self.y = y\n",
    "    def __str__(self):\n",
    "        return 'A Point at ({},{})'.format(self.x,self.y)\n",
    "    def __repr__(self):\n",
    "        return 'Point at {},{}'.format(self.x,self.y)\n",
    "    def halfway(self,p):\n",
    "        return Point((self.x+p.x)/2,(self.y+p.y)/2)\n",
    "    def midpoint(p,q):\n",
    "        return Point((p.x+q.x)/2,(p.y+q.y)/2)\n",
    "    def reflect_x(self):\n",
    "        return Point(self.x,-self.y)\n",
    "    def reflect_y(self):\n",
    "        return Point(-self.x,self.y)\n",
    "    def slope_to_origin(self):\n",
    "        return self.y/self.x\n",
    "class Square:\n",
    "    def __init__(self,x):\n",
    "        self.x = x\n",
    "        self.y = x\n",
    "    def __str__(self):\n",
    "        return '{} X {} Square'.format(self.x,self.y)\n",
    "    def __repr__(self):\n",
    "        return 'Square {}'.format(self.x)\n",
    "    def perimeter(self):\n",
    "        return self.x * 4\n",
    "    def area(self):\n",
    "        return self.x * self.y\n",
    "class Circle:\n",
    "    def __init__(self,r=0):\n",
    "        self.__radius = r\n",
    "    def __str__(self):\n",
    "        return 'A circle with a radius of {}cm'.format(self.__radius)\n",
    "    def __repr__(self):\n",
    "        return 'Circle ({})'.format(self.__radius)\n",
    "    def radius(self):\n",
    "        return self.__radius\n",
    "    def diameter(self):\n",
    "        return self.__radius*2\n"
   ]
  },
  {
   "cell_type": "code",
   "execution_count": 11,
   "id": "2cd0b2f2-28a5-4b2b-a2e5-065e0c15d511",
   "metadata": {},
   "outputs": [],
   "source": [
    "# %load Geometry.py\n",
    "class Point:\n",
    "    # your code here\n",
    "    def __init__(self,x,y):\n",
    "        self.x = x\n",
    "        self.y = y\n",
    "    def __str__(self):\n",
    "        return 'A Point at ({},{})'.format(self.x,self.y)\n",
    "    def __repr__(self):\n",
    "        return 'Point at {},{}'.format(self.x,self.y)\n",
    "    def halfway(self,p):\n",
    "        return Point((self.x+p.x)/2,(self.y+p.y)/2)\n",
    "    def midpoint(p,q):\n",
    "        return Point((p.x+q.x)/2,(p.y+q.y)/2)\n",
    "    def reflect_x(self):\n",
    "        return Point(self.x,-self.y)\n",
    "    def reflect_y(self):\n",
    "        return Point(-self.x,self.y)\n",
    "    def slope_to_origin(self):\n",
    "        return self.y/self.x\n",
    "class Square:\n",
    "    def __init__(self,x):\n",
    "        self.x = x\n",
    "        self.y = x\n",
    "    def __str__(self):\n",
    "        return '{} X {} Square'.format(self.x,self.y)\n",
    "    def __repr__(self):\n",
    "        return 'Square {}'.format(self.x)\n",
    "    def perimeter(self):\n",
    "        return self.x * 4\n",
    "    def area(self):\n",
    "        return self.x * self.y\n",
    "class Circle:\n",
    "    def __init__(self,r=0):\n",
    "        self.__radius = r\n",
    "    def __str__(self):\n",
    "        return 'A circle with a radius of {}cm'.format(self.__radius)\n",
    "    def __repr__(self):\n",
    "        return 'Circle ({})'.format(self.__radius)\n",
    "    def radius(self):\n",
    "        return self.__radius\n",
    "    def diameter(self):\n",
    "        return self.__radius*2\n"
   ]
  },
  {
   "cell_type": "markdown",
   "id": "70fed79b-3a4e-4eae-a161-d3b0d58fc638",
   "metadata": {},
   "source": [
    "## Step 2: \n",
    "\n",
    "Test `__str__` and `__repr__` methods for three classes, respectively, as shown below:"
   ]
  },
  {
   "cell_type": "markdown",
   "id": "3d96af26-9570-41fe-ad54-28421eadb9b1",
   "metadata": {},
   "source": [
    "__Sample Run for Point:__\n",
    "```\n",
    "p = Point(1, 2)\n",
    "print(p)\n",
    "print(str(p))\n",
    "print(p.__repr__())\n",
    "print(repr(p))\n",
    "\n",
    "A point at (1, 2)\n",
    "A point at (1, 2)\n",
    "Point(1, 2)\n",
    "Point(1, 2)\n",
    "```"
   ]
  },
  {
   "cell_type": "code",
   "execution_count": 7,
   "id": "f46be8e9-2746-4087-ab57-3a5fcd51f2aa",
   "metadata": {},
   "outputs": [
    {
     "name": "stdout",
     "output_type": "stream",
     "text": [
      "A Point at (1,2)\n",
      "A Point at (1,2)\n",
      "Point(1, 2)\n",
      "Point(1, 2)\n"
     ]
    }
   ],
   "source": [
    "p = Point(1, 2)\n",
    "print(p)\n",
    "print(str(p))\n",
    "print(p.__repr__())\n",
    "print(repr(p))"
   ]
  },
  {
   "cell_type": "markdown",
   "id": "bdb6a5d9-baed-4eec-a751-eb665c32bde8",
   "metadata": {},
   "source": [
    "__Sample Run for Square:__\n",
    "```\n",
    "s = Square(10)\n",
    "print(s)\n",
    "print(str(s))\n",
    "print(s.__repr__())\n",
    "print(repr(s))\n",
    "\n",
    "10 x 10 Square\n",
    "10 x 10 Square\n",
    "Square(10)\n",
    "Square(10)\n",
    "```"
   ]
  },
  {
   "cell_type": "code",
   "execution_count": 13,
   "id": "d7bbd8c3-33a8-4f3f-bb5e-cdcb38757e13",
   "metadata": {},
   "outputs": [
    {
     "name": "stdout",
     "output_type": "stream",
     "text": [
      "10 x 10 Square\n",
      "10 x 10 Square\n",
      "Square(10)\n",
      "Square(10)\n"
     ]
    }
   ],
   "source": [
    "s = Square(10)\n",
    "print(s)\n",
    "print(str(s))\n",
    "print(s.__repr__())\n",
    "print(repr(s))"
   ]
  },
  {
   "cell_type": "markdown",
   "id": "96537c7f-3c99-47c6-990f-39dda8b377d1",
   "metadata": {},
   "source": [
    "__Sample Run for Circle:__\n",
    "```\n",
    "c = Circle(10)\n",
    "print(c)\n",
    "print(str(c))\n",
    "print(c.__repr__())\n",
    "print(repr(c))\n",
    "\n",
    "A circle with a radius of 10cm\n",
    "A circle with a radius of 10cm\n",
    "Circle(10)\n",
    "Circle(10)\n",
    "```"
   ]
  },
  {
   "cell_type": "code",
   "execution_count": 12,
   "id": "93a26eee-dba4-4a21-8003-a329f4927ccd",
   "metadata": {},
   "outputs": [
    {
     "name": "stdout",
     "output_type": "stream",
     "text": [
      "A circle with a radius of 10cm\n",
      "A circle with a radius of 10cm\n",
      "Circle (10)\n",
      "Circle (10)\n"
     ]
    }
   ],
   "source": [
    "c = Circle(10)\n",
    "print(c)\n",
    "print(str(c))\n",
    "print(c.__repr__())\n",
    "print(repr(c))"
   ]
  },
  {
   "cell_type": "markdown",
   "id": "8b88417b-991d-42e3-97a4-f4061b611ab4",
   "metadata": {},
   "source": [
    "--------------\n",
    "Be joyful always! 1 Thessalonians 5:16-18 "
   ]
  }
 ],
 "metadata": {
  "kernelspec": {
   "display_name": "Python 3 (ipykernel)",
   "language": "python",
   "name": "python3"
  },
  "language_info": {
   "codemirror_mode": {
    "name": "ipython",
    "version": 3
   },
   "file_extension": ".py",
   "mimetype": "text/x-python",
   "name": "python",
   "nbconvert_exporter": "python",
   "pygments_lexer": "ipython3",
   "version": "3.11.7"
  },
  "toc-autonumbering": true,
  "toc-showcode": false,
  "toc-showmarkdowntxt": false
 },
 "nbformat": 4,
 "nbformat_minor": 5
}

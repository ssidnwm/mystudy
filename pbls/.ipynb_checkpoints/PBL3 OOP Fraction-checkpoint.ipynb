{
 "cells": [
  {
   "cell_type": "markdown",
   "id": "d559dcac-9364-40ae-b6ed-04142c3b86a8",
   "metadata": {},
   "source": [
    "그런즉 너희가 먹든지 마시든지 무엇을 하든지 다 하나님의 영광을 위하여 하라 (고전10:31)\n",
    "\n",
    "-------\n",
    "<center><img src=\"https://github.com/idebtor/DSpy/blob/6b3676c3de29f85d2e7f30679676d1fd96d88b17/images/WelcomeToDataStructures.jpg?raw=true\" width=1000></center>\n",
    "\n",
    "__NOTE:__ The following materials have been compiled and adapted from the numerous sources including my own. Please help me to keep this tutorial up-to-date by reporting any issues or questions. Send any comments or criticisms to `idebtor@gmail.com` Your assistances and comments will be appreciated.\n",
    "\n",
    "--------"
   ]
  },
  {
   "cell_type": "markdown",
   "id": "c4a9b200-0e9e-4d79-ba98-502327354583",
   "metadata": {},
   "source": [
    "<b style=\"font-size:30px\">Problem Set: OOP Fraction Class </b>\n",
    "\n",
    "Honor Code: On my honor, I pledge that I have neither received nor provided improper assistance in the completion of this assignment.\n",
    "\n",
    "Signed: [문벼리] Student Number: [22000245]\n",
    "\n",
    "# Define a class `Fraction`\n",
    "- As you go through some functionalities shown below, add methods necessary in the class."
   ]
  },
  {
   "cell_type": "code",
   "execution_count": 1,
   "id": "17e3057c-545d-4e50-8aef-efb49a03a9a9",
   "metadata": {},
   "outputs": [],
   "source": [
    "class Fraction:\n",
    "    def __init__(self,num,den):\n",
    "        gcd = Fraction.gcd(num,den)\n",
    "        self.num = num //gcd\n",
    "        self.den = den //gcd\n",
    "    def __add__(self,other):\n",
    "        num = self.num * other.den + self.den * other.num\n",
    "        den = self.den * other.den\n",
    "        return Fraction(num,den)\n",
    "    def __sub__(self,other):\n",
    "        num = self.num * other.den - self.den * other.num\n",
    "        den = self.den * other.den\n",
    "        return Fraction(num,den)\n",
    "    def __eq__(self,other):\n",
    "        if not isinstance(other, Fraction):\n",
    "            return False\n",
    "        return self.num * other.den == self.den * other.num\n",
    "    def __truediv__(self,other):\n",
    "        num = self.num * other.den\n",
    "        den = self.den * other.num\n",
    "        return Fraction(num,den)\n",
    "    def __lt__(self,other):\n",
    "        if not isinstance(other, Fraction):\n",
    "            other = Fraction(other, 1)\n",
    "        return self.num * other.den < self.den * other.num\n",
    "    def __mul__(self,other):\n",
    "        if not isinstance(other,Fraction):\n",
    "            other = Fraction(other,1)\n",
    "        num = self.num * other.num\n",
    "        den = self.den * other.den\n",
    "        return Fraction(num,den)\n",
    "    def __rmul__(self,other):\n",
    "        return self.__mul__(other)\n",
    "    def gcd(m,n):\n",
    "        while m% n != 0:\n",
    "            m,n = n,m%n\n",
    "        return n\n",
    "    def __str__(self):\n",
    "        return f\"{self.num}/{self.den}\""
   ]
  },
  {
   "cell_type": "markdown",
   "id": "88426eac-4f7c-4b09-a24a-4d2fa9d0005a",
   "metadata": {},
   "source": [
    "## Add\n",
    "\n",
    "Write a method to make the test case in __Sample Run__ work. \n",
    "\n",
    "__Sample Run:__\n",
    "```\n",
    "x = Fraction(1, 2)\n",
    "y = Fraction(1, 4)\n",
    "z = x + y\n",
    "print(z)               # 6/8\n",
    "```\n",
    "__Expected Output:__\n",
    "```\n",
    "6/8\n",
    "```"
   ]
  },
  {
   "cell_type": "code",
   "execution_count": 10,
   "id": "c05c2776-88f2-4a8a-a85f-f45635539725",
   "metadata": {},
   "outputs": [
    {
     "name": "stdout",
     "output_type": "stream",
     "text": [
      "6/8\n"
     ]
    }
   ],
   "source": [
    "# your code here\n",
    "x = Fraction(1, 2)\n",
    "y = Fraction(1, 4)\n",
    "z = x + y\n",
    "print(z)   "
   ]
  },
  {
   "cell_type": "markdown",
   "id": "86218882-0a6f-47a2-990a-7af2b0cc3c84",
   "metadata": {},
   "source": [
    "## Subtract \n",
    "Write a method to make the test case in __Sample Run__ work. \n",
    "\n",
    "__Sample Run:__\n",
    "```\n",
    "x = Fraction(1, 2)\n",
    "y = Fraction(1, 4)\n",
    "z = x - y\n",
    "print(z)               # 2/8\n",
    "```\n",
    "__Expected Output:__\n",
    "```\n",
    "2/8\n",
    "```"
   ]
  },
  {
   "cell_type": "code",
   "execution_count": 12,
   "id": "b8dcad07-cc63-4c40-b19b-98ff25d55d90",
   "metadata": {},
   "outputs": [
    {
     "name": "stdout",
     "output_type": "stream",
     "text": [
      "2/8\n"
     ]
    }
   ],
   "source": [
    "x = Fraction(1, 2)\n",
    "y = Fraction(1, 4)\n",
    "z = x - y\n",
    "print(z)"
   ]
  },
  {
   "cell_type": "markdown",
   "id": "c3124873-e39a-4bc3-bab7-a7c0b28e1d86",
   "metadata": {},
   "source": [
    "## Equality \n",
    "\n",
    "Write a method to make the test case in __Sample Run__ work. \n",
    "\n",
    "__Sample Run:__\n",
    "```\n",
    "x = Fraction(12, 30)\n",
    "y = Fraction(2, 5)\n",
    "print(x == y)         # True\n",
    "```\n",
    "__Expected Output:__\n",
    "```\n",
    "True\n",
    "```"
   ]
  },
  {
   "cell_type": "code",
   "execution_count": 14,
   "id": "ce47e5ca-6648-480f-b05a-a70031ab184f",
   "metadata": {},
   "outputs": [
    {
     "name": "stdout",
     "output_type": "stream",
     "text": [
      "True\n"
     ]
    }
   ],
   "source": [
    "# your code here\n",
    "x = Fraction(12, 30)\n",
    "y = Fraction(2, 5)\n",
    "print(x == y)"
   ]
  },
  {
   "cell_type": "markdown",
   "id": "15bad26f-4fa4-4fe7-a689-12396d3a45b1",
   "metadata": {},
   "source": [
    "## Equality \n",
    "Write a method to make the test case in __Sample Run__ work.\n",
    "\n",
    "__Sample Run:__\n",
    "```\n",
    "x = Fraction(4, 1)\n",
    "y = Fraction(1, 4)\n",
    "print(x == y)         # False\n",
    "```\n",
    "__Expected Output:__\n",
    "```\n",
    "# False\n",
    "```"
   ]
  },
  {
   "cell_type": "code",
   "execution_count": 15,
   "id": "e6b5fcd5-d781-4640-ac39-644501545daf",
   "metadata": {},
   "outputs": [
    {
     "name": "stdout",
     "output_type": "stream",
     "text": [
      "False\n"
     ]
    }
   ],
   "source": [
    "x = Fraction(4, 1)\n",
    "y = Fraction(1, 4)\n",
    "print(x == y)\n",
    "# your code here"
   ]
  },
  {
   "cell_type": "markdown",
   "id": "9605f412-93f9-444f-8e88-11e26c214616",
   "metadata": {},
   "source": [
    "## Checking the type of the other operand\n",
    "\n",
    "Write a method to make the test case in __Sample Run__ work.\n",
    "\n",
    "__Sample Run:__\n",
    "```\n",
    "x = Fraction(2, 3)\n",
    "print(x == 2)         # False\n",
    "```\n",
    "__Expected Output:__\n",
    "```\n",
    "# False\n",
    "```"
   ]
  },
  {
   "cell_type": "code",
   "execution_count": 18,
   "id": "f50a4564-0ade-4e1c-be4b-7a85c1052467",
   "metadata": {},
   "outputs": [
    {
     "name": "stdout",
     "output_type": "stream",
     "text": [
      "False\n"
     ]
    }
   ],
   "source": [
    "# your code here\n",
    "x = Fraction(2, 3)\n",
    "print(x == 2) "
   ]
  },
  {
   "cell_type": "markdown",
   "id": "20abc7c4-986e-4c37-aae6-b52aca84e90c",
   "metadata": {},
   "source": [
    "### Using GCD \n",
    "\n",
    "Write a method to make the test case in __Sample Run__ work.\n",
    "\n",
    "__Sample Run:__\n",
    "```\n",
    "x = Fraction(12,30)  \n",
    "y = Fraction(2, 5)      \n",
    "print (x == y)          # True\n",
    "print(x)                # 2/5\n",
    "print(y)                # 2/5\n",
    "```\n",
    "__Expected Output:__\n",
    "```\n",
    "True\n",
    "2/5\n",
    "2/5\n",
    "```"
   ]
  },
  {
   "cell_type": "code",
   "execution_count": 22,
   "id": "ade4c7fe-6511-40d2-90c1-41ec09801bf9",
   "metadata": {},
   "outputs": [
    {
     "name": "stdout",
     "output_type": "stream",
     "text": [
      "True\n",
      "2/5\n",
      "2/5\n"
     ]
    }
   ],
   "source": [
    "x = Fraction(12,30)  \n",
    "y = Fraction(2, 5)      \n",
    "print (x == y)          # True\n",
    "print(x)                # 2/5\n",
    "print(y)                # 2/5"
   ]
  },
  {
   "cell_type": "markdown",
   "id": "14166d1a-cf46-4147-badf-fdc315ac0fb0",
   "metadata": {},
   "source": [
    "### True Division\n",
    "\n",
    "Write a method to make the test case in __Sample Run__ work.\n",
    "\n",
    "__Sample Run:__\n",
    "```\n",
    "a = Fraction(1, 3)  \n",
    "b = Fraction(4, 5)  \n",
    "d = a / b\n",
    "print (d)              # 5/12\n",
    "```\n",
    "__Expected Output:__\n",
    "```\n",
    "5/12\n",
    "```"
   ]
  },
  {
   "cell_type": "code",
   "execution_count": 2,
   "id": "a01e8cab-ec8c-40f2-80db-10a83123f687",
   "metadata": {},
   "outputs": [
    {
     "name": "stdout",
     "output_type": "stream",
     "text": [
      "5/12\n"
     ]
    }
   ],
   "source": [
    "a = Fraction(1, 3)  \n",
    "b = Fraction(4, 5)  \n",
    "d = a / b\n",
    "print (d) "
   ]
  },
  {
   "cell_type": "markdown",
   "id": "f380c70a-6b3a-490b-b8e3-f0bbc0312823",
   "metadata": {},
   "source": [
    "### __lt__ comparator\n",
    "\n",
    "Write a method to make the test case in __Sample Run__ work.\n",
    "\n",
    "__Sample Run:__\n",
    "```\n",
    "a = Fraction(1, 3)  \n",
    "b = Fraction(4, 5)  \n",
    "if a < b:\n",
    "    print(\"a < b\")\n",
    "else:\n",
    "    print(\"a >= b\")\n",
    "```\n",
    "\n",
    "__Expected Output:__\n",
    "```\n",
    "a < b\n",
    "```\n"
   ]
  },
  {
   "cell_type": "code",
   "execution_count": 10,
   "id": "f29b575d-bac9-4eb1-a71c-5f5086b4e793",
   "metadata": {},
   "outputs": [
    {
     "name": "stdout",
     "output_type": "stream",
     "text": [
      "a < b\n"
     ]
    }
   ],
   "source": [
    "# your code here\n",
    "a = Fraction(1, 3)  \n",
    "b = Fraction(4, 5)  \n",
    "if a < b:\n",
    "    print(\"a < b\")\n",
    "else:\n",
    "    print(\"a >= b\")"
   ]
  },
  {
   "cell_type": "markdown",
   "id": "273aa8db-ae3a-4de0-8248-2b1a28d9a53d",
   "metadata": {},
   "source": [
    "### Multiply\n",
    "\n",
    "Write a method to make the test case in __Sample Run__ work.\n",
    "\n",
    "__Sample Run:__\n",
    "```\n",
    "x = Fraction(2,3)  \n",
    "y = Fraction(1,3)  \n",
    "p = x * y  \n",
    "print(p)\n",
    "print(x * 2)\n",
    "print(2 * x)\n",
    "```\n",
    "__Expected Output:__\n",
    "```\n",
    "2/9\n",
    "4/3\n",
    "4/3\n",
    "```"
   ]
  },
  {
   "cell_type": "code",
   "execution_count": 2,
   "id": "4bbfefc5-24ec-448d-97bf-548cd985f47e",
   "metadata": {},
   "outputs": [
    {
     "name": "stdout",
     "output_type": "stream",
     "text": [
      "2/9\n",
      "4/3\n",
      "4/3\n"
     ]
    }
   ],
   "source": [
    "x = Fraction(2,3)  \n",
    "y = Fraction(1,3)  \n",
    "p = x * y  \n",
    "print(p)\n",
    "print(x * 2)\n",
    "print(2 * x)"
   ]
  },
  {
   "cell_type": "markdown",
   "id": "cbcb060b-3a92-4d68-9232-e51206948669",
   "metadata": {},
   "source": [
    "### In-Place operators\n",
    "\n",
    "Write a method to make the test case in __Sample Run__ work.\n",
    "\n",
    "__Sample Run:__\n",
    "```\n",
    "x = Fraction(2,3)  \n",
    "y = Fraction(1,3)  \n",
    "x += y  \n",
    "print(x)\n",
    "```\n",
    "__Expected Output:__\n",
    "```\n",
    "1/1\n",
    "```"
   ]
  },
  {
   "cell_type": "code",
   "execution_count": 3,
   "id": "58f5070d-897f-41b8-ae5f-abf7843fb815",
   "metadata": {},
   "outputs": [
    {
     "name": "stdout",
     "output_type": "stream",
     "text": [
      "1/1\n"
     ]
    }
   ],
   "source": [
    "x = Fraction(2,3)  \n",
    "y = Fraction(1,3)  \n",
    "x += y  \n",
    "print(x)"
   ]
  },
  {
   "cell_type": "markdown",
   "id": "848b6078-279e-4733-8810-81de3d4312eb",
   "metadata": {},
   "source": [
    "---------------\n",
    "# Problem Set: OOP Geometry Class\n",
    "\n",
    "Honor Code: On my honor, I pledge that I have neither received nor provided improper assistance in the completion of this assignment.\n",
    "\n",
    "Signed: [문벼리] Student Number: [22000245]\n",
    "\n",
    "## Load `Geometry.py` in the following code cell.\n",
    "- Once we load `Geometry.py` module that we started coding during the previous lessons, we want to add some more functionality to the module .  "
   ]
  },
  {
   "cell_type": "code",
   "execution_count": 37,
   "id": "3a32cc19-d7eb-45e2-9e82-22ef7a76c57c",
   "metadata": {},
   "outputs": [],
   "source": [
    "# %load Geometry.py\n",
    "class Point:\n",
    "    # your code here\n",
    "    def __init__(self,x,y):\n",
    "        self.x = x\n",
    "        self.y = y\n",
    "    def __str__(self):\n",
    "        return 'Point({},{})'.format(self.x,self.y)\n",
    "    def __repr__(self):\n",
    "        return 'Point at {},{}'.format(self.x,self.y)\n",
    "    def halfway(self,p):\n",
    "        return Point((self.x+p.x)/2,(self.y+p.y)/2)\n",
    "    def midpoint(p,q):\n",
    "        return Point((p.x+q.x)/2,(p.y+q.y)/2)\n",
    "    def reflect_x(self):\n",
    "        return Point(self.x,-self.y)\n",
    "    def reflect_y(self):\n",
    "        return Point(-self.x,self.y)\n",
    "    def slope_to_origin(self):\n",
    "        return self.y/self.x\n",
    "    def __add__(self, other):\n",
    "        if isinstance(other, Point):\n",
    "            return Point(self.x + other.x, self.y + other.y)\n",
    "        else:  \n",
    "            return Point(self.x + other, self.y + other)\n",
    "    def __mul__(self, other):\n",
    "        if isinstance(other, Point):\n",
    "            return self.x * other.x + self.y * other.y\n",
    "        else: \n",
    "            return Point(self.x * other, self.y * other)\n",
    "    def __rmul__(self,other):\n",
    "        return self.__mul__(other)\n",
    "    def __radd__(self,other):\n",
    "        return self.__add__(other)\n",
    "class Square:\n",
    "    def __init__(self,x):\n",
    "        self.x = x\n",
    "        self.y = x\n",
    "    def __str__(self):\n",
    "        return 'Square ({})'.format(self.x,self.y)\n",
    "    def __repr__(self):\n",
    "        return 'Square {}'.format(self.x)\n",
    "    def perimeter(self):\n",
    "        return self.x * 4\n",
    "    def area(self):\n",
    "        return self.x * self.y\n",
    "    def __add__(self,other):\n",
    "        if isinstance(other,Square):\n",
    "            return Square(self.x + other.x)\n",
    "        else:\n",
    "            return Square(self.x + other)\n",
    "    def __sub__(self,other):\n",
    "        if isinstance(other,Square):\n",
    "            return Square(self.x-other.x)\n",
    "        else:\n",
    "            return Square(self.x-other)\n",
    "    def __radd__(self,other):\n",
    "        return self.__add__(other)\n",
    "    def __rsub__(self,other):\n",
    "        return self.__sub__(other)\n",
    "class Circle:\n",
    "    def __init__(self,r=0):\n",
    "        self.__radius = r\n",
    "    def __str__(self):\n",
    "        return 'Circle({})'.format(self.__radius)\n",
    "    def __repr__(self):\n",
    "        return 'Circle ({})'.format(self.__radius)\n",
    "    def radius(self):\n",
    "        return self.__radius\n",
    "    def diameter(self):\n",
    "        return self.__radius*2\n",
    "    def __add__(self, other):\n",
    "        if isinstance(other, Circle):\n",
    "            return Circle(self.__radius+other.__radius)\n",
    "        else:\n",
    "            return Circle(self.__radius + other)\n",
    "    def __radd__(self,other):\n",
    "        return self.__add__(other)\n",
    "    def __mul__(self,other):\n",
    "        if isinstance(other,Circle):\n",
    "            return Circle(self.__radius * other.__radius)\n",
    "        else:\n",
    "            return Circle(self.__radius * other)\n",
    "    def __rmul__(self,other):\n",
    "        return self.__mul__(other)"
   ]
  },
  {
   "cell_type": "markdown",
   "id": "5e308931-24c6-4d17-9ee7-67d93a92f422",
   "metadata": {},
   "source": [
    "## Modifying the `Geometry.py`.\n",
    "- Modify some classes, as necessary, such that they produce the output as shown in __Sample Run:__\n",
    "- Make sure that the `Circle` meets the following specifications.\n",
    "    - It has a private instance variable called `__radius`.\n",
    "    - It provides a method called `radius()` that returns its value of `__radius`.\n",
    "    \n",
    "__Sample Run:__\n",
    "```\n",
    "print(Point(1, 2))\n",
    "print(Circle(5))\n",
    "print(Circle(10).radius())\n",
    "print(Square(10))\n",
    "```\n",
    "__Expected Output:__\n",
    "```\n",
    "Point(1,2)\n",
    "Circle(5)\n",
    "10\n",
    "Square(10)\n",
    "```"
   ]
  },
  {
   "cell_type": "code",
   "execution_count": 11,
   "id": "7093f477-8e73-4cee-a546-534e5fae2179",
   "metadata": {},
   "outputs": [
    {
     "name": "stdout",
     "output_type": "stream",
     "text": [
      "Point(1,2)\n",
      "Circle(5)\n",
      "10\n",
      "Square (10)\n"
     ]
    }
   ],
   "source": [
    "print(Point(1, 2))\n",
    "print(Circle(5))\n",
    "print(Circle(10).radius())\n",
    "print(Square(10))"
   ]
  },
  {
   "cell_type": "markdown",
   "id": "c829a149-b0b2-49ee-8bfa-681c21007493",
   "metadata": {},
   "source": [
    "## Test cases for Point class\n",
    "\n",
    "For Point class, write some methods to make the test cases in __Sample Run__ work.\n",
    "\n",
    "__Sample Run:__\n",
    "```\n",
    "p1 = Point(3, 4)\n",
    "p2 = Point(5, 7)\n",
    "\n",
    "p5 = 2 * p1\n",
    "print(p5)\n",
    "\n",
    "p6 = p2 * 2\n",
    "print(p6)\n",
    "\n",
    "print(2 + p1)\n",
    "print(p2 + 2)\n",
    "\n",
    "print(p1 * p2)\n",
    "```\n",
    "__Expected Output:__\n",
    "```\n",
    "Point(6,8)\n",
    "Point(10,14)\n",
    "Point(5,6)\n",
    "Point(7,9)\n",
    "43\n",
    "```"
   ]
  },
  {
   "cell_type": "code",
   "execution_count": 23,
   "id": "8b4acf27-5f0d-4ef3-98d9-3bb48b4f18a7",
   "metadata": {},
   "outputs": [
    {
     "name": "stdout",
     "output_type": "stream",
     "text": [
      "Point(6,8)\n",
      "Point(10,14)\n",
      "Point(5,6)\n",
      "Point(7,9)\n",
      "43\n"
     ]
    }
   ],
   "source": [
    "p1 = Point(3, 4)\n",
    "p2 = Point(5, 7)\n",
    "\n",
    "p5 = 2 * p1\n",
    "print(p5)\n",
    "\n",
    "p6 = p2 * 2\n",
    "print(p6)\n",
    "\n",
    "print(2 + p1)\n",
    "print(p2 + 2)\n",
    "print(p1 * p2)"
   ]
  },
  {
   "cell_type": "markdown",
   "id": "3c9e4afa-6fd5-4175-a941-8ef21f4559ec",
   "metadata": {},
   "source": [
    "## Test cases for Circle class\n",
    "\n",
    "For Circle class, write some methods to make the test cases in __Sample Run__ work.\n",
    "\n",
    "__Sample Run:__\n",
    "```\n",
    "c1 = Circle(2)\n",
    "c2 = Circle(3)\n",
    "print(c1 + c2)\n",
    "print(c1 * c2)\n",
    "\n",
    "print(c1 * 2)\n",
    "print(2 * c2)\n",
    "\n",
    "print(3 + c1)\n",
    "print(c2 + 3)\n",
    "```\n",
    "__Expected Output:__\n",
    "```\n",
    "Circle(5)\n",
    "Circle(6)\n",
    "Circle(4)\n",
    "Circle(6)\n",
    "Circle(5)\n",
    "Circle(6)\n",
    "```"
   ]
  },
  {
   "cell_type": "code",
   "execution_count": 32,
   "id": "a007448c-36b6-42f1-a667-d2d4019a2fd8",
   "metadata": {},
   "outputs": [
    {
     "name": "stdout",
     "output_type": "stream",
     "text": [
      "Circle(5)\n",
      "Circle(6)\n",
      "Circle(4)\n",
      "Circle(6)\n",
      "Circle(5)\n",
      "Circle(6)\n"
     ]
    }
   ],
   "source": [
    "c1 = Circle(2)\n",
    "c2 = Circle(3)\n",
    "print(c1 + c2)\n",
    "print(c1 * c2)\n",
    "\n",
    "print(c1 * 2)\n",
    "print(2 * c2)\n",
    "\n",
    "print(3 + c1)\n",
    "print(c2 + 3)"
   ]
  },
  {
   "cell_type": "markdown",
   "id": "33fccc44-bb00-484b-bbbf-e016f58bba3b",
   "metadata": {},
   "source": [
    "## Test cases for Square class\n",
    "\n",
    "For Square class, write some methods to make the test cases in __Sample Run__ work.\n",
    "\n",
    "__Sample Run:__\n",
    "```\n",
    "s1 = Square(3)\n",
    "s2 = Square(4)\n",
    "print(s1)\n",
    "print(s2)\n",
    "\n",
    "s1 += 5\n",
    "s2 -= 2\n",
    "\n",
    "print(s1)\n",
    "print(s2)\n",
    "```\n",
    "__Expected Output:__\n",
    "```\n",
    "Square(3)\n",
    "Square(4)\n",
    "Square(8)\n",
    "Square(2)\n",
    "```"
   ]
  },
  {
   "cell_type": "code",
   "execution_count": 38,
   "id": "fc8f6322-5bc7-4939-9419-adfe5c9681b1",
   "metadata": {},
   "outputs": [
    {
     "name": "stdout",
     "output_type": "stream",
     "text": [
      "Square (3)\n",
      "Square (4)\n",
      "Square (8)\n",
      "Square (2)\n"
     ]
    }
   ],
   "source": [
    "s1 = Square(3)\n",
    "s2 = Square(4)\n",
    "print(s1)\n",
    "print(s2)\n",
    "\n",
    "s1 += 5\n",
    "s2 -= 2\n",
    "\n",
    "print(s1)\n",
    "print(s2)"
   ]
  },
  {
   "cell_type": "markdown",
   "id": "a846403b-06f5-40a2-9e75-b80d7f995521",
   "metadata": {},
   "source": [
    "-------------------\n",
    "Happy Coding^^ __Congratulations!__\n",
    "\n",
    "Be joyful always! 1Thes.5:16"
   ]
  }
 ],
 "metadata": {
  "kernelspec": {
   "display_name": "Python 3 (ipykernel)",
   "language": "python",
   "name": "python3"
  },
  "language_info": {
   "codemirror_mode": {
    "name": "ipython",
    "version": 3
   },
   "file_extension": ".py",
   "mimetype": "text/x-python",
   "name": "python",
   "nbconvert_exporter": "python",
   "pygments_lexer": "ipython3",
   "version": "3.11.7"
  },
  "toc-autonumbering": true,
  "toc-showcode": false,
  "toc-showmarkdowntxt": false
 },
 "nbformat": 4,
 "nbformat_minor": 5
}

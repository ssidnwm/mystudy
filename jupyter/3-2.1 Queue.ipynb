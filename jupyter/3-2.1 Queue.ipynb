{
 "cells": [
  {
   "cell_type": "markdown",
   "metadata": {},
   "source": [
    "또 어려서부터 성경을 알았나니 성경은 능히 너로 하여금 그리스도 예수 안에 있는 믿음으로 말미암아 구원에 이르는 지혜가 있게 하느니라 모든 성경은 하나님의 감동으로 된 것으로 교훈과 책망과 바르게 함과 의로 교육하기에 유익하니 이는 하나님의 사람으로 온전하게 하며 모든 선한 일을 행할 능력을 갖추게 하려 함이라 (딤후3:15-17)\n",
    "\n",
    "-------\n",
    "<center><img src=\"https://github.com/idebtor/DSpy/blob/6b3676c3de29f85d2e7f30679676d1fd96d88b17/images/WelcomeToDataStructures.jpg?raw=true\" width=1000></center>\n",
    "\n",
    "__NOTE:__ The following materials have been compiled and adapted from the numerous sources including my own. Please help me to keep this tutorial up-to-date by reporting any issues or questions. Send any comments or criticisms to `idebtor@gmail.com` Your assistances and comments will be appreciated.\n",
    "\n",
    "--------"
   ]
  },
  {
   "cell_type": "markdown",
   "metadata": {},
   "source": [
    "<b style=\"font-size:30px\">  Chapter 3. Linear Data Structures (선형 자료구조)</b>\n",
    "\n",
    ": 선형 자료구조란 무엇인가 (스택,큐,리스트 등)  \n",
    "\n",
    "--------------\n",
    "제 3장에서는 선형 자료구조에 대해 알아봅니다. 선형 자료구조란 무엇이며, 자료구조에 사용되는 대표적인 선형 자료구조들을 배우고 간단한 실습을 통해 구현해보며 익히게 됩니다. 자료구조의 기초가 되며, 이후 운영체제, 알고리즘, 네트워크 등 모든 영역에 활용되는 것 이므로 적극적인 자세로 재밌게 배우면 좋겠습니다!\n"
   ]
  },
  {
   "cell_type": "markdown",
   "metadata": {},
   "source": [
    "#  Queue란 무엇인가?\n",
    "\n",
    "1.1. 큐(Queue)란 무엇인가?  \n",
    "1.2. 큐 - 추상자료형  \n",
    "1.3. 파이썬으로 큐 구현하기  \n",
    "1.4. 시뮬레이션: Hot Potato"
   ]
  },
  {
   "cell_type": "markdown",
   "metadata": {},
   "source": [
    "## 큐(Queue)란 무엇인가?\n",
    ": 자료구조 중 큐에 대해 알아봅니다."
   ]
  },
  {
   "cell_type": "markdown",
   "metadata": {},
   "source": [
    "__큐(Queue)__ 는, 새로운 데이터의 추가가 \"rear\"라고 불리는 한쪽 끝에서 이루어지고, 데이터의 삭제는 \"front\"라고 불리는 반대 끝에서 이루어지는 데이터의 컬렉션입니다. 큐에 원소가 추가될 경우, 원소는 rear에서 시작해서 다음으로 나갈 차례가 될때까지 front를 향해 순서를 기다리게 됩니다.  \n",
    "\n",
    "큐에 가장 최근(마지막)으로 들어간 원소는 가장 마지막 차례까지 기다려야 나올 수 있게 됩니다. 이러한 순서 원칙은 __FIFO (First-In First-Out)__, 혹은 _\"first-come first-served\"_ 이라고 부릅니다."
   ]
  },
  {
   "cell_type": "markdown",
   "metadata": {},
   "source": [
    "가장 간단한 예시로는 일직선으로 줄서는 것이 있습니다. 영화를 보기위해 줄을 서거나, 밥을 받기 위해서 줄을 서는 등의 경우입니다. 이러한 줄은 입장할 수 있는 입구와 나갈 수 있는 출구가 각 한곳씩 있으며, 줄을 선 상태에서는 새치기를 하거나 중간에 나가는 경우가 없습니다. 그림 1은 간단한 큐 구조를 그림으로 나타낸 것입니다."
   ]
  },
  {
   "cell_type": "markdown",
   "metadata": {},
   "source": [
    "<center><img src=\"https://github.com/idebtor/DSpy/blob/main/images/chap3/ch3-13.jpg?raw=true\" width=\"600\" title=\"Figure 1. A Queue of Python Data Objects\"></center>\n",
    "<center>그림 1. 큐 구조의 예시<center><br>"
   ]
  },
  {
   "cell_type": "markdown",
   "metadata": {},
   "source": [
    "또다른 흔한 예시로 컴퓨터 프린터기의 출력 문제가 있습니다. 하나의 프린터에 연결된 많은 컴퓨터에서 짧은 시간내에 여러 인쇄 요청이 들어올 때, 시간 순서대로 줄을 세워서 순차적으로 앞선 요청을 해결하는 문제입니다. 이렇듯, 큐의 사용은 컴퓨터 내의 다양한 프로세스를 처리하기 위하여 많이 사용되며, 많은 경우에 여러 프로세스의 충돌을 막고 효과적이고 공평한 문제 해결을 가능하게 합니다."
   ]
  },
  {
   "cell_type": "markdown",
   "metadata": {},
   "source": [
    "## 큐 - 추상자료형(Abstract Data Type)\n",
    ": 큐의 다양한 기능에 대해 알아봅니다."
   ]
  },
  {
   "cell_type": "markdown",
   "metadata": {},
   "source": [
    "큐의 구조는 FIFO 원칙을 지키며 한쪽 끝에서 데이터의 추가와 다른 한쪽 끝에서 데이터의 삭제가 이루어지는 데이터 컬렉션입니다. 추상자료형 큐는 다음과 같은 구조와 연산을 가지고 있습니다.  \n",
    "\n",
    "* `Queue()` : 비어있는 새로운 큐를 생성합니다. 별도의 파라미터가 필요하지 않으며 빈 큐를 반환합니다.\n",
    "* `enqueue(item)` : 큐에 새로운 원소(item) 하나를 rear에 추가합니다. item을 받고 반환값은 없습니다.\n",
    "* `dequeue()` : front에 있는 큐의 원소를 제거합니다. 별도의 파라미터를 받지 않으며 제거된 원소값을 리턴하고 큐의 구조가 수정됩니다.\n",
    "* `is_empty()` : 큐가 비어있는지 확인합니다. 반환값은 참/거짓으로 이루어집니다.\n",
    "* `size()` : 큐 내에 있는 원소의 수를 반환합니다."
   ]
  },
  {
   "cell_type": "markdown",
   "metadata": {},
   "source": [
    "q라는 비어있는 큐가 있다고 가정을 한다면, 다양한 연산에 대한 큐 내부 상황은 표 1과 같이 나타날 것 입니다. 표에서의 큐는 front가 오른쪽, rear가 왼쪽 끝을 나타냅니다."
   ]
  },
  {
   "cell_type": "markdown",
   "metadata": {},
   "source": [
    "예를 들어, s라는 빈 스택이 있다고 가정한다면 연산에 대한 스택의 내부와 리턴값은 다음과 같을 것입니다.\n",
    "\n",
    "| Queue Operation | Queue Contents | Return Value |\n",
    "|:---------------:|:--------------:|:------------:|\n",
    "|  `s.is_empty()` |      `[]`      |    `True`    |\n",
    "|  `s.enqueue(4)` |      `[4]`     |              |\n",
    "|`s.enqueue('dog')`|  `['dog', 4]`  |             |\n",
    "|`s.enqueue(True)`|`[True, 'dog', 4]`|            |\n",
    "|   `s.size()`    |`[True, 'dog', 4]`|    `3`     |\n",
    "|  `s.is_empty()` |`[True, 'dog', 4]`|  `False`   |\n",
    "|`s.enqueue(8.4)` |`[8.4, True, 'dog', 4]`|       |\n",
    "|  `s.dequeue()`  |`[8.4, True, 'dog']`|   `4`    |\n",
    "|  `s.dequeue()`  | `[8.4, True]`  |    `dog`     |\n",
    "|   `s.size()`    | `[8.4, True]`  |      `2`     |\n",
    "\n",
    "\n",
    "<center>표 1. 큐 연산 예시<center><br>\n",
    "  "
   ]
  },
  {
   "cell_type": "markdown",
   "metadata": {},
   "source": [
    "## 파이썬으로 큐 구현하기\n",
    ": 파이썬을 활용하여 큐 자료구조를 구현해봅니다."
   ]
  },
  {
   "cell_type": "markdown",
   "metadata": {},
   "source": [
    "추상자료형인 큐를 직접 구현하기 위해선 새로운 클래스를 생성하는 것이 합리적입니다. 이전과 같이, 강력하면서도 간편한 리스트를 활용하여 큐의 내부를 구현 할 것입니다.  \n",
    "먼저 우리는 어느 끝이 rear로, 또는 front로 사용될지 정해야 합니다. 우선은 리스트의 0번째 위치를 rear로 가정하여 진행하겠습니다. 이는, insert 함수를 사용하여 큐의 rear에 원소를 추가할 수 있도록 해주며, pop 함수로 큐의 front에서 원소의 제거가 이루어질 수 있게 합니다. 즉, enqueue는 O(n), dequeue는 O(1)임을 알 수 있습니다."
   ]
  },
  {
   "cell_type": "code",
   "execution_count": 4,
   "metadata": {},
   "outputs": [],
   "source": [
    "class Queue:\n",
    "    def __init__(self):\n",
    "        self._items = []\n",
    "\n",
    "    def is_empty(self):\n",
    "        return self._items == []\n",
    "\n",
    "    def enqueue(self, item):\n",
    "        self._items.insert(0,item)\n",
    "\n",
    "    def dequeue(self):\n",
    "        return self._items.pop()\n",
    "\n",
    "    def size(self):\n",
    "        return len(self._items)"
   ]
  },
  {
   "cell_type": "code",
   "execution_count": null,
   "metadata": {},
   "outputs": [],
   "source": [
    "q = Queue()      # []\n",
    "\n",
    "q.enqueue(4)     # [4]\n",
    "q.enqueue('dog') # ['dog',4]\n",
    "q.enqueue(True)  # [True,'dog',4]\n",
    "print(q.size())  # 3"
   ]
  },
  {
   "cell_type": "code",
   "execution_count": null,
   "metadata": {},
   "outputs": [],
   "source": [
    "print(q.is_empty()) # False\n",
    "q.enqueue(8.4)     # [8.4,True,'dog',4]\n",
    "print(q.dequeue()) # [8.4,True,'dog'] --> 4\n",
    "print(q.dequeue()) # [8.4,True] --> 'dog'\n",
    "print(q.size())    # 2"
   ]
  },
  {
   "cell_type": "markdown",
   "metadata": {},
   "source": [
    "## 시뮬레이션: Hot Potato\n",
    ": 큐 활용의 대표적인 예제를 풀어봅니다."
   ]
  },
  {
   "cell_type": "markdown",
   "metadata": {},
   "source": [
    "큐가 사용되는 실제 응용 문제는 FIFO 원칙을 따르는 문제를 살펴보면 됩니다. 간단한 예시로, 어린이들이 많이 하는 _Hot Potato_ 게임이 있습니다. Hot Potato 게임은, 여러 사람이 원으로 앉아 물체를 옆사람에게 최대한 빨리 넘겨주는 게임입니다(그림2). 특정 시간이 지나면 모두 행동을 멈추고, 해당 물체(potato)를 가지고 있는 사람이 탈락하여 원에서 제거됩니다. 이 게임은 최종적으로 한명이 남을때까지 진행됩니다."
   ]
  },
  {
   "cell_type": "markdown",
   "metadata": {},
   "source": [
    "<center><img src=\"https://github.com/idebtor/DSpy/blob/main/images/chap3/ch3-14.jpg?raw=true\" width=\"600\"></center>\n",
    "<center>그림 2. 6명이서 하는 Hot Potato 게임<center><br>"
   ]
  },
  {
   "cell_type": "markdown",
   "metadata": {},
   "source": [
    "우리는 이 Hot Potato 게임의 일반적인 시뮬레이션을 구현해볼 것입니다. 먼저, 이름을 저장하는 리스트와 카운팅을 위해 사용될 상수 num을 입력받습니다. 이 프로그램은 마지막으로 남은 사람의 이름과 게임이 끝나기까지 몇번의 반복이 있었는지 나타내는 num을 반환합니다. 그 이후의 작업은 여러분 나름입니다."
   ]
  },
  {
   "cell_type": "markdown",
   "metadata": {},
   "source": [
    "원을 구현하기 위하여 큐를 사용합니다(그림 3 참고). 감자를 가지고 있는 사람은 큐에서 가장 앞에 있는 사람이 되고, 감자를 옆사람에게 전달하는 것은 단순히 dequeue와 enqueue를 순차적으로 진행하여, 그 사람을 순서의 맨 뒤로 보내줍니다. 이러한 과정을 num 횟수만큼 반복한 이후에 감자를 가지고 있는 맨 앞의 사람을 영구적으로 제거하고 새로운 라운드를 진행하여 한 명만 남을 때까지(큐의 크기가 1) 반복합니다."
   ]
  },
  {
   "cell_type": "markdown",
   "metadata": {},
   "source": [
    "<center><img src=\"https://github.com/idebtor/DSpy/blob/main/images/chap3/ch3-15.jpg?raw=true\" width=\"600\" title=\"Figure 3. A Queue implementation of Hot Potato\"></center>\n",
    "<center>그림 3. 큐를 사용한 Hot Potato 구현<center><br>"
   ]
  },
  {
   "cell_type": "markdown",
   "metadata": {},
   "source": [
    "파이썬을 활용한 구현 코드는 다음과 같습니다. \n",
    "\n",
    "hotPotato()는 \n",
    "1. nameList에 모든 사람을 큐에 넣습니다(enqueue)  \n",
    "1. num번 dequeue()를 한 후, 큐의 가장 앞(front)에 있는 사람을 dequeue하여 제거합니다. 큐에 한 사람만 남을 때까지 이를 반복합니다. \n",
    "1. 나지막 남은 한 사람을 dequeue하여 반환합니다. (마지막 queue의 상태는 empty입니다)"
   ]
  },
  {
   "cell_type": "code",
   "execution_count": null,
   "metadata": {},
   "outputs": [],
   "source": [
    "def hotPotato(namelist, num):\n",
    "    hotque = Queue()\n",
    "    for name in namelist:\n",
    "        hotque.enqueue(name)\n",
    "\n",
    "    count = 0\n",
    "    while hotque.size() > 1:\n",
    "        for _ in range(num):\n",
    "            hotque.enqueue(hotque.dequeue())\n",
    "        hotque.dequeue()\n",
    "        count += 1\n",
    "\n",
    "    print(count)\n",
    "    return hotque.dequeue() \n",
    "\n",
    "if __name__ == \"__main__\":\n",
    "    nameList = [\"Bill\",\"David\",\"Susan\",\"Jane\",\"Kent\",\"Brad\"]\n",
    "    print(hotPotato(nameList,7))"
   ]
  },
  {
   "cell_type": "markdown",
   "metadata": {},
   "source": [
    "여기서 카운팅을 위한 상수로 사람들의 인원수보다 큰 수를 주어도 문제가 되지 않는 것을 관찰해봅시다. 이는 큐가 원과 같은 역할을 하기 때문에 카운팅은 계속되면서 감자의 전달도 계속될 수 있기 때문에 문제가 되지 않는 것입니다. 또한, 최초에 투여되는 사람들의 순서는 큐의 맨 앞에서부터 들어가게 되는 것을 확인할 수 있습니다."
   ]
  },
  {
   "cell_type": "markdown",
   "metadata": {},
   "source": [
    "__Pop quiz__\n",
    "위의 hotPotato()를 테스트하는 코드에서 큐는 몇번이나 회전되어 Winner를 결정하게 됩니까?"
   ]
  },
  {
   "cell_type": "markdown",
   "metadata": {},
   "source": [
    "# Summary"
   ]
  },
  {
   "cell_type": "markdown",
   "metadata": {},
   "source": [
    "이번 강의는 큐(Queue)를 배웠습니다. 스택과 마찬가지로 단순한 자료구조인 것 같지만, 많은 문제에 적용될 수 있는 기초적이면서도 아주 중요한 구조입니다. 반드시 복습하셔서 큐를 능숙하게 사용할 수 있게되고, 어느 상황에서 사용해야하는지 익히면 좋겠습니다."
   ]
  },
  {
   "cell_type": "markdown",
   "metadata": {},
   "source": [
    "# Exercise"
   ]
  },
  {
   "cell_type": "markdown",
   "metadata": {},
   "source": [
    "## 엉뚱한 과학자의 문제\n",
    "한 엉뚱한 과학자가 무한동력을 제공하는 건전지를 만들었다고 한다. 그 이론은 단순히 건전지의 양쪽 끝을 하나의 전도체로 이어 전력을 그대로 유지하며 무한적으로 사용할 수 있게 된다는 것이다."
   ]
  },
  {
   "cell_type": "markdown",
   "metadata": {},
   "source": [
    "<center><img src=\"https://github.com/idebtor/DSpy/blob/main/images/chap3/battery.png?raw=true\" width=\"15%\" title=\"무한동력 건전지(?)\"></center>\n",
    "<center>무한동력 건전지(?)<center><br>\n",
    "(그림 출처: https://industrytown.tistory.com/174)"
   ]
  },
  {
   "cell_type": "markdown",
   "metadata": {},
   "source": [
    "하지만 사실 전자가 이동하며 발생하는 열에너지 등이 손실되어 무한동력은 이루어질 수 없다. 이것을 이 엉뚱한 과학자에게 프로그램 시뮬레이션으로 설명하려고 한다. 최초의 건전지는 셀들(e.g., NUM_CELLS = 7)로 구성되어 있으며, 각 셀은 최대 전력(e.g, MAX_POWER = 9)으로 충전되어 있습니다. 에너지가 소모되는 과정(전력의 변화)을 아래와 같은 조건을 만족하는 프로그램으로 작성하여 설명하십시오. \n",
    "\n",
    "- 모든 셀(전자)들이 한 번 회전할 때, 셀들 중에 하나만 에너지를 무작위 값으로(MIN_ENERGY = 1, MAX_ENERGY = MAX_POWER - 1 사이의 값) 건전지 전력을 소모한다고 설정합니다. \n",
    "- 셀들은 차례대로 동일한 기회(한 회전에 한번)를 갖습니다. \n",
    "- 셀이 가지고 있는 전력보다 소모해야 할 에너지(needs)가 많으면, 자신의 전력만 모두 소진합니다.\n",
    "- 한 번 회전하는 동안에 어느 셀인가 하나는 반드시 에너지를 소모합니다. \n",
    "- 모든 셀의 전력의 다 소진되면 회전(전자의 이동)은 멈추어야 합니다. \n",
    "- 본 단원에서 배운 Queue를 사용하며, 에너지 소모를 나타내기 위해서는 random.randint() 같은 함수를 사용하면 유용합니다.\n",
    "\n",
    "__유의 사항:__\n",
    "- 우리가 이 단원에서 구현한 큐의 내부 코드는 수정하지 않습니다. \n",
    "- 큐를 수정해서 본 문제를 풀 수도 있지만, 목적은 큐의 데이터 구조를 이해하는데 있으니까, 큐를 수정하지 않고 문제를 해결해 봅니다. \n",
    "- 예를 들면, 큐의 합을 구하는 것도 큐의 내부 구조가 list 객체인 것을 알고 있으므로, 리스트의 합을 구하는 방법을 사용하십시오. \n",
    "- 또한 큐를 출력하는 방법도, 리스트를 출력하는 방법을 사용하십시오.  "
   ]
  },
  {
   "cell_type": "markdown",
   "metadata": {
    "tags": []
   },
   "source": [
    "<center><img src=\"https://github.com/idebtor/DSpy/blob/ffb0a43093059c008e188a8902f1424e250a8223/images/chap3/battery_electrons.png?raw=true\" width=\"500\" title=\"실제 건전지 동작\"></center>\n",
    "<center>건전지의 에너지 손실<center><br>"
   ]
  },
  {
   "cell_type": "markdown",
   "metadata": {},
   "source": [
    "__Samaple Run:__\n",
    "```\n",
    "if __name__ == '__main__':\n",
    "    battery(5, 10)\n",
    "    battery(9, 7)\n",
    "```    "
   ]
  },
  {
   "cell_type": "markdown",
   "metadata": {},
   "source": [
    "__Expected Output:__\n",
    "```\n",
    "Battery Specs: Num. of cells: 5  Max power per cell: 10\n",
    "Starts: [10, 10, 10, 10, 10]  ( needs: 6 ) ends: [4, 10, 10, 10, 10]\n",
    "Starts: [4, 10, 10, 10, 10]  ( needs: 9 ) ends: [1, 4, 10, 10, 10]\n",
    "Starts: [1, 4, 10, 10, 10]  ( needs: 3 ) ends: [7, 1, 4, 10, 10]\n",
    "Starts: [7, 1, 4, 10, 10]  ( needs: 1 ) ends: [9, 7, 1, 4, 10]\n",
    "Starts: [9, 7, 1, 4, 10]  ( needs: 7 ) ends: [3, 9, 7, 1, 4]\n",
    "Starts: [3, 9, 7, 1, 4]  ( needs: 3 ) ends: [1, 3, 9, 7, 1]\n",
    "Starts: [1, 3, 9, 7, 1]  ( needs: 2 ) ends: [0, 1, 3, 9, 7]\n",
    "Starts: [0, 1, 3, 9, 7]  ( needs: 7 ) ends: [0, 0, 1, 3, 9]\n",
    "Starts: [0, 0, 1, 3, 9]  ( needs: 9 ) ends: [0, 0, 0, 1, 3]\n",
    "Starts: [0, 0, 0, 1, 3]  ( needs: 9 ) ends: [0, 0, 0, 0, 1]\n",
    "Starts: [0, 0, 0, 0, 1]  ( needs: 6 ) ends: [0, 0, 0, 0, 0]\n",
    "Battery Specs: Num. of cells: 9  Max power per cell: 7\n",
    "Starts: [7, 7, 7, 7, 7, 7, 7, 7, 7]  ( needs: 2 ) ends: [5, 7, 7, 7, 7, 7, 7, 7, 7]\n",
    "Starts: [5, 7, 7, 7, 7, 7, 7, 7, 7]  ( needs: 6 ) ends: [1, 5, 7, 7, 7, 7, 7, 7, 7]\n",
    "Starts: [1, 5, 7, 7, 7, 7, 7, 7, 7]  ( needs: 4 ) ends: [3, 1, 5, 7, 7, 7, 7, 7, 7]\n",
    "Starts: [3, 1, 5, 7, 7, 7, 7, 7, 7]  ( needs: 5 ) ends: [2, 3, 1, 5, 7, 7, 7, 7, 7]\n",
    "Starts: [2, 3, 1, 5, 7, 7, 7, 7, 7]  ( needs: 5 ) ends: [2, 2, 3, 1, 5, 7, 7, 7, 7]\n",
    "Starts: [2, 2, 3, 1, 5, 7, 7, 7, 7]  ( needs: 2 ) ends: [5, 2, 2, 3, 1, 5, 7, 7, 7]\n",
    "Starts: [5, 2, 2, 3, 1, 5, 7, 7, 7]  ( needs: 4 ) ends: [3, 5, 2, 2, 3, 1, 5, 7, 7]\n",
    "Starts: [3, 5, 2, 2, 3, 1, 5, 7, 7]  ( needs: 6 ) ends: [1, 3, 5, 2, 2, 3, 1, 5, 7]\n",
    "Starts: [1, 3, 5, 2, 2, 3, 1, 5, 7]  ( needs: 4 ) ends: [3, 1, 3, 5, 2, 2, 3, 1, 5]\n",
    "Starts: [3, 1, 3, 5, 2, 2, 3, 1, 5]  ( needs: 5 ) ends: [0, 3, 1, 3, 5, 2, 2, 3, 1]\n",
    "Starts: [0, 3, 1, 3, 5, 2, 2, 3, 1]  ( needs: 4 ) ends: [0, 0, 3, 1, 3, 5, 2, 2, 3]\n",
    "Starts: [0, 0, 3, 1, 3, 5, 2, 2, 3]  ( needs: 2 ) ends: [1, 0, 0, 3, 1, 3, 5, 2, 2]\n",
    "Starts: [1, 0, 0, 3, 1, 3, 5, 2, 2]  ( needs: 3 ) ends: [0, 1, 0, 0, 3, 1, 3, 5, 2]\n",
    "Starts: [0, 1, 0, 0, 3, 1, 3, 5, 2]  ( needs: 2 ) ends: [0, 0, 1, 0, 0, 3, 1, 3, 5]\n",
    "Starts: [0, 0, 1, 0, 0, 3, 1, 3, 5]  ( needs: 2 ) ends: [3, 0, 0, 1, 0, 0, 3, 1, 3]\n",
    "Starts: [3, 0, 0, 1, 0, 0, 3, 1, 3]  ( needs: 3 ) ends: [0, 3, 0, 0, 1, 0, 0, 3, 1]\n",
    "Starts: [0, 3, 0, 0, 1, 0, 0, 3, 1]  ( needs: 3 ) ends: [0, 0, 3, 0, 0, 1, 0, 0, 3]\n",
    "Starts: [0, 0, 3, 0, 0, 1, 0, 0, 3]  ( needs: 5 ) ends: [0, 0, 0, 3, 0, 0, 1, 0, 0]\n",
    "Starts: [0, 0, 0, 3, 0, 0, 1, 0, 0]  ( needs: 6 ) ends: [0, 0, 0, 0, 0, 0, 3, 0, 0]\n",
    "Starts: [0, 0, 0, 0, 0, 0, 3, 0, 0]  ( needs: 5 ) ends: [0, 0, 0, 0, 0, 0, 0, 0, 0]\n",
    "```"
   ]
  },
  {
   "cell_type": "code",
   "execution_count": 1,
   "metadata": {},
   "outputs": [
    {
     "name": "stdout",
     "output_type": "stream",
     "text": [
      "Battery Specs: Num. of cells: 5  Max power per cell: 10\n",
      "Battery Specs: Num. of cells: 9  Max power per cell: 7\n"
     ]
    }
   ],
   "source": [
    "import random\n",
    "\n",
    "def battery(NUM_CELLS, MAX_POWER):\n",
    "    print('Battery Specs: Num. of cells:', NUM_CELLS, ' Max power per cell:', MAX_POWER)\n",
    "    MIN_ENERGY = 1\n",
    "    MAX_ENERGY = MAX_POWER - 1\n",
    "\n",
    "    # your code here\n",
    "    \n",
    "    # step1 Make a queue (battery)\n",
    "    # step2 Repeat energy consumption until all the queue items become zero\n",
    "    \n",
    "\n",
    "if __name__ == '__main__':\n",
    "    battery(5, 10)\n",
    "    battery(9, 7)"
   ]
  },
  {
   "cell_type": "markdown",
   "metadata": {},
   "source": [
    "# References\n",
    "- What is Queue? [Here](https://runestone.academy/ns/books/published//pythonds3/BasicDS/WhatIsaQueue.html)\n",
    "- Simulation: Hot Potato, [Here](https://runestone.academy/runestone/books/published/pythonds3/BasicDS/SimulationHotPotato.html)\n",
    "- Python-추상적 자료형(ADT)과 자료 구조(Data Structure), [Here](https://ybdata-sci.tistory.com/16)\n"
   ]
  },
  {
   "cell_type": "markdown",
   "metadata": {},
   "source": [
    "------\n",
    "또 어려서부터 성경을 알았나니 성경은 능히 너로 하여금 그리스도 예수 안에 있는 믿음으로 말미암아 구원에 이르는 지혜가 있게 하느니라 모든 성경은 하나님의 감동으로 된 것으로 교훈과 책망과 바르게 함과 의로 교육하기에 유익하니 이는 하나님의 사람으로 온전하게 하며 모든 선한 일을 행할 능력을 갖추게 하려 함이라 (딤후3:15-17)"
   ]
  }
 ],
 "metadata": {
  "kernelspec": {
   "display_name": "Python 3 (ipykernel)",
   "language": "python",
   "name": "python3"
  },
  "language_info": {
   "codemirror_mode": {
    "name": "ipython",
    "version": 3
   },
   "file_extension": ".py",
   "mimetype": "text/x-python",
   "name": "python",
   "nbconvert_exporter": "python",
   "pygments_lexer": "ipython3",
   "version": "3.9.12"
  }
 },
 "nbformat": 4,
 "nbformat_minor": 4
}

{
 "cells": [
  {
   "cell_type": "markdown",
   "id": "bfb7cd08-eaed-4448-a801-eb01f4000caf",
   "metadata": {},
   "source": [
    "이 율법책을 네 입에서 떠나지 말게 하며 주야로 그것을 묵상하여 그 안에 기록된 대로 다 지켜 행하라 그리하면 네 길이 평탄하게 될 것이며 네가 형통하리라 (수1:8)\n",
    "\n",
    "-------\n",
    "<center><img src=\"https://github.com/idebtor/DSpy/blob/6b3676c3de29f85d2e7f30679676d1fd96d88b17/images/WelcomeToDataStructures.jpg?raw=true\" width=1000></center>\n",
    "\n",
    "__NOTE:__ The following materials have been compiled and adapted from the numerous sources including my own. Please help me to keep this tutorial up-to-date by reporting any issues or questions. Send any comments or criticisms to `idebtor@gmail.com` Your assistances and comments will be appreciated.\n",
    "\n",
    "--------"
   ]
  },
  {
   "cell_type": "markdown",
   "id": "b5e2a315-d073-4190-a850-eaadc8f8d328",
   "metadata": {},
   "source": [
    "<b style=\"font-size:30px\"> Chapter 2-1. Data Strcutures - JSON </b>\n",
    "\n",
    "__학습 목표__\n",
    "\n",
    "- JSON 데이터 구조를 익힌다\n",
    "- JSON 데이터 구조를 활용하는 방법을 익힌다\n",
    "\n",
    "__학습 내용__\n",
    "1. JSON 데이터 구조 소개과 특성\n",
    "1. JSON 데이터 구조\n",
    "1. JSON 파일과 파이썬 JSON 객체 다루기 \n",
    "1. JSON 예제 문제\n",
    "1. 웹에서 JSON파일 활용하기"
   ]
  },
  {
   "cell_type": "markdown",
   "id": "1898986b-f525-432c-916b-f2938e7431e9",
   "metadata": {},
   "source": [
    "# JSON: JavaScript Object Notation\n",
    "\n",
    "1. JSON은 JavaScript Object Notation의 약자입니다.\n",
    "1. JSON은 사람이 읽을 수 있는 텍스트 기반의 데이터 교환 표준입니다.\n",
    "1. JSON은 XML의 대안으로서 좀 더 쉽게 데이터를 교환하고 저장하기 위하여 고안되었습니다.\n",
    "1. JSON은 텍스트 기반이므로 어떠한 프로그래밍 언어에서도 JSON 데이터를 읽고 사용할 수 있습니다.\n",
    "\n",
    "__JSON의 특징__\n",
    "1. JSON은 자바스크립트를 확장하여 만들어졌습니다.\n",
    "1. JSON은 자바스크립트 객체 표기법을 따릅니다.\n",
    "1. JSON은 사람과 기계가 모두 읽기 편하도록 고안되었습니다.\n",
    "1. JSON은 프로그래밍 언어와 운영체제에 독립적입니다."
   ]
  },
  {
   "cell_type": "markdown",
   "id": "deda4cdd-2094-4f1a-9bf9-b39a73796d27",
   "metadata": {},
   "source": [
    "# JSON의 구조\n",
    "1. JSON 데이터는 이름과 값의 쌍으로 이루어집니다.\n",
    "1. JSON 데이터는 쉼표(,)로 나열됩니다.\n",
    "1. 객체(object)는 중괄호(`{ }`)로 둘러쌓아 표현합니다.\n",
    "1. 배열(array)은 대괄호(`[ ]`)로 둘러쌓아 표현합니다."
   ]
  },
  {
   "cell_type": "markdown",
   "id": "a0db4ae8-2d6b-4c99-bdb2-22453f92e890",
   "metadata": {},
   "source": [
    "## JSON Data Types\n",
    "JSON에는 다음과 같은 데이터 타입들이 있습니다. \n",
    "\n",
    "1. 문자열(Strings) – `\"Hello World\", \"James\" `\n",
    "1. 숫자(Numbers) – `10, 1.5,  -30, 1.2e10 `\n",
    "1. 불리언(Booleans) – `true, false`\n",
    "1. 배열(Arrays) – `[1, 2, 3], [\"Hello\", \"World\"]`\n",
    "1. 객체(Objects) – `{\"key\": \"value\"}, {\"name\": \"Joe\", \"age\": 22}`\n",
    "1. null – `null`"
   ]
  },
  {
   "cell_type": "markdown",
   "id": "ddeee7e9-30ac-4dde-9795-27c7afceb32c",
   "metadata": {},
   "source": [
    "JSON 타입은 다음과 같은 Python타입과 일대일 호환은 아니지만, 상당히 유사하게 호환할 수 있습니다. \n",
    "\n",
    "\n",
    "|JSON | Python  |\n",
    "|: ------|:-----|\n",
    "| object | dict   | \n",
    "| array  | list, tuple |\n",
    "| string | str |\n",
    "| number | int, float, int- & float-derived Enums |\n",
    "| true   | True | \n",
    "| false  | False | \n",
    "| null   | None |"
   ]
  },
  {
   "cell_type": "markdown",
   "id": "64bf5cd5-e67a-4cd1-9a0d-ec6fa42b0cbd",
   "metadata": {},
   "source": [
    "## JSON Objects(객체) \n",
    "\n",
    "1. JSON 객체는 중괄호(`{ }`)로 둘러쌓아 표현합니다.\n",
    "1. JSON 객체는 쉼표(`,`)를 사용하여 여러 속성(property)를 포함할 수 있습니다.\n",
    "\n",
    "__Example:__\n",
    "```\n",
    "        {\n",
    "            \"name\": \"Joe Blow\",\n",
    "            \"phone\": \"010-555-1234\",\n",
    "            \"email\": [\"jb@gmail.com\", \"jb@workmail.com\"],\n",
    "            \"coder\": false\n",
    "        }\n",
    "```"
   ]
  },
  {
   "cell_type": "markdown",
   "id": "cae9bc7d-f21c-4a1f-b46f-09021cfa9d99",
   "metadata": {},
   "source": [
    "## JSON Arrays(배열)\n",
    "\n",
    "1. JSON 배열은 대괄호(`[ ]`)로 둘러쌓아 표현합니다.\n",
    "1. JSON 배열은 쉼표(`,`)를 사용하여 여러 JSON 데이터를 포함할 수 있습니다.\n",
    "\n",
    "__Example:__  \n",
    "\n",
    "아래는 이름이 \"peope\"이고, 세 개의 JSON 객체를 요소로 가지는 JSON 배열의 예제입니다.\n",
    "\n",
    "```\n",
    "    \"people\": [ \n",
    "        {   \"name\": \"Joe Blow\", \"phone\": \"010-555-1234\", \"email\": [\"jb@gmail.com\", \"jb@workmail.com\"] },\n",
    "        {   \"name\": \"Jane Lee\", \"phone\": \"010-555-4321\", \"email\": null  }, \n",
    "        {   \"name\": \"John Doe\", \"phone\": \"011-911-4819\", \"email\": [\"jd@gmail.com\"]  }\n",
    "    ]\n",
    "```\n",
    "\n",
    "또한 \"people\"배열 안에 있는 다음과 같은 \"email\" 배열도 포함하고 있습니다. \n",
    "```\n",
    "\"email\": [\"jb@gmail.com\", \"jb@workmail.com\"]\n",
    "\"email\": [\"jd@gmail.com\"] \n",
    "```"
   ]
  },
  {
   "cell_type": "markdown",
   "id": "dd916ba1-5936-4054-818d-561ab2bbbdfe",
   "metadata": {},
   "source": [
    "# JSON 파일과 파이썬 JSON객체를 다루기 \n",
    "- JSON 파일을 손으로 작성하고, 파이썬 코드로 읽어오기\n",
    "- JSON 파일을 파이썬 코드로 작성하기\n",
    "\n",
    "이러한 작업들 위하여 __json 모듈__ 을 사용하며, 가장 중요한 4개의 함수는 다음과 같습니다. \n",
    "\n",
    "- `json` 모듈은 파이썬에 포함되어 있어서 추가적인 설치가 필요 없습니다.\n"
   ]
  },
  {
   "cell_type": "markdown",
   "id": "1d5c0f1c-1cab-487c-b74e-9b1a8d4cba92",
   "metadata": {},
   "source": [
    "## JSON파일을 파이썬 객체화하기(디코딩, 역직렬화)\n",
    "\n",
    "- `json.load()`: 파일에 있는 JSON 포맷 데이터를 Python 객체로 읽어오기 (역직렬화 혹은 디코딩이라고 부르기도 합니다)\n",
    "- `json.loads()`: 메모리에 있는 JSON 형식의 문자열로 되어 있는 입력자료를 받아 파이썬 객체로 전환합니다.  \n",
    "\n",
    "<center><img src=\"https://github.com/idebtor/DSpy/blob/b67467b971cf48c14faf7c8ebed7a94871dbb2ad/images/chap1/Chapter%201-25json_load.jpg?raw=true\" width=\"100%\">\n",
    "<center>그림1. load() and loads() 비교</center>"
   ]
  },
  {
   "cell_type": "markdown",
   "id": "7bd7c70e-bea6-4567-9d58-325588fa6473",
   "metadata": {},
   "source": [
    "## 파이썬 객체로 JSON파일 만들기(인코딩, 직렬화)\n",
    "\n",
    "- `json.dump()`: Python객체를 파일에 저장할 때(직렬화, 인코딩) 사용합니다. \n",
    "- `json.dumps()`: Python객체를 문자열로 출력할 때 사용합니다. \n",
    "\n",
    "<center><img src=\"https://github.com/idebtor/DSpy/blob/b67467b971cf48c14faf7c8ebed7a94871dbb2ad/images/chap1/Chapter%201-27json_dump.jpg?raw=true\" width=\"100%\">\n",
    "\n",
    "<center>그림2. dump() and dumps() 비교</center>"
   ]
  },
  {
   "cell_type": "markdown",
   "id": "738af23d-c9d3-456a-b32d-0b9fa39787e0",
   "metadata": {},
   "source": [
    "# Exercise: JSON Example - JSON String Type"
   ]
  },
  {
   "cell_type": "markdown",
   "id": "09a72d91-d22c-4e13-adc1-a477756935e3",
   "metadata": {},
   "source": [
    "아래는 여러 줄로 구성된 파이썬 str type의 문자열이 있습니다. 이는 또한 json에도 적합한 문자열입니다. 문자열의 내부를 살펴보면, 마치 파이썬의 `dict type` 즉 `key:value` 쌍으로 자료가 구성되어 있습니다. \n",
    "- \"people\"이라는 `key`가 있고, 그 `value`로 `list`가 있는데, \n",
    "- 그 `list`안에는 또 두 개의 `dict type` 자료(객체)가 있습니다. \n",
    "- 그 두 개의 자료 안에 각각 4개의 `key:value`쌍으로 구성된 자료(객체)가 있습니다. \n",
    "- 각 객체는 `name, phone, email, coder`라는 `key`와 `value`를 저장하고 있습니다."
   ]
  },
  {
   "cell_type": "code",
   "execution_count": 2,
   "id": "25b0b29a-3d36-416c-980d-a1c8f6059faf",
   "metadata": {},
   "outputs": [],
   "source": [
    "import json\n",
    "\n",
    "people_string = \"\"\"\n",
    "{\n",
    "    \"people\": [\n",
    "        {\n",
    "            \"name\": \"Joe Blow\",\n",
    "            \"phone\": \"010-555-1234\",\n",
    "            \"email\": [\"jb@gmail.com\", \"jb@workmail.com\"],\n",
    "            \"coder\": false\n",
    "        },\n",
    "        {\n",
    "            \"name\": \"Jane Lee\",\n",
    "            \"phone\": \"010-555-4321\",\n",
    "            \"email\": null,\n",
    "            \"coder\": true\n",
    "        },\n",
    "        {\n",
    "            \"name\": \"John Doe\",\n",
    "            \"phone\": \"011-911-4819\",\n",
    "            \"email\": [\"jd@gmail.com\"],\n",
    "            \"coder\": true\n",
    "        }\n",
    "    ]\n",
    "}\n",
    "\"\"\""
   ]
  },
  {
   "cell_type": "markdown",
   "id": "eb79089f-6353-4646-838f-d6053e2ed042",
   "metadata": {},
   "source": [
    "## JSON 형식의 문자열을 파이썬 객체로 변환하기 \n",
    "위의 문자열은 json 객체로 작성된 것인데, 이것을 우리가 파이썬 코드로 이 자료들을 다룰 수 있도록 파이썬 객체로 쉽게 변환할 수 있습니다. 다음과 같은 `json.loads()`를 사용하여 만든 파이썬 객체를 출력해봅니다. \n",
    "\n",
    "- json.load() - JSON 형식의 파일을 읽고, 파이썬 객체로 전환합니다. \n",
    "- json.loads() - JSON 형식의 문자열로 되어 있는 입력자료를 받아 파이썬 객체로 전환합니다.  \n",
    "\n",
    "__Sample Run:__\n",
    "```json\n",
    "{'people': [{'name': 'Joe Blow', 'phone': '010-555-1234', 'email': ['jb@gmail.com', 'jb@workmail.com'], 'coder': False}, {'name': 'Jane Lee', 'phone': '010-555-4321', 'email': None, 'coder': True}, {'name': 'John Doe', 'phone': '011-911-4819', 'email': ['jd@gmail.com'], 'coder': True}]}\n",
    "```"
   ]
  },
  {
   "cell_type": "code",
   "execution_count": 3,
   "id": "7241ed76-8d8a-451f-8d9b-03a85718e278",
   "metadata": {},
   "outputs": [
    {
     "name": "stdout",
     "output_type": "stream",
     "text": [
      "<class 'str'>\n",
      "{'people': [{'name': 'Joe Blow', 'phone': '010-555-1234', 'email': ['jb@gmail.com', 'jb@workmail.com'], 'coder': False}, {'name': 'Jane Lee', 'phone': '010-555-4321', 'email': None, 'coder': True}, {'name': 'John Doe', 'phone': '011-911-4819', 'email': ['jd@gmail.com'], 'coder': True}]}\n"
     ]
    }
   ],
   "source": [
    "import json\n",
    "\n",
    "data = people_string\n",
    "print(type(data))    #check the type of data\n",
    "data = json.loads(data)\n",
    "print(data)"
   ]
  },
  {
   "cell_type": "markdown",
   "id": "61147c91-7254-4a30-b698-d504ed5db897",
   "metadata": {},
   "source": [
    "출력한 결과를 읽기가 힘들겠지만, 기본적으로 dict type으로 변환된 것을 관찰할 수 있습니다. \n",
    "JSON 객체는 이렇게 Python 객체는 변환되지만, 항상 일치하는 것은 아닙니다. [여기를 참조하십시오.](https://docs.python.org/3/library/json.html)\n",
    "\n",
    "\n",
    "|Python  |JSON |\n",
    "|: ------|:-----|\n",
    "| dict   | object |\n",
    "| list, tuple | array |\n",
    "| str    | string |\n",
    "| int, float, int- & float-derived Enums | number |\n",
    "| True   | true | \n",
    "| False  | false | \n",
    "| None   | null |"
   ]
  },
  {
   "cell_type": "markdown",
   "id": "c4c424f7-6bf6-4c76-bd97-3f040725644e",
   "metadata": {},
   "source": [
    "## list의 각 요소들을 출력하기 \n",
    "\n",
    "위에서 만든 data 객체는 `dict type`이고, `key`는 `people`이고, 그 `value`는 `list type`으로 두 사람을 요소(element)를 가지고 있습니다. list의 각 요소를 for loop로 체크해보도록 합시다. "
   ]
  },
  {
   "cell_type": "markdown",
   "id": "f97eaeac-77d6-4eeb-875c-92226941b30f",
   "metadata": {},
   "source": [
    "### 파이썬 data 객체의 각 요소를 for loop로 출력하기 \n",
    "\n",
    "__Sample Run:__\n",
    "```json\n",
    "{'name': 'Joe Blow', 'phone': '010-555-1234', 'email': ['jb@gmail.com', 'jb@workmail.com'], 'coder': False}\n",
    "{'name': 'Jane Lee', 'phone': '010-555-4321', 'email': None, 'coder': True}\n",
    "{'name': 'John Doe', 'phone': '011-911-4819', 'email': ['jd@gmail.com'], 'coder': True}\n",
    "```"
   ]
  },
  {
   "cell_type": "code",
   "execution_count": 4,
   "id": "c400385f-0161-458e-a2ee-c0f9d98fa525",
   "metadata": {},
   "outputs": [
    {
     "name": "stdout",
     "output_type": "stream",
     "text": [
      "{'name': 'Joe Blow', 'phone': '010-555-1234', 'email': ['jb@gmail.com', 'jb@workmail.com'], 'coder': False}\n",
      "{'name': 'Jane Lee', 'phone': '010-555-4321', 'email': None, 'coder': True}\n",
      "{'name': 'John Doe', 'phone': '011-911-4819', 'email': ['jd@gmail.com'], 'coder': True}\n"
     ]
    }
   ],
   "source": [
    "for person in data[\"people\"]:\n",
    "    print(person)"
   ]
  },
  {
   "cell_type": "markdown",
   "id": "252b248c-4880-41ec-b5b3-b281f1532518",
   "metadata": {},
   "source": [
    "### 파이썬 data 객체의 각 요소를 for-loop를 사용하지 않고 출력하기 \n",
    "\n",
    "data객체의 요소들이 3개가 있다고 가정하고 인덱스를 사용하십시오. \n",
    "\n",
    "__Sample Run:__\n",
    "```json\n",
    "{'name': 'Joe Blow', 'phone': '010-555-1234', 'email': ['jb@gmail.com', 'jb@workmail.com'], 'coder': False}\n",
    "{'name': 'Jane Lee', 'phone': '010-555-4321', 'email': None, 'coder': True}\n",
    "{'name': 'John Doe', 'phone': '011-911-4819', 'email': ['jd@gmail.com'], 'coder': True}\n",
    "```"
   ]
  },
  {
   "cell_type": "code",
   "execution_count": 5,
   "id": "053b2c83-d546-4b60-ad1c-1ef87071d7c8",
   "metadata": {},
   "outputs": [
    {
     "name": "stdout",
     "output_type": "stream",
     "text": [
      "{'name': 'Joe Blow', 'phone': '010-555-1234', 'email': ['jb@gmail.com', 'jb@workmail.com'], 'coder': False}\n",
      "{'name': 'Jane Lee', 'phone': '010-555-4321', 'email': None, 'coder': True}\n",
      "{'name': 'John Doe', 'phone': '011-911-4819', 'email': ['jd@gmail.com'], 'coder': True}\n"
     ]
    }
   ],
   "source": [
    "print(data[\"people\"][0])\n",
    "print(data[\"people\"][1])\n",
    "print(data[\"people\"][2])"
   ]
  },
  {
   "cell_type": "markdown",
   "id": "05f5d24a-46ec-46f4-8506-d56b33d9c583",
   "metadata": {},
   "source": [
    "### 파이썬 data객체에서 for-loop사용하여 `name`의 값들만 출력하기\n",
    "위에서 세 사람 즉 리스트의 elements를 출력했는데, 이번에는 그 세 사람의 `name`의 값들만 출력해봅시다. \n",
    "\n",
    "__Sample Run:__:\n",
    "```\n",
    "Joe Blow\n",
    "Jane Lee\n",
    "John Doe\n",
    "```"
   ]
  },
  {
   "cell_type": "code",
   "execution_count": 6,
   "id": "a87454de-6c24-4a7d-b68b-9d3d3294ca6c",
   "metadata": {},
   "outputs": [
    {
     "name": "stdout",
     "output_type": "stream",
     "text": [
      "Joe Blow\n",
      "Jane Lee\n",
      "John Doe\n"
     ]
    }
   ],
   "source": [
    "for person in data['people']:\n",
    "    print(person[\"name\"])"
   ]
  },
  {
   "cell_type": "markdown",
   "id": "87b6f198-cdb9-40fc-ac32-2ffc54f66eec",
   "metadata": {},
   "source": [
    "### 파이썬 data 객체의 `Joe Blow`의 `email` 주소를 출력하기 \n",
    "\n",
    "for-loop를 사용하십시오. \n",
    "\n",
    "__Sample Run:__\n",
    "```json\n",
    "['jb@gmail.com', 'jb@workmail.com']\n",
    "```"
   ]
  },
  {
   "cell_type": "code",
   "execution_count": 7,
   "id": "fcba4de0-48bf-470f-b71c-1867cb0e8233",
   "metadata": {},
   "outputs": [
    {
     "name": "stdout",
     "output_type": "stream",
     "text": [
      "['jb@gmail.com', 'jb@workmail.com']\n"
     ]
    }
   ],
   "source": [
    "for person in data['people']:\n",
    "    if person[\"name\"] == \"Joe Blow\":\n",
    "        print(person[\"email\"])\n",
    "        break "
   ]
  },
  {
   "cell_type": "markdown",
   "id": "752e7ee3-c255-48ff-b88f-6770f4b2c500",
   "metadata": {},
   "source": [
    "### 파이썬 data객체에서 `Joe Blow`의 `email`주소를 출력하기 \n",
    "\n",
    "indexing 사용하십시오. 단, `Joe Blow`가 첫 번째 요소라는 것을 이미 알고 있다고 가정하십시오. \n",
    "\n",
    "__Sample Run:__\n",
    "```json\n",
    "['jb@gmail.com', 'jb@workmail.com']\n",
    "```"
   ]
  },
  {
   "cell_type": "code",
   "execution_count": 8,
   "id": "0f79f415-1d65-4bd7-9ed9-07660cfc9911",
   "metadata": {},
   "outputs": [
    {
     "name": "stdout",
     "output_type": "stream",
     "text": [
      "['jb@gmail.com', 'jb@workmail.com']\n"
     ]
    }
   ],
   "source": [
    "print(data[\"people\"][0][\"email\"])"
   ]
  },
  {
   "cell_type": "markdown",
   "id": "ebd09100-fbbb-4bc7-9b5d-b6f27b73c7ef",
   "metadata": {},
   "source": [
    "### 파이썬 data객체의 한 요소 값 변경하기\n",
    "\n",
    "`Jane Lee`의 `coder`의 상태가 True이면, False로, `False`이면 `True`로 변경하고, data 객체를 출력하십시오. \n",
    "\n",
    "__Sample Run:__\n",
    "```\n",
    "BEFORE\n",
    " {'people': [{'name': 'Joe Blow', 'phone': '010-555-1234', 'email': ['jb@gmail.com', 'jb@workmail.com'], 'coder': False}, {'name': 'Jane Lee', 'phone': '010-555-4321', 'email': None, 'coder': True}, {'name': 'John Doe', 'phone': '011-911-4819', 'email': ['jd@gmail.com'], 'coder': True}]}\n",
    "AFTER\n",
    " {'people': [{'name': 'Joe Blow', 'phone': '010-555-1234', 'email': ['jb@gmail.com', 'jb@workmail.com'], 'coder': False}, {'name': 'Jane Lee', 'phone': '010-555-4321', 'email': None, 'coder': False}, {'name': 'John Doe', 'phone': '011-911-4819', 'email': ['jd@gmail.com'], 'coder': True}]}\n",
    "```"
   ]
  },
  {
   "cell_type": "code",
   "execution_count": 9,
   "id": "3d849050-3b80-4afe-9bfd-738e1cbff42f",
   "metadata": {},
   "outputs": [
    {
     "name": "stdout",
     "output_type": "stream",
     "text": [
      "BEFORE\n",
      " {'people': [{'name': 'Joe Blow', 'phone': '010-555-1234', 'email': ['jb@gmail.com', 'jb@workmail.com'], 'coder': False}, {'name': 'Jane Lee', 'phone': '010-555-4321', 'email': None, 'coder': True}, {'name': 'John Doe', 'phone': '011-911-4819', 'email': ['jd@gmail.com'], 'coder': True}]}\n",
      "AFTER\n",
      " {'people': [{'name': 'Joe Blow', 'phone': '010-555-1234', 'email': ['jb@gmail.com', 'jb@workmail.com'], 'coder': False}, {'name': 'Jane Lee', 'phone': '010-555-4321', 'email': None, 'coder': False}, {'name': 'John Doe', 'phone': '011-911-4819', 'email': ['jd@gmail.com'], 'coder': True}]}\n"
     ]
    }
   ],
   "source": [
    "print('BEFORE\\n', data)\n",
    "if data[\"people\"][1][\"coder\"] == True:\n",
    "    data[\"people\"][1][\"coder\"] = False\n",
    "else:\n",
    "    data[\"people\"][1][\"coder\"] = True\n",
    "print('AFTER\\n', data)"
   ]
  },
  {
   "cell_type": "markdown",
   "id": "74e33c55-3d65-4680-83f1-6ccc6e3f7e55",
   "metadata": {},
   "source": [
    "## 파이썬 객체에서 `phone` 자료 삭제하기\n",
    "\n",
    "지금까지 JSON 객체를 파이썬 객체로 만들어 그 파이썬 객체를 다루어 보았는데, 이제는 반대로 파이썬 객체를 JSON String 객체로 만들어 보고, 파일에 저장해 보겠습니다. \n",
    "다만, 새로 만드는 객체에 변화를 주기위해, 전화번호를 제외한 JSON 객체를 만들어 본다고 가정합시다. 그래서, 먼저 파이썬 코드로 `phone`을 삭제합니다. __del()__ 함수를 사용하십시오. \n",
    "\n",
    "__Sample Run:__:\n",
    "```json\n",
    "{'people': [{'name': 'Joe Blow', 'email': ['jb@gmail.com', 'jb@workmail.com'], 'coder': False}, {'name': 'Jane Lee', 'email': None, 'coder': True}, {'name': 'John Doe', 'email': ['jd@gmail.com'], 'coder': True}]}\n",
    "```"
   ]
  },
  {
   "cell_type": "code",
   "execution_count": 10,
   "id": "b2fd396d-a1cf-4acf-baf2-9fbe93e898b2",
   "metadata": {},
   "outputs": [
    {
     "name": "stdout",
     "output_type": "stream",
     "text": [
      "{'people': [{'name': 'Joe Blow', 'email': ['jb@gmail.com', 'jb@workmail.com'], 'coder': False}, {'name': 'Jane Lee', 'email': None, 'coder': False}, {'name': 'John Doe', 'email': ['jd@gmail.com'], 'coder': True}]}\n"
     ]
    }
   ],
   "source": [
    "for person in data['people']:\n",
    "    del person['phone']\n",
    "\n",
    "print(data)"
   ]
  },
  {
   "cell_type": "markdown",
   "id": "a55c9088-7fbd-40f2-8035-18e532af60d7",
   "metadata": {},
   "source": [
    "## `indent = 2` 인자 사용하기 \n",
    "- 가독성(readability)를 높이기 위해, `dumps()` 함수에 `indent`를 추가할 수 있습니다. 그러면, 상당히 쉽게 읽을 수 있는(human-readable) 형식이 됩니다. \n",
    "- 필요에 따라 key값으로 정렬하게 할 수 있습니다."
   ]
  },
  {
   "cell_type": "markdown",
   "id": "a0b3d445-6bef-4815-af7b-dd9be162fdd6",
   "metadata": {},
   "source": [
    "__Sample Run:__:\n",
    "```json\n",
    "{\n",
    "  \"people\": [\n",
    "    {\n",
    "      \"coder\": false,\n",
    "      \"email\": [\n",
    "        \"jb@gmail.com\",\n",
    "        \"jb@workmail.com\"\n",
    "      ],\n",
    "      \"name\": \"Joe Blow\"\n",
    "    },\n",
    "    {\n",
    "      \"coder\": true,\n",
    "      \"email\": null,\n",
    "      \"name\": \"Jane Lee\"\n",
    "    },\n",
    "    {\n",
    "      \"coder\": true,\n",
    "      \"email\": [\n",
    "        \"jd@gmail.com\"\n",
    "      ],\n",
    "      \"name\": \"John Doe\"\n",
    "    }\n",
    "  ]\n",
    "}\n",
    "```"
   ]
  },
  {
   "cell_type": "code",
   "execution_count": 27,
   "id": "80f22885-ebc1-4008-b894-dd8f1fb9fc14",
   "metadata": {},
   "outputs": [
    {
     "name": "stdout",
     "output_type": "stream",
     "text": [
      "{\n",
      "  \"people\": [\n",
      "    {\n",
      "      \"coder\": false,\n",
      "      \"email\": [\n",
      "        \"jb@gmail.com\",\n",
      "        \"jb@workmail.com\"\n",
      "      ],\n",
      "      \"name\": \"Joe Blow\"\n",
      "    },\n",
      "    {\n",
      "      \"coder\": false,\n",
      "      \"email\": null,\n",
      "      \"name\": \"Jane Lee\"\n",
      "    },\n",
      "    {\n",
      "      \"coder\": true,\n",
      "      \"email\": [\n",
      "        \"jd@gmail.com\"\n",
      "      ],\n",
      "      \"name\": \"John Doe\"\n",
      "    }\n",
      "  ]\n",
      "}\n"
     ]
    }
   ],
   "source": [
    "new_string = json.dumps(data,indent =2,sort_keys = True)\n",
    "print(new_string)"
   ]
  },
  {
   "cell_type": "markdown",
   "id": "ff029bfe-541c-4a60-bb50-3404bc30ceaa",
   "metadata": {},
   "source": [
    "`sort_keys = True` 로 말미암아, `coder, email, name` 순으로 정렬이 되었습니다. \n",
    "다만, `json.dumps()`의 결과로 얻어지는 것은 `str` 타입인 것에 유의해야 합니다. 다른 말로, 이것을 JSON 파일로 저장하는 것은 가능하지만, __바람직하지 않습니다.__\n",
    "\n",
    "왜 그럴까요? \n",
    "- 직접 다음과 같이 파일을 작성하고, text editor로 그 내용을 살펴보면 알 수 있습니다. \n",
    "- `new_string` 자체를 `print()`가 아니라 단순히 `evaluate`해보아도 쉽게 알 수 있습니다. "
   ]
  },
  {
   "cell_type": "code",
   "execution_count": 28,
   "id": "c6681d73-154f-4121-ac60-ffe46eb014f6",
   "metadata": {},
   "outputs": [],
   "source": [
    "with open('people.json', 'w') as f:\n",
    "    json.dump(new_string, f)"
   ]
  },
  {
   "cell_type": "code",
   "execution_count": 59,
   "id": "2e4b8f2b-2f1c-4811-9df7-82b019e79bbb",
   "metadata": {},
   "outputs": [
    {
     "data": {
      "text/plain": [
       "'{\\n  \"people\": [\\n    {\\n      \"coder\": false,\\n      \"email\": [\\n        \"jb@gmail.com\",\\n        \"jb@workmail.com\"\\n      ],\\n      \"name\": \"Joe Blow\"\\n    },\\n    {\\n      \"coder\": false,\\n      \"email\": null,\\n      \"name\": \"Jane Lee\"\\n    },\\n    {\\n      \"coder\": true,\\n      \"email\": [\\n        \"jd@gmail.com\"\\n      ],\\n      \"name\": \"John Doe\"\\n    }\\n  ]\\n}'"
      ]
     },
     "execution_count": 59,
     "metadata": {},
     "output_type": "execute_result"
    }
   ],
   "source": [
    "new_string"
   ]
  },
  {
   "cell_type": "code",
   "execution_count": 41,
   "id": "817f267c-3b45-443d-be88-29a3b0f82223",
   "metadata": {},
   "outputs": [
    {
     "name": "stdout",
     "output_type": "stream",
     "text": [
      "{\n",
      "  \"people\": [\n",
      "    {\n",
      "      \"coder\": false,\n",
      "      \"email\": [\n",
      "        \"jb@gmail.com\",\n",
      "        \"jb@workmail.com\"\n",
      "      ],\n",
      "      \"name\": \"Joe Blow\"\n",
      "    },\n",
      "    {\n",
      "      \"coder\": false,\n",
      "      \"email\": null,\n",
      "      \"name\": \"Jane Lee\"\n",
      "    },\n",
      "    {\n",
      "      \"coder\": true,\n",
      "      \"email\": [\n",
      "        \"jd@gmail.com\"\n",
      "      ],\n",
      "      \"name\": \"John Doe\"\n",
      "    }\n",
      "  ]\n",
      "}\n"
     ]
    }
   ],
   "source": [
    "data = json.loads(new_string)\n",
    "\n",
    "json_string = json.dumps(data, indent=2)\n",
    "print(json_string)"
   ]
  },
  {
   "cell_type": "markdown",
   "id": "916b5cf8-66ef-4bd9-8d8a-d67430f9dcc9",
   "metadata": {},
   "source": [
    "## JSON 파일 작성하기 (Encoding, Serialization)\n",
    "- 그러면, `people.json`파일이 다음과 같은 내용을 갖도록 파일을 만들 수 있을까요?\n",
    "\n",
    "__Expected JSON File:__"
   ]
  },
  {
   "cell_type": "markdown",
   "id": "9ce8f4a7-ff50-46ac-84c5-d649468b4e16",
   "metadata": {},
   "source": [
    "```json\n",
    "{\n",
    "  \"people\": [\n",
    "    {\n",
    "      \"coder\": false,\n",
    "      \"email\": [\n",
    "        \"jb@gmail.com\",\n",
    "        \"jb@workmail.com\"\n",
    "      ],\n",
    "      \"name\": \"Joe Blow\"\n",
    "    },\n",
    "    {\n",
    "      \"coder\": true,\n",
    "      \"email\": null,\n",
    "      \"name\": \"Jane Lee\"\n",
    "    },\n",
    "    {\n",
    "      \"coder\": true,\n",
    "      \"email\": [\n",
    "        \"jd@gmail.com\"\n",
    "      ],\n",
    "      \"name\": \"John Doe\"\n",
    "    }\n",
    "  ]\n",
    "}\n",
    "```\n",
    "\n",
    "__1st Trial:__ without indent"
   ]
  },
  {
   "cell_type": "code",
   "execution_count": 67,
   "id": "67228ccd-b166-46bf-8fda-9bd683f95f65",
   "metadata": {},
   "outputs": [],
   "source": [
    "with open('people.json', 'w') as f:\n",
    "    json.dump(data,f)"
   ]
  },
  {
   "cell_type": "markdown",
   "id": "2799ffef-0632-4b9e-a527-e10d37ff31fe",
   "metadata": {},
   "source": [
    "이제 위에서 저장된 파일(people.json)을 읽어보면, 우리가 원하는대로 파일이 작성되지 않은 것을 확인할 수 있습니다. pc에서는 !type file_name, mac에서는 !cat file_name으로 현재 폴더의 있는 파일을 체크할 수 있습니다. 물론 !dir 혹은 !ls 같은 명령어로 파일 존재 유무도 알 수 있겠습니다. \n",
    "```\n",
    "{\"people\": [{\"name\": \"Joe Blow\", \"phone\": \"010-555-1234\", \"email\": [\"jb@gmail.com\", \"jb@workmail.com\"], \"coder\": false}, {\"name\": \"Jane Lee\", \"phone\": \"010-555-4321\", \"email\": null, \"coder\": false}, {\"name\": \"John Doe\", \"phone\": \"011-911-4819\", \"email\": [\"jd@gmail.com\"], \"coder\": true}]}\n",
    "```"
   ]
  },
  {
   "cell_type": "code",
   "execution_count": 68,
   "id": "e9104e3e-758d-428b-bafb-330d5b18e371",
   "metadata": {},
   "outputs": [
    {
     "name": "stdout",
     "output_type": "stream",
     "text": [
      "{\"people\": [{\"coder\": false, \"email\": [\"jb@gmail.com\", \"jb@workmail.com\"], \"name\": \"Joe Blow\"}, {\"coder\": false, \"email\": null, \"name\": \"Jane Lee\"}, {\"coder\": true, \"email\": [\"jd@gmail.com\"], \"name\": \"John Doe\"}]}\n"
     ]
    }
   ],
   "source": [
    "!type people.json"
   ]
  },
  {
   "cell_type": "markdown",
   "id": "9996ae4f-f6ae-4f55-bfa7-50adda35c7e9",
   "metadata": {},
   "source": [
    "__Solution:__ with indent"
   ]
  },
  {
   "cell_type": "code",
   "execution_count": 70,
   "id": "1c5f7de9-f88c-4378-9ebf-0d9e181d9771",
   "metadata": {},
   "outputs": [],
   "source": [
    "with open('people.json', 'w') as f:\n",
    "    json.dump(data,f, indent = 2)"
   ]
  },
  {
   "cell_type": "code",
   "execution_count": 71,
   "id": "b267406c-dd6f-4ac2-8e33-a0d7fa14da65",
   "metadata": {},
   "outputs": [
    {
     "name": "stdout",
     "output_type": "stream",
     "text": [
      "{\n",
      "  \"people\": [\n",
      "    {\n",
      "      \"coder\": false,\n",
      "      \"email\": [\n",
      "        \"jb@gmail.com\",\n",
      "        \"jb@workmail.com\"\n",
      "      ],\n",
      "      \"name\": \"Joe Blow\"\n",
      "    },\n",
      "    {\n",
      "      \"coder\": false,\n",
      "      \"email\": null,\n",
      "      \"name\": \"Jane Lee\"\n",
      "    },\n",
      "    {\n",
      "      \"coder\": true,\n",
      "      \"email\": [\n",
      "        \"jd@gmail.com\"\n",
      "      ],\n",
      "      \"name\": \"John Doe\"\n",
      "    }\n",
      "  ]\n",
      "}\n"
     ]
    }
   ],
   "source": [
    "!type people.json"
   ]
  },
  {
   "cell_type": "markdown",
   "id": "cce8c1fb-3717-4e94-a848-f0a131437b97",
   "metadata": {
    "tags": []
   },
   "source": [
    "# Review Question\n",
    "JSON 타입은 Python타입과 일대일 호환이 가능한지 답하고, 그렇지 않다면 어떻게 호환될 수 있는지 설명하세요.\n",
    "\n",
    "__Your Answer:__"
   ]
  },
  {
   "cell_type": "markdown",
   "id": "27b6a15f-0a91-4cf1-96f1-1d00be934a55",
   "metadata": {},
   "source": []
  },
  {
   "cell_type": "markdown",
   "id": "bf0b1d32-d0c5-4767-9812-998c4df499a3",
   "metadata": {},
   "source": [
    "# __학습 정리__\n",
    "\n",
    "1. JSON 데이터 구조 소개과 특성\n",
    "1. JSON 데이터 구조\n",
    "1. JSON 파일과 파이썬 JSON 객체 다루기 \n",
    "1. 웹에서 JSON파일 활용하기"
   ]
  },
  {
   "cell_type": "markdown",
   "id": "209ee414-7cba-43e5-8264-45bc7bf59cc0",
   "metadata": {},
   "source": [
    "# 참고자료\n",
    "\n",
    "- [JSON Official Homepage (한국어)](https://www.json.org/json-ko.html)\n",
    "- [W3School JSON](https://www.w3schools.com/js/js_json_intro.asp)\n",
    "- [Python JSON (한국어)](https://docs.python.org/ko/3/library/json.html)"
   ]
  },
  {
   "cell_type": "markdown",
   "id": "ad4af99a-8db0-4f74-8b9b-a5ade1c557d6",
   "metadata": {},
   "source": [
    "--------\n",
    "이 율법책을 네 입에서 떠나지 말게 하며 주야로 그것을 묵상하여 그 안에 기록된 대로 다 지켜 행하라 그리하면 네 길이 평탄하게 될 것이며 네가 형통하리라 (수1:8)"
   ]
  }
 ],
 "metadata": {
  "kernelspec": {
   "display_name": "Python 3 (ipykernel)",
   "language": "python",
   "name": "python3"
  },
  "language_info": {
   "codemirror_mode": {
    "name": "ipython",
    "version": 3
   },
   "file_extension": ".py",
   "mimetype": "text/x-python",
   "name": "python",
   "nbconvert_exporter": "python",
   "pygments_lexer": "ipython3",
   "version": "3.11.7"
  },
  "toc-autonumbering": true
 },
 "nbformat": 4,
 "nbformat_minor": 5
}

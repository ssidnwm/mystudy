{
 "cells": [
  {
   "cell_type": "markdown",
   "id": "9e230a00-4d5b-4444-a631-d830add15827",
   "metadata": {},
   "source": [
    "너는 청년의 때에 너의 창조주를 기억하라 곧 곤고한 날이 이르기 전에, 나는 아무 낙이 없다고 할 해들이 가깝기 전에 (전12:1)\n",
    "\n",
    "-------\n",
    "<center><img src=\"https://github.com/idebtor/DSpy/blob/6b3676c3de29f85d2e7f30679676d1fd96d88b17/images/WelcomeToDataStructures.jpg?raw=true\" width=1000></center>"
   ]
  },
  {
   "cell_type": "markdown",
   "id": "e1216520-18e0-42cd-a0da-9f6e124b6b0e",
   "metadata": {},
   "source": [
    "__NOTE:__ The following materials have been compiled and adapted from the numerous sources including my own. Please help me to keep this tutorial up-to-date by reporting any issues or questions. Send any comments or criticisms to `idebtor@gmail.com` Your assistances and comments will be appreciated.\n",
    "\n",
    "Honor Code: "
   ]
  },
  {
   "cell_type": "markdown",
   "id": "a3975cb1-62bf-4655-9cd0-eebc9d2489e7",
   "metadata": {},
   "source": [
    "# Exercise : Create a Student class:  \n",
    "(Ch1-2.4 OOP Classes ppt 6p 참고)\n",
    "\n",
    "- The Student class should have three attributes: id, last_name, and  first_name.  \n",
    "- Create a constructor to initialize the values  \n",
    "- Implement the following methods\n",
    "    - `__repr__`  returns something as shown below\n",
    "    - `__str__` returns something as shown below\n",
    "    - `__eq__` returns True if id and last_name are the same "
   ]
  },
  {
   "cell_type": "markdown",
   "id": "0821f89d-92c8-42d4-ab36-202bc5140aca",
   "metadata": {},
   "source": [
    "__Sample Run:__  \n",
    "```\n",
    "s1 = Student(12, 'David', 'Song') \n",
    "s2 = Student(12, '다윗', 'Song') \n",
    "print(s1)\n",
    "print(s1.__repr__())\n",
    "print(s1 == s2)\n",
    "s2\n",
    "```"
   ]
  },
  {
   "cell_type": "markdown",
   "id": "ee27eb6d-bd8b-41fd-bfda-55f28be01af6",
   "metadata": {},
   "source": [
    "__Expected out:__  \n",
    "```\n",
    "12: David Song\n",
    "Student(12, David, Song)\n",
    "True\n",
    "Student(12, 다윗, Song)          # evaluated output\n",
    "```"
   ]
  },
  {
   "cell_type": "code",
   "execution_count": 7,
   "id": "15cdf962-4fb3-43e8-8d2c-91d17b8c6b96",
   "metadata": {},
   "outputs": [],
   "source": [
    "class Student:\n",
    "    def __init__(self,age,fname,mname):\n",
    "        self.age = age\n",
    "        self.fname = fname\n",
    "        self.mname = mname\n",
    "    def __str__(self):\n",
    "        return '{}: {} {}'.format(self.age,self.fname,self.mname)\n",
    "    def __repr__(self):\n",
    "        return 'Student({}, {}, {})'.format(self.age,self.fname,self.mname)\n",
    "    def __eq__(self,other):\n",
    "        if self.age == other.age:\n",
    "            return True\n",
    "        elif self.fname == other.fname:\n",
    "            return True\n",
    "        elif self.mname == other.mname:\n",
    "            return True\n",
    "        else:\n",
    "            return False\n",
    "    ##제 방식이 맞는지 궁금하여 챗gpt를 사용해 보니 이런식으로 코드를 작석했습니다\n",
    "    #def __eq__(self,other):\n",
    "    #    return self.age == other.age and self.mname == other.mname\n"
   ]
  },
  {
   "cell_type": "code",
   "execution_count": 8,
   "id": "4684022b-4c27-4732-a3da-bd8859867643",
   "metadata": {},
   "outputs": [
    {
     "name": "stdout",
     "output_type": "stream",
     "text": [
      "12: David Song\n",
      "Student(12, David, Song)\n",
      "True\n"
     ]
    },
    {
     "data": {
      "text/plain": [
       "Student(12, 다윗, Song)"
      ]
     },
     "execution_count": 8,
     "metadata": {},
     "output_type": "execute_result"
    }
   ],
   "source": [
    "s1 = Student(12, 'David', 'Song') \n",
    "s2 = Student(12, '다윗', 'Song') \n",
    "print(s1)\n",
    "print(s1.__repr__())\n",
    "print(s1 == s2)\n",
    "s2"
   ]
  },
  {
   "cell_type": "markdown",
   "id": "419c5c64-23d2-46e2-9628-859b25e18efa",
   "metadata": {},
   "source": [
    "--------------\n",
    "Be joyful always! 1 Thessalonians 5:16-18 "
   ]
  }
 ],
 "metadata": {
  "kernelspec": {
   "display_name": "Python 3 (ipykernel)",
   "language": "python",
   "name": "python3"
  },
  "language_info": {
   "codemirror_mode": {
    "name": "ipython",
    "version": 3
   },
   "file_extension": ".py",
   "mimetype": "text/x-python",
   "name": "python",
   "nbconvert_exporter": "python",
   "pygments_lexer": "ipython3",
   "version": "3.11.7"
  }
 },
 "nbformat": 4,
 "nbformat_minor": 5
}

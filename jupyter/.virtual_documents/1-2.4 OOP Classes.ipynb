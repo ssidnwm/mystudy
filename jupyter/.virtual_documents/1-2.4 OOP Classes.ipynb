














class Student:
    def __init__(self,age,fname,mname):
        self.age = age
        self.fname = fname
        self.mname = mname
    def __str__(self):
        return '{}: {} {}'.format(self.age,self.fname,self.mname)
    def __repr__(self):
        return 'Student({}, {}, {})'.format(self.age,self.fname,self.mname)
    def __eq__(self,other):
        if self.age == other.age:
            return True
        elif self.fname == other.fname:
            return True
        elif self.mname == other.mname:
            return True
        else:
            return False
    ##제 방식이 맞는지 궁금하여 챗gpt를 사용해 보니 이런식으로 코드를 작석했습니다
    #def __eq__(self,other):
    #    return self.age == other.age and self.mname == other.mname



s1 = Student(12, 'David', 'Song') 
s2 = Student(12, '다윗', 'Song') 
print(s1)
print(s1.__repr__())
print(s1 == s2)
s2




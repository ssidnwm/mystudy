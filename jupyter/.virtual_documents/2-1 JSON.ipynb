






































import json

people_string = """
{
    "people": [
        {
            "name": "Joe Blow",
            "phone": "010-555-1234",
            "email": ["jb@gmail.com", "jb@workmail.com"],
            "coder": false
        },
        {
            "name": "Jane Lee",
            "phone": "010-555-4321",
            "email": null,
            "coder": true
        },
        {
            "name": "John Doe",
            "phone": "011-911-4819",
            "email": ["jd@gmail.com"],
            "coder": true
        }
    ]
}
"""





data = None
print(None)    #check the type of data
print(data)











for person in None:
    print(person)





print(None)
print(None)
print(None)





for person in data['people']:
    None





for person in data['people']:
    None





print(data[None])





print('BEFORE\n', data)
for person in data['people']:
    None
print('AFTER\n', data)





None

print(data)








new_string = None
print(new_string)





with open('people.json', 'w') as f:
    json.dump(new_string, f)


new_string








with open('people.json', 'w') as f:
    None





!type people.json





with open('people.json', 'w') as f:
    None


!type people.json
















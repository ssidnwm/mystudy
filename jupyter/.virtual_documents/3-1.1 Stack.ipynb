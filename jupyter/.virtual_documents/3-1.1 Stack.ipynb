



























































class Stack:
    """Stack implementation as a list"""

    def __init__(self):
        """Create new stack"""
        self._items = []

    def is_empty(self):
        """Check if the stack is empty"""
        return not bool(self._items)

    def push(self, item):
        """Add an item to the stack"""
        self._items.append(item)

    def pop(self):
        """Remove an item from the stack"""
        return self._items.pop()

    def peek(self):
        """Get the value of the top item in the stack"""
        return self._items[-1]

    def size(self):
        """Get the number of items in the stack"""
        return len(self._items)
    def __str__(self):
        return f"<__main__.Stack object at {hex(id(self))}>"





s = Stack()

print(s.is_empty()) # []
s.push(4)           # [4]
s.push("dog")       # [dog, 4]
print(s.peek())     # [*dog, 4]
s.push(True)        # [True, dog, 4]
print(s.size())     # [True, dog, 4] -> 3
print(s.is_empty()) # [True, dog, 4] -> False
s.push(8.4)         # [8.4, True, dog, 4]
print(s.pop())      # 8.4 [True, dog, 4]
print(s.pop())      # True [dog, 4]
print(s.size())     # [dog, 4] -> 2























def parChecker(symbolString):
    s = Stack()                                   # 앞에서 우리가 만든 stack class 입니다. 
    balanced = True
    index = 0
    while index < len(symbolString) and balanced:
        symbol = symbolString[index]
        if symbol == "(":
            s.push(symbol)
        else:
            if s.is_empty():
                balanced = False
            else:
                s.pop()

        index = index + 1

    if balanced and s.is_empty():
        return True
    else:
        return False

if __name__ == '__main__':
    print(parChecker('((()))'))
    print(parChecker('(()'))

















def parChecker(symbolString):
    s = Stack()
    balanced = True
    index = 0
    while index < len(symbolString) and balanced:
        symbol = symbolString[index]
        if symbol in "([{":
            s.push(symbol)
        else:
            if s.is_empty():
                balanced = False
            else:
                top = s.pop()
                if not matches(top, symbol):
                       balanced = False
        index = index + 1
    if balanced and s.is_empty():
        return True
    else:
        return False

def matches(open,close):
    openers = "([{"
    closers = ")]}"
    return openers.index(open) == closers.index(close)


if __name__ == '__main__':
    print(parChecker('{({([][])}())}'))
    print(parChecker('[{()]'))



























def divideBy2(decNumber):
    remstack = Stack()

    while decNumber > 0:
        rem = decNumber % 2
        remstack.push(rem)
        decNumber = decNumber // 2

    binString = ""
    while not remstack.is_empty():
        binString = binString + str(remstack.pop())

    return binString

print(divideBy2(42))









def baseConverter(decNumber, base):
    digits = "0123456789ABCDEF"

    remstack = Stack()

    while decNumber > 0:
        rem = decNumber % base
        remstack.push(rem)
        decNumber = decNumber // base

    newString = ""
    while not remstack.is_empty():
        newString = newString + digits[remstack.pop()]

    return newString

print(baseConverter(26,2))
print(baseConverter(26,16))
























orig = Stack()
for item in ['to', 'be', 'or', 'not', 'to', 'be', 'that', 'is', 'the', 'question']:
    orig.push(item)
    
print(orig)
print(orig.__str__())








class Stack:
    """Stack implementation as a list"""

    def __init__(self):
        """Create new stack"""
        self._items = []

    def is_empty(self):
        """Check if the stack is empty"""
        return not bool(self._items)

    def push(self, item):
        """Add an item to the stack"""
        self._items.append(item)

    def pop(self):
        """Remove an item from the stack"""
        return self._items.pop()

    def peek(self):
        """Get the value of the top item in the stack"""
        return self._items[-1]

    def size(self):
        """Get the number of items in the stack"""
        return len(self._items)
    
    def __str__(self):
        return "[" + ", ".join(self._items) + "]"
        
if __name__ == '__main__':
    orig = Stack()
    for item in ['to', 'be', 'or', 'not', 'to', 'be', 'that', 'is', 'the', 'question']:
        orig.push(item)

    print('stack size:{} top:{}'.format(orig.size(), orig.peek()))
    print(orig)
    print('stack size:{} top:{}'.format(orig.size(), orig.peek()))














def toList(orig):
    temp = Stack()
    stackList = []
    
    while not orig.is_empty():
        item = orig.pop()
        stackList.append(item)
        temp.push(item)
    while not temp.is_empty():
        orig.push(temp.pop())
    
    return stackList

# testing code
if __name__ == '__main__':
    orig = Stack()
    for item in ['to', 'be', 'or', 'not', 'to', 'be', 'that', 'is', 'the', 'question']:
        orig.push(item)

    print('stack size:{} top:{}'.format(orig.size(), orig.peek()))
    print(toList(orig))
    print('stack size:{} top:{}'.format(orig.size(), orig.peek()))








# 시험에 나올만한 18개의 주제
study_contents = {'chapter1-1':'data structure','chapter1-2':'with','chapter1-3':'python',
                 'chapter2-1':'2021','chapter2-2':'fall','chapter2-3':'semester',
                 'chapter3-1':'fun', 'chapter3-2':'and', 'chapter3-3':'interesting',
                 'chapter4-1':'you', 'chapter4-2':'can', 'chapter4-3':'do it!',
                 'chapter5-1':'God', 'chapter5-2':'is',  'chapter5-3':'good',
                 'chapter6-1':'all', 'chapter6-2':'the', 'chapter6-3':'time'}


import random

def set_exam(): 
    selected_items = random.sample(list(study_contents.items()), 10)
    return selected_items

if __name__ == '__main__':
    exam_questions = set_exam()
    print(len(exam_questions))
    print(exam_questions)





def set_mybrain(study_contents):
    my_brain = Stack()                          # 앞에서 구현한 Stack()을 사용합니다.
                                                ## push all contents in stack(한동이)
    for chapter, content in study_contents.items():
        my_brain.push((chapter, content))
    
    return my_brain

if __name__ == '__main__':
    my_brain = set_mybrain(study_contents)
    print('size:', my_brain.size())
    print('peek:', my_brain.peek())





## Exam Time
my_brain = Stack()  # 스택 인스턴스 생성
# study_contents 딕셔너리의 모든 항목을 스택에 푸시
for chapter, content in study_contents.items():
    my_brain.push((chapter, content))

correct = 0  # 정답 카운터
# 스택에서 모든 문제를 꺼내 출력
while not my_brain.is_empty():
    print(my_brain.pop())
    correct += 1  # 모든 문제를 정답으로 가정
print("Total Score: {} 점".format(correct*10))







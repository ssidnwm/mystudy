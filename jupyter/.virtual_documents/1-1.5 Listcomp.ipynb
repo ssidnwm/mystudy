




















numbers = [0, 1, 2, 3, 4, 5, 6, 7, 8, 9]





numbers = []
None
    
numbers





numbers = None
numbers





squares = None
None
print(squares)





numbers = None
numbers





# using for loop and a conditional statement `if`
squares = None
None
print(squares)


# using for loop without a conditional statement `if`, but utilizing the step in range()
squares = None
None
print(squares)





# list comprehension without if, but use the step in range()
squares = None
print(squares)


# list comprehension with if 
squares = None
print(squares)





clist = [-10, 0, 10, 50, 100, 200]
flist = None
None
    
print(flist)


#use list comprehension
clist = [-10, 0, 10, 50, 100, 200] 
flist = None
flist





num = [ None ]
num





num = [ None ]
num





matrix = [
    [1, 2, 3, 4],
    [5, 6, 7, 8],
    [9, 10, 11, 12],
]

flattened = []
None
        
flattened





flattened = None      # incorrect ->  [n for n in row for row in matrix]
flattened





N = 5
result = []
for x in range(1, N + 1):
    result.append(x * x)
    
print(result)





def squares(N):
    return None





def squares_x(N):
    return None





None


None








alist = [('apple', 2), ('banana', 8), ('kiwi', 1), ('mango', 9)]
store = None
print(store)





store = {'apple': 2, 'banana': 8, 'kiwi': 1, 'mango': 9}
alist = None
print(alist)





store = {'apple': 2, 'banana': 8, 'kiwi': 1, 'mango': 9}
alist = None
print(alist)





store = {'apple': 2, 'banana': 8, 'kiwi': 1, 'mango': 9}
None








#converting two lists or sets into one dict type object
fruit = ['apple', 'banana', 'kiwi', 'mango']
count = [2, 8, 1, 9]

None

print(store)





fruit = ['apple', 'banana', 'kiwi', 'mango']
count = [2, 8, 1, 9]

None

print(store)














# Use a for loop
rainbow = ['red', 'orange', 'yellow', 'green', 'blue', 'indigo', 'violet']
colors = []


print(colors)





# Use a list comprehension.

rainbow = ['red', 'orange', 'yellow', 'green', 'blue', 'indigo', 'violet']
colors = None
print(colors)





grades = [88,67,45,67,76,78,53,87,12,100,77,89,92,53,55,45,87,88,95,99,76,87,56,45,98,87,89]
avg = None
alist = []


        
        
print(len(alist), "grades are above the average", avg)
print(alist)





avg = None
alist = None
        
print(len(alist), "grades are above the average", avg)
print(alist)








# del sum
# Read an integer as a string:
s = None

# for example, print 6 if a is 123, 18 if a is 369. 
total = None
print(total)








from string import ascii_lowercase as lowers

data = dict( None )
print(data)





data = { None }
print(data)





n = 20
for a in range(1, n):
    for b in range(a, n):
        for c in range(b, n):
            if a * a + b * b == c * c:
                print(a, b, c, sep = ', ')





def pythagorean(n):
    None
    for a in None
        for b in None
            for c in None
                if None
                    None
    return None

n = 20
pythagorean(n) 





def pythagorean(n):
    None
    for a in None
        for b in None
            for c in None
                if None
                    None
    return None

n = 20
pythagorean(n) 





def pythagorean(n):
    return [None]

n = 20
pythagorean(n) 










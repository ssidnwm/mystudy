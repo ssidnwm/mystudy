









































class Queue:
    def __init__(self):
        self._items = []

    def is_empty(self):
        return self._items == []

    def enqueue(self, item):
        self._items.insert(0,item)

    def dequeue(self):
        return self._items.pop()

    def size(self):
        return len(self._items)


q = Queue()      # []

q.enqueue(4)     # [4]
q.enqueue('dog') # ['dog',4]
q.enqueue(True)  # [True,'dog',4]
print(q.size())  # 3


print(q.is_empty()) # False
q.enqueue(8.4)     # [8.4,True,'dog',4]
print(q.dequeue()) # [8.4,True,'dog'] --> 4
print(q.dequeue()) # [8.4,True] --> 'dog'
print(q.size())    # 2























def hotPotato(namelist, num):
    hotque = Queue()
    for name in namelist:
        hotque.enqueue(name)

    count = 0
    while hotque.size() > 1:
        for _ in range(num):
            hotque.enqueue(hotque.dequeue())
        hotque.dequeue()
        count += 1

    print(count)
    return hotque.dequeue() 

if __name__ == "__main__":
    nameList = ["Bill","David","Susan","Jane","Kent","Brad"]
    print(hotPotato(nameList,7))



































import random

def battery(NUM_CELLS, MAX_POWER):
    print('Battery Specs: Num. of cells:', NUM_CELLS, ' Max power per cell:', MAX_POWER)
    MIN_ENERGY = 1
    MAX_ENERGY = MAX_POWER - 1
    battery_cells = [MAX_POWER] * NUM_CELLS
    while any(cell > 0 for cell in battery_cells):  # 적어도 하나의 셀에 에너지가 남아 있는 동안 반복
        needs = random.randint(MIN_ENERGY, MAX_ENERGY)  # 이번 단계에서 요구되는 에너지
        print('Starts:', battery_cells, ' ( needs:', needs, ')', end=' ')

        # 에너지 소비 처리
        for i in range(NUM_CELLS):
            if battery_cells[i] > 0:  # 에너지가 남아 있는 셀에서만 소비
                battery_cells[i] = max(0, battery_cells[i] - needs)  # 셀의 에너지를 감소시키되, 0보다 작아지지 않도록 함
                break  # 한 셀의 에너지를 소비한 후, 다음 단계로 넘어감

        print('ends:', battery_cells)

    # your code here
    
    # step1 Make a queue (battery)
    # step2 Repeat energy consumption until all the queue items become zero
    

if __name__ == '__main__':
    battery(5, 10)
    battery(9, 7)







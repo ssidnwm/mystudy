{
 "cells": [
  {
   "cell_type": "markdown",
   "metadata": {},
   "source": [
    "예수께서 대답하여 이르시되 기록되었으되 사람이 떡으로만 살 것이 아니요 하나님의 입으로부터 나오는 모든 말씀으로 살 것이라 하였느니라 하시니 (마4:4)\n",
    "\n",
    "-------\n",
    "<center><img src=\"https://github.com/idebtor/DSpy/blob/6b3676c3de29f85d2e7f30679676d1fd96d88b17/images/WelcomeToDataStructures.jpg?raw=true\" width=1000></center>\n",
    "\n",
    "__NOTE:__ The following materials have been compiled and adapted from the numerous sources including my own. Please help me to keep this tutorial up-to-date by reporting any issues or questions. Send any comments or criticisms to `idebtor@gmail.com` Your assistances and comments will be appreciated.\n",
    "\n",
    "--------"
   ]
  },
  {
   "cell_type": "markdown",
   "metadata": {},
   "source": [
    "<b style=\"font-size:30px\">  Chapter 3. Linear Data Structures (선형 자료구조)</b>\n",
    "\n",
    ": 선형 자료구조란 무엇인가 (스택,큐,리스트 등)  \n",
    "\n",
    "--------------\n",
    "제 3장에서는 선형 자료구조에 대해 알아봅니다. 선형 자료구조란 무엇이며, 자료구조에 사용되는 대표적인 선형 자료구조들을 배우고 간단한 실습을 통해 구현해보며 익히게 됩니다. 자료구조의 기초가 되며, 이후 운영체제, 알고리즘, 네트워크 등 모든 영역에 활용되는 것 이므로 적극적인 자세로 재밌게 배우면 좋겠습니다!"
   ]
  },
  {
   "cell_type": "markdown",
   "metadata": {},
   "source": [
    "# Introduction\n",
    "\n",
    "1.1. Objectives  \n",
    "1.2. 선형 자료구조란 무엇인가?"
   ]
  },
  {
   "cell_type": "markdown",
   "metadata": {},
   "source": [
    "## Objectives\n",
    "\n",
    "* 선형 자료구조가 무엇인지 이해한다.\n",
    "* __스택(Stack), 큐(Queue), 데크(Dequeue), 리스트(List)__ 를 이해한다.\n",
    "* 다양한 수식 표현법을 이해한다.(전위-__prefix__, 중위-__infix__, 후위-__postfix__ 표기법)\n",
    "* 선형 자료구조를 직접 구현할 수 있다.\n",
    "* 문제에 적합한 자료형을 적용할 수 있다."
   ]
  },
  {
   "cell_type": "markdown",
   "metadata": {},
   "source": [
    "## 선형 자료구조란 무엇인가?\n",
    "\n",
    "우리는 데이터를 저장할 때 문제에 적합한 형태로 데이터의 추가, 제거, 조회 등을 구현하려고 합니다. 이때, 우리가 구현하는 방식에 따라 데이터의 저장 순서, 제거 순서 등을 결정하는 방식이 달라지게 됩니다. 이번에 배울 선형 자료구조는 \\[그림1\\]과 같이 데이터를 연속적으로 나열시킨 형태를 의미하며, 앞서 말한 다양한 방식에 따라 스택, 큐 등으로 부릅니다."
   ]
  },
  {
   "cell_type": "markdown",
   "metadata": {},
   "source": [
    "<center><img src=\"https://github.com/idebtor/DSpy/blob/main/images/chap3/ch3-1.jpg?raw=true\" width=\"60%\" title=\"그림1. 선형 자료구조\"><center>\n",
    "<center>그림 1. 선형 자료구조<center><br>"
   ]
  },
  {
   "cell_type": "markdown",
   "metadata": {},
   "source": [
    "선형 자료구조는 끝이 두 개인 것으로 생각할 수 있습니다. 이는 \"Left\"와 \"Right\"으로 부르기도 하며, 어떤 경우에는 \"Front\"와 \"Rear (or Back)\"으로 지칭되기도 합니다. 또한 이를 \"Top\"과 \"Bottom\"라고 부를 수도 있습니다. 이렇듯, 다양한 선형 자료구조를 구별하는 것은 항목을 추가 및 제거하는 방법, 특히 이러한 추가 및 제거가 발생하는 위치(끝)입니다. 예를 들어 어떤 경우는 한쪽 끝에만 사용하여 데이터를 추가/제거할 수 있고, 어떤 경우에는 양쪽 끝에서 모두 데이터를 추가/제거할 수 있습니다.\n",
    "\n",
    "이런 다양한 선형 자료구조는 효율적인 연산을 가능케하고, 복잡한 문제를 해결하는 알고리즘에 많이 사용될 수 있습니다."
   ]
  },
  {
   "cell_type": "markdown",
   "metadata": {},
   "source": [
    "# 스택이란 무엇인가? (Stack)\n",
    "\n",
    "2.1. 스택 - 추상자료형  \n",
    "2.2. 파이썬으로 스택 구현하기  \n",
    "2.3. 균형된 괄호연산 풀기  \n",
    "2.4. 균형된 기호 (일반적인 경우)  \n",
    "2.5. 십진수를 이진수로 변환하기  "
   ]
  },
  {
   "cell_type": "markdown",
   "metadata": {},
   "source": [
    "## 스택 - 추상자료형\n",
    ": 스택이 무엇인지 알아보고 다양한 기능을 배웁니다."
   ]
  },
  {
   "cell_type": "markdown",
   "metadata": {},
   "source": [
    "__스택(stack)__은 새로운 데이터의 추가와 기존 데이터의 삭제가 항상 같은 __끝__에서 이루어지는 데이터의 컬렉션입니다. 이 __끝__은 일반적으로 __\"Top\"__이라고 부르고, 그 반대쪽 끝은 __\"Base\"__라고 부릅니다.\n",
    "\n",
    "스택은 __LIFO (Last-In First-Out)__의 원칙을 따르며, 영문 그대로 가장 마지막(최근)에 넣은 데이터를 가장 먼저 꺼내게 되는 순서를 갖게됩니다. 또한, 한 데이터가 \"Base\"에 가까울 수록 스택 내에서 오랫동안 보관하고 있는 데이터라는 의미를 갖게됩니다. 이러한 개념을 직관적으로 이해하기 위해 예를 들어 설명하겠습니다."
   ]
  },
  {
   "cell_type": "markdown",
   "metadata": {},
   "source": [
    "<center><img src=\"https://github.com/idebtor/DSpy/blob/main/images/chap3/ch3-2.jpg?raw=true\" width=\"500\" title=\"그림2. 일상에서 볼 수 있는 스택\"><center>\n",
    "<center>그림 2. 일상에서 볼 수 있는 스택<center><br>"
   ]
  },
  {
   "cell_type": "markdown",
   "metadata": {},
   "source": [
    "우리는 일반적으로 책상위에 책을 쌓아둘 때 그림 2와 같이 쌓습니다. 이때, 표지가 보이는 책은 가장 위에 있는 책일 것이고, 이를 다시 말하면 가장 마지막에 올려둔(가장 최근에 올려둔) 책이 될 것입니다. 이 외에 다른 책을 보기 위해선 책더미(스택) 위에 있는 모든 책을 제거해야 비로소 내가 원하는 책을 볼 수 있습니다."
   ]
  },
  {
   "cell_type": "markdown",
   "metadata": {},
   "source": [
    "<center><img src=\"https://github.com/idebtor/DSpy/blob/main/images/chap3/ch3-3.jpg?raw=true\" width=\"500\" title=\"그림3. 스택 (예시)\"></center>\n",
    "<center>그림 3. 스택 (예시)<center><br>"
   ]
  },
  {
   "cell_type": "markdown",
   "metadata": {},
   "source": [
    "그림 3은 파이썬의 기본적인 데이터 객체들을 스택의 형태로 쌓은 것입니다. 그림 2의 책더미와 마찬가지로, 우리가 원하는 데이터 객체에 접근하기 위해서는 가장 위의 데이터부터 차례대로 꺼내야 한다는 것을 알 수 있습니다. 이를 다르게 표현하면, 우리는 데이터를 넣은 순서와 정반대의 순서로 데이터를 제거하게 됩니다. 즉, 삽입 순서는 제거 순서의 역순입니다. 그림 4는 파이썬 데이터 객체를 스택에 넣고 꺼내는 과정을 보여줍니다. 객체들의 순서를 유심히 보세요."
   ]
  },
  {
   "cell_type": "markdown",
   "metadata": {},
   "source": [
    "<center><img src=\"https://github.com/idebtor/DSpy/blob/main/images/chap3/ch3-4.jpg?raw=true\" width=\"500\" title=\"그림4. 스택의 순서도\"></center>\n",
    "<center>그림 4. 스택의 순서도<center><br>"
   ]
  },
  {
   "cell_type": "markdown",
   "metadata": {},
   "source": [
    "이러한 역방향성을 고려하면, 우리가 컴퓨터를 사용할 때 발생하는 스택의 예를 생각해 볼 수 있습니다. 예를 들어, 모든 웹 브라우저에는 뒤로가기 버튼이 있습니다. 한 웹 페이지에서 다음 페이지로 이동할 때 해당 페이지는 스택에 배치됩니다. 현재 보고 있는 페이지는 스택의 맨 위에 있고 처음 본 페이지는 맨 아래에 있을 것입니다. 이후, 우리가 뒤로가기 버튼을 클릭하면 페이지를 역순으로 이동하게 되는 것입니다."
   ]
  },
  {
   "cell_type": "markdown",
   "metadata": {},
   "source": [
    "파이썬에서 스택은 다음과 같은 구조와 메서드로 구현되어있습니다. 스택의 구조는 순서를 갖는 데이터 컬랙션으로, 한 데이터가 \"Top\"이라 불리는 한 끝에서 추가 혹은 삭제됩니다. 스택 구조에 필요한 연산은 다음과 같습니다.\n",
    "\n",
    "* `Stack()` : 새로운 (비어있는) 스택을 생성하여 스택을 반환합니다.\n",
    "* `push(item)` : 스택에 새로운 데이터(item)을 추가합니다.\n",
    "* `pop()` : 스택에 Top에 있는 데이터(item)을 제거하여 반환합니다.\n",
    "* `peek()` : 스택에 Top에 있는 데이터(item)을 확인합니다. Top 원소를 제거하진 않습니다.\n",
    "* `is_empty()` : 스택이 비어있는지 확인하여 불리언 값으로 리턴합니다.\n",
    "* `size()` : 스택에 들어있는 데이터(item)의 수를 반환합니다."
   ]
  },
  {
   "cell_type": "markdown",
   "metadata": {},
   "source": [
    "예를 들어, s라는 빈 스택이 있다고 가정한다면 연산에 대한 스택의 내부와 리턴값은 다음과 같을 것입니다.\n",
    "\n",
    "| Stack Operation | Stack Contents | Return Value |\n",
    "|:---------------:|:--------------:|:------------:|\n",
    "|  `s.is_empty()` |      `[]`      |    `True`    |\n",
    "|   `s.push(4)`   |      `[4]`     |              |\n",
    "| `s.push('dog')` |  `[4, 'dog']`  |              |\n",
    "|   `s.peak()`    |  `[4, 'dog']`  |    `'dog'`   |\n",
    "|  `s.push(True)` |`[4, 'dog', True]`|            |\n",
    "|   `s.size()`    |`[4, 'dog', True]`|    `3`     |\n",
    "|  `s.is_empty()` |`[4, 'dog', True]`|  `False`   |\n",
    "|  `s.push(8.4)`  |`[4, 'dog', True, 8.4]`|       |\n",
    "|    `s.pop()`    |`[4, 'dog', True]`|   `8.4`    |\n",
    "|    `s.pop()`    |  `[4, 'dog']`  |    `True`    |\n",
    "|   `s.size()`    |  `[4, 'dog']`  |      `2`     |\n",
    "\n",
    "\n",
    "<center>표 1. 스택 연산 예시<center><br>\n",
    "  "
   ]
  },
  {
   "cell_type": "markdown",
   "metadata": {},
   "source": [
    "## 파이썬으로 스택 구현하기\n",
    ": 파이썬에서 구현되어 있는 스택을 직접 구현합니다."
   ]
  },
  {
   "cell_type": "markdown",
   "metadata": {},
   "source": [
    "이제 이론으로 배운 스택을 파이썬을 사용하여 구현해보겠습니다. 우리가 1장에서 설명한 것처럼, 파이썬, 즉 객체 지향 프로그래밍 언어에서 스택과 같은 추상 데이터 유형에 대한 구현은 새로운 클래스를 생성하여 만들 수 있습니다. 또한 스택 구조에 필요한 다양한 연산 즉 메서드를 파이썬에서 제공하는 리스트를 활용하여 구현하겠습니다.\n",
    "\n",
    "파이썬은 list 클래스를 통해 인덱싱과 같은 순서 메커니즘과 메서드를 제공합니다. 예를 들어, [2, 5, 3, 6, 7, 4]라는 리스트가 있는 경우, 리스트의 어느 끝이 스택의 맨 위로 간주되고 어느 쪽이 베이스가 되는지만 결정하면 됩니다. 이러한 결정이 내려지면 추가 및 삭제와 같은 리스트 메서드를 사용하여 구현할 수 있습니다.\n",
    "\n",
    "다음 스택 구현(ActiveCode 1)은 리스트의 끝에 스택의 상위(top) 요소가 있다고 가정합니다. 따라서, 스택에 추가 즉 push는, 리스트의 끝에 새 항목을 추가하는 것입니다. pop 메서드 역시 같은 끝을 기준으로 작동합니다."
   ]
  },
  {
   "cell_type": "code",
   "execution_count": null,
   "metadata": {},
   "outputs": [],
   "source": [
    "class Stack:\n",
    "    \"\"\"Stack implementation as a list\"\"\"\n",
    "\n",
    "    def __init__(self):\n",
    "        \"\"\"Create new stack\"\"\"\n",
    "        self._items = []\n",
    "\n",
    "    def is_empty(self):\n",
    "        \"\"\"Check if the stack is empty\"\"\"\n",
    "        return not bool(self._items)\n",
    "\n",
    "    def push(self, item):\n",
    "        \"\"\"Add an item to the stack\"\"\"\n",
    "        self._items.append(item)\n",
    "\n",
    "    def pop(self):\n",
    "        \"\"\"Remove an item from the stack\"\"\"\n",
    "        return self._items.pop()\n",
    "\n",
    "    def peek(self):\n",
    "        \"\"\"Get the value of the top item in the stack\"\"\"\n",
    "        return self._items[-1]\n",
    "\n",
    "    def size(self):\n",
    "        \"\"\"Get the number of items in the stack\"\"\"\n",
    "        return len(self._items)"
   ]
  },
  {
   "cell_type": "markdown",
   "metadata": {},
   "source": [
    "이제 실제로 우리가 구현한 스택 클래스를 사용하여 다음 결과를 출력해보도록 하겠습니다."
   ]
  },
  {
   "cell_type": "code",
   "execution_count": null,
   "metadata": {},
   "outputs": [],
   "source": [
    "s = Stack()\n",
    "\n",
    "print(s.is_empty()) # []\n",
    "s.push(4)           # [4]\n",
    "s.push(\"dog\")       # [dog, 4]\n",
    "print(s.peek())     # [*dog, 4]\n",
    "s.push(True)        # [True, dog, 4]\n",
    "print(s.size())     # [True, dog, 4] -> 3\n",
    "print(s.is_empty()) # [True, dog, 4] -> False\n",
    "s.push(8.4)         # [8.4, True, dog, 4]\n",
    "print(s.pop())      # 8.4 [True, dog, 4]\n",
    "print(s.pop())      # True [dog, 4]\n",
    "print(s.size())     # [dog, 4] -> 2"
   ]
  },
  {
   "cell_type": "markdown",
   "metadata": {},
   "source": [
    "## 균형된 괄호연산 풀기\n",
    ": 스택을 활용한 괄호연산 풀기를 배워봅니다."
   ]
  },
  {
   "cell_type": "markdown",
   "metadata": {},
   "source": [
    "이제 컴퓨터에서 직면하는 가장 대표적인 연산 문제를 스택을 활용하여 다뤄보겠습니다. 우리에게는 다음과 같은 수식은 아주 직관적이고 간단한 산술식일 것입니다.\n",
    "```\n",
    "(2 + 4)*(9 - 4)/(4 + 1)\n",
    "```\n",
    "위 수식과 같이 우리는 컴퓨터가 괄호안에 있는 연산을 먼저 진행한 후, 괄호 밖의 연산을 진행하도록 하여 연산의 순서를 지정해줄 수 있게 합니다.  \n",
    "또한 여러분은 Lisp와 Racket과 같은 프로그래밍 언어를 통하여 다음과 같은 생산자를 본 경험이 있을 수 있습니다.\n",
    "```\n",
    "(defun square(n)\n",
    "    (* n n))\n",
    "```\n",
    "위 함수는 square(제곱)이라는 함수로서, 입력된 n의 제곱값을 리턴해줍니다. 이와 같이, Lisp와 Racket은 아주 많은 괄호를 사용해야 하기로 유명한 언어들 입니다."
   ]
  },
  {
   "cell_type": "markdown",
   "metadata": {},
   "source": [
    "이 두 예제는 모두 괄호를 \"균형있게\" 사용해야 한다는 공통점이 있습니다. __균형된 괄호연산__이란, 괄호의 열고 닫음이 반드시 짝을 이루어 사용되는 식을 의미합니다. 예를 들면 다음과 같은 괄호는 \"균형된\" 괄호입니다.\n",
    "```\n",
    "(()()())\n",
    "((()))\n",
    "(()((()())))\n",
    "```"
   ]
  },
  {
   "cell_type": "markdown",
   "metadata": {},
   "source": [
    "반면 다음 괄호는 \"균형잡히지 않은\" 괄호입니다.\n",
    "```\n",
    "(()()(()\n",
    "(((()))\n",
    "())))\n",
    "```"
   ]
  },
  {
   "cell_type": "markdown",
   "metadata": {},
   "source": [
    "이처럼, 괄호연산이 균형이 잡혀있는지 아닌지를 구분하는 것은 많은 프로그래밍 언어의 구조에서 매우 중요하게 다루어집니다.  \n",
    "따라서 우리는 가장 우선적으로 하나의 문자열이 괄호를 균형있게 사용되었는지 판별하는 알고리즘을 만들어야 합니다. 이 문제를 해결하기 위해선 아주 중요한 특징을 관찰해야 합니다. 우리가 기호를 왼쪽에서 오른쪽으로 읽어드리는 동안, 가장 최근에 사용된 여는 괄호는 반드시 다음에 오는 닫는 괄호와 짝을 이루어야 합니다(그림 5 참조). 또한, 가장 먼저 사용된 여는 괄호는 가장 마지막 닫는 괄호가 나올 때까지 기다려야합니다. 즉, 닫는 괄호의 연산 순서는 여는 괄호의 __역순__임을 알 수 있습니다. _이는 우리가 스택을 사용해야한다는 좋은 힌트가 됩니다._"
   ]
  },
  {
   "cell_type": "markdown",
   "metadata": {},
   "source": [
    "<center><img src=\"https://github.com/idebtor/DSpy/blob/main/images/chap3/ch3-5.jpg?raw=true\" width=\"600\" title=\"Figure 5. Matching Parentheses\"></center>\n",
    "<center>그림 5. 괄호연산의 매칭<center><br>"
   ]
  },
  {
   "cell_type": "markdown",
   "metadata": {},
   "source": [
    "괄호연산을 따라가기 위하여 스택 구조를 사용해야 한다는 것을 이해했다면, 이를 위한 알고리즘은 직관적으로 이해할 수 있을 것입니다. \n",
    "\n",
    "우선 비어있는 스택을 시작으로, 문자열을 왼쪽부터 차례대로 읽으며 진행합니다. 만약 기호가 여는 괄호라면, 스택에 추가(push)하여 이후에 닫는 괄호가 나와야한다는 것을 체크해줍니다. 반대로 기호가 닫는 괄호라면, 스택에서 괄호 하나를 제거(pop)하여 줍니다. 이러한 과정에서 언제든지 닫는 괄호와 짝을 맞추어 스택에서 제거해야 괄호가 없어서 제거할 수 없게 되면, 해당 문자열은 괄호가 균형있게 된 것이 아닙니다. 또한 문자열을 전부 읽었을때 스택은 반드시 비어있어야 균형된 괄호를 갖고 있는 것입니다.  \n",
    "\n",
    "해당 알고리즘을 파이썬으로 구현하면 다음과 같습니다."
   ]
  },
  {
   "cell_type": "code",
   "execution_count": null,
   "metadata": {},
   "outputs": [],
   "source": [
    "def parChecker(symbolString):\n",
    "    s = Stack()                                   # 앞에서 우리가 만든 stack class 입니다. \n",
    "    balanced = True\n",
    "    index = 0\n",
    "    while index < len(symbolString) and balanced:\n",
    "        symbol = symbolString[index]\n",
    "        if symbol == \"(\":\n",
    "            s.push(symbol)\n",
    "        else:\n",
    "            if s.is_empty():\n",
    "                balanced = False\n",
    "            else:\n",
    "                s.pop()\n",
    "\n",
    "        index = index + 1\n",
    "\n",
    "    if balanced and s.is_empty():\n",
    "        return True\n",
    "    else:\n",
    "        return False\n",
    "\n",
    "if __name__ == '__main__':\n",
    "    print(parChecker('((()))'))\n",
    "    print(parChecker('(()'))"
   ]
  },
  {
   "cell_type": "markdown",
   "metadata": {},
   "source": [
    "이 parChecker라는 함수는, 우리가 이전에 만든 Stack 클래스를 사용하여 입력받은 문자열이 괄호를 균형되게 사용되었는지 참/거짓의 불리언 값으로 리턴해줍니다. 앞서 설명했듯이, 현재 기호가 여는 괄호 `(`라면, 스택에 추가(push)하여 주고(line 7-8), 닫는 괄호 `)` 라면, 제거(pop)하는 것을 볼 수 있습니다(line 13). 최종적으로 모든 연산이 완료했을 때 스택이 비어있고 균형된 괄호가 사용되었다면 True, 그렇지 않으면 False를 리턴하여 괄호의 균형을 판단하게 됩니다."
   ]
  },
  {
   "cell_type": "markdown",
   "metadata": {},
   "source": [
    "## 균형된 기호 (일반적인 경우)\n",
    ": 괄호가 아닌 일반적인 기호로 확장하여 생각해봅니다."
   ]
  },
  {
   "cell_type": "markdown",
   "metadata": {},
   "source": [
    "앞서 배운 균형된 괄호연산은 프로그래밍 언어에서 일반적으로 직면하는 많은 균형 문제중에 하나입니다. 괄호 뿐만 아니라, 다양한 종류의 열고 닫는 기호들에 대한 균형을 판단하는 것은 아주 흔하고 중요한 문제입니다. 예를 들어, 파이썬에서 리스트에 사용되는 [], 딕셔너리에 사용되는 {}, 튜플과 산술식에 사용되는 () 등이 있습니다. 특히, 하나의 수식에서 여러 기호를 섞어서 사용하는 경우도 존재합니다.\n",
    "```\n",
    "{{([])}()}\n",
    "[{[()()]}]\n",
    "{[][](){}}\n",
    "```"
   ]
  },
  {
   "cell_type": "markdown",
   "metadata": {},
   "source": [
    "위 예시는 다양한 기호를 균형있게 사용한 예입니다. 이와 반대로 균형 잡히지 않은 예는 다음과 같습니다.\n",
    "```\n",
    "{{()}\n",
    "[[()(]]\n",
    "(([]}}\n",
    "```"
   ]
  },
  {
   "cell_type": "markdown",
   "metadata": {},
   "source": [
    "이와 같이 여러 기호를 섞어서 사용한 경우는 앞에서 구현한 `parChecker` 함수를 확장시켜야 합니다. 전반적인 알고리즘은 비슷하겠지만, 같은 기호에 해당하는 스택에서 올바르게 제거하는 것이 가장 중요한 문제가 될 것입니다. 이를 파이썬으로 구현하면 다음과 같습니다. "
   ]
  },
  {
   "cell_type": "code",
   "execution_count": null,
   "metadata": {},
   "outputs": [],
   "source": [
    "def parChecker(symbolString):\n",
    "    s = Stack()\n",
    "    balanced = True\n",
    "    index = 0\n",
    "    while index < len(symbolString) and balanced:\n",
    "        symbol = symbolString[index]\n",
    "        if symbol in \"([{\":\n",
    "            s.push(symbol)\n",
    "        else:\n",
    "            if s.is_empty():\n",
    "                balanced = False\n",
    "            else:\n",
    "                top = s.pop()\n",
    "                if not matches(top, symbol):\n",
    "                       balanced = False\n",
    "        index = index + 1\n",
    "    if balanced and s.is_empty():\n",
    "        return True\n",
    "    else:\n",
    "        return False\n",
    "\n",
    "def matches(open,close):\n",
    "    openers = \"([{\"\n",
    "    closers = \")]}\"\n",
    "    return openers.index(open) == closers.index(close)\n",
    "\n",
    "\n",
    "if __name__ == '__main__':\n",
    "    print(parChecker('{({([][])}())}'))\n",
    "    print(parChecker('[{()]'))\n"
   ]
  },
  {
   "cell_type": "markdown",
   "metadata": {},
   "source": [
    "여기서 우리는 `matches`라는 보조 함수를 사용하여 간단하게 `parChecker` 함수를 확장하였습니다."
   ]
  },
  {
   "cell_type": "markdown",
   "metadata": {},
   "source": [
    "이처럼, 다양한 괄호 외에도 대부분의 내포 기호들은 균형되게 짝을 이루어서 사용됩니다. 스택은 단순한 구조이지만 컴퓨터공학에 굉장히 중요한 기여를 하고있습니다. 한가지 예시를 더 보도록 하겠습니다."
   ]
  },
  {
   "cell_type": "markdown",
   "metadata": {},
   "source": [
    "## 십진수를 이진수로 변환하기\n",
    ": 이진수를 사용하는 컴퓨터와 십진수를 사용하는 인간의 중간다리를 스택을 활용하여 구현해봅니다."
   ]
  },
  {
   "cell_type": "markdown",
   "metadata": {},
   "source": [
    "컴퓨터공학을 공부하면서 이진수/이진법에 대해 접해본 경험이 있을 것입니다. 컴퓨터에서의 모든 값은 이진수의 문자열(0과 1로 이루어진 문자열)로 존재하기 때문에, 이진법은 컴퓨터공학에서 굉장히 중요합니다. 따라서, 컴퓨터가 사용하는 이진수와 인간이 사용하기 편한 십진수 사이의 변환을 하지 못한다면 우리가 컴퓨터를 사용할때 복잡하고 어색한 방식으로 사용해야할 것입니다."
   ]
  },
  {
   "cell_type": "markdown",
   "metadata": {},
   "source": [
    "정수값은 가장 흔한 데이터 종류 중 하나이고, 이는 컴퓨터 프로그램과 많은 연산에 항상 사용됩니다. 여러분은 중등,고등 교육과정에서 정수에 대해 배우고, 이를 십진수 체계, 혹은 십진법으로 표현했을 것입니다.  \n",
    "십진수 233은 이진수로 표현하면 11101001로 표현될 수 있으며 이는 아래와 같이 각각 해석할 수 있습니다.\n",
    "\n",
    "$\n",
    "2\\times 10^2 + 3\\times 10^1 + 3\\times 10^0\n",
    "$\n",
    "\n",
    "$\n",
    "1\\times2^7+ 1\\times2^6 + 1\\times2^5 + 0\\times2^4+ 1\\times2^3 + 0\\times2^2 + 0\\times 2^1 + 1\\times2^0 \n",
    "$\n",
    "\n",
    "\n"
   ]
  },
  {
   "cell_type": "markdown",
   "metadata": {},
   "source": [
    "이와 같이, 십진수를 이진수로 변환하는 것을 어떻게 쉽게 구현할 수 있을까요? \n",
    "\n",
    "답은 __\"Divide by 2\"__라는 알고리즘을 스택을 활용하여 구현하는 것입니다.  \n",
    "\n",
    "먼저 __\"Divide by 2\"__ 알고리즘은 0보다 큰 정수로 시작하는 것을 전제합니다. 이후, 간단한 반복을 통해 십진수를 2로 나누며 그때의 나머지 값을 기억해둡니다. 나머지 값은, 현재값이 짝수일때는 0, 홀수일때는 1이 될 것이며, 구해진 나머지 값의 순서는 우리가 원하는 이진수의 역순으로 이루어져있을 것입니다. 그림 6을 보면 알 수 있듯이, 역순의 속성을 갖는 문제는 스택을 활용하여 해결할 수 있다는 것을 알 수 있습니다."
   ]
  },
  {
   "cell_type": "markdown",
   "metadata": {},
   "source": [
    "<center><img src=\"https://github.com/idebtor/DSpy/blob/main/images/chap3/ch3-6.jpg?raw=true\" width=\"600\" title=\"Figure 6. Decimal-to-Binary Conversion\"></center>\n",
    "<center>그림 6. 십진수에서 이진수로의 변환<center><br>"
   ]
  },
  {
   "cell_type": "markdown",
   "metadata": {},
   "source": [
    "Divide by 2 알고리즘을 파이썬으로 구현하면 다음과 같습니다. `divideBy2` 함수는 십진수를 입력받아 반복적으로 2를 나누며 연산을 합니다. 이때, 파이썬의 내장함수인 modulo 연산자(%)를 사용하며, 계산된 나머지 값은 이진수의 문자열로 만들어지게 됩니다. 앞서 살펴보았듯이, 계산을 통해 스택에 넣어진 나머지값들은 역순으로 이루어져있기 때문에, 이진수 문자열에 추가할때 오른쪽에 지속적으로 더하여 주는 것을 알 수 있습니다."
   ]
  },
  {
   "cell_type": "code",
   "execution_count": null,
   "metadata": {},
   "outputs": [],
   "source": [
    "def divideBy2(decNumber):\n",
    "    remstack = Stack()\n",
    "\n",
    "    while decNumber > 0:\n",
    "        rem = decNumber % 2\n",
    "        remstack.push(rem)\n",
    "        decNumber = decNumber // 2\n",
    "\n",
    "    binString = \"\"\n",
    "    while not remstack.is_empty():\n",
    "        binString = binString + str(remstack.pop())\n",
    "\n",
    "    return binString\n",
    "\n",
    "print(divideBy2(42))\n"
   ]
  },
  {
   "cell_type": "markdown",
   "metadata": {},
   "source": [
    "`divideBy2` 함수는 십진수 뿐만 아니라 다른 진수 체계에 적용할 수 있도록 확장시킬 수 있습니다. \n",
    "가장 많이 사용하는 체계들은 8진법과 16진법입니다. 예를 들어, 십진법의 233은 8진법으로 $351_8$이며, 16진법으로 $E9_{16}$이며, 다음과 같이 각각 해석할 수 있습니다. \n",
    "\n",
    "\n",
    "$\n",
    "3\\times8^2 + 5\\times8^1 + 1\\times8^0\n",
    "$\n",
    "\n",
    "$\n",
    "14\\times16^1 + 9\\times8^0\n",
    "$"
   ]
  },
  {
   "cell_type": "markdown",
   "metadata": {},
   "source": [
    "다시 말하면, \"Divide by 2\"의 개념을 더욱 일반화된 __\"Divide by base\"__ 로 확장시킬 수 있습니다. 새로운 `baseConverter`라는 함수는 2\\~16진수의 \"Divide by base\"를 구현합니다. 나머지값의 계산과 스택의 사용은 여전히 공통적으로 사용될 수 있습니다. 또한, 정수 문자열의 왼쪽으로 추가하여 특정 진수 체계의 수를 완성시키는 것 역시 기존 함수와 같습니다. 하지만 modulo 연산(%)을 사용하여 구현하게 될 때, 2~10진수 체계에서는 문제가 발생하지 않지만, 10진수 그 이상으로 넘어가게 된다면 문제가 발생하게 됩니다. 이때는 나머지 값 자체가 두 자릿수가 될 수 있기 때문에 단순히 나머지 값을 사용할 수 없게 됩니다. 따라서, 나머지 값이 9를 넘어가는 수를 대비하여 새로운 숫자 집합을 만들어야 합니다. `baseConverter` 함수를 파이썬으로 구현하면 다음과 같습니다."
   ]
  },
  {
   "cell_type": "code",
   "execution_count": null,
   "metadata": {},
   "outputs": [],
   "source": [
    "def baseConverter(decNumber, base):\n",
    "    digits = \"0123456789ABCDEF\"\n",
    "\n",
    "    remstack = Stack()\n",
    "\n",
    "    while decNumber > 0:\n",
    "        rem = decNumber % base\n",
    "        remstack.push(rem)\n",
    "        decNumber = decNumber // base\n",
    "\n",
    "    newString = \"\"\n",
    "    while not remstack.is_empty():\n",
    "        newString = newString + digits[remstack.pop()]\n",
    "\n",
    "    return newString\n",
    "\n",
    "print(baseConverter(26,2))\n",
    "print(baseConverter(26,16))\n"
   ]
  },
  {
   "cell_type": "markdown",
   "metadata": {},
   "source": [
    "위 코드에서 사용한 해법은 새로운 숫자집합으로 알파벳을 뒤에 추가하였습니다. 예를들어, 16진수 체계에서 앞에 열 숫자는 십진수(0\\~9)까지 사용하고, 이후 여섯 숫자는 앞 여섯 알파벳(A~F)을 사용합니다. line 2에서 구현한바와 같이, 숫자 체계로 사용할 숫자들을 문자열로 선언한 후에 스택에서 빼낸 나머지값에 해당하는 위치의 숫자를 채택하여 문자열에 추가하게 됩니다. 예를들어, 위의 예시에서 십진수의 26을 16진수로 바꿀때, 10에 해당하는 나머지는 digits라는 숫자 체계에서 10번째에 위치한 A로 결정되어 1A가 되게 됩니다."
   ]
  },
  {
   "cell_type": "markdown",
   "metadata": {},
   "source": [
    "# Summary"
   ]
  },
  {
   "cell_type": "markdown",
   "metadata": {},
   "source": [
    "이번 시간은 선형 자료구조와 스택, 그리고 진수 변환법에 대해 배웠습니다. 앞으로 다양한 선형 자료구조를 배우게 될 것이며, 가장 대표적으로 많이 사용되는 스택은 개인적으로 복습하여 완전히 이해하고 넘어가시길 바랍니다."
   ]
  },
  {
   "cell_type": "markdown",
   "metadata": {},
   "source": [
    "# Discussion & Questions"
   ]
  },
  {
   "cell_type": "markdown",
   "metadata": {},
   "source": [
    "# Exercises\n",
    "\n",
    "## 스택을 리스트로 가져오기와 출력하기\n",
    "\n",
    "스택을 다루다 보면, 스택의 데이터를 출력해보고 싶을 때가 종종 있습니다. 여기서는 두 가지 다른 방법을 구현해보도록합니다. "
   ]
  },
  {
   "cell_type": "markdown",
   "metadata": {},
   "source": [
    "### Step 1: `__str__()` 메소드 재정의하기\n",
    "\n",
    "첫 번째 가장 간단한 방법은 `__str__` 메소드를 재정의하는 방법입니다. \n",
    "\n",
    "`__str__`에 대해 다음 설명을 참조하십시오. \n",
    "\n",
    ">The `__str__` method in Python represents the class objects as a string – it can be used for classes. The __str__ method should be defined in a way that is easy to read and outputs all the members of the class. This method is also used as a debugging tool when the members of a class need to be checked.\n",
    "\n",
    "다음 두 함수가 실행될 때, 그 객체의 클래스에 정의된 `__str__` 메소드가 호출되며, 그 메소드는 문자열(str)을 반환합니다. \n",
    "- `print()`\n",
    "- `str()`\n",
    "\n",
    "`__str__()`메소드는 모든 파이썬 클래스에 존재하는 디폴트 메소드들 중에 하나입니다. 이 메소드는 객체를 str으로 표현할 때 즉 객체를 출력할 때 사용할 수 있도록 객체의 str표기 방법입니다. 우리가 위에서 구현한 Stack 클래스는 `__str__` 메소드를 재정의하지 않았기 때문에, `print(orig)`을 실행하면 그 결과는 다음과 같이 객체의 메모리 주소가 출력됩니다. "
   ]
  },
  {
   "cell_type": "markdown",
   "metadata": {},
   "source": [
    "```\n",
    "print(orig)\n",
    "print(orig.__str__())\n",
    "\n",
    "<__main__.Stack object at 0x0000014A14DFF250>\n",
    "<__main__.Stack object at 0x0000014A14DFF250>\n",
    "```"
   ]
  },
  {
   "cell_type": "code",
   "execution_count": null,
   "metadata": {},
   "outputs": [],
   "source": [
    "orig = Stack()\n",
    "for item in ['to', 'be', 'or', 'not', 'to', 'be', 'that', 'is', 'the', 'question']:\n",
    "    orig.push(item)\n",
    "    \n",
    "print(orig)\n",
    "print(orig.__str__())"
   ]
  },
  {
   "cell_type": "markdown",
   "metadata": {},
   "source": [
    "Stack 클래스의 `__str__` 메소드를 재정의하여 아래와 같이 출력하십시오. 힌트: `list`, `str`, 리스트를 reverse하는 내장함수 등을 사용하십시오. 원래의 Stack의 내용은 변함이 없어야 합니다. "
   ]
  },
  {
   "cell_type": "markdown",
   "metadata": {},
   "source": [
    "__Sample Run:__\n",
    "```\n",
    "# testing \n",
    "orig = Stack()\n",
    "for item in ['to', 'be', 'or', 'not', 'to', 'be', 'that', 'is', 'the', 'question']:\n",
    "    orig.push(item)\n",
    "\n",
    "print('stack size:{} top:{}'.format(orig.size(), orig.peek()))\n",
    "print(orig)\n",
    "print('stack size:{} top:{}'.format(orig.size(), orig.peek()))\n",
    "```\n",
    "__Output:__\n",
    "```\n",
    "stack size: 10 top: question\n",
    "['question', 'the', 'is', 'that', 'be', 'to', 'not', 'or', 'be', 'to']\n",
    "stack size: 10 top: question\n",
    "```"
   ]
  },
  {
   "cell_type": "code",
   "execution_count": null,
   "metadata": {},
   "outputs": [],
   "source": [
    "class Stack:\n",
    "    \"\"\"Stack implementation as a list\"\"\"\n",
    "\n",
    "    def __init__(self):\n",
    "        \"\"\"Create new stack\"\"\"\n",
    "        self._items = []\n",
    "\n",
    "    def is_empty(self):\n",
    "        \"\"\"Check if the stack is empty\"\"\"\n",
    "        return not bool(self._items)\n",
    "\n",
    "    def push(self, item):\n",
    "        \"\"\"Add an item to the stack\"\"\"\n",
    "        self._items.append(item)\n",
    "\n",
    "    def pop(self):\n",
    "        \"\"\"Remove an item from the stack\"\"\"\n",
    "        return self._items.pop()\n",
    "\n",
    "    def peek(self):\n",
    "        \"\"\"Get the value of the top item in the stack\"\"\"\n",
    "        return self._items[-1]\n",
    "\n",
    "    def size(self):\n",
    "        \"\"\"Get the number of items in the stack\"\"\"\n",
    "        return len(self._items)\n",
    "    \n",
    "    def __str__(self):\n",
    "        None\n",
    "        \n",
    "if __name__ == '__main__':\n",
    "    orig = Stack()\n",
    "    for item in ['to', 'be', 'or', 'not', 'to', 'be', 'that', 'is', 'the', 'question']:\n",
    "        orig.push(item)\n",
    "\n",
    "    print('stack size:{} top:{}'.format(orig.size(), orig.peek()))\n",
    "    print(orig)\n",
    "    print('stack size:{} top:{}'.format(orig.size(), orig.peek()))"
   ]
  },
  {
   "cell_type": "markdown",
   "metadata": {},
   "source": [
    "### Step 2: Pop the stack and populate it again.\n",
    "\n",
    "두 번째 방법으로, 우리가 위에 만든 `Stack`은 `list` 타입을 사용하여 구현한 것을 알고 있지만, 그 사실과 관계없이 (혹은 Encapsulation의 원칙에 따라) 기존의 제공되는 메소드들을 통해 `Stack`을 list로 변환하는 일을 수행하려고 합니다. 스택을 리스트로 변환하여 반환하는 함수를 제공하고, 사용자는 그 리스트 받아서 출력하면 됩니다. 물론, 스택 톱부터 시작하는 리스트가 되어야 합니다. \n",
    "\n",
    "그러므로, 주어진 원래의 스택(`orig`)이 empty가 될 때까지 `pop`하면서 리스트를 만듭니다. 다만, 원래의 스택(`orig`)을 다시 복구할 수 있도록 `pop`하는 원소들을 임시 스택(`temp`)에 `push` 합니다. 그리고, 리스트를 다 만든 후에 즉 원래의 스택(`orig`)이 empty가 되었을 때, 이제 임시 스택을 모두 `pop`하여 다시 empty가 되어버린 원래의 스택에 `push`하여, 원래의 스택을 원상 회복을 합니다. 이를 구현하는 알고리즘은 다음과 같습니다. "
   ]
  },
  {
   "cell_type": "markdown",
   "metadata": {},
   "source": [
    "Algorithm: \n",
    "```\n",
    "    - Given a stack called orig.\n",
    "    \n",
    "    - Create an empty stack called temp.\n",
    "    \n",
    "    - While orig is not empty,   \n",
    "        pop an item from orig    \n",
    "        append it to the list    \n",
    "        push it to temp.\n",
    "        \n",
    "    - While temp is not empty,   \n",
    "        pop an item from temp   \n",
    "        push it to orig.  \n",
    "```"
   ]
  },
  {
   "cell_type": "markdown",
   "metadata": {},
   "source": [
    "위의 알고리즘을 이용하여, Stack의 모든 item들을 모두 리스트로 변환하여 반환하는 toList 함수를 작성하십시오. "
   ]
  },
  {
   "cell_type": "markdown",
   "metadata": {},
   "source": [
    "__Sample Run:__\n",
    "```\n",
    "# testing code\n",
    "orig = Stack()\n",
    "for item in ['to', 'be', 'or', 'not', 'to', 'be', 'that', 'is', 'the', 'question']:\n",
    "    orig.push(item)\n",
    "\n",
    "print('stack size:{} top:{}'.format(orig.size(), orig.peek()))\n",
    "print(toList(orig))\n",
    "print('stack size:{} top:{}'.format(orig.size(), orig.peek()))\n",
    "```\n",
    "__Output:__\n",
    "```\n",
    "stack size:10 top:question\n",
    "['question', 'the', 'is', 'that', 'be', 'to', 'not', 'or', 'be', 'to']\n",
    "stack size:10 top:question\n",
    "```\n",
    "\n",
    "__Your code below:__"
   ]
  },
  {
   "cell_type": "code",
   "execution_count": null,
   "metadata": {},
   "outputs": [],
   "source": [
    "def toList(orig):\n",
    "    temp = Stack()\n",
    "    stackList = []\n",
    "    \n",
    "    None\n",
    "    \n",
    "    return stackList\n",
    "\n",
    "# testing code\n",
    "if __name__ == '__main__':\n",
    "    orig = Stack()\n",
    "    for item in ['to', 'be', 'or', 'not', 'to', 'be', 'that', 'is', 'the', 'question']:\n",
    "        orig.push(item)\n",
    "\n",
    "    print('stack size:{} top:{}'.format(orig.size(), orig.peek()))\n",
    "    print(toList(orig))\n",
    "    print('stack size:{} top:{}'.format(orig.size(), orig.peek()))"
   ]
  },
  {
   "cell_type": "markdown",
   "metadata": {},
   "source": [
    "## 스택을 구현하여 문제 해결하기\n",
    "\n",
    "평소에 공부를 싫어한 김한동 학생은 단기 기억력이 좋은 사람이다. 한동이는 시험기간이 되자 좋은 점수를 받기 위하여 나름의 벼락치기 전략을 세웠다. 그 전략은, __공부는 시험범위 순서대로 하고 시험 문제를 풀때는 범위 뒤에서부터 풀어서__ 가장 최근에 암기한 것을 확실히 맞추는 전략이었다. 예를들어, 시험범위가 여섯 챕터 과목은 시험지 마지막에서부터 풀어서 챕터 6부터 챕터 1의 순서로 풀어나가는 것이다. 시험 질문지는 18개의 주제들 가운데, 무작위로 열 개(n = 10)의 주제가 나오며, 이 시험 질문지는 `set_exam(n = 10)` 함수가 반환합니다.    \n",
    "하지만, 집중력이 좋지 못한 한동이는, 3개의 주제 이상을 공부하면 잡생각이 들어 하나의 주제를 잘못된 정보를 암기한다. 그리고, 그 이후, 5번째 주제부터 3개의 주제는 다시 정신차려서 정상적으로 암기를 하게된다. 그리고 이러한 패턴으로 공부를 반복한다. (즉 4번째, 8번째, ... 등등 주제들은 잘못하고 있다는 것입니다)\n",
    "\n",
    "딕셔너리를 사용하여 시험 문제가 주어졌을때, 한동이가 점수와 맞은 문제 주제들을 출력하십시오. 한동이가 보는 시험은 문제당 10점입니다. 여기서 주어진 문제는 반드시 스택을 사용하여 풀어야 합니다. "
   ]
  },
  {
   "cell_type": "markdown",
   "metadata": {},
   "source": [
    "### Step 1. 시험 문제 만들기\n",
    "\n",
    "아래 코드와 같이 18개의 주제(key & value pair)로 `study_contents`가 `dict` 형식으로 주어졌을 때, 무작위로 `n` 문제를 택하여 반환하는 `set_exam(n = 10)` 함수를 완성하십시오 \n",
    "\n",
    "힌트: 딕셔너리의 원소들은 `.items()`을 사용하여 접근할 수 있으며, `random.sample()`함수를 사용하면 편리합니다. \n",
    "\n",
    "__Sample Run:__\n",
    "```\n",
    "10\n",
    "[('chapter1-2', 'with'), ('chapter3-2', 'and'), ('chapter5-3', 'good'), ('chapter6-1', 'all'), ('chapter1-3', 'python'), ('chapter2-2', 'fall'), ('chapter5-1', 'God'), ('chapter4-1', 'you'), ('chapter5-2', 'is'), ('chapter4-2', 'can')]\n",
    "```"
   ]
  },
  {
   "cell_type": "code",
   "execution_count": null,
   "metadata": {},
   "outputs": [],
   "source": [
    "# 시험에 나올만한 18개의 주제\n",
    "study_contents = {'chapter1-1':'data structure','chapter1-2':'with','chapter1-3':'python',\n",
    "                 'chapter2-1':'2021','chapter2-2':'fall','chapter2-3':'semester',\n",
    "                 'chapter3-1':'fun', 'chapter3-2':'and', 'chapter3-3':'interesting',\n",
    "                 'chapter4-1':'you', 'chapter4-2':'can', 'chapter4-3':'do it!',\n",
    "                 'chapter5-1':'God', 'chapter5-2':'is',  'chapter5-3':'good',\n",
    "                 'chapter6-1':'all', 'chapter6-2':'the', 'chapter6-3':'time'}"
   ]
  },
  {
   "cell_type": "code",
   "execution_count": null,
   "metadata": {},
   "outputs": [],
   "source": [
    "import random\n",
    "\n",
    "def set_exam(): \n",
    "    return None\n",
    "\n",
    "if __name__ == '__main__':\n",
    "    exam_questions = set_exam()\n",
    "    print(len(exam_questions))\n",
    "    print(exam_questions)"
   ]
  },
  {
   "cell_type": "markdown",
   "metadata": {},
   "source": [
    "### Step 2. 공부한 주제들을 `my_brain`에 저장하기\n",
    "\n",
    "다음 `set_mybrain()` 한동이가 공부한 것을 머리에 채워 스택(`my_brain`)으로 반환하는 메소드 코드를 완성하십시오.\n",
    "\n",
    "한동이 공부한 주제들을 저장할 `my_brain`을 Stack()으로 만듭니다. 한동이는 `stduy_contents`의 모든 `item`들을 차례대로 공부하니까, 처음부터 공부한 주제(key, value)들은 `my_brain`에 그대로 `push`하지만, 매 4번째 주제는 `key`는 입력하되 `value`는 `None` 혹은 다른 값을 입력합니다. \n",
    "\n",
    "__Sample Run:__\n",
    "```\n",
    "size: 18\n",
    "peek: ('chapter6-3', 'time')\n",
    "```"
   ]
  },
  {
   "cell_type": "code",
   "execution_count": null,
   "metadata": {},
   "outputs": [],
   "source": [
    "def set_mybrain(study_contents):\n",
    "    my_brain = Stack()                          # 앞에서 구현한 Stack()을 사용합니다.\n",
    "                                                ## push all contents in stack(한동이)\n",
    "    None\n",
    "    \n",
    "    return my_brain\n",
    "\n",
    "if __name__ == '__main__':\n",
    "    my_brain = set_mybrain(study_contents)\n",
    "    print('size:', my_brain.size())\n",
    "    print('peek:', my_brain.peek())"
   ]
  },
  {
   "cell_type": "markdown",
   "metadata": {},
   "source": [
    "### Step 3. Exam Time\n",
    "한동이가 가장 최근에 공부한 내용이 `my_brain`(스택)을 차례대로 하나씩 `pop`하면서, 그 내용(key, value)이  `exam_questions`에 있는지 확인하면서 일치하는 횟수를 count하면 됩니다. 물론, 한동이가 잘못 공부한 내용`(key, None)`같은 것은 `exam_questions`에 나타나지 않을 것입니다. \n",
    "\n",
    "아래 코드 셀을 반복해서 실행할 수 있도록 작성하십시오. 즉 아래 코드 셀을 반복 실행할 때마다, `my_brain, exam_questions`은 새로 설정되고, 시험 결과도 달라질 수 있습니다. \n",
    "\n",
    "__Sample Run:__\n",
    "```\n",
    "('chapter6-2', 'the')\n",
    "('chapter5-2', 'is')\n",
    "('chapter5-1', 'God')\n",
    "('chapter3-1', 'fun')\n",
    "('chapter2-2', 'fall')\n",
    "('chapter1-3', 'python')\n",
    "('chapter1-1', 'data structure')\n",
    "Total Score: 70점\n",
    "```"
   ]
  },
  {
   "cell_type": "code",
   "execution_count": null,
   "metadata": {},
   "outputs": [],
   "source": [
    "## Exam Time\n",
    "\n",
    "None\n",
    "\n",
    "print(\"Total Score: {} Points\".format(correct*10))"
   ]
  },
  {
   "cell_type": "markdown",
   "metadata": {},
   "source": [
    "# References\n",
    "- Implementing a Stack in Python¶, [Here](https://runestone.academy/runestone/books/published/pythonds3/BasicDS/ImplementingaStackinPython.html)\n",
    "- Python-추상적 자료형(ADT)과 자료 구조(Data Structure), [Here](https://ybdata-sci.tistory.com/16)\n"
   ]
  },
  {
   "cell_type": "markdown",
   "metadata": {},
   "source": [
    "------\n",
    "예수께서 대답하여 이르시되 기록되었으되 사람이 떡으로만 살 것이 아니요 하나님의 입으로부터 나오는 모든 말씀으로 살 것이라 하였느니라 하시니 (마4:4)"
   ]
  }
 ],
 "metadata": {
  "kernelspec": {
   "display_name": "Python 3 (ipykernel)",
   "language": "python",
   "name": "python3"
  },
  "language_info": {
   "codemirror_mode": {
    "name": "ipython",
    "version": 3
   },
   "file_extension": ".py",
   "mimetype": "text/x-python",
   "name": "python",
   "nbconvert_exporter": "python",
   "pygments_lexer": "ipython3",
   "version": "3.8.12"
  },
  "toc-autonumbering": true
 },
 "nbformat": 4,
 "nbformat_minor": 4
}

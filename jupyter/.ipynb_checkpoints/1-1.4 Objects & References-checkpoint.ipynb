{
 "cells": [
  {
   "cell_type": "markdown",
   "metadata": {},
   "source": [
    "그런즉 너희가 먹든지 마시든지 무엇을 하든지 다 하나님의 영광을 위하여 하라 (고전10:31)\n",
    "\n",
    "-------\n",
    "\n",
    "<center><img src=\"https://github.com/idebtor/DSpy/blob/6b3676c3de29f85d2e7f30679676d1fd96d88b17/images/WelcomeToDataStructures.jpg?raw=true\" width=1000></center>"
   ]
  },
  {
   "cell_type": "markdown",
   "metadata": {},
   "source": [
    "__NOTE:__ The following materials have been compiled and adapted from the numerous sources including my own. Please help me to keep this tutorial up-to-date by reporting any issues or questions. Send any comments or criticisms to `idebtor@gmail.com` Your assistances and comments will be appreciated."
   ]
  },
  {
   "cell_type": "markdown",
   "metadata": {},
   "source": [
    "#  Objects & References"
   ]
  },
  {
   "cell_type": "markdown",
   "metadata": {},
   "source": [
    "## 데이터 활용 시작하기\n",
    "\n",
    "파이썬은 효과적인 문제 해결을 위하여 바로 사용할 수 있는 많은 내장(built-in)된 데이터 타입을 제공합니다. 이는 객체 지향 프로그래밍에서 사용되는 다양한 클래스와 객체, 그리고 그 데이터로 수행할 수 있는 연산을 지원하여 보다 효과적인 프로그램을 쉽게 구현할 수 있도록 합니다.\n",
    "\n",
    "파이썬에서는 Numeric, Boolean, Dictionary, Sequence Type 등의 다양한 내장 데이터 타입을 가지고 있습니다. \n",
    "\n",
    "> Text Type:\t`str`   \n",
    "> Numeric Types:\t`int, float, complex`   \n",
    "> Sequence Types:\t`list, tuple, range`   \n",
    "> Mapping Type:\t`dict`   \n",
    "> Set Types:\t`set, frozenset`   \n",
    "> Boolean Type:\t`bool`   "
   ]
  },
  {
   "cell_type": "markdown",
   "metadata": {},
   "source": [
    "<center><img src=\"https://github.com/idebtor/DSpy/blob/96c2b99c70b84d4b11177b6ce2167f5ff0280709/images/chap1/Chapter%201-4.png?raw=true\" title=\"그림1. 파이썬 내장 데이터 타입\"></center>\n",
    "<center>그림 1. 파이썬 내장 데이터 타입</center>"
   ]
  },
  {
   "cell_type": "markdown",
   "metadata": {},
   "source": [
    "## Built-in Atomic Data Types\n",
    "\n",
    "### Numeric class\n",
    "숫자를 나타내는 데이터 타입으로, 정수형(int), 실수형(float), 복소수형(complex)이 존재합니다.  \n",
    "Numeric class는 다음과 같은 Operator를 사용합니다.  \n",
    "`(+,-,\\*,/,**,(),%,//)`\n",
    "\n",
    "* `( )` (parenthesis grouping)\n",
    "* `**`  (exponentiation)\n",
    "* `*`   (multiplication), \n",
    "* `/`(true division), \n",
    "* `//`(integer division) - also called __floor division__ since applying the floor function after division.\n",
    "* `%`(modulus) - remainder of the division of the two operands, rather than the quotient\n",
    "* `+`, `-` (addition, subtraction)"
   ]
  },
  {
   "cell_type": "code",
   "execution_count": null,
   "metadata": {},
   "outputs": [],
   "source": [
    "print(2 + 3 * 4)   # 14\n",
    "print((2 + 3) * 4) # 20\n",
    "print(2 ** 10)     # 1024\n",
    "print(7 / 3)       # 2.33333333\n",
    "print(7 % 2)       # 1\n",
    "print(5 // 2)      # 2"
   ]
  },
  {
   "cell_type": "markdown",
   "metadata": {},
   "source": [
    "### __Boolean class__  \n",
    "참과 거짓을 나타내는 데이터 타입으로, `if`와 `while` 등의 조건문에서 주로 사용됩니다. 이는 각각 숫자 1과 0으로 나타낼 수 있습니다.  \n",
    "Boolean 클래스에서 사용되는 Operator들은 다음과 같습니다.  \n",
    "논리형: `and, or, not`  \n",
    "관계형: `<, >, <=, >=, ==, !=`"
   ]
  },
  {
   "cell_type": "code",
   "execution_count": null,
   "metadata": {
    "scrolled": true
   },
   "outputs": [],
   "source": [
    "print(True and False) # False\n",
    "print(True or False)  # True\n",
    "print(10 > 5**2)      # False"
   ]
  },
  {
   "cell_type": "markdown",
   "metadata": {},
   "source": [
    "## Built-in Collection Data Types\n",
    "\n",
    "파이썬에서는 순서가 있는 복수의 데이터 모음으로 Sequence Type을 지원합니다.  \n",
    "\n",
    "### __List class__  \n",
    "다른 프로그래밍 언어에서는 array와 list를 지원하는 반면 파이썬은 list만 지원합니다. list는 다양한 형태의 데이터를 가질 수 있으며 중복된 데이터를 저장할 수 있다는 특징을 가지고 있습니다. \n",
    "\n",
    "|Operation Name|Operator|Explanation|\n",
    "|:---:|:---:|:---:|\n",
    "|indexing|[]|Access an element of sequence|\n",
    "|concatenation|+|Combine sequences together|\n",
    "|repetition|*|Concatenate a repeated number of times|\n",
    "|membership|in|Ask whether an item is in a sequence|\n",
    "|length|len|Ask the number of items in the sequence|\n",
    "|slicing|[:]|Extract a part of a sequence|\n",
    "  \n",
    "  \n",
    "<center>표1. list operator</center>"
   ]
  },
  {
   "cell_type": "code",
   "execution_count": null,
   "metadata": {},
   "outputs": [],
   "source": [
    "my_list = [1, 2, 3, 4]\n",
    "big_list = [my_list] * 3\n",
    "print(big_list)\n",
    "my_list[2] = 45\n",
    "print(big_list)"
   ]
  },
  {
   "cell_type": "markdown",
   "metadata": {},
   "source": [
    "List class는 다양한 Operator를 사용 가능하고 다양한 함수를 지원합니다. \n",
    "\n",
    "|Method Name|Use|Explanation|\n",
    "|:---:|:---:|:---:|\n",
    "|append|a_list.append(item)|Adds a new item to the end of a list|\n",
    "|insert|a_list.insert(i,item)|Inserts an item at the ith position in a list|\n",
    "|pop|a_list.pop()|Removes and returns the last item in a list|\n",
    "|pop|a_list.pop(i)|Removes and returns the ith item in a list|\n",
    "|sort|a_list.sort()|Sorts a list in place|\n",
    "|reverse|a_list.reverse()|Modifies a list to be in reverse order|\n",
    "|del|del a_list[i]|Deletes the item in the ith position|\n",
    "|index|a_list.index(item)|Returns the index of the first occurrence of item|\n",
    "|count|a_list.count(item)|Returns the number of occurrence of item|\n",
    "|remove|a_list.remove(item)|Removes the first occurrence of item|\n",
    "\n",
    "<center>표2. list methods</center>"
   ]
  },
  {
   "cell_type": "code",
   "execution_count": null,
   "metadata": {},
   "outputs": [],
   "source": [
    "my_list = [1024, 3, True, 6.5]\n",
    "print(my_list)"
   ]
  },
  {
   "cell_type": "code",
   "execution_count": null,
   "metadata": {},
   "outputs": [],
   "source": [
    "my_list.append(False)\n",
    "print(my_list)"
   ]
  },
  {
   "cell_type": "code",
   "execution_count": null,
   "metadata": {},
   "outputs": [],
   "source": [
    "my_list.insert(2, 4.5)\n",
    "print(my_list)"
   ]
  },
  {
   "cell_type": "code",
   "execution_count": null,
   "metadata": {},
   "outputs": [],
   "source": [
    "print(my_list.pop())\n",
    "print(my_list)"
   ]
  },
  {
   "cell_type": "code",
   "execution_count": null,
   "metadata": {},
   "outputs": [],
   "source": [
    "my_list.sort()\n",
    "print(my_list)"
   ]
  },
  {
   "cell_type": "markdown",
   "metadata": {},
   "source": [
    "### __String class__  \n",
    "문자열은 0개 혹은 그 이상의 숫자, 문자, 심볼 등의 시퀀스/캐릭터(Character)의 집합입니다. 파이썬에서의 문자열은 `list`와 비슷하게 indexing,slicing,concatenation 등의 연산이 가능하지만, __불변형(immutable)__의 특징을 가지고 있어 인덱싱의 방법으로 데이터의 변경은 불가능합니다.   \n",
    "문자열은` ' `(single quote), `\"` (double quote) 혹은 `\"\"\"` (triple quote)를 사용하여 나타냅니다."
   ]
  },
  {
   "cell_type": "code",
   "execution_count": null,
   "metadata": {},
   "outputs": [],
   "source": [
    "my_greet = \"God is good, All the time!\"\n",
    "print(my_greet)"
   ]
  },
  {
   "cell_type": "code",
   "execution_count": null,
   "metadata": {},
   "outputs": [],
   "source": [
    "print(type('King'))\n",
    "print(type(\"David\"))"
   ]
  },
  {
   "cell_type": "code",
   "execution_count": null,
   "metadata": {},
   "outputs": [],
   "source": [
    "len(my_greet)"
   ]
  },
  {
   "cell_type": "markdown",
   "metadata": {},
   "source": [
    "- String class는 다양한 함수를 지원합니다.  "
   ]
  },
  {
   "cell_type": "markdown",
   "metadata": {},
   "source": [
    "|Method Name|Use|Explanation|\n",
    "|:---:|:---:|:---:|\n",
    "|center|a_string.center(w)|Returns a string centered in a field of size w|\n",
    "|count|a_string.count(item)|Returns the number of occurrences of item in the string|\n",
    "|ljust|a_string.ljust(w)|Returns a string left-justified in a field of size w|\n",
    "|lower|a_string.lower()|Returns a string in all lowercase|\n",
    "|rjust|a_string.rjust(w)|Returns a string right-justified in a field of size w|\n",
    "|find|a_string.find(item)|Returns the index of the first occurrence of item|\n",
    "|split|a_string.split(s_char)|Splits a string into substrings at s_char|\n",
    "\n",
    "<center>표3. string methods</center>"
   ]
  },
  {
   "cell_type": "code",
   "execution_count": null,
   "metadata": {},
   "outputs": [],
   "source": [
    "my_greet.upper()"
   ]
  },
  {
   "cell_type": "code",
   "execution_count": null,
   "metadata": {},
   "outputs": [],
   "source": [
    "my_greet.find(\"A\")"
   ]
  },
  {
   "cell_type": "code",
   "execution_count": null,
   "metadata": {},
   "outputs": [],
   "source": [
    "my_greet.split(\",\")"
   ]
  },
  {
   "cell_type": "markdown",
   "metadata": {},
   "source": [
    "### __Tuple class__  \n",
    "튜플은 데이터의 변경이 불가능한 __\"불변형 시퀀스 데이터형\"__ 입니다. Tuples는 괄호`()`안에 쉼표 구분값으로 작성됩니다. `list`와 마찬가지로 중복된 데이터를 저장할 수 있고 `list`에 사용가능했던 다양한 Operation들을 활용할 수 있습니다.  \n",
    "튜플은 주로 enumerate, dictionary items 등의 <b>불변하는</b> 데이터 활용에 주로 사용됩니다.\n"
   ]
  },
  {
   "cell_type": "code",
   "execution_count": null,
   "metadata": {},
   "outputs": [],
   "source": [
    "my_tuple = (2, True, 4.96)\n",
    "print(my_tuple)"
   ]
  },
  {
   "cell_type": "code",
   "execution_count": null,
   "metadata": {},
   "outputs": [],
   "source": [
    "my_tuple[1] = False"
   ]
  },
  {
   "cell_type": "markdown",
   "metadata": {},
   "source": [
    "### __Set class__  \n",
    "집합은 튜플과 반대로 가변형의 <b>중복이 불가능한</b> 비 시퀀스 데이터형 입니다. 집합은 숫자형, string, btye, range, tuple은 요소로 가질 수 있으나, list, dictionary, set, bytearray는 가질 수 없습니다.  \n",
    "수학의 집합 연산을 지원하며, 합집합, 교집합, 차집합, 대칭차 등의 함수를 사용할 수 있습니다."
   ]
  },
  {
   "cell_type": "code",
   "execution_count": null,
   "metadata": {},
   "outputs": [],
   "source": [
    "my_set = {3, 6, 'cat', 4.5, 4.5, False}\n",
    "print(my_set)"
   ]
  },
  {
   "cell_type": "markdown",
   "metadata": {},
   "source": [
    "- set에서 제공하는 연산자"
   ]
  },
  {
   "cell_type": "markdown",
   "metadata": {},
   "source": [
    "|Operation Name|Operator|Explanation|\n",
    "|:---:|:---:|:---:|\n",
    "|membership|in|Set membership|\n",
    "|length|len|Returns the cardinality of the set|\n",
    "|or|a_set or other_set|Returns a new set with all elements from both sets|\n",
    "|&|a_set & other_set|Returns a new set with only those elements common to both sets|\n",
    "|-|a_set - other_set|Returns a new set with all items from the first set not in the second|\n",
    "|<=|a_set <= other_set|Asks whether all elements of the first set are in the second|\n",
    "  \n",
    "  \n",
    "<center>표4. set operator</center>"
   ]
  },
  {
   "cell_type": "code",
   "execution_count": null,
   "metadata": {},
   "outputs": [],
   "source": [
    "len(my_set)"
   ]
  },
  {
   "cell_type": "code",
   "execution_count": null,
   "metadata": {},
   "outputs": [],
   "source": [
    "False in my_set"
   ]
  },
  {
   "cell_type": "code",
   "execution_count": null,
   "metadata": {},
   "outputs": [],
   "source": [
    "\"dog\" in my_set"
   ]
  },
  {
   "cell_type": "markdown",
   "metadata": {},
   "source": [
    "- python에서 set과 관련된 다양한 함수를 제공합니다."
   ]
  },
  {
   "cell_type": "markdown",
   "metadata": {},
   "source": [
    "|Method Name|Use|Explanation|\n",
    "|:---:|:---:|:---:|\n",
    "|union|a_set.union(other_set)|Returns a new set with all elements from|\n",
    "|intersection|a_set.intersection(other_set)|Returns a new set with only those elements common to both sets|\n",
    "|difference|a_set.difference(other_set)|Returns a new set with all items from the first set not in the second|\n",
    "|issubset|a_set.issubset(other_set)|Asks whether all elements of one set are in the other|\n",
    "|add|a_set.add(item)|Adds items to the set|\n",
    "|remove|a_set.remove(item)|Removes item from the set|\n",
    "|pop|a_set.pop()|Removes an arbitrary element from the set|\n",
    "|clear|a_set.clear()|Removes all elements from the set|\n",
    "\n",
    "<center>표5. set methods</center>"
   ]
  },
  {
   "cell_type": "code",
   "execution_count": null,
   "metadata": {},
   "outputs": [],
   "source": [
    "my_set"
   ]
  },
  {
   "cell_type": "code",
   "execution_count": null,
   "metadata": {},
   "outputs": [],
   "source": [
    "my_set.add(\"house\")\n",
    "my_set"
   ]
  },
  {
   "cell_type": "code",
   "execution_count": null,
   "metadata": {},
   "outputs": [],
   "source": [
    "your_set = {99, 4.5, 100}\n",
    "my_set.union(your_set)"
   ]
  },
  {
   "cell_type": "markdown",
   "metadata": {},
   "source": [
    "### __Dictionary class__  \n",
    "Dictionary는 각 쌍이 키와 값으로 구성된 관련 항목 쌍 모음입니다. 이 키-값 (key - value)쌍은 일반적으로 키:값으로 기록됩니다. Dictionary는 쉼표로 구분된 키:값의 쌍을 중괄호로 묶어서 나타냅니다.  \n",
    "Dictionary는 다양한 Operator를 사용 가능하고 다양한 함수도 지원합니다."
   ]
  },
  {
   "cell_type": "markdown",
   "metadata": {},
   "source": [
    "|Method Name|Use|Explanation|\n",
    "|:---:|:---:|:---:|\n",
    "|keys|a_dict.keys()|Returns the keys of the dictionary in a dict_keys object|\n",
    "|values|a_dict.values()|Returns the values of the dictionary in a dict_values object|\n",
    "|items|a_dict.items()|Returns the key-value pairs in a dict_items object|\n",
    "|get|a_dict.get(k)|Returns the value associated with k, None otherwise|\n",
    "|get|a_dict.get(k, alt)|Returns the value associated with k, alt otherwise|\n",
    "\n",
    "<center>표7. dict methods</center>"
   ]
  },
  {
   "cell_type": "code",
   "execution_count": null,
   "metadata": {},
   "outputs": [],
   "source": [
    "students = {\"david\": 22100123, \"paul\":22100456, \"peter\":22100789}\n",
    "students"
   ]
  },
  {
   "cell_type": "code",
   "execution_count": null,
   "metadata": {},
   "outputs": [],
   "source": [
    "students.keys()"
   ]
  },
  {
   "cell_type": "code",
   "execution_count": null,
   "metadata": {},
   "outputs": [],
   "source": [
    "students.values()"
   ]
  },
  {
   "cell_type": "code",
   "execution_count": null,
   "metadata": {},
   "outputs": [],
   "source": [
    "students.items()"
   ]
  },
  {
   "cell_type": "code",
   "execution_count": null,
   "metadata": {},
   "outputs": [],
   "source": [
    "students.get(\"david\")"
   ]
  },
  {
   "cell_type": "markdown",
   "metadata": {},
   "source": [
    "## 이미지 출력하기"
   ]
  },
  {
   "cell_type": "code",
   "execution_count": null,
   "metadata": {},
   "outputs": [],
   "source": [
    "import matplotlib.pyplot as plt\n",
    "from matplotlib.image import imread\n",
    "\n",
    "img = imread('https://github.com/idebtor/KMOOC-ML/blob/master/ipynb/images/lenna.png?raw=true')\n",
    "plt.imshow(img)\n",
    "plt.show()"
   ]
  },
  {
   "cell_type": "markdown",
   "metadata": {},
   "source": [
    "## 예외 처리(Exception Handling)\n",
    "\n",
    "일반적으로 프로그램을 작성할 때 발생하는 오류가 있습니다. 대표적으로 구문 오류(Syntax error)와 논리 오류(Logic error)가 있습니다.\n"
   ]
  },
  {
   "cell_type": "markdown",
   "metadata": {},
   "source": [
    "- 구문 오류(Syntax error)는 단순히 프로그래머가 문이나 식의 구조에 실수를 저질렀다는 것을 의미합니다.   \n",
    "ex) 괄호 빠짐, 콜론 빠짐, 들여쓰기 빠짐\n",
    "\n",
    "\n",
    "- 논리 오류(Logic error)는 프로그램이 실행되지만 잘못된 결과를 제공하는 상황을 나타냅니다. 이는 기본 알고리즘의 오류 또는 해당 알고리즘의 변환 오류 때문일 수 있습니다.  \n",
    "ex) 특정 수를 0으로 나눌 때\n",
    "\n",
    "프로그램을 작성할 때가 아니라, 프로그램을 실행하는 중에 에러로 말미암아 프로그램 자체가 종료되는 것을 가리켜 보통 프로그램이 crash했다고 합니다. 이것을 막기 위해서 항상 에러가 발생될 가능성이 있는 부분에는, 프로그램을 개발할 때에 try, except 구문을 사용하여 예외처리를 해주어야 합니다."
   ]
  },
  {
   "cell_type": "markdown",
   "metadata": {},
   "source": [
    "### Example1. Logic error\n",
    "사용자에게 정수를 요청한 다음 함수 라이브러리에서 제곱근 함수를 호출하는 코드를 작성해봅시다. 사용자가 0보다 크거나 같은 값을 입력하면 인쇄에 제곱근이 표시됩니다. 그러나 사용자가 음수 값을 입력하면 제곱근 함수가 `ValueError` 예외를 띄우게 됩니다."
   ]
  },
  {
   "cell_type": "code",
   "execution_count": null,
   "metadata": {},
   "outputs": [],
   "source": [
    "import math\n",
    "num = int(input('Please enter a integer: '))\n",
    "print(math.sqrt(num))"
   ]
  },
  {
   "cell_type": "code",
   "execution_count": null,
   "metadata": {},
   "outputs": [],
   "source": [
    "math.log(1000)"
   ]
  },
  {
   "cell_type": "markdown",
   "metadata": {},
   "source": [
    "### Example2. Make exception\n",
    "프로그래머는 프로그램 실행에서 해당 상황을 감지하는 경우 자체 예외를 만들 수 있습니다.\n",
    "예외가 발생하면, 우리는 그것이 `raised`되었다고 말합니다.\n",
    "\n",
    "`try` & `catch`를 이용하여 예외를 처리할 수 있습니다."
   ]
  },
  {
   "cell_type": "code",
   "execution_count": null,
   "metadata": {},
   "outputs": [],
   "source": [
    "num = int(input('Please enter a integer: '))\n",
    "try:\n",
    "    print(math.sqrt(num))\n",
    "except:\n",
    "    print(\"ERROR\")\n",
    "    print(\"Using the absolute value instead\")\n",
    "    print(math.sqrt(abs(num)))"
   ]
  },
  {
   "cell_type": "markdown",
   "metadata": {},
   "source": [
    "## 자주 사용하는 쉘 코맨드(Shell Commands) \n",
    "윈도우(Windows, MacOSX)를 사용하는 경우, CLI(Command Line Interface)에 익숙하지 않을 수 있습니다. 여기 기본적인 쉘 코맨드는 익숙해질 수 있도록 하십시오. \n",
    "\n",
    "- `cd mydir` changes directory to `mydir`. \n",
    "- `cd ..` moves to the parent directory of current directory, or the directory one level up from the current directory. “..” represents parent directory.\n",
    "- `cd ~` moves to directory to the home directory. \n",
    "- `/` on its own is the root directory of the whole file system.\n",
    "- `..` means ‘the directory above the current one’; . on its own means ‘the current directory’.\n",
    "- A relative path specifies a location starting from the current location.\n",
    "- An absolute path specifies a location from the root of the file system.\n",
    "- Directory names in a path are separated with `/` on Unix/Linux/macOS, but `\\` on Windows.\n",
    "\n",
    "- `cp old new` copies a file.\n",
    "- `mkdir path` creates a new directory.\n",
    "- `mv old new` moves (renames) a file or directory.\n",
    "- `rm path` removes (deletes) a file.\n",
    "- `*` matches zero or more characters in a filename, so `*.txt` matches all files ending in `.txt`.\n",
    "- `?` matches any single character in a filename, so `?.txt` matches `a.txt` but not `any.txt`.\n",
    "- The shell does not have a trash bin: once something is deleted, it’s really gone."
   ]
  },
  {
   "cell_type": "markdown",
   "metadata": {},
   "source": [
    "###  Exercise: Creating and deleting a folder and file.\n",
    "\n",
    "1. Check the current directory and know where you are now.   \n",
    "1. Create a `myfolder` directory.     \n",
    "1. Change directory to `myfolder`.  \n",
    "1. Check the current working directory   \n",
    "1. Create a file called `hello.txt` which contains \"Hello World\".   \n",
    "1. Check that you have the file just created.   \n",
    "1. Check the file contents just created.  \n",
    "1. Delete the file you just created.  \n",
    "1. Remove the directory `myfolder`.   \n",
    "    - `cd ..` first since you cannot remove the folder, then remove the folder.  "
   ]
  },
  {
   "cell_type": "markdown",
   "metadata": {},
   "source": [
    "# Summary\n",
    "\n",
    "이번 강의를 통해서 앞으로의 본 과목을 시작하면서 필요한 파이썬의 개념을 최소한으로 복습하고 연습하였습니다. 위 내용을 아직 다 숙지하지 못하였다면 개인적으로 좀 더 복습을 하여, 자료구조를 학습하는데 어려움이 없기를 바랍니다!"
   ]
  },
  {
   "cell_type": "markdown",
   "metadata": {},
   "source": [
    "# References\n",
    "- Review of Basic Python, [Here](https://runestone.academy/ns/books/published//pythonds3/Introduction/ReviewofBasicPython.html)\n",
    "- Python-추상적 자료형(ADT)과 자료 구조(Data Structure), [Here](https://ybdata-sci.tistory.com/16)\n",
    "- Python functions [Here](https://www.w3resource.com/index.php)\n"
   ]
  },
  {
   "cell_type": "markdown",
   "metadata": {},
   "source": [
    "------\n",
    "그런즉 너희가 먹든지 마시든지 무엇을 하든지 다 하나님의 영광을 위하여 하라 (고전10:31)"
   ]
  }
 ],
 "metadata": {
  "kernelspec": {
   "display_name": "Python 3 (ipykernel)",
   "language": "python",
   "name": "python3"
  },
  "language_info": {
   "codemirror_mode": {
    "name": "ipython",
    "version": 3
   },
   "file_extension": ".py",
   "mimetype": "text/x-python",
   "name": "python",
   "nbconvert_exporter": "python",
   "pygments_lexer": "ipython3",
   "version": "3.9.12"
  },
  "toc-autonumbering": true
 },
 "nbformat": 4,
 "nbformat_minor": 4
}

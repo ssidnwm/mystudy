{
 "cells": [
  {
   "cell_type": "markdown",
   "metadata": {},
   "source": [
    "보혜사 곧 아버지께서 내 이름으로 보내실 성령 그가 너희에게 모든 것을 가르치고 내가 너희에게 말한 모든 것을 생각나게 하리라 평안을 너희에게 끼치노니 곧 나의 평안을 너희에게 주노라 내가 너희에게 주는 것은 세상이 주는 것과 같지 아니하니라 너희는 마음에 근심하지도 말고 두려워하지도 말라 (요14:26-27)\n",
    "\n",
    "-------\n",
    "<center><img src=\"https://github.com/idebtor/DSpy/blob/6b3676c3de29f85d2e7f30679676d1fd96d88b17/images/WelcomeToDataStructures.jpg?raw=true\" width=1000></center>\n",
    "\n",
    "__NOTE:__ The following materials have been compiled and adapted from the numerous sources including my own. Please help me to keep this tutorial up-to-date by reporting any issues or questions. Send any comments or criticisms to `idebtor@gmail.com` Your assistances and comments will be appreciated.\n",
    "\n",
    "--------"
   ]
  },
  {
   "cell_type": "markdown",
   "metadata": {},
   "source": [
    "\n",
    "# 해싱(Hashing)\n",
    "\n",
    "1.1. 해싱이란 무엇인가?  \n",
    "1.2. 해시 함수 (Hash Functions)  \n",
    "1.3. 충돌 해결 (Collision Resolution)  "
   ]
  },
  {
   "cell_type": "markdown",
   "metadata": {},
   "source": [
    "## 해싱이란 무엇인가?\n",
    ": 해싱이란 무엇인지 배웁니다."
   ]
  },
  {
   "cell_type": "markdown",
   "metadata": {},
   "source": [
    "이전 강의에서 우리는 데이터가 저장되어있는 특성을 활용하여 검색 알고리즘을 개선하는 것을 배웠습니다. 예를 들어, 오름차순으로 정렬된 리스트에서 이진 검색을 적용하여 비교 연산을 획기적으로 줄이는 것이었습니다. 이번에는 이보다 더 나아가서 시간복잡도를 $O(1)$에 검색을 할 수 있도록 해싱(Hashing) 이라는 자료구조를 설계해보도록 하겠습니다."
   ]
  },
  {
   "cell_type": "markdown",
   "metadata": {},
   "source": [
    "이를 가능케 하기 위해선, 모든 데이터가 어디에 있는지 정확히 알고 있어야 합니다. 모든 데이터가 적합한 장소에 알맞게 저장되어 있을 때, 단순히 그 위치에 있는지 없는지만 보고 판단할 수 있기 때문입니다. 하지만 대부분의 경우, 이렇게 이상적으로 저장되어있지 않습니다."
   ]
  },
  {
   "cell_type": "markdown",
   "metadata": {},
   "source": [
    "__해시 테이블(Hash Table)__ 은 이를 가능캐 하도록하여 데이터의 검색을 수월하게 하도록 합니다. 해시 테이블의 각 공간는 __\"슬롯(Slot)\"__  혹은 __\"버킷(bucket)\"__ 이라고 부르며, 각각 0을 시작으로한 정수 값으로 불리고 데이터를 저장할 수 있습니다. 그림 1은 11개의 빈 슬롯을 갖는 해시 테이블을 그림으로 나타낸 것입니다. 최초 슬롯의 데이터는 파이썬에서 특별하게 사용할 수 있는 None 값을 갖습니다."
   ]
  },
  {
   "cell_type": "markdown",
   "metadata": {},
   "source": [
    "<center><img src=\"https://github.com/idebtor/DSpy/blob/main/images/chap5/ch5-4.jpg?raw=true\" width=\"500\" title=\"Figure 1. Hash Table with 11 Empty Slots\"></center>\n",
    "<center>그림 1. 11개의 빈 슬롯(slot or bucket)을 갖는 해시 테이블<center><br>"
   ]
  },
  {
   "cell_type": "markdown",
   "metadata": {},
   "source": [
    "하나의 데이터와 슬롯 간의 매핑은 __해시 함수(Hash Function)__ 를 통해 이루어집니다. 해시 함수는 어떠한 데이터를 받아드리면, 슬롯 크기 내의 하나의 정수값을 도출하게 됩니다. 예를 들어, 정수 데이터 집합 (54, 26, 93, 17, 77, 31)이 있다고 가정해봅시다. 가장 간편하게 생각할 수 있는 첫번째 해시 함수는, 데이터를 해시 테이블의 크기로 나눈 나머지 값을 리턴하는 __\"나머지 기법(Remainder Method)\"__ 입니다. 그림 1에 표현한 해시 테이블을 사용하면, $ h(item) = item \\% 11 $가 될 것입니다. 표 1은 예시로 준 정수 데이터 집합에 대한 해시 값을 표로 정리한 것입니다. (모든 전형적인 해시 함수는, 어떠한 형태로든 나머지 기법을 적용하게 됩니다. 최종적으로 정해진 크기의 해시 테이블에 저장해야하기 때문입니다.)"
   ]
  },
  {
   "cell_type": "markdown",
   "metadata": {},
   "source": [
    "|Item|Hash Value|\n",
    "|:--:|:--:|\n",
    "|54|10|\n",
    "|26|4|\n",
    "|93|5|\n",
    "|17|6|\n",
    "|77|0|\n",
    "|31|9|\n",
    "\n",
    "<center>표 1. 나머지 기법을 적용한 해시 함수의 예<center><br>"
   ]
  },
  {
   "cell_type": "markdown",
   "metadata": {},
   "source": [
    "이와 같이 해시 값이 계산되면, 해시 테이블에 해당하는 위치로 저장되게 됩니다(그림 2 참조). 위 예시에서는 11개의 슬롯 중 6개의 슬롯이 채워졌습니다. 이를 __적재율(Load Factor)__ 이라고 부르며, 일반적으로 $\\lambda = \\frac {number of items} {table size}$와 같이 표현합니다. 이번 경우는 $\\lambda = \\frac {6} {11}$입니다."
   ]
  },
  {
   "cell_type": "markdown",
   "metadata": {},
   "source": [
    "<center><img src=\"https://github.com/idebtor/DSpy/blob/main/images/chap5/ch5-5.jpg?raw=true\" width=\"500\" title=\"Figure 2. Hash Table with Six Items\"></center>\n",
    "<center>그림 2. 6개의 데이터가 채워진 해시 테이블<center><br>"
   ]
  },
  {
   "cell_type": "markdown",
   "metadata": {},
   "source": [
    "이제부턴 특정 데이터를 찾고싶을때 해당 값을 해시 함수로 계산하면 단순히 있는지 없는지 바로 확인할 수 있습니다. 이렇게 해시 값을 계산하고 해당 슬롯을 확인하는 작업은 $O(1)$입니다. 이제 우리는 이상적인 검색 알고리즘을 찾았습니다. \n",
    "\n",
    "하지만 이러한 해시 함수와 해시 테이블로 문제없이 모든 경우를 다룰 수 있을까요? 가장 간단한 예시로, 44의 경우 나머지가 0이 되고(44%11 == 0), 77도 마찬가지로 나머지가 0이 되는 것(77%11 == 0)을 알 수 있습니다. 이렇게 되면 같은 슬롯에 두개 이상의 데이터가 저장되려고 할 것입니다. 이러한 상황을 __충돌(Collision__ 이라고 합니다. "
   ]
  },
  {
   "cell_type": "markdown",
   "metadata": {},
   "source": [
    "## 해시 함수 (Hash Functions)\n",
    ": 더욱 포괄적인 경우를 다룰 수 있는 해시 함수를 생각해보고 배웁니다."
   ]
  },
  {
   "cell_type": "markdown",
   "metadata": {},
   "source": [
    "데이터 집합이 주어졌을 때, 모든 데이터를 각각 자기만의 고유한(unique) 슬롯으로 배정해줄 수 있는 해시 함수를 __\"완벽한 해시 함수(Perfect Hash Function)\"__ 라고 부릅니다. 만약 우리가 저장해야할 데이터를 사전에 알고, 데이터가 변하지 않는다면 완벽한 해시 함수를 만들 수 있을 것입니다. 하지만, 임의의 데이터로 묶인 데이터 집합으로는 시스템적으로 완벽한 해시 함수를 만드는 것은 불가능합니다. 다행스러운 것은, 완벽한 해시 함수를 사용하지 않고도 우리는 훌륭한 성능을 갖는 해시 함수를 만들 수 있다는 것입니다."
   ]
  },
  {
   "cell_type": "markdown",
   "metadata": {},
   "source": [
    "완벽한 해시 함수를 만드는 한가지 방법은, 해시 테이블의 크기를 늘려서 모든 데이터가 충분히 수용될 수 있도록 만드는 것입니다. 이렇게 되면, 모든 원소들이 고유 슬롯을 확보할 수 있게 됩니다. 하지만, 이 방법은 적은양의 데이터를 다룰 때는 실용적일 수 있으나, 데이터의 양이 커지게 되면 실현 불가능한 방법입니다. 예를 들어, 주민등록번호 13자리를 저장하기 위해선 $10^{13}$개의 슬롯이 필요할 것입니다."
   ]
  },
  {
   "cell_type": "markdown",
   "metadata": {},
   "source": [
    "따라서 우리는 **충돌을 최소화** 하면서, **연산하기 쉽고**, 해시 테이블에 **데이터를 균등하게 배치** 할 수 있는 해시 함수를 만들어야 합니다. 앞서 소개한 나머지 기법을 확장한 여러 방법론들이 존재합니다. 이 중에서 우리는 몇가지를 살펴보겠습니다."
   ]
  },
  {
   "cell_type": "markdown",
   "metadata": {},
   "source": [
    "__폴딩 기법(Folding Method)__ 은 해시 함수를 만들 때, 원소의 데이터를 같은 크기의 작은 조각으로 분할하여 처리하는 기법입니다. 이렇게 나누어진 조각들은 모두 더해지고 해시 값을 도출하는 곳에 사용됩니다. 예를들어, 한 원소의 데이터가 전화번호인 054-260-1111을 저장하려고 한다면, 이를 두자릿수 숫자로 분할합니다(05,42,60,11,11). 이후 각 조각들을 더하면(05 + 41 + 60 + 11 + 11 = 128) 128이 나옵니다. 이전 예시들과 마찬가지로 총 11개의 슬롯이 있다고 가정한다면, 이를 11에 대한 나머지 기법을 사용하여 128 % 11 = 7, 즉 7번 슬롯에 저장하게 되는 것입니다. 조금 더 복잡한 폴딩 기법은, 분할된 짝수번째 조각을 뒤집어서 사용하기도 합니다. 예를 들어, 위 전화번호의 경우 05, _14_, 60, _11_, 11 이 되고, 합 101의 나머지는 2가 되어 2번 슬롯에 저장되게 됩니다."
   ]
  },
  {
   "cell_type": "markdown",
   "metadata": {},
   "source": [
    "또다른 기법으로, __중간제곱법(mid-square method)__ 이 있습니다. 먼저 데이터를 제곱하여 얻어낸 값에서, 특정 부분을 추출하여 사용하는 방법입니다. 예를 들어, 데이터 44를 저장한다면, 그의 제곱값인 1936에서 가운데 두자릿수를 취하여 나머지 기법을 적용하는 것입니다. 즉, 93 % 11 = 5가 되어 5번 슬롯에 저장하는 것입니다. 표 2는 단순 나머지 기법과 중간제곱법을 활용한 값을 정리한 것입니다. 표를 보며 해당 값이 어떻게 계산된 것인지 생각해보세요."
   ]
  },
  {
   "cell_type": "markdown",
   "metadata": {},
   "source": [
    "|Item|Remainder|Mid-Square|\n",
    "|:--:|:--:|:--:|\n",
    "|54|10|3|\n",
    "|26|4|7|\n",
    "|93|5|9|\n",
    "|17|6|8|\n",
    "|77|0|4|\n",
    "|31|9|6|\n",
    "\n",
    "<center>표 2. 나머지 기법과 중간제곱법의 해시 값 비교<center><br>"
   ]
  },
  {
   "cell_type": "markdown",
   "metadata": {},
   "source": [
    "추가적으로, 문자열과 같은 문자 데이터에 대한 해시 함수도 얼마든지 만들 수 있습니다. 단어 \"cat\"을 예로 들면, 이는 순서값(ordinal value)의 연속으로 생각할 수 있습니다."
   ]
  },
  {
   "cell_type": "code",
   "execution_count": 1,
   "metadata": {},
   "outputs": [
    {
     "name": "stdout",
     "output_type": "stream",
     "text": [
      "99\n",
      "97\n",
      "116\n"
     ]
    }
   ],
   "source": [
    "print(ord('c'))\n",
    "print(ord('a'))\n",
    "print(ord('t'))"
   ]
  },
  {
   "cell_type": "markdown",
   "metadata": {},
   "source": [
    "우리는 이 순서값을 사용하여 연산을 하여 해시값을 구하면 됩니다(그림 3 참고). 목차 1은 문자열과 해시 테이블의 크기를 입력받아 해시 값을 계산해주는 `hash` 함수의 코드입니다. 해시 값의 범위는 0부터 (테이블 크기 - 1)입니다."
   ]
  },
  {
   "cell_type": "markdown",
   "metadata": {},
   "source": [
    "<center><img src=\"https://github.com/idebtor/DSpy/blob/main/images/chap5/ch5-6.jpg?raw=true\" width=\"500\" title=\"Figure 3. Hashing a String Using Ordinal Values\"></center>\n",
    "<center>그림 3. 순서값을 사용한 문자열의 해싱<center><br>"
   ]
  },
  {
   "cell_type": "code",
   "execution_count": 2,
   "metadata": {},
   "outputs": [],
   "source": [
    "# 목차 1\n",
    "def hash(astring, tablesize):\n",
    "    sum = 0\n",
    "    for pos in range(len(astring)):\n",
    "        sum = sum + ord(astring[pos])\n",
    "    \n",
    "    return sum%tablesize"
   ]
  },
  {
   "cell_type": "markdown",
   "metadata": {},
   "source": [
    "한가지 알 수 있는 것은, anagram(철자의 순서를 바꾼 단어)은 항상 같은 해시 값을 갖는다는 것입니다. 이를 방지하기 위하여 각 문자의 자리에 대한 가중치를 부여하는 방법이 있습니다. 그림 4는 한 예시를 그림으로 표현한 것입니다."
   ]
  },
  {
   "cell_type": "markdown",
   "metadata": {},
   "source": [
    "<center><img src=\"https://github.com/idebtor/DSpy/blob/main/images/chap5/ch5-7.jpg?raw=true\" width=\"500\" title=\"Figure 4. Hashing a String Using Ordinal Values with Weighting\"></center>\n",
    "<center>그림 4. 가중치를 부여한 순서값을 사용하는 예<center><br>"
   ]
  },
  {
   "cell_type": "markdown",
   "metadata": {},
   "source": [
    "해시 함수를 정의하는 방법은 너무나도 많이 존재합니다. 아마 지금도 각자 생각하는 해시 함수가 있을 것 같고, 대부분의 경우 사용가능할 것입니다. 하지만 한가지 명심해야할 것은, 연산 측면에서 효율적이어야 한다는 점입니다. 연산량을 과도하게 요구하게 된다면, 저장과 검색 과정에서 해시 값의 연산만으로 대다수의 시간을 차지하게 될 것이고, 그렇게 된다면 해싱을 하는 의미가 없어지게 됩니다."
   ]
  },
  {
   "cell_type": "markdown",
   "metadata": {},
   "source": [
    "## 충돌 해결 (Collision Resolution)\n",
    ": 해싱에 중요한 문제인 충돌의 개념과 해결책에 대해 배웁니다."
   ]
  },
  {
   "cell_type": "markdown",
   "metadata": {},
   "source": [
    "이제 앞에서 설명했던 충돌 문제를 다뤄보겠습니다. 두개 이상의 원소들이 하나의 슬롯으로 배정될 때 어떤 것을 저장해야할지에 대한 문제가 발생하게 되고, 이를 __충돌(Collision)__ 이라고 합니다. 따라서, 시스템적으로 충돌이 일어날 때 나중에 들어오는 원소를 어디에 저장해야할 것인가에 대한 방편을 마련해야하고, 이를 __\"충돌 해결(Collision Resolution)\"__ 이라고 부릅니다. 일반적으로 완벽한 해시 함수는 만들 수 없기 때문에, 충돌 해결은 해싱에서 굉장히 중요한 요소 중 하나입니다."
   ]
  },
  {
   "cell_type": "markdown",
   "metadata": {},
   "source": [
    "충돌을 해결하기 위한 한가지 방법은, 충돌을 일으킨 데이터를 해시 테이블 내에서 비어있는 다른 슬롯에 저장할 수 있는지 찾는 것입니다. 가장 간단한 방법은 계산한 해시값을 기준으로 순차적으로 빈 슬롯을 찾는 것입니다. 이때, 슬롯의 탐색은 원형으로 이루어져 마지막 슬롯까지 탐색이 끝나면 다시 첫번째 슬롯으로 이동하여 탐색을 진행해야 합니다. 이러한 충돌 해결 방법은 __Open Addressing(개방 주소 지정)__ 이라고 부르며, 시스템적으로 모든 슬롯을 하나씩 순차적으로 탐색하는 기술은 __Linear Probing(선형 탐사)__ 이라고 부릅니다."
   ]
  },
  {
   "cell_type": "markdown",
   "metadata": {},
   "source": [
    "그림 5는 기본적인 나머지 기법을 사용한 해시 함수를 정수 데이터 집합 (54,26,93,17,77,31,44,55,20)에 적용한 것입니다. 이는 앞에 나온 표 2와 그림 2에서 보인 (54,26,93,17,77,31)에 대한 모습이고, 정수 데이터 44,55,20을 추가한 것입니다.  \n",
    "먼저 44를 0번 슬롯에 추가하려고 할 때, 이미 77이 들어가있기 때문에 충돌이 일어나는 것을 알 수 있습니다. 따라서 linear probing을 통해 그 다음으로 비어있는 슬롯인 1번 슬롯에 넣게 됩니다. 그리고 55 역시 충돌이 일어나기 때문에 다음 비어있는 슬롯인 2번 슬롯에 저장될 것입니다. 다음으로 20을 저장할 때, 9번 슬롯에 충돌이 발생하게 되고, 그 옆의 10번 슬롯도 채워져있기 때문에, 다시 처음으로 돌아가서 비어있는 3번 슬롯에 저장됩니다."
   ]
  },
  {
   "cell_type": "markdown",
   "metadata": {},
   "source": [
    "<center><img src=\"https://github.com/idebtor/DSpy/blob/main/images/chap5/ch5-8.jpg?raw=true\" width=\"500\" title=\"Figure 5. Collision Resolution with Linear Probing\"></center>\n",
    "<center>그림 5. 선형 탐사를 적용한 충돌 해결의 예<center><br>"
   ]
  },
  {
   "cell_type": "markdown",
   "metadata": {},
   "source": [
    "이와 같이, Open Addressing과 Linear Probing을 사용하여 해시 테이블을 구축하게 되면, 데이터를 검색할때도 같은 기법을 사용하도록 하는 것이 중요합니다.  \n",
    "먼저 위 예제에서 93을 찾는다고 가정합시다. 93에 대한 해시값은 5이고, 5번 슬롯에 93이 존재한다면 True를 리턴하면 됩니다. 그러나 만약 20을 찾는다고 한다면, 20의 해시값은 9이고, 9번 슬롯은 31이 있습니다. 하지만 이는 충돌로 인한 상황일 수 있기 때문에, 우리는 단순히 이 상황에서 False를 리턴할 수 없습니다. 따라서, 이때에는 10번 슬롯을 시작으로 순차검색을 적용해야 합니다."
   ]
  },
  {
   "cell_type": "markdown",
   "metadata": {},
   "source": [
    "Linear Probing에 대한 한가지 단점으로, 해시 테이블 내에 데이터의 __군집화(Clustering) 경향__ 이 있습니다. 이때 군집화란, 해시 테이블 내에 데이터들이 특정 공간에 모여 뭉치게 되는 것을 의미하고, 이는 같은 해시 값을 갖는 데이터들이 많은 양의 주변 슬롯을 차지하게 되는 문제 입니다. 방금 예제에서 20을 저장하고 검색하기 위한 과정에서 0,1,2 슬롯에서의 군집화 현상 때문에 멀리 떨어진 3번 슬롯에 배치된 것을 생각해보십시오(그림 6 참고)."
   ]
  },
  {
   "cell_type": "markdown",
   "metadata": {},
   "source": [
    "<center><img src=\"https://github.com/idebtor/DSpy/blob/main/images/chap5/ch5-9.jpg?raw=true\" width=\"500\" title=\"Figure 6. A Cluster of Items for Slot 0\"></center>\n",
    "<center>그림 6. 0번 슬롯에서의 데이터 군집화<center><br>"
   ]
  },
  {
   "cell_type": "markdown",
   "metadata": {},
   "source": [
    "군집화 문제를 해결할 수 있는 한가지 방법은, linear probing 기술을 확장시킴으로서, 순차적으로 다음으로 비어있는 슬롯을 찾는 것이 아니라 몇 슬롯을 건너 뛰어 충돌을 일으킨 데이터를 균등하게 배치시키는 방법입니다. 이는 점진적으로 군집화 문제를 완화시킬 것입니다. 그림 7은 '더하기 3'탐색을 적용한 충돌 해결 과정을 그림으로 나타낸 것입니다. '더하기 3'탐색이란, 충돌이 일어났을 때 다음 3번째 슬롯이 비어있는지 확인하는 것입니다."
   ]
  },
  {
   "cell_type": "markdown",
   "metadata": {},
   "source": [
    "<center><img src=\"https://github.com/idebtor/DSpy/blob/main/images/chap5/ch5-10.jpg?raw=true\" width=\"500\" title=\"Figure 7. Collision Resolution Using 'Plus 3'\"></center>\n",
    "<center>그림 7. \"더하기 3\" 탐색을 적용한 선형 탐사<center><br>"
   ]
  },
  {
   "cell_type": "markdown",
   "metadata": {},
   "source": [
    "이와 같이 충돌이 일어난 후 새로운 슬롯을 찾는 행위를 __`리해싱(rehashing)`__ 이라고 합니다. 가장 간단한 linear probing의 경우, `리해시 함수(rehash function)`은 $ rehash(pos) = (pos + 1)\\%sizeoftable $ 일 때, $ newhashvalue = rehash(oldhashvalue) $가 됩니다. 앞서 살펴본 \"더하기 3\" 리해싱은 $ rehash(pos) = (pos + 3)\\%sizeoftable $ 가 될 것입니다. 즉, 일반적으로 $ rehash(pos) = (pos + skip)\\%sizeoftable $ 가 됩니다. 이때, skip의 크기는 해시 테이블의 모든 슬롯을 탐색할 수 있는 적절한 수여야 한다는 것을 주의해야합니다. 그렇지 않으면 해시 테이블의 특정 부분은 사용되지 않기 때문입니다. 따라서, 해시 테이블의 사이즈는 되도록 소수(prime number)로 설정하는 것을 권장합니다(지금까지 11을 예시로 사용한 것 처럼)."
   ]
  },
  {
   "cell_type": "markdown",
   "metadata": {},
   "source": [
    "Linear probing 아이디어에 변형을 준 탐색 방법을 __`Quadratic probing(2차 검색)`__ 이라고 합니다. 상수 'skip'값을 지속적으로 사용하는 대신에, 해시 값이 1, 3, 5, 7, 9 등으로 증가하는 새로운 리해시 함수를 사용하는 것입니다. 예를 들어, 최초 해시 값을 h라고 가정하면, 이후 값들은 h+1, h+4, h+9, h+16 등이 되는 것입니다. 일반적으로 이는 $ rehash(pos) = (h + i^2) $ 가 됩니다. 그림 8은 이를 예제에 적용한 모습을 그림으로 나타낸 것입니다."
   ]
  },
  {
   "cell_type": "markdown",
   "metadata": {},
   "source": [
    "<center><img src=\"https://github.com/idebtor/DSpy/blob/main/images/chap5/ch5-11.jpg?raw=true\" width=\"500\" title=\"Figure 8. Collision Resolution with Quadratic Probing\"></center>\n",
    "<center>그림 8. 2차 검색을 사용한 충돌 해결<center><br>"
   ]
  },
  {
   "cell_type": "markdown",
   "metadata": {},
   "source": [
    "또다른 대체 방안으로는, 각 슬롯에 데이터를 담을 수 있는 참조(reference)값을 갖도록 하는 것입니다. 이는 __`Chaining`__ 이라고 부르며, chaining은 해시 테이블 내의 같은 자리에 많은 데이터를 저장할 수 있도록 합니다. 충돌이 발생할 경우, 여전히 같은 슬롯에 저장된다는 장점을 가지고 있지만, 같은 슬롯에 많은 데이터가 저장될수록 데이터의 검색 과정이 복잡해지고 시간 소요가 늘어나게 된다는 단점이 있습니다. 그림 9는 chaining을 사용한 해시테이블의 예제를 보이고 있습니다."
   ]
  },
  {
   "cell_type": "markdown",
   "metadata": {},
   "source": [
    "<center><img src=\"https://github.com/idebtor/DSpy/blob/main/images/chap5/ch5-12.jpg?raw=true\" width=\"500\" title=\"Figure 9. Collision Resolution with Chaining\"></center><center>그림 9. Chaining을 사용한 충돌 해결<center><br>"
   ]
  },
  {
   "cell_type": "markdown",
   "metadata": {},
   "source": [
    "# Exercises "
   ]
  },
  {
   "cell_type": "markdown",
   "metadata": {},
   "source": [
    "## Probe Sequence using Linear Probing\n",
    "\n",
    "다음 그림과 같은 입력 시퀀스를 Linear Probing(일차조사법)으로 테이블에 저장하려고 할 때, 마지막 요소인 69의 probe sequence를 구하십시오. 그 계산 과정도 보기와 같이 제시하십시오. "
   ]
  },
  {
   "cell_type": "markdown",
   "metadata": {},
   "source": [
    "<center><img src=\"https://github.com/idebtor/DSpy/blob/5b4e8958acd176072a13391ead18351051ed4a6a/images/chap6/linear-probing1.png?raw=true\" width=\"500\"></center><center>그림 1. Linear Probing을 사용한 충돌 해결<center><br>"
   ]
  },
  {
   "cell_type": "markdown",
   "metadata": {},
   "source": [
    "## Probe Sequence using Quadractic Probing\n",
    "\n",
    "다음 그림과 같은 입력 시퀀스를 Quadratic Probing(이차조사법)으로 테이블에 저장하려고 할 때, 마지막 요소인 69의 probe sequence를 구하십시오. 그 계산 과정도 보기와 같이 제시하십시오. "
   ]
  },
  {
   "cell_type": "markdown",
   "metadata": {},
   "source": [
    "<center><img src=\"https://github.com/idebtor/DSpy/blob/faf5d03efbdfaea0ceed515a56502c41983461b2/images/chap6/quadratic-probing1.png?raw=true\" width=\"500\"></center><center>그림 2. Quadratic Probing을 사용한 충돌 해결<center><br>"
   ]
  },
  {
   "cell_type": "markdown",
   "metadata": {},
   "source": [
    "## Probe Sequence using Double Hashing\n",
    "​\n",
    "다음 그림과 같은 입력 시퀀스를 Double Hashing(이중해싱법)으로 테이블에 저장하려고 할 때, 58, 69, 23 원소들의 probe sequence를 각각 구하십시오. 그 계산 과정도 보기와 같이 제시하십시오. "
   ]
  },
  {
   "cell_type": "markdown",
   "metadata": {},
   "source": [
    "<center><img src=\"https://github.com/idebtor/DSpy/blob/0a10aebd41b0aafe777d5613c27b1a377f2795b8/images/chap6/double-hashing.png?raw=true\" width=\"500\"></center>\n",
    "\n",
    "<center>그림 3. Double Hashing을 사용한 충돌 해결<center><br>"
   ]
  },
  {
   "cell_type": "markdown",
   "metadata": {},
   "source": [
    "## Rehashing\n",
    "​\n",
    "다음 그림과 같은 해시 테이블을 Rehashing하여 하십시오. 해시 함수 `hash(key) = key % 13`과 이차조사법을 사용하십시오. 그 계산 과정도 제시하십시오. Rehashing 전과 후의 적재율(load factor)도 각각 계산하십시오. "
   ]
  },
  {
   "cell_type": "markdown",
   "metadata": {},
   "source": [
    "<center><img src=\"https://github.com/idebtor/DSpy/blob/6be7ad3751059e90077d4a9f8d71d7661c8548f5/images/chap6/rehashing.png?raw=true\" width=\"500\"></center><center>그림 4. Quadratic Probing을 사용한 Rehashing<center><br>"
   ]
  },
  {
   "cell_type": "markdown",
   "metadata": {},
   "source": [
    "# References\n",
    "- Problem Solving with Algorithms and Data Structures using Python, [Here](https://runestone.academy/runestone/books/published/pythonds3/Introduction/WhyStudyDataStructuresandAbstractDataTypes.html)\n",
    "    - Hashing, [Here](https://runestone.academy/ns/books/published//pythonds3/SortSearch/Hashing.html)\n"
   ]
  },
  {
   "cell_type": "markdown",
   "metadata": {},
   "source": [
    "------\n",
    "보혜사 곧 아버지께서 내 이름으로 보내실 성령 그가 너희에게 모든 것을 가르치고 내가 너희에게 말한 모든 것을 생각나게 하리라 평안을 너희에게 끼치노니 곧 나의 평안을 너희에게 주노라 내가 너희에게 주는 것은 세상이 주는 것과 같지 아니하니라 너희는 마음에 근심하지도 말고 두려워하지도 말라 (요14:26-27)"
   ]
  }
 ],
 "metadata": {
  "kernelspec": {
   "display_name": "Python 3 (ipykernel)",
   "language": "python",
   "name": "python3"
  },
  "language_info": {
   "codemirror_mode": {
    "name": "ipython",
    "version": 3
   },
   "file_extension": ".py",
   "mimetype": "text/x-python",
   "name": "python",
   "nbconvert_exporter": "python",
   "pygments_lexer": "ipython3",
   "version": "3.8.12"
  }
 },
 "nbformat": 4,
 "nbformat_minor": 4
}

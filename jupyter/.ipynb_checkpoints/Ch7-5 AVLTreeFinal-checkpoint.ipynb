{
 "cells": [
  {
   "cell_type": "markdown",
   "metadata": {},
   "source": [
    "시몬 베드로가 대답하여 이르되 주는 그리스도시요 살아 계신 하나님의 아들이시니이다 예수께서 대답하여 이르시되 바요나 시몬아 네가 복이 있도다 이를 네게 알게 한 이는 혈육이 아니요 하늘에 계신 내 아버지시니라 또 내가 네게 이르노니 너는 베드로라 내가 이 반석 위에 내 교회를 세우리니 음부의 권세가 이기지 못하리라 내가 천국 열쇠를 네게 주리니 네가 땅에서 무엇이든지 매면 하늘에서도 매일 것이요 네가 땅에서 무엇이든지 풀면 하늘에서도 풀리리라 하시고 (마16:16-19)\n",
    "\n",
    "-------\n",
    "<center><img src=\"https://github.com/idebtor/DSpy/blob/6b3676c3de29f85d2e7f30679676d1fd96d88b17/images/WelcomeToDataStructures.jpg?raw=true\" width=1000></center>\n",
    "\n",
    "__NOTE:__ The following materials have been compiled and adapted from the numerous sources including my own. Please help me to keep this tutorial up-to-date by reporting any issues or questions. Send any comments or criticisms to `idebtor@gmail.com` Your assistances and comments will be appreciated.\n",
    "\n",
    "--------"
   ]
  },
  {
   "cell_type": "markdown",
   "metadata": {},
   "source": [
    "<b style=\"font-size:30px\"> Chapter 7-5 AVL Tree - Final Examp Part I </b>\n",
    "\n",
    ": AVL 트리는 스스로 균형을 잡는 이진 탐색 트리(Balanced Binary Tree)입니다. 발명자의 이름인 Adelson-Velsky and Landis에서 따온 이름이며, 스스로 균형을 잡는 데이터 구조 중 처음으로 발명되었습니다. AVL 트리에서, 두 자식 서브트리의 높이는 항상 최대 1만큼 차이가 납니다."
   ]
  },
  {
   "cell_type": "markdown",
   "metadata": {},
   "source": [
    "# Introduction\n",
    "\n",
    "1. Objectives  \n",
    "2. AVL Tree Performance   \n",
    "3. AVL Tree Implementation  \n",
    "4. Summary of Map ADT Implementations"
   ]
  },
  {
   "cell_type": "markdown",
   "metadata": {},
   "source": [
    "## Objectives"
   ]
  },
  {
   "cell_type": "markdown",
   "metadata": {},
   "source": [
    "이번 장에서는 트리가 항상 균형을 유지하는지 자동으로 확인하는 특별한 종류의 이진 검색 트리(AVL 트리)에 대해 살펴보겠습니다."
   ]
  },
  {
   "cell_type": "markdown",
   "metadata": {},
   "source": [
    "## AVL Tree Performance"
   ]
  },
  {
   "cell_type": "markdown",
   "metadata": {},
   "source": [
    "AVL 트리는 일반 이진 검색 트리와 마찬가지로 Map 추상 데이터 유형을 구현하며, 유일한 차이점은 트리의 특성입니다. AVL 트리를 구현하려면 트리의 각 노드에 대한 __균형 계수__ 를 추적해야 합니다. 각 노드의 왼쪽 및 오른쪽 subtree의 높이를 확인하여 이 작업을 수행합니다. 보다 형식적으로 노드에 대한 균형 계수를 왼쪽 subtree의 높이와 오른쪽 subtree의 높이 사이의 차이로 정의합니다.\n",
    "\n",
    "\\begin{align}\n",
    "balance\\;factor(균형계수) = height(left\\;subtree) - height(right\\;subtree)\n",
    "\\end{align}\n"
   ]
  },
  {
   "cell_type": "markdown",
   "metadata": {},
   "source": [
    "위에 주어진 균형 계수에 대한 정의를 사용하여 우리는 균형 계수가 0보다 크면 subtree가 왼쪽으로 무겁다고 말합니다. 밸런스 계수가 0보다 작으면 subtree가 오른쪽으로 무겁습니다. 균형 계수가 0이면 트리는 완벽하게 균형을 이룹니다. \n",
    "\n",
    "AVL 트리를 구현하고 균형 잡힌 트리를 갖는 이점을 얻기 위해 균형 계수가 -1, 0 또는 1인 경우 트리를 균형에 맞도록 정의하겠습니다. 트리에 있는 노드의 균형 계수가 이 범위를 벗어나면 트리를 다시 균형 상태로 되돌리는 절차가 필요합니다. 그림 1은 불균형 right-heavy 트리와 각 노드의 균형 계수의 예를 보여줍니다."
   ]
  },
  {
   "cell_type": "markdown",
   "metadata": {},
   "source": [
    "<center><img src=\"https://github.com/idebtor/DSpy/blob/main/images/chap6/ch6-18.png?raw=true\" width=\"300\" title=\"Figure 1. An Unbalanced Right-Heavy Tree with Balance Factors\">\n",
    "<center>그림 1. 균형 계수를 갖는 right-heavy 불균형 트리 <center><br>"
   ]
  },
  {
   "cell_type": "markdown",
   "metadata": {},
   "source": [
    "위의 예시는 오른쪽으로 기울어진 트리였습니다. 이는 AVL트리가 아닙니다. AVL트리는 균형 계수가 항상 -1, 0 또는 1이어야 합니다. 만약 이 균형 상태가 최악의 경우에는 트리를 어떻게 바꾸어야 하는지에 대해 생각해 보겠습니다."
   ]
  },
  {
   "cell_type": "markdown",
   "metadata": {},
   "source": [
    "<center><img src=\"https://github.com/idebtor/DSpy/blob/main/images/chap6/ch6-19.png?raw=true\" width=\"700\" title=\"Figure 2. Worst-Case-Heavy AVL Trees\">\n",
    "<center>그림 2. 기울어진 AVL Tree의 최악의 경우 <center><br>"
   ]
  },
  {
   "cell_type": "markdown",
   "metadata": {},
   "source": [
    "트리의 총 노드 수를 보면 높이 0의 트리에 대해 노드가 1개 있고, 높이 1의 트리에 대해 노드가 1+1=2개 있으며, 높이 2의 트리에 대해 노드가 1+1+2=4이고, 높이 3의 트리에 대해 노드가 1+2+4=7개 있습니다. 보다 일반적으로 높이 h($N_h$) 트리의 노드 수에 대해 볼 수 있는 패턴은 다음과 같습니다.\n",
    "\n",
    "$$N_h = 1 + N_{h-1} + N_{h-2}$$"
   ]
  },
  {
   "cell_type": "markdown",
   "metadata": {},
   "source": [
    "이러한 반복은 피보나치 수열과 매우 유사하기 때문에 친숙하게 보일 수 있습니다. 이 사실을 사용하여 트리의 노드 수를 고려하여 AVL 트리 높이에 대한 공식을 도출할 수 있습니다. 피보나치 수열의 경우 $i_{th}$ Fibonacci 번호는 다음과 같이 정의됩니다.\n",
    "\n",
    "$$F_0 = 0 $$\n",
    "$$F_1 = 1 $$\n",
    "$$F_i = F_{i-1} + F_{i-2} , i >=2 $$"
   ]
  },
  {
   "cell_type": "markdown",
   "metadata": {},
   "source": [
    "중요한 수학적 결과는 피보나치 수열의 숫자가 점점 더 커질수록 $\\frac{F_i}{F_{i-1}}$의 비율은 Ω= $\\frac{1+\\sqrt5}{2}$로 정의된 황금 비율 Ω에 점점 더 가까워지는 것입니다. 이전 방정식의 도안을 보려면 수학 텍스트를 참조할 수 있습니다. 이 방정식을 사용하여 $F_i$ = $Ω^i$ / $\\sqrt5$ 에 근사치를 계산할 것입니다. 이 근사치를 사용하면 다음과 같은 $N_h$ 방정식을 다시 작성할 수 있습니다.\n",
    "\n",
    "$$N_h = F_{h+2} - 1, h >= 1 $$"
   ]
  },
  {
   "cell_type": "markdown",
   "metadata": {},
   "source": [
    "피보나치 수열을 황금 비율 근사치로 바꿔주면 다음과 같은 식을 얻을 수 있습니다.\n",
    "$$N_h = \\frac{Ω^{h+2}} {\\sqrt5} - 1 $$\n",
    "\n",
    "이를 통해 h를 계산하면 다음과 같습니다.\n",
    "\n",
    "\n",
    "\\begin{align}\n",
    "\\log(N_h + 1) &= (h + 2) \\logΩ - \\frac{1}{2}\\log5 \\\\   \n",
    "         h &= \\frac{\\log(N_h + 1) - 2\\logΩ + \\frac{1}{2}\\log5}{\\logΩ}\\\\\n",
    "         h &= 1.44\\log {N_h}\n",
    "\\end{align}\n",
    "\n",
    "이 식은 언제든지 AVL 트리의 높이가 트리의 노드 수 로그의 상수(1.44)와 같다는 것을 보여 줍니다. 따라서 AVL 트리를 찾을 때 $O(\\log{N})$의 시간이 걸림을 알 수 있습니다."
   ]
  },
  {
   "cell_type": "markdown",
   "metadata": {},
   "source": [
    "## AVL Tree Implementation"
   ]
  },
  {
   "cell_type": "markdown",
   "metadata": {},
   "source": [
    "이제 AVL 트리를 균형 있게 유지하는 것이 큰 성능 향상이 될 것이라는 것을 입증했으므로, 이제 트리 안에 새 키를 삽입하는 절차를 어떻게 강화할 것인지 살펴보겠습니다. 일단 새 키를 삽입하면 그 키는 트리에 리프 노드로 삽입되고, 우리는 균형 계수를 업데이트 해야 합니다. 이 과정은 재귀적 과정이므로, 균형 계수를 업데이트하는 두 가지 기본 사례를 살펴볼 수 있습니다.\n",
    "- 재귀 호출이 트리의 root에 도달한 경우\n",
    "- 부모의 균형 계수가 0으로 조정된 경우"
   ]
  },
  {
   "cell_type": "markdown",
   "metadata": {},
   "source": [
    "AVL 트리를 BST 클래스 즉 Binary Search Tree의 하위 클래스로 구현할 때, 대부분의 BST 클래스의 메소드들을 상속받아서 사용합니다. \n",
    "\n",
    "다만, 새로운 노드를 추가할 때 rebalance를 위해 `_add` 메소드를 재정의하고, 또한 한 노드를 삭제한 후 rebalance를 위해 `_delete()` 메소드를 재정의합니다. 노드를 추가하거나 삭제한 후, 트리의 balance를 체크하고, 필요에 따라 트리를 rotation하는 `rebalance` 메소드를 작성합니다. \n",
    "\n",
    "AVL 클래스의 골격 코드는 다음과 같습니다. "
   ]
  },
  {
   "cell_type": "code",
   "execution_count": 2,
   "metadata": {},
   "outputs": [],
   "source": [
    "from bst import BST\n",
    "\n",
    "class AVL(BST):\n",
    "    def __init__(self, keys = None, left = None, right = None):\n",
    "        super().__init__(keys)\n",
    "    \n",
    "    def _add(self, node, key):\n",
    "        curr = super()._add(node, key)\n",
    "        return self.rebalance(curr)\n",
    "    \n",
    "    def _delete(self, node, key):\n",
    "        curr = super()._delete(node, key)\n",
    "        return self.rebalance(curr)\n",
    "\n",
    "    def rebalance(self, A):\n",
    "        # your code here\n",
    "        pass\n"
   ]
  },
  {
   "cell_type": "markdown",
   "metadata": {},
   "source": [
    "새로운 `rebalance` 메소드에서 대부분의 작업을 수행합니다. 위에서 설명한 재귀를 구현합니다. 먼저 현재 노드가 재조정이 필요할 정도로 균형이 맞지 않는지 확인합니다. 그런 경우 균형 재조정이 수행되고 부모에 대한 추가 업데이트는 필요하지 않습니다. \n",
    "\n",
    "노드 하나를 추가하거나 삭제하는 작업은 재귀적으로 root에서 시작하여 leaf 노드에 도달한 후에 삭제하거나 추가하는 작업이 일어납니다. 해당 노드를 추가하거나 삭제한 후, 재귀적으로 부모 노드로 반환하면서, 상위 부모 노드에서 `rebalance()`함수를 호출하면서 root로 이동(back track)하면서 진행합니다. root로 back track을 하면서 계속해서 균형계수를 체크하고, 필요할 경우 즉 균형 계수가 2 혹은 -2가 되면 회전을 실행합니다. "
   ]
  },
  {
   "cell_type": "markdown",
   "metadata": {},
   "source": [
    "## Rebalance 구현을 위한 회전(Rotation)\n",
    "\n",
    "트리 균형 재조정이 필요한 경우 어떻게 해야 합니까? 성능 저하 없이 AVL Tree를 원활하게 작동하려면 효율적인 균형 재조정이 중요합니다. AVL 트리를 균형에 맞추기 위해 트리에서 한번 혹은 두번 회전을 수행합니다. \n",
    "\n",
    "우선, 기본적으로 한번만 회전하는 경우(Outside Case)는 다음과 같이 두 종류로 나눌 수 있습니다.  \n",
    "- Outside RR case: 오른쪽 서브트리가 더 커진 경우이고, 부모 노드의 균형계수가 -2이고, 그의 자식노드의 균형계수가 -1일 때 발생합니다. 두 균형계수의 부호가 같으므로, 부모와 자식노드의 오른쪽 방향으로 같습니다.  (그림 3-1 참조)\n",
    "- Outside LL case: 왼쪽 서브트리가 더 커진 경우, 즉 부모 노드의 균형계수가 +2이고, 그의 자식 노드의 균형계수가 +1일 때 발생합니다. (그림 4-1 참조)"
   ]
  },
  {
   "cell_type": "markdown",
   "metadata": {},
   "source": [
    "### Single Rotation - Outside RR case\n",
    "\n",
    "회전이 무엇인지 이해하기 위해 매우 간단한 예를 살펴보겠습니다. \n",
    "\n",
    "그림 3의 왼쪽 절반에 있는 트리를 고려합니다. 이 트리는 -2의 균형 계수와 균형이 맞지 않습니다. 이 트리를 균형 있게 조정하기 위해 노드 A에 뿌리를 둔 자식 트리 주위에서 좌회전합니다."
   ]
  },
  {
   "cell_type": "markdown",
   "metadata": {},
   "source": [
    "<center> <img src=\"https://github.com/idebtor/DSpy/blob/main/images/chap6/ch6-20.png?raw=true\" width=\"600\" title=\"Figure 3. Transforming an Unbalanced Tree Using a Left Rotation\"> <center><br>\n",
    "<center>그림 3. 한 번의 좌회전을 통한 불균형한 트리의 조정 <center><br>"
   ]
  },
  {
   "cell_type": "markdown",
   "metadata": {},
   "source": [
    "좌회전을 수행하려면 기본적으로 다음을 수행합니다.\n",
    "\n",
    "1. 오른쪽 자식(B)을 트리의 root로 만듭니다.\n",
    "1. 이전 root(A)를 새 root의 왼쪽 자식으로 만듭니다.\n",
    "1. 새 root(B)가 이미 왼쪽 자식이 있는 경우에는 새 왼쪽 자식(A)의 오른쪽 자식으로 만듭니다.\n",
    "1. 변경된 root인 B를 반환합니다. \n",
    "\n",
    "참고: 새 root(B)가 A의 오른쪽 자식이었으므로 현재 A의 오른쪽 자식은 비어 있습니다. 따라서 추가 고려 없이 새 노드를 오른쪽 자식 노드로 추가할 수 있습니다.  \n"
   ]
  },
  {
   "cell_type": "markdown",
   "metadata": {},
   "source": [
    "### Single Rotation - Outside LL case\n",
    "\n",
    "회전을 설명하기 위해 조금 더 복잡한 트리를 살펴보겠습니다.  \n",
    "그림 4의 왼쪽에는 왼쪽에 무겁고 root에 균형 계수가 2인 트리가 있습니다. 올바른 회전을 수행하기 위해 기본적으로 다음을 수행합니다.\n",
    "\n",
    "1. 왼쪽 자식(C)을 subtree의 root로 만듭니다.\n",
    "2. 이전 root(E)를 새 root의 자식으로 이동합니다.\n",
    "3. 새 root(C)에 이미 오른쪽 자식(D)가 있는 경우 새로운 오른쪽 자식(E)의 왼쪽 자식으로 만듭니다. \n",
    "1. 새로 만들어진 root인 C를 반환합니다. \n",
    "\n",
    "참고: 새 root(C)는 E의 왼쪽 자식이므로 이 시점에서 E의 왼쪽 자식은 비어 있습니다. 따라서 더 이상 고려하지 않고 새 노드를 왼쪽 자식 노드로 추가할 수 있습니다.\n",
    "\n",
    "<center> <img src=\"https://github.com/idebtor/DSpy/blob/main/images/chap6/ch6-21.png?raw=true\" width=\"700\" title=\"Figure 4. Transforming an Unbalanced Tree Using a Right Rotation\"> <center><br>\n",
    "<center>그림 4. 한 번의 우회전을 통한 불균형한 트리의 조정 <center><br>"
   ]
  },
  {
   "cell_type": "markdown",
   "metadata": {},
   "source": [
    "Single Rotation이 요구되는 Outside RR case와 Outside LL case를 아래의 그림으로 정리해볼 수 있습니다.  이것을 좀 더 상세히 설명한 강의를 참조하십시오. "
   ]
  },
  {
   "cell_type": "markdown",
   "metadata": {},
   "source": [
    "\n",
    "<center> <img src=\"https://github.com/idebtor/DSpy/blob/main/images/chap6/AVL-OutsideCase.png?raw=true\" width=\"600\" title=\"Figure 3. Transforming an Unbalanced Tree Using a Left Rotation\"> <center><br>\n",
    "    \n",
    "<center>그림 5. 한 번의 회전이 요구되는 Outside LL case와 RR case <center><br>"
   ]
  },
  {
   "cell_type": "markdown",
   "metadata": {},
   "source": [
    "### Double Rotation - Inside LR case and RL case\n",
    "\n",
    "한 번의 좌/우회전을 하는 방법과 필요한 때를 배웠습니다. 하지만 이것으로 끝나는 것이 아닙니다. 그림 6을 보면, 노드 A의 균형 계수가 -2이기 때문에 우리는 좌회전을 해야할 것입니다. 하지만 실제로 좌회전을 하면 어떻게 됩니까?\n"
   ]
  },
  {
   "cell_type": "markdown",
   "metadata": {},
   "source": [
    "<center><img src=\"https://github.com/idebtor/DSpy/blob/main/images/chap6/ch6-23.png?raw=true\" width=\"150\" title=\"Figure 6. An Unbalanced Tree that is More Difficult to Balance\">\n",
    "<center>그림 6. 균형을 맞추기 어려운 불균형 트리의 예 (RL case) <center><br>"
   ]
  },
  {
   "cell_type": "markdown",
   "metadata": {},
   "source": [
    "그림 7은 좌회전 후 반대 방향으로 치우쳐진 트리를 보여줍니다. 만약 여기서 우회전을 한다면 다시 그림 6과 같은 형태로 돌아가게 될 것입니다."
   ]
  },
  {
   "cell_type": "markdown",
   "metadata": {},
   "source": [
    "<center><img src=\"https://github.com/idebtor/DSpy/blob/main/images/chap6/ch6-24.png?raw=true\" width=\"180\" title=\"Figure 7. After a Left Rotation the Tree is Out of Balance in the Other Direction\">\n",
    "<center>그림 7. 좌회전 후 다시 불균형이 된 트리의 모습 <center><br>"
   ]
  },
  {
   "cell_type": "markdown",
   "metadata": {},
   "source": [
    "이러한 문제를 해결하기 위하여 다음과 같은 규칙들을 따라야 합니다.  \n",
    "* 만약 subtree가 균형을 잡기 위해 좌회전이 필요하다면, 먼저 오른쪽 자식의 균형 계수를 확인한다. 만약 오른쪽 자식의 왼쪽이 더 무겁다면, 해당 자식에 우회전을 먼저 하고 기존 좌회전을 진행한다.\n",
    "* 만약 subtree가 균형을 잡기 위해 우회전이 필요하다면, 먼저 왼쪽 자식의 균형 계수를 확인한다. 만약 왼쪽 자식의 오른쪽이 더 무겁다면, 해당 자식에 좌회전을 먼저 하고 기존 우회전을 진행한다."
   ]
  },
  {
   "cell_type": "markdown",
   "metadata": {},
   "source": [
    "그림 8은 이러한 규칙을 적용하면 그림 6과 그림 7이 마주한 딜레마를 해결할 수 있음을 보여줍니다. 노드 C에 우회전을 먼저 해주고 A에 좌회전을 하면 트리의 균형이 맞게됩니다. 다른 말로, 노드 C에서 LL case로 우회전하고, 노드 A에서 RR case로 좌회전 합니다. 두 번의 회전이 요구되는 경우는 이렇게 LL case 혹은 RR case를 번갈아서 적용하면 됩니다. "
   ]
  },
  {
   "cell_type": "markdown",
   "metadata": {},
   "source": [
    "<center><img src=\"https://github.com/idebtor/DSpy/blob/main/images/chap6/ch6-25.png?raw=true\" width=\"600\" title=\"Figure 8. A Right Rotation Followed by a Left Rotation\">\n",
    "<center>그림 8. 규칙을 적용한 회전된 트리의 모습 <center><br>"
   ]
  },
  {
   "cell_type": "markdown",
   "metadata": {},
   "source": [
    "이러한 규칙을 다음과 같이 두 가지의 경우로 정리할 수 있습니다. \n",
    "\n",
    "\n",
    "- Inside LR case: 왼쪽 트리가 더 커진 경우이고, 부모 노드의 균형계수가 +2이고, 그의 자식노드의 균형계수가 -1일 때 발생합니다. 자식 노드의 균형계수가 부모와 반대인 경우이므로, 이 때는 두 번의 회전이 필요합니다. 자식 노드에서 RR case로 회전하고 한 후, 다시 부모 노드에서 LL case로 회전해야 합니다. \n",
    "\n",
    "- Inside RL case: 오른쪽 트리가 더 커진 경우이고, 부모 노드의 균형계수가 -2이고, 그의 자식노드의 균형계수가 +1일 때 발생합니다. 자식 노드의 균형계수가 부모와 반대인 경우이므로, 이 때는 두 번의 회전이 필요합니다. 자식 노드에서 LL case로 회전하고 한 후, 다시 부모 노드에서 RR case로 회전해야 합니다. \n",
    "\n",
    "\n",
    "두 번의 회전을 요구하는 이러한 경우를 정리한 그림과 코드는 다음과 같습니다. "
   ]
  },
  {
   "cell_type": "markdown",
   "metadata": {},
   "source": [
    "<center> <img src=\"https://github.com/idebtor/DSpy/blob/main/images/chap6/AVL-LRcase.png?raw=true\" width=\"600\" title=\"LRcase\"> <center><br>\n",
    "    \n",
    "<center>그림 9. 두 번의 회전이 요구되는 inside LR case <center><br>"
   ]
  },
  {
   "cell_type": "markdown",
   "metadata": {},
   "source": [
    "<center> <img src=\"https://github.com/idebtor/DSpy/blob/main/images/chap6/AVL-RLcase.png?raw=true\" width=\"600\" title=\"Figure 3. Transforming an Unbalanced Tree Using a Left Rotation\"> <center><br>\n",
    "    \n",
    "<center>그림 10. 두 번의 회전이 요구되는 inside RL case <center><br>"
   ]
  },
  {
   "cell_type": "markdown",
   "metadata": {},
   "source": [
    "## Rebalance() 메소드 구현\n",
    "\n",
    "이 함수는 BST클래스를 상속받은 AVL클래스에서 한 노드를 추가하거나 삭제하는 코드, `_add()`와 `_delete()`에서 반환하기 전에 호출하는 메소드입니다. 지금까지 구현한 회전관련 4개의 함수들(LLcase(), RRcase(), LRcase(), RLcase())과 `balanceFactor()` 함수는 모두 `rebalance()` 메소드에서만 사용하므로 아래와 같이 내장함수로 정의하면 편리합니다.   \n",
    "\n",
    "균형 계수(bf)에 따라 4 개의 함수를 어떻게 호출해야 할지는 연습문데로 남겨 둡니다. "
   ]
  },
  {
   "cell_type": "code",
   "execution_count": null,
   "metadata": {},
   "outputs": [],
   "source": [
    "    def rebalance(self, A):\n",
    "        def balanceFactor(A):\n",
    "            if A == None: return 0\n",
    "            l = self._height(A.left)\n",
    "            r = self._height(A.right)\n",
    "            return l - r\n",
    "    \n",
    "        def LLcase(A):     # single rotation - outside LL case\n",
    "            B = A.left\n",
    "            A.left = B.right\n",
    "            B.right = A\n",
    "            return B\n",
    "\n",
    "        def RRcase(A):     # single rotation - outside RRcase\n",
    "            pass\n",
    "\n",
    "        def LRcase(A):     # double rotation - inside RR and LL case\n",
    "            B = A.left\n",
    "            A.left = RRcase(B)\n",
    "            return LLcase(A)\n",
    "\n",
    "        def RLcase(A):     # double rotation - inside LL and RR case\n",
    "            pass\n",
    "    \n",
    "        bf = balanceFactor(A)    # your code here for 4 cases\n",
    "        if bf == 2:\n",
    "            print('rotateLR @', A.key)  # if the bf's sign changed\n",
    "            print('rotateLL @', A.key)  # if the bf's sign is the same or 0\n",
    "            pass\n",
    "        elif bf == -2:\n",
    "            print('rotateRL @', A.key)  # if the bf's sign changed\n",
    "            print('rotateRR @', A.key)  # if the bf's sign is the same or 0\n",
    "            pass\n",
    "\n",
    "        return A     # no rebalance needed"
   ]
  },
  {
   "cell_type": "markdown",
   "metadata": {},
   "source": [
    "\n",
    "## AVL tree 시간 복잡도\n",
    "\n",
    "이렇게 트리의 균형을 항상 맞춰줌으로서 `get` 메서드가 항상 $O(log_2(n))$ 시간이 걸리도록 보장할 수 있습니다. 하지만 `add` 메서드의 시간은 얼마나 걸릴까요? \n",
    "\n",
    "`add` 메서드에서 실행되는 연산을 구분하여 생각해보겠습니다. \n",
    "\n",
    "먼저 새로운 노드를 leaf로 추가해야하기 때문에 모든 부모의 균형 계수를 업데이트 하는데에 최대 $log_2(n)$ 연산이 필요합니다. 만약 subtree가 불균형을 이룬다면 최대 2번의 회전을 시행해야 합니다. 하지만 각 회전은 $O(1)$이 소요되므로, 최종적으로 `add` 연산은 $O(log_2(n))$가 필요할 것입니다."
   ]
  },
  {
   "cell_type": "markdown",
   "metadata": {},
   "source": [
    "## Summary of Map ADT Implementations"
   ]
  },
  {
   "cell_type": "markdown",
   "metadata": {},
   "source": [
    "최근 두 챕터동안 우리는 맵 추상자료형을 구현하기 위한 몇가지 자료형에 대해 배웠습니다. 리스트의 이진 탐색, 해시 테이블, 이진검색트리, 균형된 이진검색트리가 있습니다. 이 챕터를 마무리하면서 각 자료형과 주요 연산에 대한 성능을 정리해보겠습니다."
   ]
  },
  {
   "cell_type": "markdown",
   "metadata": {},
   "source": [
    "<center><img src=\"https://github.com/idebtor/DSpy/blob/main/images/chap6/ch6-26.png?raw=true\" width=\"700\" title=\"Table 1. Comparing the Performance of Different Map Implementations\">\n",
    "<center>표 1. 여러 맵 구현의 성능 비교 <center><br>"
   ]
  },
  {
   "cell_type": "markdown",
   "metadata": {},
   "source": [
    "# Summary"
   ]
  },
  {
   "cell_type": "markdown",
   "metadata": {},
   "source": []
  },
  {
   "cell_type": "markdown",
   "metadata": {},
   "source": [
    "# Exercises\n",
    "\n",
    "## Step 1. AVL 클래스 완성하기\n",
    "AVL 클래스를 완성하고, 각 회전마다 회전의 종류를 출력하십시오.  Step 2에서 테스트 하십시오. \n",
    "\n",
    "__Solution:__"
   ]
  },
  {
   "cell_type": "code",
   "execution_count": null,
   "metadata": {},
   "outputs": [],
   "source": [
    "from bst import BST\n",
    "\n",
    "class AVL(BST):\n",
    "    def __init__(self, keys = None, left = None, right = None):\n",
    "        super().__init__(keys)\n",
    "    \n",
    "    def _add(self, node, key):\n",
    "        curr = super()._add(node, key)\n",
    "        return self.rebalance(curr)\n",
    "    \n",
    "    def _delete(self, node, key):\n",
    "        curr = super()._delete(node, key)\n",
    "        return self.rebalance(curr)\n",
    "\n",
    "    def rebalance(self, A):\n",
    "        # your code here\n",
    "        pass"
   ]
  },
  {
   "cell_type": "markdown",
   "metadata": {},
   "source": [
    "## Step 2. AVL 트리 생성하기 - add()\n",
    "\n",
    "리스트(`[17, 5, 25, 35, 2, 29, 39, 11, 9, 15, 7, 8]`)의 요소를 순서대로 입력하여 AVL 트리를 완성하십시오,  이를 실행할 때 아래 샘플과 같이 Double Rotation이 요구되는 RLcase 회전이 두 번 일어납니다. 각 RLcase 회전에 있는 두 번의 Single Rotation을 전후의 트리를 그림으로 작성하십시오."
   ]
  },
  {
   "cell_type": "markdown",
   "metadata": {},
   "source": [
    "__Sample Run:__\n",
    "```\n",
    "if __name__ == '__main__':\n",
    "    avl = AVL([17, 5, 25, 35, 2, 29, 39, 11, 9, 15, 7, 8])\n",
    "    print(avl)\n",
    "```\n",
    "__Expected Output:__\n",
    "```\n",
    "RLcase @ 25\n",
    "RLcase @ 5\n",
    "          ______17___\n",
    "         /           \\\n",
    "    ____9            _29\n",
    "   /     \\          /   \\\n",
    "  5       11       25    35\n",
    " / \\        \\              \\\n",
    "2   7        15             39\n",
    "     \\\n",
    "      8\n",
    "```"
   ]
  },
  {
   "cell_type": "markdown",
   "metadata": {},
   "source": [
    "__YourAnswer:__\n",
    "```\n",
    "\n",
    "\n",
    "\n",
    "\n",
    "\n",
    "```"
   ]
  },
  {
   "cell_type": "markdown",
   "metadata": {},
   "source": [
    "## Step 3. AVL 트리 노드 삭제하기 - delete(25)\n",
    "\n",
    "아래와 같은 리스트 요소들로 생성한 AVL 트리에서, 노드 25를 삭제할 때 일어나는 두 번의 회전을 트리 모양으로 그 전후를 그리십시오. \n",
    "```\n",
    "    avl = AVL([17, 5, 25, 35, 2, 29, 39, 11, 9, 15, 7, 8])\n",
    "    print(avl)\n",
    "    \n",
    "           ______17___\n",
    "         /           \\\n",
    "    ____9            _29\n",
    "   /     \\          /   \\\n",
    "  5       11       25    35\n",
    " / \\        \\              \\\n",
    "2   7        15             39\n",
    "     \\\n",
    "      8\n",
    "```"
   ]
  },
  {
   "cell_type": "markdown",
   "metadata": {},
   "source": [
    "__YourAnswer:__\n",
    "```\n",
    "\n",
    "\n",
    "\n",
    "\n",
    "\n",
    "\n",
    "```"
   ]
  },
  {
   "cell_type": "markdown",
   "metadata": {},
   "source": [
    "## Step 4. AVL 트리 노드 삭제하기 - delete()\n",
    "\n",
    "아래 __Sample Run:__ 과 같이 5개의 요소를 차례대로 삭제하고, __Expected Run:__ 과 같은 결과가 나타나는지 확인하십시오. \n",
    "\n",
    "\n",
    "__Sample Run:__\n",
    "```\n",
    "if __name__ == '__main__':\n",
    "    avl = AVL([17, 5, 25, 35, 2, 29, 39, 11, 9, 15, 7, 8])\n",
    "    print(avl)\n",
    "    \n",
    "    for x in [25, 2, 11, 29, 15]:\n",
    "        print(f'delete({x})')\n",
    "        avl.delete(x)\n",
    "        print(avl)\n",
    "```"
   ]
  },
  {
   "cell_type": "markdown",
   "metadata": {},
   "source": [
    "__Expected Output:__\n",
    "```\n",
    "RLcase @ 25\n",
    "RLcase @ 5\n",
    "\n",
    "          ______17___\n",
    "         /           \\\n",
    "    ____9            _29\n",
    "   /     \\          /   \\\n",
    "  5       11       25    35\n",
    " / \\        \\              \\\n",
    "2   7        15             39\n",
    "     \\\n",
    "      8\n",
    "\n",
    "delete(25)\n",
    "RRcase @ 29\n",
    "LLcase @ 17\n",
    "\n",
    "    ____9______\n",
    "   /           \\\n",
    "  5         ____17___\n",
    " / \\       /         \\\n",
    "2   7     11         _35\n",
    "     \\      \\       /   \\\n",
    "      8      15    29    39\n",
    "\n",
    "delete(2)\n",
    "RRcase @ 5\n",
    "\n",
    "    __9______\n",
    "   /         \\\n",
    "  7       ____17___\n",
    " / \\     /         \\\n",
    "5   8   11         _35\n",
    "          \\       /   \\\n",
    "           15    29    39\n",
    "\n",
    "delete(11)\n",
    "\n",
    "    __9___\n",
    "   /      \\\n",
    "  7       _17___\n",
    " / \\     /      \\\n",
    "5   8   15      _35\n",
    "               /   \\\n",
    "              29    39\n",
    "\n",
    "delete(29)\n",
    "\n",
    "    __9___\n",
    "   /      \\\n",
    "  7       _17\n",
    " / \\     /   \\\n",
    "5   8   15    35\n",
    "                \\\n",
    "                 39\n",
    "\n",
    "delete(15)\n",
    "RRcase @ 17\n",
    "\n",
    "    __9___\n",
    "   /      \\\n",
    "  7       _35\n",
    " / \\     /   \\\n",
    "5   8   17    39\n",
    "```"
   ]
  },
  {
   "cell_type": "code",
   "execution_count": 10,
   "metadata": {},
   "outputs": [
    {
     "name": "stdout",
     "output_type": "stream",
     "text": [
      "RLcase @ 25\n",
      "RLcase @ 5\n",
      "\n",
      "          ______17___\n",
      "         /           \\\n",
      "    ____9            _29\n",
      "   /     \\          /   \\\n",
      "  5       11       25    35\n",
      " / \\        \\              \\\n",
      "2   7        15             39\n",
      "     \\\n",
      "      8\n",
      "\n",
      "delete(25)\n",
      "RRcase @ 29\n",
      "LLcase @ 17\n",
      "\n",
      "    ____9______\n",
      "   /           \\\n",
      "  5         ____17___\n",
      " / \\       /         \\\n",
      "2   7     11         _35\n",
      "     \\      \\       /   \\\n",
      "      8      15    29    39\n",
      "\n",
      "delete(2)\n",
      "RRcase @ 5\n",
      "\n",
      "    __9______\n",
      "   /         \\\n",
      "  7       ____17___\n",
      " / \\     /         \\\n",
      "5   8   11         _35\n",
      "          \\       /   \\\n",
      "           15    29    39\n",
      "\n",
      "delete(11)\n",
      "\n",
      "    __9___\n",
      "   /      \\\n",
      "  7       _17___\n",
      " / \\     /      \\\n",
      "5   8   15      _35\n",
      "               /   \\\n",
      "              29    39\n",
      "\n",
      "delete(29)\n",
      "\n",
      "    __9___\n",
      "   /      \\\n",
      "  7       _17\n",
      " / \\     /   \\\n",
      "5   8   15    35\n",
      "                \\\n",
      "                 39\n",
      "\n",
      "delete(15)\n",
      "RRcase @ 17\n",
      "\n",
      "    __9___\n",
      "   /      \\\n",
      "  7       _35\n",
      " / \\     /   \\\n",
      "5   8   17    39\n",
      "\n"
     ]
    }
   ],
   "source": [
    "#%%writefile avl.py\n",
    "\n",
    "from collections.abc import Iterable\n",
    "from dspy.node import Node\n",
    "from bst import BST\n",
    "\n",
    "class AVL(BST):\n",
    "    def __init__(self, keys = None, left = None, right = None):\n",
    "        super().__init__(keys)\n",
    "    \n",
    "    def _add(self, node, key):\n",
    "        curr = super()._add(node, key)\n",
    "        return self.rebalance(curr)\n",
    "    \n",
    "    def _delete(self, node, key):\n",
    "        curr = super()._delete(node, key)\n",
    "        return self.rebalance(curr)\n",
    "\n",
    "    def rebalance(self, A):\n",
    "        def balanceFactor(A):\n",
    "            if A == None: return 0\n",
    "            l = self._height(A.left)\n",
    "            r = self._height(A.right)\n",
    "            return l - r\n",
    "    \n",
    "        def LLcase(A):     # single rotation - outside case\n",
    "            B = A.left\n",
    "            A.left = B.right\n",
    "            B.right = A\n",
    "            return B\n",
    "\n",
    "        def RRcase(A):     # single rotation - outise case\n",
    "            B = A.right\n",
    "            A.right = B.left\n",
    "            B.left = A\n",
    "            return B\n",
    "\n",
    "        def LRcase(A):     # double rotation - RR and LL case\n",
    "            B = A.left\n",
    "            A.left = RRcase(B)\n",
    "            return LLcase(A)\n",
    "\n",
    "        def RLcase(A):     # double rotation - LL and RR case\n",
    "            B = A.right\n",
    "            A.right = LLcase(B)\n",
    "            return RRcase(A)\n",
    "    \n",
    "        bf = balanceFactor(A)\n",
    "        if bf == 2:\n",
    "            if balanceFactor(A.left) == 1:\n",
    "                print('LLcase @', A.key)\n",
    "                return LLcase(A)\n",
    "            else:\n",
    "                print('LRcase @', A.key)\n",
    "                return LRcase(A)\n",
    "        elif bf == -2:\n",
    "            if balanceFactor(A.right) == -1:\n",
    "                print('RRcase @', A.key)\n",
    "                return RRcase(A)\n",
    "            else:\n",
    "                print('RLcase @', A.key)\n",
    "                return RLcase(A)\n",
    "\n",
    "        return A     # no rebalance needed\n",
    "    \n",
    "if __name__ == '__main__':\n",
    "    avl = AVL([17, 5, 25, 35, 2, 29, 39, 11, 9, 15, 7, 8])\n",
    "    print(avl)\n",
    "    \n",
    "    for x in [25, 2, 11, 29, 15]:\n",
    "        print(f'delete({x})')\n",
    "        avl.delete(x)\n",
    "        print(avl)"
   ]
  },
  {
   "cell_type": "markdown",
   "metadata": {},
   "source": [
    "# References\n",
    "- Problem Solving with Algorithms and Data Structures using Python, [Here](https://runestone.academy/runestone/books/published/pythonds3/Introduction/WhyStudyDataStructuresandAbstractDataTypes.html)\n",
    "    - AVL Tree, [Here](https://runestone.academy/ns/books/published//pythonds3/Trees/AVLTreePerformance.html)"
   ]
  },
  {
   "cell_type": "markdown",
   "metadata": {},
   "source": [
    "------\n",
    "시몬 베드로가 대답하여 이르되 주는 그리스도시요 살아 계신 하나님의 아들이시니이다 예수께서 대답하여 이르시되 바요나 시몬아 네가 복이 있도다 이를 네게 알게 한 이는 혈육이 아니요 하늘에 계신 내 아버지시니라 또 내가 네게 이르노니 너는 베드로라 내가 이 반석 위에 내 교회를 세우리니 음부의 권세가 이기지 못하리라 내가 천국 열쇠를 네게 주리니 네가 땅에서 무엇이든지 매면 하늘에서도 매일 것이요 네가 땅에서 무엇이든지 풀면 하늘에서도 풀리리라 하시고 (마16:16-19)"
   ]
  }
 ],
 "metadata": {
  "kernelspec": {
   "display_name": "Python 3 (ipykernel)",
   "language": "python",
   "name": "python3"
  },
  "language_info": {
   "codemirror_mode": {
    "name": "ipython",
    "version": 3
   },
   "file_extension": ".py",
   "mimetype": "text/x-python",
   "name": "python",
   "nbconvert_exporter": "python",
   "pygments_lexer": "ipython3",
   "version": "3.8.12"
  }
 },
 "nbformat": 4,
 "nbformat_minor": 4
}

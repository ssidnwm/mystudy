{
 "cells": [
  {
   "cell_type": "markdown",
   "id": "0f8537ca",
   "metadata": {},
   "source": [
    "하나님이 자기 형상 곧 하나님의 형상대로 사람을 창조하시되 남자와 여자를 창조하시고 하나님이 그들에게 복을 주시며 하나님이 그들에게 이르시되 생육하고 번성하여 땅에 충만하라, 땅을 정복하라, 바다의 물고기와 하늘의 새와 땅에 움직이는 모든 생물을 다스리라 하시니라 (창1:27-28)\n",
    "\n",
    "-------\n",
    "<img src=\"https://github.com/idebtor/DSpy/blob/6b3676c3de29f85d2e7f30679676d1fd96d88b17/images/WelcomeToDataStructures.jpg?raw=true\" width=1000>\n",
    "\n",
    "__NOTE:__ The following materials have been compiled and adapted from the numerous sources including my own. Please help me to keep this tutorial up-to-date by reporting any issues or questions. Send any comments or criticisms to `idebtor@gmail.com` Your assistances and comments will be appreciated.\n",
    "\n",
    "--------"
   ]
  },
  {
   "cell_type": "markdown",
   "id": "b5bc5b12-e743-491f-a49e-86cc5eb13226",
   "metadata": {},
   "source": [
    "<b style=\"font-size:30px\"> Chapter 4.2 Recursion Using Stack and Memoization</b>\n",
    "\n",
    "1. Radix Conversion\n",
    "1. Recursion using Stack Frames\n",
    "1. Fibonacci Sequence and Memoization"
   ]
  },
  {
   "cell_type": "markdown",
   "id": "b371a35d-8138-4d1c-8997-d74b41288f3e",
   "metadata": {},
   "source": [
    "# Radix Conversion\n",
    "- Radix is the base of number representation. For example, \n",
    "    - Decimal, 10\n",
    "    - Binary, 2\n",
    "    - Octal, 8\n",
    "    - Hexadecimal, 16"
   ]
  },
  {
   "cell_type": "markdown",
   "id": "0b794f59",
   "metadata": {},
   "source": [
    "## Converting an integer to a string in any base\n",
    "\n",
    "2진수와 16진수 사이의 어떤 숫자든지 10진수 숫자를 입력으로 받고 이를 원하는 진수의 문자열로 변환하려고 가정합시다. 예를 들어 정수 10을 십진수에서는 문자열 \"10\"으로 변환하고, 이진수에서는 \"1010\"으로 표현할 수 있습니다. 이 문제를 해결하기 위한 다양한 알고리즘이 있지만, 재귀를 사용해서 해결해보도록 하겠습니다."
   ]
  },
  {
   "cell_type": "markdown",
   "id": "343a24c5",
   "metadata": {},
   "source": [
    "number를 769, base를 10인 예를 살펴보겠습니다. `hexstr = \"0123456789ABCDEF\"` 와 같이 처음 10자리 숫자에 해당하는 문자 시퀀스가 있다고 가정합니다. 10보다 작은 숫자를 순서에서 찾아보면 해당 문자열로 쉽게 변환할 수 있습니다. 예를 들어 숫자가 9이면 문자열은 __hexstr[9]__ 또는 __9__ 입니다. 숫자 769를 7, 6, 9 세 개의 한 자리 숫자로 분할할 수 있다면 문자열로 변환하는 것은 간단합니다."
   ]
  },
  {
   "cell_type": "markdown",
   "id": "b2ce5a38",
   "metadata": {},
   "source": [
    "이 문제를 풀기위한 전체 알고리즘에는 다음의 세 가지 구성요소가 포함됩니다.\n",
    "1. 원래 숫자를 일련의 한 자리 숫자로 줄입니다.\n",
    "1. 룩업을 사용하여 한 자리 숫자를 문자열로 변환합니다.\n",
    "1. 한 자리 문자열을 함께 연결하여 최종 결과를 만듭니다."
   ]
  },
  {
   "cell_type": "markdown",
   "id": "223c59ba",
   "metadata": {},
   "source": [
    "이 문제의 base case(base case)는 무엇일까요? 앞에서 보았듯이 한 자리 숫자가 base case가 될 수 있습니다. 그렇다면, base case에 도달하기 까지 어떤 수학적 연산이 숫자를 줄일 수 있을까요? 가장 유력한 후보들은 나눗셈과 뺄셈입니다. 뺄셈은 숫자를 줄이는 데에 효과는 있을 수 있지만, 나눗셈이 정수 분할에는 더 명확한 방향을 제시합니다.\n",
    "\n",
    "정수 나눗셈(`//`)을 사용하여 769를 나누면 나머지 9와 함께 몫 76이 나옵니다. 이것은 우리에게 두 가지를 말해줍니다. 첫째, 나머지는 기본 값보다 작습니다. 둘째, 우리는 원래보다 작은 숫자를 얻었습니다. 이 과정을 반복하여 base case까지 도달하도록 하면 됩니다. 아래의 그림에서 이를 잘 설명해주고 있습니다."
   ]
  },
  {
   "cell_type": "markdown",
   "id": "aa6f8761",
   "metadata": {},
   "source": [
    "<center><img src =\"https://github.com/idebtor/DSpy/blob/main/images/chap4/ch4-3.jpg?raw=true\" width=\"500\"></center>\n",
    "<center>그림 1. 몫과 나머지 구하기<center><br>"
   ]
  },
  {
   "cell_type": "markdown",
   "id": "1adf9633",
   "metadata": {},
   "source": [
    "이 알고리즘을 코드로 구현해보도록 하겠습니다."
   ]
  },
  {
   "cell_type": "code",
   "execution_count": 3,
   "id": "9a2a2c00",
   "metadata": {},
   "outputs": [
    {
     "name": "stdout",
     "output_type": "stream",
     "text": [
      "5AF\n",
      "1455\n",
      "10110101111\n",
      "63\n",
      "99\n",
      "1100011\n"
     ]
    }
   ],
   "source": [
    "def to_str(n, base):\n",
    "    hexstr = \"0123456789ABCDEF\"\n",
    "    if n < base:\n",
    "        return hexstr[n]\n",
    "    else:\n",
    "        return to_str(n // base, base) + hexstr[n % base]\n",
    "\n",
    "if __name__ == '__main__':\n",
    "    print(to_str(1455, 16))  # 5AF\n",
    "    print(to_str(1455, 10))  # 1455\n",
    "    print(to_str(1455, 2))   # 10110101111\n",
    "    print(to_str(99, 16))    # 63\n",
    "    print(to_str(99, 10))    # 99\n",
    "    print(to_str(99, 2))     # 1100011"
   ]
  },
  {
   "cell_type": "markdown",
   "id": "1c048781",
   "metadata": {},
   "source": [
    "3번 라인에서는 n이 우리가 변환하는 base보다 작은 재귀의 base case인지 확인합니다. 재귀의 base case를 감지하면 재귀가 중지되고 `hexstr` 시퀀스에서 문자열을 반환하기만하면 됩니다. 라인 6에서는 재귀 호출을 수행하고 문제 크기를 줄임으로써 분할을 사용하여 재귀의 두번째와 세번째 법칙을 모두 충족합니다."
   ]
  },
  {
   "cell_type": "markdown",
   "id": "9f9db95c",
   "metadata": {},
   "source": [
    "알고리즘을 다시 추적해보겠습니다. 이번에는 숫자 10을 이진수로 표현하고자 합니다. 이때에는 어떻게 알고리즘이 적용되는 것일까요?\n",
    "<center><img src =\"https://github.com/idebtor/DSpy/blob/main/images/chap4/ch4-4.jpg?raw=true\" width=\"500\"></center>\n",
    "<center>그림 2. 이진수로 표현하기<center><br>"
   ]
  },
  {
   "cell_type": "markdown",
   "id": "c98ee032",
   "metadata": {},
   "source": [
    "`그림 2`는 우리가 찾고 있는 결과를 보여주지만, 숫자가 잘못된 순서로 되어 있는 것처럼 보입니다. 한번 들여다 보겠습니다. 라인 6에서 재귀 호출을 한 다음 나머지 문자열을 추가하므로 올바르게 작동합니다. `hexstr`을 반환하고 `to_str` 호출을 반환하는 것을 반대로 하면 결과 문자열이 뒤로 돌아옵니다. 그러나 재귀 호출이 반환될 때까지 연결 작업을 지연하면 결과가 올바른 순서로 표시됩니다. 이것은 이전 장에서 배운 스택에 대한 개념과 같습니다."
   ]
  },
  {
   "cell_type": "markdown",
   "id": "12f11dc7",
   "metadata": {},
   "source": [
    "# Recursion using Stack Frames\n",
    "\n",
    "우리는 지금까지`to_str`에 재귀 호출의 결과를  `hexstr`의 문자열과 연결했습니다. 이번에는 직접 재귀 호출을 하는 대신, 스택에 문자열을 푸시하도록 알고리즘을 수정해보도록 하겠습니다."
   ]
  },
  {
   "cell_type": "code",
   "execution_count": 1,
   "id": "4d67d250",
   "metadata": {},
   "outputs": [],
   "source": [
    "class Stack:\n",
    "    \"\"\"Stack implementation as a list\"\"\"\n",
    "\n",
    "    def __init__(self):\n",
    "        \"\"\"Create new stack\"\"\"\n",
    "        self._items = []\n",
    "\n",
    "    def is_empty(self):\n",
    "        \"\"\"Check if the stack is empty\"\"\"\n",
    "        return not bool(self._items)\n",
    "\n",
    "    def push(self, item):\n",
    "        \"\"\"Add an item to the stack\"\"\"\n",
    "        self._items.append(item)\n",
    "\n",
    "    def pop(self):\n",
    "        \"\"\"Remove an item from the stack\"\"\"\n",
    "        return self._items.pop()\n",
    "\n",
    "    def peek(self):\n",
    "        \"\"\"Get the value of the top item in the stack\"\"\"\n",
    "        return self._items[-1]\n",
    "\n",
    "    def size(self):\n",
    "        \"\"\"Get the number of items in the stack\"\"\"\n",
    "        return len(self._items)"
   ]
  },
  {
   "cell_type": "code",
   "execution_count": 2,
   "id": "694ce657",
   "metadata": {},
   "outputs": [
    {
     "name": "stdout",
     "output_type": "stream",
     "text": [
      "5AF\n",
      "1455\n",
      "10110101111\n",
      "63\n",
      "99\n",
      "1100011\n"
     ]
    }
   ],
   "source": [
    "def to_str(n, base):\n",
    "    stack = Stack()\n",
    "    hexstr = \"0123456789ABCDEF\"\n",
    "    while n > 0:\n",
    "        if n < base:\n",
    "            stack.push(hexstr[n])\n",
    "        else:\n",
    "            stack.push(hexstr[n % base])\n",
    "        n = n // base\n",
    "    res = \"\"\n",
    "    while not stack.is_empty():\n",
    "        res = res + stack.pop()\n",
    "    return res\n",
    "\n",
    "if __name__ == '__main__':\n",
    "    print(to_str(1455, 16))\n",
    "    print(to_str(1455, 10))\n",
    "    print(to_str(1455, 2))\n",
    "    print(to_str(99, 16))\n",
    "    print(to_str(99, 10))\n",
    "    print(to_str(99, 2))"
   ]
  },
  {
   "cell_type": "markdown",
   "id": "cb0376f0",
   "metadata": {},
   "source": [
    "`to_str`을 호출할 때마다 스택에 있는 문자를 푸시합니다. 그림으로 표현하면 아래와 같습니다. 이제 문자를 스택에서 꺼내어 최종 결과인 \"1010\"에 연결할 수 있습니다.\n",
    "\n",
    "<center><img src =\"https://github.com/idebtor/DSpy/blob/main/images/chap4/ch4-5.jpg?raw=true\" width=\"500\"></center>\n",
    "<center>그림 3. 변환하는 동안 스택에 배치되는 문자열<center><br>"
   ]
  },
  {
   "cell_type": "markdown",
   "id": "46c30f96",
   "metadata": {},
   "source": [
    "파이썬에서는 함수를 호출하면 함수의 로컬 변수를 처리하기 위해 스택 프레임(stack frame)이 할당됩니다. 스택 프레임이란 메모리의 스택 영역에 차례대로 저장되는 함수의 호출 정보를 의미합니다. 이러한 스택 프레임 덕분에 함수의 호출이 모두 끝난 뒤에, 해당 함수가 호출되기 이전 상태로 되돌아갈 수 있게 되는 것입니다. 함수가 반환되면 호출 함수가 접근할 수 있도록 반환 값이 스택 상단에 남아 있습니다.\n",
    "\n",
    "<center><img src =\"https://github.com/idebtor/DSpy/blob/main/images/chap4/ch4-6.jpg?raw=true\" width=\"500\"></center>\n",
    "<center>그림 4. to_str(10, 2)에서 생성된 호출 스택<center><br>"
   ]
  },
  {
   "cell_type": "markdown",
   "id": "9f99aba9",
   "metadata": {},
   "source": [
    "`to_str(2 // 2, 2)`를 호출하면 스택에 반환 값 \"1\"이 남습니다. 이 반환 값은 \"1\" + hexstr[2 % 2]로 사용되며, 문자열 \"10\"을 스택 상단에 남기게 됩니다.\n",
    "\n",
    "스택 프레임은 함수에 사용되는 변수에 대한 범위도 제공합니다. 동일한 함수를 반복해서 호출하더라도 각 호출은 함수의 로컬 변수에 대한 새로운 범위를 만듭니다."
   ]
  },
  {
   "cell_type": "markdown",
   "id": "7b258646-a076-4c85-92e7-28b3edf13a90",
   "metadata": {},
   "source": [
    "# Fibonacci Sequence (피보노치 수열)\n",
    "\n",
    "수학에서, 피보나치 수열(Fibonacci Sequence)는 첫째 및 둘째 항이 1이며 그 뒤의 모든 항은 바로 앞 두 항의 합인 수열이다. 처음 여섯 항은 각각 1, 1, 2, 3, 5, 8이다. 편의상 0번째 항을 0으로 두기도 합니다. "
   ]
  },
  {
   "cell_type": "markdown",
   "id": "631360c9-7311-4922-b40f-54066f9e8699",
   "metadata": {},
   "source": [
    "유럽에서 피보나치 수를 처음 연구한 것은 레오나르도 피보나치로 토끼 수의 증가에 대해서 이야기하면서 이 수에 대해 언급했습니다. n 번째 달의 토끼 수는\n",
    "\n",
    "- 첫 달에는 새로 태어난 토끼 한 쌍만이 존재한다.\n",
    "- 두 달 이상이 된 토끼는 번식 가능하다.\n",
    "- 번식 가능한 토끼 한 쌍은 매달 새끼 한 쌍을 낳는다.\n",
    "- 토끼는 죽지 않는다.\n",
    "\n",
    "따라서 첫 달에는 새로 태어난 토끼 한 쌍이 있고, 두 번째 달에는 그대로 토끼 한 쌍, 세 번째 달부터는 이 토끼 한 쌍이 새끼를 낳게 되어 토끼가 2쌍이 되고, 네 번째 달에는 3쌍, 다섯 번째 달에는 5쌍이 됩니다. 이때 n번째 달에 a 쌍의 토끼가 있었고, 다음 n+1번째 달에는 새로 태어난 토끼를 포함해 b쌍이 있었다고 하자. 그러면 그다음 n+2 번째 달에는 a+b 쌍의 토끼가 있게 된다. 이는 n번째 달에 살아있던 토끼는 충분한 나이가 되어 새끼를 낳을 수 있지만, 바로 전 달인 n+1번째 달에 막 태어난 토끼는 아직 새끼를 낳을 수 없기 때문입니다. Wikipedia"
   ]
  },
  {
   "cell_type": "markdown",
   "id": "510c7244-f87e-4f6d-ae8a-0713f54bb787",
   "metadata": {},
   "source": [
    "<center><img src =\"https://github.com/idebtor/DSpy/blob/e465b05fe49bab97c9f1af1c57a9415992528e67/images/chap4/fibonacci-rabbit.png?raw=true\" width=\"500\"></center>\n",
    "<center>그림 5. Fibonacci Sequence <center><br>"
   ]
  },
  {
   "cell_type": "markdown",
   "id": "fbf1ff7c-006d-4ba7-94cf-41fad129a6e2",
   "metadata": {},
   "source": [
    "## Reurrence Relation and Recursion:\n",
    "\n",
    "피보노치 수열의 점화식(Recurrence relation)이나 재귀식은 아래와 같이 어렵지 않게 구할 수 있습니다. 재귀함수로 코딩하는 것도 간단히 구현할 수 있지만, 이에 대한 시간복잡도는 $O(2^n)$이므로, 실행시간이 지수함수적으로 증가하게 된다. 그러므로, 이러한 경우 메모이제이션(Memoization)를 사용하여 $O(n)$로 구현할 수 있으며, 다만, 이런 경우에는 필요한 메모리가 O(n)에 비례해지는 단점이 있다. \n",
    "\n",
    "__Recurrence relation:__\n",
    "\n",
    "```\n",
    "rabbit(n) = rabbit(n-1) + rabbit(n-2)\n",
    "```\n",
    "__Recursion:__\n",
    "\n",
    "Base case:\n",
    "```\n",
    "    rabbit(2), rabbit(1)    \n",
    "```    \n",
    "Recursive case:\n",
    "```\n",
    "    rabbit(n) = 1                         if n is 1 or 2                      \n",
    "              = rabbit(n-1) + rabbit(n-2) if n > 2\n",
    "```\n",
    "\n",
    "__Implementation__\n",
    "\n",
    "```\n",
    "def fibo(n):\n",
    "    \"\"\"Assume n >= 0 \"\"\"\n",
    "    if n < 2:\n",
    "        return 1\n",
    "    return fibo(n-1) + fibo(n-2)\n",
    "```"
   ]
  },
  {
   "cell_type": "markdown",
   "id": "9d001b04-0901-42b5-a796-f1ceae3ca02a",
   "metadata": {},
   "source": [
    "# Problem Based Learning  \n",
    "\n",
    "\n",
    "## [0.25p] 함수 radix() 수정하기\n",
    "위에서 재귀를 사용하여 구현한 `to_str()` 함수의 base case를 `if n == 0:`로 수정한 알고리즘이 아래 radix()함수에서 작동할 수 있도록 코딩하십시오. "
   ]
  },
  {
   "cell_type": "code",
   "execution_count": null,
   "id": "c998226d-0368-44e9-b95f-e236236c6faa",
   "metadata": {
    "jupyter": {
     "source_hidden": true
    },
    "tags": []
   },
   "outputs": [],
   "source": [
    "def radix(num, base):\n",
    "    pass\n",
    "\n",
    "if __name__ == '__main__':\n",
    "    print(radix(1455, 16))  # 5AF\n",
    "    print(radix(1455, 10))  # 1455\n",
    "    print(radix(1455, 2))   # 10110101111\n",
    "    print(radix(99, 16))    # 63\n",
    "    print(radix(99, 10))    # 99\n",
    "    print(radix(99, 2))     # 1100011"
   ]
  },
  {
   "cell_type": "markdown",
   "id": "b0509d56-694c-4da7-9c2a-6d7b467660a2",
   "metadata": {},
   "source": [
    "## [0.25p] 함수 radix()를 반복문으로 구현하기\n",
    "위에서 구현한 `to_str()` 함수를 radix()함수라는 이름으로 반복문을 사용하여 구현하십시오. \n",
    "\n",
    "(1) 반복문을 실행하면서, 그 결과를 리스트에 저장하는 경우에, 반복문이 끝나면 리스트의 각 요소(digit)을 reverse하여 하나의 문자열(str)로 변환하여 반환해야 합니다. 힌트는 기존의 코딩방식이 아니라 소위 말하는 pythonic 하게 코딩하는 것으로, `join()`함수, slicing 및 list comprehension 유형의 구문을 사용하면 한 줄로 가능합니다.  \n",
    "\n",
    "(2) 반복문을 실행하면서, 그 결과를 바로 스트링에 저장(concatenate)하고, 반복문이 끝나면 그 결과값(string)을 reverse하여 반환하면 됩니다. \n",
    "\n",
    "두 가지 방법 중에 하나로 하나를 완성하십시오. \n",
    "\n",
    "\n",
    "__Expected Output:__\n",
    "```\n",
    "if __name__ == '__main__':\n",
    "    print(radix(1455, 16))  # 5AF\n",
    "    print(radix(1455, 10))  # 1455\n",
    "    print(radix(1455, 2))   # 10110101111\n",
    "    print(radix(99, 16))    # 63\n",
    "    print(radix(99, 10))    # 99\n",
    "    print(radix(99, 2))     # 1100011\n",
    "```"
   ]
  },
  {
   "cell_type": "markdown",
   "id": "5dd020df-a83b-4247-b57a-a6958ea22aa9",
   "metadata": {},
   "source": [
    "__Solution:__"
   ]
  },
  {
   "cell_type": "code",
   "execution_count": 10,
   "id": "b7c66b16-4668-4824-b83e-b7f014d75d24",
   "metadata": {},
   "outputs": [
    {
     "name": "stdout",
     "output_type": "stream",
     "text": [
      "5AF\n",
      "1455\n",
      "10110101111\n",
      "63\n",
      "99\n",
      "1100011\n"
     ]
    }
   ],
   "source": [
    "def radix(num, base):\n",
    "    hexstr = \"0123456789ABCDEF\"\n",
    "    pass\n",
    "\n",
    "if __name__ == '__main__':\n",
    "    print(radix(1455, 16))  # 5AF\n",
    "    print(radix(1455, 10))  # 1455\n",
    "    print(radix(1455, 2))   # 10110101111\n",
    "    print(radix(99, 16))    # 63\n",
    "    print(radix(99, 10))    # 99\n",
    "    print(radix(99, 2))     # 1100011"
   ]
  },
  {
   "cell_type": "markdown",
   "id": "b41e1ae0-5b6b-4dc7-b8d5-8767b978d721",
   "metadata": {},
   "source": [
    "## [0.5p] 함수 palindrome() 재귀로 구현하기\n",
    "재귀를 사용해서 문자열을 매개 변수로 사용하고 문자열이 palindrome인지 확인하는 함수를 작성합니다. palindrome이면 true를 palindrome이 아니면 false를 반환합니다. 이 문제에서는 대문자와 소문자의 구분을 두지 않습니다. 따라서 문자열을 비교할 때, 소문자 혹은 대문자로 통일하여 비교하면 비교가 훨씬 수월합니다.\n",
    "\n",
    "__hint: use isalnum & filter()__\n",
    "\n",
    "[isalnum] (https://taiyakee.tistory.com/18)  \n",
    "[filter] (https://blockdmask.tistory.com/532)"
   ]
  },
  {
   "cell_type": "markdown",
   "id": "c3cf7307-4056-45b0-8476-32d3cfbcc561",
   "metadata": {},
   "source": [
    "__Solution:__"
   ]
  },
  {
   "cell_type": "code",
   "execution_count": 6,
   "id": "bfb8be47",
   "metadata": {},
   "outputs": [],
   "source": [
    "def remove_white(s):         # remove both white spaces and punctuations\n",
    "    pass\n",
    "\n",
    "def palindrome(s):\n",
    "    s = remove_white(s)\n",
    "    pass\n",
    "    \n",
    "if __name__ == '__main__':\n",
    "    ## TEST CODE\n",
    "    print(palindrome(\"kayak\")) ## True\n",
    "    print(palindrome(\"aibohphobia\")) ## True\n",
    "    print(palindrome(\"follow\"))  ## False\n",
    "    print(palindrome(\"Live not on evil\")) ## True\n",
    "    print(palindrome(\"Reviled did I live, said I, as evil I did deliver\")) ## True\n",
    "    print(palindrome(\"Go hang a salami; I’m a lasagna hog.\")) ## True\n",
    "    print(palindrome(\"My name is Handong\")) ## False"
   ]
  },
  {
   "cell_type": "markdown",
   "id": "191f6d10-c09d-444f-904b-f0302baf5518",
   "metadata": {},
   "source": [
    "## [1.0p] Fibonocci Sequence and Memoization\n",
    "\n",
    "### Step 1: Using formular (attributed to Binet in 1843)\n",
    "\n",
    "Using Binet formular, compute the n-th Fibonacci number `F(n)` in terms of only `n`. Use math module in Python to compute fibo(n) and print the output as shown. It may produce some inaccurracies for the large number of `n`. Print `n` and numbers are right-justified and fibo(n) results are left-justified.   \n",
    "Refer to [here](https://www.youtube.com/watch?v=mVO2dcuR7P0) for the fibo(n) formular.\n",
    "\n",
    "The computer has some built-in limits for the number of decimal places it can accurately compute. Sometimes these inaccuracies will make numbers round to the wrong values. You should be suspicious of large numbers that end with 0 because this could indicate a loss of some of the final digits. Only the left-hand digits of a large number are correct -- the question is just how many!   \n",
    "[Refer to this site for detail](https://r-knott.surrey.ac.uk/Fibonacci/fibFormula.htm) \n",
    "\n",
    "__Fibonacci Formular is available from the following:__\n",
    "- (https://www.youtube.com/watch?v=mVO2dcuR7P0)\n",
    "- https://r-knott.surrey.ac.uk/Fibonacci/fibFormula.html"
   ]
  },
  {
   "cell_type": "markdown",
   "id": "acf44ecb-3ea7-4ea7-b065-545e6776a53a",
   "metadata": {},
   "source": [
    "__Expected Output(with some inaccuracies in the large value of n):__\n",
    "```\n",
    "  n fibo(n)\n",
    "  0 0\n",
    " 10 55\n",
    " 20 6765\n",
    " 30 832040\n",
    " 40 102334155\n",
    " 50 12586269025\n",
    " 60 1548008755920\n",
    " 70 190392490709135\n",
    " 80 23416728348467744\n",
    " 90 2880067194370824704\n",
    "100 354224848179263111168\n",
    "110 43566776258855008468992\n",
    "120 5358359254990987687100416\n",
    "```\n",
    "\n",
    "__Solution:__"
   ]
  },
  {
   "cell_type": "code",
   "execution_count": null,
   "id": "b9ec5ef6-4660-42cc-85dc-732c026c8ee5",
   "metadata": {},
   "outputs": [],
   "source": [
    "import math\n",
    "\n",
    "def fibo(n):\n",
    "    return None\n",
    "\n",
    "if __name__=='__main__':\n",
    "    print(None)\n",
    "    for n in range(0, 201, 10):\n",
    "        fibo(n)\n",
    "        print(None)\n"
   ]
  },
  {
   "cell_type": "markdown",
   "id": "084cb87f-a937-4e77-bd34-664fabcc3085",
   "metadata": {},
   "source": [
    "### Step 2: Using Memoization\n",
    "\n",
    "Idea: Rather computing the same terms repeatedly, save them in a in a dictionary and reuse them whenever necessary. This technique is called memoization\n",
    "For example, fibo_memo has the following elements when n = 0 ~ 11. { 0: 0, 1: 1, 2: 1, 3: 2, 4: 3, 5: 5, 6: 8, 7: 13, 8: 21, 9: 34, 10: 55 }\n",
    "Rewrite fibo() using a memoization and a ternary operator to replace 'None'. \n",
    "\n",
    "Make the following code complete by replacing the 'None' to reproduce the output shown. Notice that n and numbers are right-justified and fibo(n) results are left-justified."
   ]
  },
  {
   "cell_type": "markdown",
   "id": "4e291c69-0d11-46e6-98e8-c17125227e56",
   "metadata": {},
   "source": [
    "__Expected Output (Without round-off error):__\n",
    "```\n",
    "  n fibo(n)\n",
    "  0 0\n",
    " 10 55\n",
    " 20 6765\n",
    " 30 832040\n",
    " 40 102334155\n",
    " 50 12586269025\n",
    " 60 1548008755920\n",
    " 70 190392490709135\n",
    " 80 23416728348467685\n",
    " 90 2880067194370816120\n",
    "100 354224848179261915075\n",
    "110 43566776258854844738105\n",
    "120 5358359254990966640871840\n",
    "```"
   ]
  },
  {
   "cell_type": "code",
   "execution_count": null,
   "id": "e8461702-0120-46d9-8062-4194ab20e292",
   "metadata": {},
   "outputs": [],
   "source": [
    "def fibo(n):\n",
    "    \"\"\"Assume n >= 0 \"\"\"\n",
    "    if n < 2: return 1\n",
    "    if n == 0: return 0\n",
    "    return fibo(n-1) + fibo(n-2)"
   ]
  },
  {
   "cell_type": "markdown",
   "id": "83b46311-4476-4ed8-a77d-8aae68c29a68",
   "metadata": {},
   "source": [
    "__Solution:__    "
   ]
  },
  {
   "cell_type": "code",
   "execution_count": null,
   "id": "75c45af3-e87b-4468-8834-090de6ef272d",
   "metadata": {},
   "outputs": [],
   "source": [
    "fibo_memo = {}\n",
    "def fibo(n):\n",
    "    if n not in fibo_memo:\n",
    "        None \n",
    "    return fibo_memo[n]\n",
    "\n",
    "if __name__=='__main__':\n",
    "    print(None)\n",
    "    for n in range(0, 201, 10):\n",
    "        fibo(n)\n",
    "        print(None)"
   ]
  },
  {
   "cell_type": "markdown",
   "id": "b6acb566-b1da-44ad-8c30-7fb10a864fe5",
   "metadata": {},
   "source": [
    "### Step 3: Using memoization better\n",
    "\n",
    "Modify the following code such that it does not to use the global variable `fibo_memo`. \n",
    "\n",
    "__Expected Output (Without round-off error):__\n",
    "```\n",
    "  n fibo(n)\n",
    "  0 0\n",
    " 10 55\n",
    " 20 6765\n",
    " 30 832040\n",
    " 40 102334155\n",
    " 50 12586269025\n",
    " 60 1548008755920\n",
    " 70 190392490709135\n",
    " 80 23416728348467685\n",
    " 90 2880067194370816120\n",
    "100 354224848179261915075\n",
    "110 43566776258854844738105\n",
    "120 5358359254990966640871840\n",
    "```\n",
    "__Solution:__"
   ]
  },
  {
   "cell_type": "code",
   "execution_count": null,
   "id": "57302dd5-4806-4203-862b-559f89403131",
   "metadata": {},
   "outputs": [],
   "source": [
    "fibo_memo = {}\n",
    "def fibo(n):\n",
    "    if n not in fibo_memo:\n",
    "        None\n",
    "    return fibo_memo[n]\n",
    "\n",
    "if __name__=='__main__':\n",
    "    print(None)\n",
    "    for n in range(0, 201, 10):\n",
    "        fibo(n, fibo_memo)\n",
    "        print(None)\n"
   ]
  },
  {
   "cell_type": "markdown",
   "id": "08f53a25",
   "metadata": {},
   "source": [
    "# References\n",
    "- Recursion Concepts, [Here](https://runestone.academy/ns/books/published//pythonds3/Recursion/toctree.html)\n",
    "- Python stack-frame, [Here](http://www.tcpschool.com/c/c_memory_stackframe)\n",
    "- 피보나치 수열의 시간복잡도, [Here](https://chanos.tistory.com/entry/%EC%9E%90%EB%A3%8C%EA%B5%AC%EC%A1%B0-%ED%94%BC%EB%B3%B4%EB%82%98%EC%B9%98-%EC%88%98%EC%97%B4%EC%9D%98-%EC%8B%9C%EA%B0%84-%EB%B3%B5%EC%9E%A1%EB%8F%84-%EC%99%84%EB%B2%BD%ED%9E%88-%EC%9D%B4%ED%95%B4%ED%95%98%EA%B8%B0)"
   ]
  },
  {
   "cell_type": "markdown",
   "id": "64b30bb0-a3db-4cc8-b3f4-6a60509f539f",
   "metadata": {},
   "source": [
    "------\n",
    "하나님이 자기 형상 곧 하나님의 형상대로 사람을 창조하시되 남자와 여자를 창조하시고 하나님이 그들에게 복을 주시며 하나님이 그들에게 이르시되 생육하고 번성하여 땅에 충만하라, 땅을 정복하라, 바다의 물고기와 하늘의 새와 땅에 움직이는 모든 생물을 다스리라 하시니라 (창1:27-28)"
   ]
  }
 ],
 "metadata": {
  "kernelspec": {
   "display_name": "Python 3 (ipykernel)",
   "language": "python",
   "name": "python3"
  },
  "language_info": {
   "codemirror_mode": {
    "name": "ipython",
    "version": 3
   },
   "file_extension": ".py",
   "mimetype": "text/x-python",
   "name": "python",
   "nbconvert_exporter": "python",
   "pygments_lexer": "ipython3",
   "version": "3.9.7"
  }
 },
 "nbformat": 4,
 "nbformat_minor": 5
}

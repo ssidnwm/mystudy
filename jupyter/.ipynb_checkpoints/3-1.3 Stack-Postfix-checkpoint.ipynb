{
 "cells": [
  {
   "cell_type": "markdown",
   "metadata": {},
   "source": [
    "예수께서 대답하여 이르시되 기록되었으되 사람이 떡으로만 살 것이 아니요 하나님의 입으로부터 나오는 모든 말씀으로 살 것이라 하였느니라 하시니 (마4:4)\n",
    "\n",
    "-------\n",
    "<center><img src=\"https://github.com/idebtor/DSpy/blob/6b3676c3de29f85d2e7f30679676d1fd96d88b17/images/WelcomeToDataStructures.jpg?raw=true\" width=1000></center>\n",
    "\n",
    "__NOTE:__ The following materials have been compiled and adapted from the numerous sources including my own. Please help me to keep this tutorial up-to-date by reporting any issues or questions. Send any comments or criticisms to `idebtor@gmail.com` Your assistances and comments will be appreciated.\n",
    "\n",
    "--------\n",
    "On my honor, I pledge that I have neither received nor provided improper assistance in the completion of this assignment.\n",
    "\n",
    "Signed: [문벼리] Student Number: [22000245]"
   ]
  },
  {
   "cell_type": "markdown",
   "metadata": {},
   "source": [
    "<b style=\"font-size:30px\">  Chapter 3. Linear Data Structures (선형 자료구조)</b>\n",
    "\n",
    ": 선형 자료구조란 무엇인가 (스택,큐,리스트 등)  \n",
    "\n",
    "--------------\n",
    "제 3장에서는 선형 자료구조에 대해 알아봅니다. 선형 자료구조란 무엇이며, 자료구조에 사용되는 대표적인 선형 자료구조들을 배우고 간단한 실습을 통해 구현해보며 익히게 됩니다. 자료구조의 기초가 되며, 이후 운영체제, 알고리즘, 네트워크 등 모든 영역에 활용되는 것 이므로 적극적인 자세로 재밌게 배우면 좋겠습니다!\n",
    "\n",
    "\n",
    "# 다양한 수식 표기법 (Infix, Prefix, Postfix)\n",
    "\n",
    "1.1. Infix, Prefix, Postfix란 무엇인가?  \n",
    "1.2. Infix를 Prefix와 Postfix로 변환하기  \n",
    "1.3. Infix-to-Postfix 변환의 일반화된 방법론  \n",
    "1.4. Postfix 계산법  "
   ]
  },
  {
   "cell_type": "markdown",
   "metadata": {},
   "source": [
    "## Infix, Prefix, Postfix란 무엇인가?\n",
    ": 다양한 수식 표기법을 이해합니다."
   ]
  },
  {
   "cell_type": "markdown",
   "metadata": {},
   "source": [
    "```\n",
    "B * C\n",
    "```\n",
    "위와 같은 산술식이 있을 때, 표현식의 형태는 우리가 정확하게 해석할 수 있도록 정보를 제공합니다. 이 경우 곱셈 연산자 * 가 식에서 변수 사이에 나타나므로 변수 B에 변수 C를 곱하는 것임을 알 수 있습니다. 연산자가 작업 중인 두 피연산자 사이(_in between_)에 있으므로 이러한 유형의 표기법을 __infix__라고 합니다."
   ]
  },
  {
   "cell_type": "markdown",
   "metadata": {},
   "source": [
    "```\n",
    "A + B * C\n",
    "```\n",
    "또 다른 infix 식의 예입니다. 연산자 + 와 * 는 모두 피연산자 사이에 있으나 이전 예시에서 보지 못한 문제가 발생합니다. 정말 + 연산자가 A와 B 사이에 적용 되는 것인가, 혹은 * 연산자가 B와 C 사이에 적용되는 것인가의 문제입니다. 이러한 관점에서 볼 때, 위 식은 상당히 애매한 표기법인 것 같습니다.  \n",
    "\n",
    "아마 여러분들은 오랫동안 이런 표기법을 읽고 써왔기 때문에 해석하는데 전혀 문제가 없을 것입니다. 그 이유는 우리가 이미 연산자 + 와 * 에 다른 요소가 있다는 것을 알기 때문입니다. 각 연산자는 그들만의 __우선 순위 수준(precedence level)__ 이 있습니다. 따라서 높은 우선 순위의 연산자는 낮은 우선 순위의 연산자보다 먼저 적용되게 되고, 그 대표적인 예로 곱셈과 나눗셈 연산이 덧셈과 뺄셈 연산보다 높은 우선 순위 수준을 갖는 것을 알 수 있습니다. 또한, 같은 우선 순위의 연산자들은 식의 왼쪽부터 오른쪽 순서로 연산하게 됩니다. 이러한 우선 순위를 변경하기 위해서는 괄호를 사용하는 방법 외에는 존재하지 않습니다."
   ]
  },
  {
   "cell_type": "markdown",
   "metadata": {},
   "source": [
    "이제 문제가 되었던 위의 수식을 다시 해석해보도록 하겠습니다. B와 C가 먼저 곱해지고, 그 이후에 A가 더해지게 됩니다. 이때, 괄호를 사용하면 (A + B) * C로 덧셈 연산을 강제로 먼저 하도록 정할 수 있습니다. 이와 다르게 A + B + C 의 경우 연산자의 우선 순위가 모두 같기 때문에 왼쪽에서 오른쪽 순서로 연산이 진행 될 것입니다.  \n",
    "\n",
    "이러한 수식의 해석은 여러분에겐 당연할 수 있지만, 우리는 피연산자와 연산자의 종류, 연산 순서를 정확히 알아야하는 컴퓨터의 입장을 고려해야합니다. 연산의 우선 순위에 상관없이 단순한 순서대로 연산을 진행하는 방법에는 __fully parenthesized__ 표기법이 있습니다. 이는 각 연산자 마다 한 쌍의 괄호를 사용하는 것으로, 연산 순서의 모호함을 없애고 우선 순위 계산을 하지 않아도 되게 됩니다. 아래는 fully parenthesized expression의 예시입니다.\n",
    "```\n",
    "A + B * C + D => ((A + (B * C)) + D)\n",
    "A + B + C + D => (((A + B) + C) + D)\n",
    "```"
   ]
  },
  {
   "cell_type": "markdown",
   "metadata": {},
   "source": [
    "우리에게 친숙한 Infix 외에 다른 두 가지의 중요한 표현 형식이 있습니다. Infix에서의 A + B 식을 고려해보겠습니다. 만약 연산자를 피연산자의 앞에 두면 어떨까요? 결과는 + A B 가 될 것입니다. 이처럼 연산자를 피연산자의 뒤로 옮기면 A B + 와 같이 될 것입니다. 이와 같은 표기법은 각각 __prefix__ 와 __postfix__ 라고 합니다.  \n",
    "\n",
    "Prefix 표기법은 모든 연산자가 그에 상응하는 두개의 피연산자 앞에 위치하게 됩니다. 이와 반대로, Postfix 표기법은 모든 연산자가 그에 상응하는 두개의 피연산자 뒤에 위치하게 됩니다. 이를 더 쉽게 이해하기 위해 몇가지 예시를 보겠습니다(표 2 참고)."
   ]
  },
  {
   "cell_type": "markdown",
   "metadata": {},
   "source": [
    "|Infix Expression|Prefix Expression|Postfix Expression|\n",
    "|:---:|:---:|:---:|\n",
    "|A+B| +AB | AB+\n",
    "|A+B*C| +A*BC | ABC*+|\n",
    "\n",
    "\n",
    "<center>표1.Examples of Infix, Prefix and Postfix </center>\n"
   ]
  },
  {
   "cell_type": "markdown",
   "metadata": {},
   "source": [
    "A + B * C 는 prefix로 + A * B C 로 나타낼 수 있습니다. * 연산자는 피연산자 B와 C 바로 앞에 표현함으로서 + 연산자보다 우선 순위가 더 높음을 표현합니다. 이렇듯 연산자의 위치가 피연산자의 앞, 뒤로 이동할 수 있지만 피연산자의 상대적 위치는 고정되는 것을 알 수 있습니다."
   ]
  },
  {
   "cell_type": "markdown",
   "metadata": {},
   "source": [
    "이제 infix식 (A + B) * C 를 보겠습니다. Infix의 경우 + 연산자를 * 연산자보다 먼저 적용하기 위해서는 괄호 연산자를 활용해야 한다는 것을 볼 수 있습니다. 하지만 이를 prefix로 나타낼 시 A + B는 * 연산자에 대한 첫번째 피연산자가 되어 * + A B C 가 됩니다. 이와 비슷하게, postfix의 경우 A + B가 * 연산자의 피연산자가 되어 A B + C * 가 되는 것을 알 수 있습니다.\n",
    "\n",
    "표 3은 위 예시를 표로 나타낸 것 입니다. 표 3을 보면 infix에 사용되었던 괄호 연산자가 prefix와 postfix 표기법을 사용할 때 없어지는 것을 볼 수 있습니다. 그렇다면 괄호 연산자는 왜 없어졌으며, 왜 없어져도 문제가 없을까요? 답은 더이상 식의 연산 순서가 모호하지 않기 때문입니다. 따라서 오직 infix만이 연산 순서를 정하기 위하여 추가적인 기호를 사용해야 하는 것입니다. Prefix와 Postfix에서의 연산 순서는 온전히 연산자의 위치에 의해 정해집니다. 이러한 속성은 다양한 경우에 infix의 사용을 비효율적으로 만듭니다."
   ]
  },
  {
   "cell_type": "markdown",
   "metadata": {},
   "source": [
    "|Infix Expression|Prefix Expression|Postfix Expression|\n",
    "|:---:|:---:|:---:|\n",
    "|(A+B)*C| *+ABC | AB+C*\n",
    "\n",
    "\n",
    "<center>표2.An Example with Parentheses </center>"
   ]
  },
  {
   "cell_type": "markdown",
   "metadata": {},
   "source": [
    "표 4는 infix에 해당하는 prefix와 postfix의 다양한 예제를 나타내고 있습니다. 이 예제들을 보며, infix에 해당하는 prefix와 postfix가 어떻게 만들어지는지, 그리고 연산자들의 연산 순서가 어떻게 진행되는지 살펴보시기 바랍니다."
   ]
  },
  {
   "cell_type": "markdown",
   "metadata": {},
   "source": [
    "|Infix Expression|Prefix Expression|Postfix Expression|\n",
    "|:---:|:---:|:---:|\n",
    "|A + B * C + D | + + A * B C D | A B C * + D + |\n",
    "|(A + B)* (C + D)| * + A B + C D | A B + C D + * | \n",
    "|A * B + C * D| + * A B * C D| A B * C D * +|\n",
    "|A + B + C + D| + + + A B C D| A B + C + D +|\n",
    "\n",
    "\n",
    "<center>표3.Additional Examples of Infix, Prefix and Postfix </center>\n"
   ]
  },
  {
   "cell_type": "markdown",
   "metadata": {},
   "source": [
    "## Infix를 Prefix와 Postfix로 변환하기\n",
    ": 연산에 유리한 prefix와 postfix로 변환하는 방법을 배웁니다."
   ]
  },
  {
   "cell_type": "markdown",
   "metadata": {},
   "source": [
    "지금까지 사용한 직관적인 변환 외에, 알고리즘으로도 infix 식을 prefix와 postfix로 변환할 수 있습니다. 알고리즘을 활용한 변환법은 식의 길이와 복잡도에 상관없이 언제든 정확한 변환을 가능하게 합니다.  \n",
    "\n",
    "가장 먼저 살펴볼 방법론은 앞서 언급한 _fully parenthesized expression_ 을 활용한 것입니다. Infix 형태의 식 A + B * C 를 예로 들면, fully parenthesized expression으로는 (A + (B * C))로 나타낼 수 있습니다. 이처럼 괄호는 곱셈 연산자가 덧셈 연산자보다 우선 순위가 높음을 나타내줍니다. 그러나 조금 더 자세히 살펴보면, 짝을 이루는 괄호는 각각 연산의 시작과 끝을 지정하고, 양끝에 피연산자와 그 사이에 연산자가 있음을 알 수 있습니다.\n",
    "\n"
   ]
  },
  {
   "cell_type": "markdown",
   "metadata": {},
   "source": [
    "이제 오른쪽의 하위 표현식인 (B * C)를 살펴보겠습니다. 만약 여기서 * 연산자를 __오른쪽 괄호의 위치로 옮기고__, 그에 대응하는 왼쪽 괄호를 없애면 B C * 가 되고, 이는 postfix 표기법임을 알 수 있습니다. 마찬가지로 전체식 (A + (B * C))에서 + 연산자를 오른쪽 괄호로 옮기고, 그에 대응되는 왼쪽 괄호를 없애면 A (B * C) + 가 됨을 알 수 있고, 이를 합치면 A B C * + 인 postfix로 변환이 되는 것을 알 수 있습니다(그림 1 참조)."
   ]
  },
  {
   "cell_type": "markdown",
   "metadata": {},
   "source": [
    "<center><img src=\"https://github.com/idebtor/DSpy/blob/main/images/chap3/ch3-7.jpg?raw=true\" width=\"500\" title=\"Figure 1. Moving Operators to the Right for Postfix Notation\"></center>\n",
    "<center>그림 1. Postfix 변환법 예제<center><br>"
   ]
  },
  {
   "cell_type": "markdown",
   "metadata": {},
   "source": [
    "이와 마찬가지로, 이번에는 각 연산자를 __왼쪽 괄호로 옮기고__ 그에 대응하는 오른쪽 괄호를 없애면 우리는 prefix 표현식을 얻게 됩니다(그림 2 참조). "
   ]
  },
  {
   "cell_type": "markdown",
   "metadata": {},
   "source": [
    "<center><img src=\"https://github.com/idebtor/DSpy/blob/main/images/chap3/ch3-8.jpg?raw=true\" width=\"500\" title=\"Figure 2. Moving Operators to the Left for Prefix Notation\"></center>\n",
    "<center>그림 2. Prefix 변환법 예제<center><br>"
   ]
  },
  {
   "cell_type": "markdown",
   "metadata": {},
   "source": [
    "따라서, 표기법의 변환은 식이 얼마나 길고 복잡한지와 관계없이, 식을 fully parenthesize 한다면 희망하는 표기법에 따라 연산자의 위치와 괄호의 삭제를 적절히 함으로서 정확하게 변환을 할 수 있습니다. 한가지 복잡한 식을 예시로 보겠습니다(그림 3 참조). Infix의 식이 fully parenthesize expression이 되고 prefix/postfix로 변환되는 과정을 생각하며 보시길 바랍니다."
   ]
  },
  {
   "cell_type": "markdown",
   "metadata": {},
   "source": [
    "<center><img src=\"https://github.com/idebtor/DSpy/blob/main/images/chap3/ch3-9.jpg?raw=true\" width=\"700\" title=\"Figure 3. Converting a Complex Expression to Prefix and Postfix Notations\"></center>\n",
    "<center>그림 3. 표기법 변환의 복잡한 예제<center><br>"
   ]
  },
  {
   "cell_type": "markdown",
   "metadata": {},
   "source": [
    "## Infix-to-Postfix 변환의 일반화된 방법론\n",
    ": Infix 표기법을 Postfix로 변환하는 알고리즘을 배웁니다."
   ]
  },
  {
   "cell_type": "markdown",
   "metadata": {},
   "source": [
    "앞서 사용한 A + B * C 예시를 다시 보겠습니다. 이 식에 대한 postfix 표기법은 A B C * + 이 될 것입니다. 우리는 이미 피연산자 A, B, C의 상대적 위치는 고정되어 있으며, 오직 연산자의 위치만 바뀐다는 것을 알고있습니다. 따라서, 앞으로는 연산자를 주목하여 살펴보겠습니다. Infix 식은 왼쪽에서 오른쪽 순서로 읽을때 + 연산자가 먼저 나오는 것을 알 수 있습니다. 하지만 postfix 표기법에서는 + 연산자는 가장 뒤에 위치해있고 * 연산자의 우선 순위가 더 우위에 있음을 볼 수 있습니다. 다시 말해, 기존 infix 식에서의 연산자의 순서가 postfix 식에서는 역순이 됩니다.\n",
    "이는 앞에서 우리가 반복해서 배웠듯이, 연산자의 저장이 필요하고, 저장 순서와 실제 식의 연산자의 순서가 역순이라는 것은 __스택__을 사용하기 적합한 문제임을 알 수 있습니다."
   ]
  },
  {
   "cell_type": "markdown",
   "metadata": {},
   "source": [
    "그렇다면 (A + B) * C 에서는 어떨까요? 이 식에 대한 postfix는 A B + C * 가 됩니다. 하지만 이번 식은 이전 식과 다르게 괄호의 사용으로 인해 + 연산자가 * 연산자보다 높은 우선 순위를 갖게되어, infix에서 postfix의 변환으로 연산자의 상대적 위치가 변하지 않음을 알 수 있습니다."
   ]
  },
  {
   "cell_type": "markdown",
   "metadata": {},
   "source": [
    "이제는 표기법 변환 알고리즘이 어떤식으로 진행되는지 감이 잡힐 것입니다. 우선 앞으로 의미를 갖는 최소 단위(연산자, 피연산자)를 __토큰(token)__으로 부르겠습니다. 토큰을 postfix 순서로 나타내는 알고리즘은 다음과 같습니다."
   ]
  },
  {
   "cell_type": "markdown",
   "metadata": {},
   "source": [
    "1. 연산자를 저장하기 위해 opstack이라는 빈 스택을 만듭니다. 결과를 저장할 빈 리스트를 만듭니다.  \n",
    "1. string 메소드인 split을 사용하여 입력 infix 문자열을 리스트로 변환합니다.  \n",
    "1. 토큰 리스트를 왼쪽에서 오른쪽으로 스캔합니다.\n",
    "    - 토큰이 피연산자인 경우 결과 리스트의 끝에 토큰을 추가합니다.\n",
    "    - 토큰이 왼쪽 괄호일 경우 opstack에 추가(Push)합니다.\n",
    "    - 토큰이 오른쪽 괄호인 경우 해당 왼쪽 괄호가 제거될 때까지 opstack을 제거(pop)합니다. 각 연산자를 결과 리스트 끝에 추가합니다.\n",
    "    - 토큰이 연산자이면 *, /, + 또는 -를 opstack에 푸시합니다. 그러나 먼저, opstack에 __이미 있는 우선 순위가 높거나 같은 연산자__를 제거하고 결과 리스트에 추가합니다.  \n",
    "1. 입력 식이 완전히 처리되면 opstack을 확인합니다. 스택에 남아 있는 연산자는 모두 제거하고 결과 리스트의 끝에 추가할 수 있습니다."
   ]
  },
  {
   "cell_type": "markdown",
   "metadata": {},
   "source": [
    "그림 4는 A * B + C * D 식에 대하여 변환 알고리즘의 작동 방식을 나타냅니다. 그림에서 첫번째 * 연산자는 + 연산자를 보는 즉시 제거되는 것을 보고, + 연산자는 다음 나오는 * 연산자를 보고도 그대로 스택에 남아있는 것을 확인하세요."
   ]
  },
  {
   "cell_type": "markdown",
   "metadata": {},
   "source": [
    "<center><img src=\"https://github.com/idebtor/DSpy/blob/main/images/chap3/ch3-10.jpg?raw=true\" width=\"700\" title=\"Figure 4. Converting A * B + C * D to Postfix Notation\"></center>\n",
    "<center>그림 4. Postfix 변환 알고리즘 예제<center><br>"
   ]
  },
  {
   "cell_type": "markdown",
   "metadata": {},
   "source": [
    "위 알고리즘을 파이썬으로 구현하기 위하여, `prec` 이라는 딕셔너리를 사용하여 연산자들의 우선순위를 저장해놓도록 하겠습니다. 이 딕셔너리는 각 연산자를 정수에 매핑하여 연산자간의 우선순위를 비교할때 정수값으로 비교가 가능하게 해줍니다. __여는 괄호는 가장 낮은 우선 순위 값을 갖게되어 다른 연산자들이 괄호 위에 쌓일 수 있도록 해줍니다.__ 파이썬으로 구현된 변환 알고리즘의 다음과 같습니다.\n",
    "\n",
    "__Sample Run:__\n",
    "```\n",
    "print(infixToPostfix(\"( A + B ) * C\"))\n",
    "print(infixToPostfix(\"A + B * C\"))\n",
    "print(infixToPostfix(\"A * B + C * D\"))\n",
    "print(infixToPostfix(\"( A + B ) * C - ( D - E ) * ( F + G )\"))\n",
    "print(infixToPostfix(\"1 + 2 * ( 3 + 4 )\"))\n",
    "```\n",
    "__Output:__\n",
    "```\n",
    "A B + C *\n",
    "A B C * +\n",
    "A B * C D * +\n",
    "A B + C * D E - F G + * -\n",
    "1 2 3 4 + * +\n",
    "```"
   ]
  },
  {
   "cell_type": "code",
   "execution_count": 2,
   "metadata": {},
   "outputs": [
    {
     "name": "stdout",
     "output_type": "stream",
     "text": [
      "A B + C *\n",
      "A B C * +\n",
      "A B * C D * +\n",
      "A B + C * D E - F G + * -\n",
      "1 2 3 4 + * +\n"
     ]
    }
   ],
   "source": [
    "#%%writefile infixToPostfix.py\n",
    "from dspy.basic import Stack\n",
    "\n",
    "def infixToPostfix(infixexpr):\n",
    "    prec = {}\n",
    "    prec[\"*\"] = 3\n",
    "    prec[\"/\"] = 3\n",
    "    prec[\"+\"] = 2\n",
    "    prec[\"-\"] = 2\n",
    "    prec[\"(\"] = 1\n",
    "    opStack = Stack()\n",
    "    postfixList = []\n",
    "    tokenList = infixexpr.split()\n",
    "\n",
    "    for token in tokenList:\n",
    "        if token in 'ABCDEFGHIJKLMNOPQRSTUVWXYZ' or token in \"0123456789\":\n",
    "            postfixList.append(token)\n",
    "        elif token == '(':\n",
    "            opStack.push(token)\n",
    "        elif token == ')':\n",
    "            topToken = opStack.pop()\n",
    "            while topToken != '(':\n",
    "                postfixList.append(topToken)\n",
    "                topToken = opStack.pop()\n",
    "        else:\n",
    "            while (not opStack.is_empty()) and (prec[opStack.peek()] >= prec[token]):\n",
    "                  postfixList.append(opStack.pop())\n",
    "            opStack.push(token)\n",
    "\n",
    "    while not opStack.is_empty():\n",
    "        postfixList.append(opStack.pop())\n",
    "    return \" \".join(postfixList)\n",
    "\n",
    "if __name__ == \"__main__\":\n",
    "    print(infixToPostfix(\"( A + B ) * C\"))\n",
    "    print(infixToPostfix(\"A + B * C\"))\n",
    "    print(infixToPostfix(\"A * B + C * D\"))\n",
    "    print(infixToPostfix(\"( A + B ) * C - ( D - E ) * ( F + G )\"))\n",
    "    print(infixToPostfix(\"1 + 2 * ( 3 + 4 )\"))"
   ]
  },
  {
   "cell_type": "markdown",
   "metadata": {},
   "source": [
    "## Postfix 계산법\n",
    ": Postfix 표기식을 연산하는 방법을 배웁니다."
   ]
  },
  {
   "cell_type": "markdown",
   "metadata": {},
   "source": [
    "스택 예제의 마지막으로, Postfix로 표현된 식을 계산하는 방법을 배워보도록 하겠습니다.  \n",
    "Postfix 표기식을 자세히 관찰하면, 앞서 배운 표기법 변환 알고리즘에서 연산자가 피연산자가 나올때까지 기다리는 것과는 다르게, 피연산자가 연산자가 나올때까지 기다리는 것을 알 수 있습니다. 이 관찰을 잘 활용하면, postfix를 계산하는 알고리즘에서는 연산자가 나오면 가장 최근 2개의 피연산자를 꺼내여 계산을 진행하면 된다는 것을 알 수 있습니다."
   ]
  },
  {
   "cell_type": "markdown",
   "metadata": {},
   "source": [
    "```\n",
    "4 5 6 * +\n",
    "```\n",
    "위 postfix 식을 예로 들겠습니다. 식을 왼쪽에서부터 순차적으로 진행하게 되면, 먼저 피연산자인 4와 5를 마주치게 됩니다. 이 시점에서는 아직 우리가 두 피연산자를 어떻게 처리해야할지 모르기 때문에 먼저 스택에 넣어두어, 이후 연산자를 발견할 시 이를 계산할 수 있도록 합니다.  \n",
    "\n",
    "하지만 이번 예제는 다음 기호 역시 피연산자입니다. 그러므로 이 역시 스택에 넣고 다음 기호가 연산자가 오는지 확인합니다. 다음 기호는 * 연산자입니다. 따라서, 가장 최근에 스택에 넣은 두 피연산자는 * 연산자를 사용하여 계산을 하는 것임을 알 수 있고, 그 결과값을 다시 스택에 넣어 다음 연산자의 피연산자로 사용될 수 있도록 합니다.  \n",
    "\n",
    "마지막 연산까지 마쳤을 때, __스택에는 연산을 모두 마친 하나의 원소(값)를 가지고 있을 것 입니다.__ 따라서 이를 제거(pop)하면 최종 결과값이 나오게 됩니다. 그림 5는 위 과정을 그림으로 나타낸 것입니다."
   ]
  },
  {
   "cell_type": "markdown",
   "metadata": {},
   "source": [
    "<center><img src=\"https://github.com/idebtor/DSpy/blob/main/images/chap3/ch3-11.jpg?raw=true\" width=\"600\"><center>\n",
    "<center>그림 5. Postfix 식의 계산 과정<center><br>"
   ]
  },
  {
   "cell_type": "markdown",
   "metadata": {},
   "source": [
    "```\n",
    "7 8 + 3 2 + /\n",
    "```\n",
    "그림 6은 조금 더 복잡한 예제인 위 식을 그림으로 나타낸 것입니다. 이 예제에서 중요하게 봐야할 점이 두곳 있습니다. 첫번째는, 스택의 크기가 연산을 거치며 크기가 커졌다가 줄어들고, 다시 커지는 것입니다. 두번째는, 나눗셈 연산자를 다룰 때 특히 주의해야합니다. Postfix 식에서는 피연산자의 상대적 위치가 같기 때문에, 일반적으로 연산자를 발견하면 피연산자는 스택에 들어가있는 순서 그대로 처리하면 되었습니다. 하지만, 나눗셈은 가환성을 갖는 연산자가 아니기 때문에 스택에서 피연산자를 취할때 역순으로 취하여 연산을 진행해야합니다. 다시 말하자면, 피연산자의 위치를 바꿔도 같은 결과값이 나오는 다른 사칙연산자와는 다르게, 나눗셈은 15/3과 3/15의 결과가 다르기 때문에, 스택에서 나오는 역순의 피연산자를 그대로 계산하면 안되는 것입니다."
   ]
  },
  {
   "cell_type": "markdown",
   "metadata": {},
   "source": [
    "<center><img src=\"https://github.com/idebtor/DSpy/blob/main/images/chap3/ch3-12.jpg?raw=true\" width=\"600\"></center>\n",
    "<center>그림 6. 더 복잡한 Postfix 식의 계산 과정<center><br>"
   ]
  },
  {
   "cell_type": "markdown",
   "metadata": {},
   "source": [
    "Postfix 식을 계산하는 알고리즘은 다음과 같습니다. 우선, 수식은 띄어쓰기로 나뉜 토큰들의 문자열로 가정하고, 피연산자는 한자리 정수로 가정합니다."
   ]
  },
  {
   "cell_type": "markdown",
   "metadata": {},
   "source": [
    "1. operandStack 이라는 빈 스택을 만듭니다.\n",
    "\n",
    "\n",
    "2. string 메소드인 split을 사용하여 입력 infix 문자열을 리스트로 변환합니다.  \n",
    "\n",
    "\n",
    "3. 토큰 리스트를 왼쪽에서 오른쪽으로 스캔합니다.\n",
    "    - 토큰이 피연산자일 경우, 문자열에서 정수로 변환하고 값을 피연산자 스택으로 추가(push)합니다.\n",
    "    - 토큰이 연산자 *, /, + 또는 - 인 경우 두 개의 피연산자가 필요합니다. operandStack 스택에서 두 번 제거(pop)하고, 첫 번째 pop 값은 두 번째 피연산자이고 두 번째 pop 값은 첫 번째 피연산자가 됩니다. 이후 산술 연산을 수행하고, 피연산자 스택에서 결과를 다시 추가(push)합니다.\n",
    "\n",
    "\n",
    "4. 입력 식이 완전히 처리되면 결과가 스택에 표시됩니다. operandStack 스택에서 최종 결과값을 반환합니다."
   ]
  },
  {
   "cell_type": "markdown",
   "metadata": {},
   "source": [
    "최종적으로 구현한 파이썬 코드는 다음과 같습니다. 연산을 돕기 위하여 doMath라는 보조 함수를 활용하였습니다."
   ]
  },
  {
   "cell_type": "code",
   "execution_count": 3,
   "metadata": {},
   "outputs": [
    {
     "name": "stdout",
     "output_type": "stream",
     "text": [
      "3.0\n",
      "15\n"
     ]
    }
   ],
   "source": [
    "from dspy.basic import Stack\n",
    "\n",
    "def postfixEval(postfixExpr):\n",
    "    operandStack = Stack()\n",
    "    tokenList = postfixExpr.split()\n",
    "\n",
    "    for token in tokenList:\n",
    "        if token in \"0123456789\":\n",
    "            operandStack.push(int(token))\n",
    "        else:\n",
    "            operand2 = operandStack.pop()\n",
    "            operand1 = operandStack.pop()\n",
    "            result = doMath(token,operand1,operand2)\n",
    "            operandStack.push(result)\n",
    "    return operandStack.pop()\n",
    "\n",
    "def doMath(op, op1, op2):\n",
    "    if op == \"*\":\n",
    "        return op1 * op2\n",
    "    elif op == \"/\":\n",
    "        return op1 / op2\n",
    "    elif op == \"+\":\n",
    "        return op1 + op2\n",
    "    else:\n",
    "        return op1 - op2\n",
    "\n",
    "if __name__ == \"__main__\":\n",
    "    print(postfixEval('7 8 + 3 2 + /'))\n",
    "    print(postfixEval('1 2 3 4 + * +'))"
   ]
  },
  {
   "cell_type": "markdown",
   "metadata": {},
   "source": [
    "위 코드는 입력식에서의 오류가 없다는 것을 가정합니다. 위 코드를 시작으로 어떻게 발전시킬 수 있는지 생각해보고, 챕터 마지막에 다시한번 다뤄보도록 하겠습니다."
   ]
  },
  {
   "cell_type": "markdown",
   "metadata": {},
   "source": [
    "# Summary"
   ]
  },
  {
   "cell_type": "markdown",
   "metadata": {},
   "source": [
    "이번 시간은 우리에게 익숙한 Infix 표현법 외에도 Prefix와 Postfix를 배웠습니다. 또한, 각 표현식을 변환하는 알고리즘과 각 식에 대한 계산 알고리즘을 배웠습니다. 새로운 이론과 알고리즘을 배울때는, 예제를 직접 만들어서 과정을 하나하나 손으로 써보며 익히면 이해도가 높아지고 프로그래밍하기도 쉬워집니다. 각자 복습하여 컴퓨터의 연산에 더욱 효율적인 표현법을 택하여 적용할 수 있으면 좋겠습니다."
   ]
  },
  {
   "cell_type": "markdown",
   "metadata": {},
   "source": [
    "# Discussion Questions"
   ]
  },
  {
   "cell_type": "markdown",
   "metadata": {},
   "source": [
    "## Useful cell magic commands"
   ]
  },
  {
   "cell_type": "markdown",
   "metadata": {},
   "source": [
    "- To write/save  \n",
    "    `%%writefile myfile.py`   \n",
    "    write/save cell contents into myfile.py (use -a to append). Another alias: %%file myfile.py\n",
    "    \n",
    "- To run    \n",
    "    `%run myfile.py`   \n",
    "    run myfile.py and output results in the current cell\n",
    "    \n",
    "- To load/import   \n",
    "    `%load myfile.py`   \n",
    "    load \"import\" myfile.py into the current cell\n",
    "- For more magic and help   \n",
    "    `%lsmagic`     \n",
    "    list all the other cool cell magic commands.   \n",
    "\n",
    "- For help on how to use a certain command. i.e. %run?   \n",
    "    `%COMMAND-NAME?`"
   ]
  },
  {
   "cell_type": "markdown",
   "metadata": {},
   "source": [
    "## What does `if __name__ == __main__` do?\n",
    "위의 코드에서 왜 `if __name__ == \"__main__\":`이 필요한지 알기 위하여 다음과 같은 실험을 해보십시오. "
   ]
  },
  {
   "cell_type": "markdown",
   "metadata": {},
   "source": [
    "1. 위 코드를 `infixToPostfix.py`로 저장하십시오. (Use `%%writefile infrixToPostfix.py`)\n",
    "1. 콘솔 창을 열고, infixToPostfix.py 스크립트를 실행해 보십시오. `if __name__` 이하 구문이 실행됩니다.\n",
    "    `python infixToPostfix.py`\n",
    "1. juypter-lab에서 kernel을 reset하고, `infixToPostfix`를 `run`해보십시오. `if __name__` 이하 구문이 실행됩니다. \n",
    "    `%run infixToPostfix`\n",
    "1. juypter-lab에서 kernel을 reset하고, 아래와 같이 `infixToPostfix`를 `import`하면, `infixToPostfix()` 함수를 사용할 수 있습니다. 다만, 이 때는 `if __name__` 이하 구문이 __실행되지 않습니다__. 이것이 우리가 원하는 바입니다. \n",
    "    `import infixToPostfix1\n",
    "    infixToPostfix(\"1 + 2 * ( 3 + 4 )\"\n",
    "1. 그런데, 만약  `if __name__` 구문이 없다면 어떤 일이 일어나는지 실험해보기로 합니다. 위의 코드에서 `if __name__`부분을 주석처리(comment out)하고, 나머지 구문을 다음과 같이 첫 컬럼으로 옮깁니다. 그리고 파일을 `infixToPostfix.py`파일로 저장합니다. (Use `%%writefile infrixToPostfix.py`)\n",
    "```\n",
    "#if __name__ == \"__main__\":\n",
    "print(infixToPostfix(\"( A + B ) * C\"))\n",
    "print(infixToPostfix(\"A + B * C\"))\n",
    "print(infixToPostfix(\"A * B + C * D\"))\n",
    "print(infixToPostfix(\"( A + B ) * C - ( D - E ) * ( F + G )\"))\n",
    "print(infixToPostfix(\"1 + 2 * ( 3 + 4 )\"))\n",
    "```\n",
    "1. juypter-lab에서 kernel을 reset하고, `infixToPostfix`를 `import`하면, 우리가 의도하지 않는 `#if __name__` 이하 코드가 자동적으로 실행되는 것을 관찰할 수 있습니다. \n",
    "1. __결론적으로__ 함수를 정의하면서, 함수 테스트를 위한 Code Snippet을 첨부하지만, 함수를 import할 때, 테스트 함수들이 자동적으로 실행되는 것을 방지하기 하기 위해 이러한 코드를 삽입합니다. "
   ]
  },
  {
   "cell_type": "markdown",
   "metadata": {},
   "source": [
    "# Exercises "
   ]
  },
  {
   "cell_type": "markdown",
   "metadata": {},
   "source": [
    "## Infix-Postfix 변환하기\n",
    "이번 강의를 통해 우리는 Infix-Postfix 표현 변환을 하는 방법을 배웠습니다. 알고리즘에 대한 더 깊은 이해를 위하여, 각 Operator에 대한 우선순위를 고려하여 다음 예제를 단계별로 스택의 상황과 output을 작성해보세요.  \n",
    "(Stack은 오른쪽이 top임을 가정합니다.)"
   ]
  },
  {
   "cell_type": "markdown",
   "metadata": {},
   "source": [
    "```bash\n",
    "A * (B + C) - D / E\n",
    "```\n",
    "|Token|Stack|Output|\n",
    "|:---:|:---:|:---:|\n",
    "|A|||\n",
    "|* |||\n",
    "|(|||\n",
    "|B|||\n",
    "|+|||\n",
    "|C|||\n",
    "|)|||\n",
    "|-|||\n",
    "|D|||\n",
    "|/|||\n",
    "|E|||\n",
    "|||\n",
    "|||"
   ]
  },
  {
   "cell_type": "markdown",
   "metadata": {},
   "source": [
    "__정답(Stack & Output)__\n",
    "\n",
    "|Token|Stack|Output|\n",
    "|:---:|:---:|:---:|\n",
    "|A||A|\n",
    "...\n",
    "...\n",
    "...\n",
    "| | |-|"
   ]
  },
  {
   "cell_type": "markdown",
   "metadata": {},
   "source": [
    "__최종 Output:__ \n",
    "\n",
    "BC+A*DE/-"
   ]
  },
  {
   "cell_type": "markdown",
   "metadata": {},
   "source": [
    "## Infix, Prefix, Postfix 익숙해지기\n",
    "\n",
    "다음 Infix 식을 각각 Prefix와 Postfix 식으로 변환해보세요."
   ]
  },
  {
   "cell_type": "markdown",
   "metadata": {},
   "source": [
    "1. A + B * (C - D)\n",
    "2. A - B + C * (D + E)\n",
    "3. (A + B) - C * D / (E - F)\n",
    "4. (A * B + C) / (D / E - F)"
   ]
  },
  {
   "cell_type": "markdown",
   "metadata": {},
   "source": [
    "__ANSWER:__\n",
    "  \n",
    "1:  \n",
    "Prefix:  +A*B-C D\n",
    "Postfix: A B + C D - *\n",
    "\n",
    "2:  \n",
    "Prefix:  + - A B*C+D E\n",
    "Postfix: A B - C D E + * +\n",
    "\n",
    "3:  \n",
    "Prefix:   - + A B * C / D-E F\n",
    "Postfix: A B + E F - C D * / -\n",
    "\n",
    "4:  \n",
    "Prefix:  / + * A B C - / D E F\n",
    "Postfix: A B * C + D E / F - /"
   ]
  },
  {
   "cell_type": "markdown",
   "metadata": {},
   "source": [
    "## Infix-to-Prefix 변환하기\n",
    "\n",
    "강의에서는 Infix-to-Postfix 변환에 대해 배웠습니다. 그렇다면 Infix 에서 Prefix로 변환하는 것은 어떻게 하면 될까요?  구글링을 해보면, 대부분 `Stack`을 이용합니다. \n",
    "그런데, 우리는 여기서 새로운 함수를 개발하거나 `Stack`을 이용하지 않고, 다음과 같은 알고리즘을 사용하여 변환하고자 합니다. 왜냐면, 이미 개발한 `Infix-to-Postfix()` 코드를 다시 활용하기 위한 것입니다. \n",
    "\n",
    "그러므로, 다음과 같이 기존 `infixToPostfix()` 함수를 활용하여 `infixToPrefix()` 함수를 구현하십시오. (Hint: Postfix가 연산자를 닫는 괄호로 보내는 것이고 Prefix가 연산자를 여는 괄호로 보내는 것이라면, infixToPostfix를 뒤집어보면 어떨까요?)"
   ]
  },
  {
   "cell_type": "markdown",
   "metadata": {},
   "source": [
    "__Algorithm and an example:__\n",
    "```\n",
    "1. infix expression given:    ( A + B ) * C - ( D - E ) * ( F + G )\n",
    "2. inverse infix expression:  ) G + F ( * ) E - D ( - C * ) B + A (\n",
    "3. change ( to ) vice vesa:   ( G + F ) * ( E - D ) - C * ( B + A )\n",
    "4. invoke infixToPostfix():   G F +  E D - *   C  B A + *  - \n",
    "5. inverse the postfix expr:  - * + A B C * - D E + F G\n",
    "```"
   ]
  },
  {
   "cell_type": "markdown",
   "metadata": {},
   "source": [
    "__Sample Run:__\n",
    "```\n",
    "print(infixToPostfix(\"A * B + C * D\"))\n",
    "print(infixToPrefix(\"A * B + C * D\"))\n",
    "print()\n",
    "print(infixToPostfix(\"( A + B ) * C - ( D - E ) * ( F + G )\"))\n",
    "print(infixToPrefix(\"( A + B ) * C - ( D - E ) * ( F + G )\"))\n",
    "```\n",
    "__Output:__\n",
    "```\n",
    "A B * C D * +\n",
    "+ * A B * C D\n",
    "\n",
    "A B + C * D E - F G + * -\n",
    "- * + A B C * - D E + F G\n",
    "```"
   ]
  },
  {
   "cell_type": "code",
   "execution_count": null,
   "metadata": {},
   "outputs": [],
   "source": [
    "from dspy import Stack\n",
    "\n",
    "def infixToPostfix(infixexpr):\n",
    "    prec = {}\n",
    "    prec[\"*\"] = 3\n",
    "    prec[\"/\"] = 3\n",
    "    prec[\"+\"] = 2\n",
    "    prec[\"-\"] = 2\n",
    "    prec[\"(\"] = 1\n",
    "    opStack = Stack()\n",
    "    postfixList = []\n",
    "    tokenList = infixexpr.split()\n",
    "\n",
    "    for token in tokenList:\n",
    "        if token in \"ABCDEFGHIJKLMNOPQRSTUVWXYZ\" or token in \"0123456789\":\n",
    "            postfixList.append(token)\n",
    "        elif token == '(':\n",
    "            opStack.push(token)\n",
    "        elif token == ')':\n",
    "            topToken = opStack.pop()\n",
    "            while topToken != '(':\n",
    "                postfixList.append(topToken)\n",
    "                topToken = opStack.pop()\n",
    "        else:\n",
    "            while (not opStack.is_empty()) and \\\n",
    "               (prec[opStack.peek()] >= prec[token]):\n",
    "                  postfixList.append(opStack.pop())\n",
    "            opStack.push(token)\n",
    "\n",
    "    while not opStack.is_empty():\n",
    "        postfixList.append(opStack.pop())\n",
    "    return \" \".join(postfixList)"
   ]
  },
  {
   "cell_type": "markdown",
   "metadata": {},
   "source": [
    "__Solution:__"
   ]
  },
  {
   "cell_type": "code",
   "execution_count": null,
   "metadata": {},
   "outputs": [],
   "source": [
    "## Implement this function\n",
    "def infixToPrefix(infixexpr):\n",
    "    \n",
    "    return None"
   ]
  },
  {
   "cell_type": "code",
   "execution_count": null,
   "metadata": {},
   "outputs": [],
   "source": [
    "print(infixToPostfix(\"A * B + C * D\"))\n",
    "print(infixToPrefix(\"A * B + C * D\"))\n",
    "print()\n",
    "print(infixToPostfix(\"( A + B ) * C - ( D - E ) * ( F + G )\"))\n",
    "print(infixToPrefix(\"( A + B ) * C - ( D - E ) * ( F + G )\"))"
   ]
  },
  {
   "cell_type": "markdown",
   "metadata": {},
   "source": [
    "# References\n",
    "- Infix, Prefix, and Postfix Expressions¶, [Here](https://runestone.academy/runestone/books/published/pythonds3/BasicDS/InfixPrefixandPostfixExpressions.html)\n",
    "- Python-추상적 자료형(ADT)과 자료 구조(Data Structure), [Here](https://ybdata-sci.tistory.com/16)\n"
   ]
  },
  {
   "cell_type": "markdown",
   "metadata": {},
   "source": [
    "------\n",
    "예수께서 대답하여 이르시되 기록되었으되 사람이 떡으로만 살 것이 아니요 하나님의 입으로부터 나오는 모든 말씀으로 살 것이라 하였느니라 하시니 (마4:4)\n"
   ]
  }
 ],
 "metadata": {
  "kernelspec": {
   "display_name": "Python 3 (ipykernel)",
   "language": "python",
   "name": "python3"
  },
  "language_info": {
   "codemirror_mode": {
    "name": "ipython",
    "version": 3
   },
   "file_extension": ".py",
   "mimetype": "text/x-python",
   "name": "python",
   "nbconvert_exporter": "python",
   "pygments_lexer": "ipython3",
   "version": "3.11.7"
  },
  "toc-autonumbering": true
 },
 "nbformat": 4,
 "nbformat_minor": 4
}

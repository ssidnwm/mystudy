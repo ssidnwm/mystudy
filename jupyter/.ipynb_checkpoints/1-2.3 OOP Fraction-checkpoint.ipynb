{
 "cells": [
  {
   "cell_type": "markdown",
   "metadata": {},
   "source": [
    "나는 인애를 원하고 제사를 원하지 아니하며 번제보다 하나님을 아는 것을 원하노라 (호6:6)\n",
    "\n",
    "-------"
   ]
  },
  {
   "cell_type": "markdown",
   "metadata": {},
   "source": [
    "<center><img src=\"https://github.com/idebtor/DSpy/blob/6b3676c3de29f85d2e7f30679676d1fd96d88b17/images/WelcomeToDataStructures.jpg?raw=true\" width=1000></center>\n",
    "\n",
    "__NOTE:__ The following materials have been compiled and adapted from the numerous sources including my own. Please help me to keep this tutorial up-to-date by reporting any issues or questions. Send any comments or criticisms to `idebtor@gmail.com` Your assistances and comments will be appreciated.\n",
    "\n",
    "--------"
   ]
  },
  {
   "cell_type": "markdown",
   "metadata": {},
   "source": [
    "<b style=\"font-size:30px\"> Object-Oriented Programming - Fraction </b>\n",
    "\n",
    "```bash\n",
    "- A Fraction Class: 클래스, 매직 매소드\n",
    "- Logic Gate Class: 상속\n",
    "- 파이썬에서 나만의 클래스를 만들기 (주사위)\n",
    "- 클래스를 Comparable로 만들기\n",
    "```"
   ]
  },
  {
   "cell_type": "markdown",
   "metadata": {},
   "source": [
    "# A Fraction Class (분수)\n",
    "\n",
    "파이썬은 이미 다양한 숫자(Numeric) 클래스와 함수를 제공하지만, 분수(Fraction) 자료형이나 클래스를 제공하지 않습니다. 그런데, 사용자는 종종 분수와 같은 데이터 개체가 필요할 때가 있습니다. 여기서 우리는 사용자가 정의하는 새로운 클래스(User-defined class)로 분수(Fraction)을 구현해보는 예제를 다룰 것입니다. 이를 구현하면서, 우리는 추상 데이터와 객체지향 프로그램(OOP: Object-Oriented Programming)의 개념을 좀 더 잘 이해하게 될 것입니다.  \n",
    "\n",
    "예를 들면, 3/5와 같은 분수는 두 부분으로 구성됩니다. 이때 분자의 값은 임의의 정수일 수 있고, 분모는 0보다 큰 정수일 수 있습니다(음수 분수는 음수 분자를 갖음). 모든 분수에 대해 부동 소수점 근사치를 생성할 수 있지만, `Fraction` 클래스를 만들어 사용함으로 분수를 정확한 값으로 표현하려고 하는 것입니다.\n",
    "\n",
    "분수 자료형으로 만드는 분수 객체도 다른 숫자와 같이 연산이 가능해서, 분수를 더하고 빼고 곱하고 나눌 수 있어야 합니다. 또한 표준 \"슬래시\" 형태(예: `3/5`, $\\frac{3}{5}$)를 사용하여 분수를 표시할 수 있기를 원합니다.  \n",
    "\n",
    "클래스의 이름을 정의하고, 구문적으로 함수와 아주 유사한 일련의 __메서드(Method)__들을 정의함으로 새로운 클래스를 정의합니다. 예를 들면, 다음과 같습니다. \n",
    "\n",
    "__목록 1__\n",
    "```python\n",
    "class Fraction:\n",
    "    \n",
    "    # the methods go here\n",
    "```"
   ]
  },
  {
   "cell_type": "markdown",
   "metadata": {},
   "source": [
    "이 예제에서는 메서드들을 정의할 수 있는 프레임워크를 제공합니다. 모든 클래스가 제공해야 하는 첫 번째 메서드는 __생성자__ 메서드입니다. 생성자(constructor)는 데이터 개체가 생성되는 방법을 정의합니다. 분수 객체를 만들려면 분자와 분모의 두 가지 데이터를 제공해야 합니다. 파이썬에서 생성자 메서드는 목록 2에 있는 `__init__`입니다. 이 메서드는 새로운 클래스 객체(instance)를 만들 때마다 호출됩니다. \n",
    "\n",
    "\"더블 언더스코어 init 더블 언더스코어\"라고 부르기도 하지만, 가장 이상적인 호칭은 __D__ouble __Under__score를 줄여서 __\"던더 init 던더\"__라고 읽습니다. 또한 이렇게 던더로 시작하는 메서드들이 많은데, 이를 통틀어 매직 메서드라고 부릅니다. \n",
    "\n",
    "__목록 2__  \n",
    "```python\n",
    "class Fraction:\n",
    "    \"\"\"Class Fraction\"\"\"\n",
    "    def __init__(self, top, bottom):\n",
    "        \"\"\"Constructor definition\"\"\"\n",
    "        self.num = top\n",
    "        self.den = bottom\n",
    "```\n"
   ]
  },
  {
   "cell_type": "markdown",
   "metadata": {},
   "source": [
    "메서드의 파라미터 목록에는 세 가지 항목(`self, top, bottom`)이 포함되어 있습니다. `self`는 개체 자체에 대한 참조로 항상 사용되는 특수 매개 변수입니다. `self`는 항상 메서드의 첫 번째 매개 변수로 항상 고정되어 있어야 하지만, 호출할 때에는 실제로 매개 변수 형식으로는 제공되지 않습니다. \n",
    "\n",
    "앞에서 설명한 것처럼 분수는 분자와 분모의 두 가지 상태 데이터를 필요로 합니다. 생성자의 표기법 `self.num`은 `Fraction` 객체를 정의하여 `num`이라는 내부 데이터 객체를 상태의 일부로 갖는다. 마찬가지로 `self.den`은 분모를 생성합니다. 두 개의 공식 매개 변수 값은 처음에 상태에 할당되므로 새 `Fraction` 객체가 시작 값을 알 수 있습니다.\n",
    "\n",
    "`Fraction` 클래스의 인스턴스를 만들려면 생성자(Constructor)를 호출해야 합니다. 클래스 이름을 사용하고 필요한 상태에 대한 실제 값을 전달하면 이러한 현상이 발생합니다(`__init___`을 직접 호출하지 않습니다). 이 메서드는 인스턴스가 생성될때 자동으로 호출되며 호출되는 순간 자동으로 인스턴스 오브젝트를 `self`라는 인자로 받습니다.\n",
    "  \n",
    "예를 들어\n",
    "```python\n",
    "my_fraction = Fraction(3,5)\n",
    "```\n",
    "는 $\\frac{3}{5}$ 분수를 나타내는 `my_fraction`이라는 객체를 생성합니다. 그림 1는 현재 구현된 이 개체를 보여 줍니다."
   ]
  },
  {
   "cell_type": "markdown",
   "metadata": {},
   "source": [
    "<center><img src=\"https://github.com/idebtor/DSpy/blob/main/images/chap1/Chapter%201-15.jpg?raw=true\" width=700 title=\"그림1. 분수 클래스\"></center>\n",
    "<center>그림 1. Fraction Class (분수 클래스)</center>"
   ]
  },
  {
   "cell_type": "markdown",
   "metadata": {},
   "source": [
    "다음으로 우리가 해야 할 일은 추상적인 데이터 유형이 요구하는 행동을 실행하는 것입니다. \n",
    "\n",
    "먼저 `Fraction` 객체를 출력하려고 할 때 어떤 일이 일어나는지 생각해 보십시오. `Fraction` 객체(`my_fraction`)는 `print()` 요청에 응답하는 방법을 알지 못합니다. 출력 기능을 사용하려면 문자열이 출력에 기록될 수 있도록 객체가 문자열로 변환해야 합니다. `my_fraction`이 선택할 수 있는 유일한 방법은 변수에 저장된 실제 참조(주소 자체)를 표시하는 것입니다. 이것은 우리가 원하는 것이 아닙니다."
   ]
  },
  {
   "cell_type": "markdown",
   "metadata": {},
   "source": [
    "```python\n",
    ">>> my_fraction = Fraction(3,5)\n",
    ">>> print(my_fraction)\n",
    "<__main__.Fraction object at 0x103203eb8>\n",
    ">>>\n",
    "```"
   ]
  },
  {
   "cell_type": "markdown",
   "metadata": {},
   "source": [
    "우리가 이 문제를 해결할 수 있는 두 가지 방법이 있습니다. \n",
    "\n",
    "하나는 `Fraction` 객체를 문자열로 인쇄할 수 있는 `show`라는 메소드를 정의하는 것입니다. 우리는 이 방법을 목록 3과 같이 구현할 수 있습니다. 이전과 같이 `Fraction` 객체를 만들면 직접 표시하도록 요청할 수 있습니다(즉, 적절한 형식으로 인쇄). 불행하게도, 이것은 일반적으로 효과가 없다. 인쇄가 제대로 작동하려면 `Fraction` 클래스에 문자열로 변환하는 방법을 알려주어야 합니다. 이것이 인쇄 기능이 작동하기 위해 필요한 것입니다.\n",
    "\n",
    "__목록 3__\n",
    "```python\n",
    "def show(self):\n",
    "    print(\"{}/{}\".format(self.num, self.den))\n",
    "```"
   ]
  },
  {
   "cell_type": "code",
   "execution_count": 4,
   "metadata": {},
   "outputs": [],
   "source": [
    "class Fraction:\n",
    "    \"\"\"Class Fraction\"\"\"\n",
    "    def __init__(self, top, bottom):\n",
    "        \"\"\"Constructor definition\"\"\"\n",
    "        self.num = top\n",
    "        self.den = bottom\n",
    "\n",
    "    def show(self):\n",
    "        print(\"{}/{}\".format(self.num, self.den))"
   ]
  },
  {
   "cell_type": "code",
   "execution_count": 3,
   "metadata": {},
   "outputs": [
    {
     "name": "stdout",
     "output_type": "stream",
     "text": [
      "3/5\n",
      "<__main__.Fraction object at 0x000001926BCEC688>\n"
     ]
    }
   ],
   "source": [
    "my_fraction = Fraction(3,5)\n",
    "my_fraction.show()  # 3/5\n",
    "print(my_fraction)  # Fraction 객체의 주소"
   ]
  },
  {
   "cell_type": "markdown",
   "metadata": {},
   "source": [
    "파이썬의 모든 클래스에 자동적으로 제공되지만, 제대로 작동하지 않을 수 있는 매직 메서드들이 있습니다. 이러한 매직 메서드 이름들은 `__`로 시작하고 끝납니다. \n",
    "\n",
    "이러한 매직 메소드들 중에 하나는 `__str__`이며, __객체를 문자열로 변환__하는 기능을 합니다. 이 메서드의 기본 구현은 이미 살펴본 대로 인스턴스 주소 문자열을 반환합니다. 우리가 해야 할 일은 이 기본으로 제공되는 메서드의 기능보다 더 나은 기능을 제공하도록 메서드를 구현하는 것입니다. 우리가 새로 구현하는 메서드가 이전의 구현보다 우선하도록 구현하는 것을 메서드 __재정의(Override)__ 라고 부릅니다.\n",
    "\n",
    "이를 위해, 우리는 `__str__`라는 이름으로 메소드를 정의하고 `목록 4`에 표시된 것처럼 새로운 구현을 제공한다. 이 정의에는 특수 매개 변수 `self` 외에는 다른 정보가 필요하지 않습니다. 차례로, 메소드는 내부 상태 데이터의 각 조각을 문자열로 변환한 다음 문자열 연결을 사용하여 문자열 사이에 `/` 문자를 배치함으로써 문자열 표현을 구축한다. 결과 문자열은 `Fraction` 객체가 문자열로 변환하도록 요청될 때마다 반환됩니다. 이 함수의 다양한 사용 방법에 주목하십시오.\n",
    "\n",
    "__목록 4__\n",
    "```python\n",
    "def __str__(self):\n",
    "    return f\"{self.num}/{self.den}\"\n",
    "```"
   ]
  },
  {
   "cell_type": "code",
   "execution_count": 5,
   "metadata": {},
   "outputs": [],
   "source": [
    "class Fraction:\n",
    "    \"\"\"Class Fraction\"\"\"\n",
    "    def __init__(self, top, bottom):\n",
    "        \"\"\"Constructor definition\"\"\"\n",
    "        self.num = top\n",
    "        self.den = bottom\n",
    "\n",
    "    def show(self):\n",
    "        print(\"{}/{}\".format(self.num,self.den))\n",
    "        \n",
    "    # overriding\n",
    "    def __str__(self):\n",
    "        return f\"{self.num}/{self.den}\""
   ]
  },
  {
   "cell_type": "code",
   "execution_count": 6,
   "metadata": {},
   "outputs": [
    {
     "name": "stdout",
     "output_type": "stream",
     "text": [
      "I ate 3/5 of pizza\n",
      "3/5\n"
     ]
    }
   ],
   "source": [
    "my_fraction = Fraction(3,5)\n",
    "\n",
    "print(f\"I ate {my_fraction} of pizza\")\n",
    "\n",
    "my_fraction.__str__()\n",
    "\n",
    "print(str(my_fraction))"
   ]
  },
  {
   "cell_type": "markdown",
   "metadata": {},
   "source": [
    "새로운 `Fraction` 클래스에 대해 다른 많은 함수와 연산을 재정의(override)할 수 있습니다. 그중 가장 중요한 것 중 일부는 기본적인 산술 연산입니다. 예를 들어 두 개의 `Fraction` 객체를 더할 때 `+` 을 사용하여 연산을 하고싶으나 그렇게 할 수 없다. 두 분수를 더하려고 하면 다음과 같은 결과가 나타난다.\n",
    "\n",
    "```code\n",
    ">>> f1 = Fraction(1, 4)\n",
    ">>> f2 = Fraction(1, 2)\n",
    ">>> f1 + f2\n",
    "Traceback (most recent call last):\n",
    "File \"<stdin>\", line 1, in <module>\n",
    "TypeError: unsupported operand type(s) for +: 'Fraction' and 'Fraction'\n",
    ">>>\n",
    "```"
   ]
  },
  {
   "cell_type": "markdown",
   "metadata": {},
   "source": [
    "오류를 자세히 살펴보면 `+` 연산자가 분수 피연산자를 이해하지 못하는 것이 문제입니다. 우리는 `Fraction` 클래스에서 파이썬의 `+`연산자가 사용할 수 있도록 `__add__` 메서드를 추가함으로, 즉 `__add__` 메서드를 재정의함으로써 이것을 해결할 수 있습니다. 파이썬에서 `__add__` 메서드는, 두 개의 매개 변수가 필요합니다. 첫 번째, `self`는 항상 필요하며 두 번째는 표현식의 다른 피연산자를 나타냅니다.\n",
    "``` code\n",
    "f1.__add__(f2)\n",
    "```"
   ]
  },
  {
   "cell_type": "markdown",
   "metadata": {},
   "source": [
    "위 함수는 `Fraction` 객체 `f1`에 `Fraction` 객체 `f2`를 더하도록 합니다. 이는 더욱 쉽게 `f1 + f2`로 나타낼 수 있습니다.  \n",
    "\n",
    "두 분수는 추가할 분모가 동일해야 합니다. 두 분모가 동일한지 확인하는 가장 쉬운 방법은 두 분모의 곱을 공통 분모로 사용하는 것입니다. 구현은 `목록 5`에 나와 있습니다. 더하기 함수는 합의 분자와 분모가 있는 새 분수 객체를 반환합니다. 분수를 포함하는 표준 산술 표현식을 작성하고, 추가 결과를 할당한 다음, 결과를 출력하면 이 방법을 사용할 수 있습니다.  "
   ]
  },
  {
   "cell_type": "code",
   "execution_count": 7,
   "metadata": {},
   "outputs": [],
   "source": [
    "class Fraction:\n",
    "    \"\"\"Class Fraction\"\"\"\n",
    "    def __init__(self, top, bottom):\n",
    "        \"\"\"Constructor definition\"\"\"\n",
    "        self.num = top\n",
    "        self.den = bottom\n",
    "\n",
    "    def show(self):\n",
    "        print(\"{}/{}\".format(self.num, self.den))\n",
    "        \n",
    "    # overriding\n",
    "    def __str__(self):\n",
    "        return f\"{self.num}/{self.den}\"\n",
    "\n",
    "    def __add__(self, other_fraction):\n",
    "        new_num = (self.num * other_fraction.den) + (self.den * other_fraction.num)\n",
    "        new_den = self.den * other_fraction.den\n",
    "        return Fraction(new_num, new_den)"
   ]
  },
  {
   "cell_type": "code",
   "execution_count": 8,
   "metadata": {},
   "outputs": [
    {
     "name": "stdout",
     "output_type": "stream",
     "text": [
      "6/8\n",
      "6/8\n"
     ]
    }
   ],
   "source": [
    "# 예시\n",
    "f1 = Fraction(1, 4)\n",
    "f2 = Fraction(1, 2)\n",
    "\n",
    "f3 = f1.__add__(f2)\n",
    "print(f3)\n",
    "\n",
    "f3 = f1 + f2\n",
    "print(f3)"
   ]
  },
  {
   "cell_type": "markdown",
   "metadata": {},
   "source": [
    "이제 덧셈 함수는 우리가 원하는 대로 작동하지만, 한 가지가 더 개선할 수 있습니다. \n",
    "\n",
    "`6/8`은 올바른 결과는 `(1/4 + 1/2)`이지만 \"기약 분수\" 표현에는 해당되지 않습니다. 가장 좋은 표현은 3/4일 것입니다. 우리의 결과가 항상 기약 분수로 유지되도록 하기 위해서는 분수를 줄이는 방법을 아는 도우미 기능(helper function)이 필요합니다. 이 함수는 최대공약수를 찾아야 합니다. 그러면 우리는 분자와 분모를 최대공약수로 나눌 수 있고 결과는 기약 분수로 줄어들 것입니다.\n",
    "\n",
    "가장 큰 공통 분자를 찾기 위한 가장 잘 알려진 알고리듬은 이후 강의에 논의될 유클리드의 알고리듬입니다. 이는 분모가 양수일 때만 작동 가능하다는 점을 유의하여야 합니다. 유클리드 알고리듬은 다음과 같습니다."
   ]
  },
  {
   "cell_type": "code",
   "execution_count": 11,
   "metadata": {},
   "outputs": [
    {
     "name": "stdout",
     "output_type": "stream",
     "text": [
      "6\n"
     ]
    }
   ],
   "source": [
    "def gcd(m,n):\n",
    "    while m % n != 0:\n",
    "        m, n = n, m % n\n",
    "    return n\n",
    "\n",
    "print(gcd(24,30)) # 6"
   ]
  },
  {
   "cell_type": "markdown",
   "metadata": {},
   "source": [
    "이제 이 기능을 사용하여 일부분을 줄일 수 있습니다. 분수를 가장 작게 표현하기 위해, 우리는 분자와 분모를 가장 큰 공통 분자로 나눠야 합니다. 따라서, 분수 `6/8`의 경우, 가장 큰 공통 분자는`2`입니다. 상단과 하단을 `2`로 나누면 새 분수 `3/4`이 만들어집니다(목록 6 참조).  \n",
    "\n",
    "```code\n",
    "def __add__(self, other_fraction):\n",
    "    new_num = self.num * other_fraction.den + \\\n",
    "                 self.den * other_fraction.num\n",
    "    new_den = self.den * other_fraction.den\n",
    "    common = gcd(new_num, new_den)\n",
    "    return Fraction(new_num // common, new_den // common)\n",
    "```"
   ]
  },
  {
   "cell_type": "code",
   "execution_count": 12,
   "metadata": {},
   "outputs": [],
   "source": [
    "class Fraction:\n",
    "    \"\"\"Class Fraction\"\"\"\n",
    "    def __init__(self, top, bottom):\n",
    "        \"\"\"Constructor definition\"\"\"\n",
    "        self.num = top\n",
    "        self.den = bottom\n",
    "\n",
    "    def show(self):\n",
    "        print(\"{}/{}\".format(self.num, self.den))\n",
    "        \n",
    "    # overriding\n",
    "    def __str__(self):\n",
    "        return f\"{self.num}/{self.den}\"\n",
    "\n",
    "    def __add__(self, other_fraction):\n",
    "        new_num = (self.num * other_fraction.den) + (self.den * other_fraction.num)\n",
    "        new_den = self.den * other_fraction.den\n",
    "        common = gcd(new_num, new_den)\n",
    "        return Fraction(new_num // common, new_den // common)"
   ]
  },
  {
   "cell_type": "code",
   "execution_count": 13,
   "metadata": {},
   "outputs": [
    {
     "name": "stdout",
     "output_type": "stream",
     "text": [
      "3/4\n",
      "3/4\n"
     ]
    }
   ],
   "source": [
    "# 예시\n",
    "f1 = Fraction(1, 4)\n",
    "f2 = Fraction(1, 2)\n",
    "\n",
    "f3 = f1.__add__(f2)\n",
    "print(f3)\n",
    "\n",
    "f3 = f1 + f2\n",
    "print(f3)"
   ]
  },
  {
   "cell_type": "markdown",
   "metadata": {},
   "source": [
    "마지막으로 우리의 분수 클래스에 포함해야 하는 연산은 두 분수를 서로 비교하는 것입니다. 두 개의 `Fraction` 객체인 `f1`과 `f2`가 있다고 가정할 때, `f1==f2`는 동일한 객체에 대한 참조인 경우에만 `True`가 됩니다. 이 구현에서는 동일한 분자와 분모를 가진 두 개의 서로 다른 객체가 동일하지 않을 것입니다. 이를 shallow equality 라고 합니다(그림 2 참조)."
   ]
  },
  {
   "cell_type": "markdown",
   "metadata": {},
   "source": [
    "<center><img src=\"https://github.com/idebtor/DSpy/blob/main/images/chap1/Chapter%201-16.jpg?raw=true\" width=900 title=\"그림2. Equality types\"></center>\n",
    "<center>그림2. Shallow Equality vs Deep Equality</center>"
   ]
  },
  {
   "cell_type": "markdown",
   "metadata": {},
   "source": [
    "`__eq__` 메서드를 재정의하여 동일한 참조가 아닌 동일한 값으로 Deep equality를 생성할 수 있습니다(그림 2 참조). \n",
    "\n",
    "`__eq__` 메서드는 모든 클래스에서 사용할 수 있는 또 다른 표준 메서드입니다. `__eq__` 메서드는 두 개체를 비교하고 값이 같으면 `True`를 반환합니다. 그렇지 않으면 `False`를 반환합니다.  \n",
    "\n",
    "분수 클래스에서, 우리는 두 분수를 공통 분모로 변화한 후, 분자를 서로 비교함으로써 `__eq__` 방법을 구현할 수 있습니다(목록 7 참조). 실제 코딩에서는 분모는 같다고 가정하고, 각각 분자를 변환 한 것만 비교하면 됩니다. \n",
    "\n",
    "또한, 재정의할 수 있는 다른 관계형 연산자가 있다는 점에 유의해야 합니다. 예를 들어 `__le__` 메서드는 더 작거나 같은 기능을 제공합니다.\n",
    "\n",
    "\n",
    "__목록 7__\n",
    "```python\n",
    "def __eq__(self, other_fraction):\n",
    "    first_num = self.num * other_fraction.den\n",
    "    second_num = other_fraction.num * self.den\n",
    "    \n",
    "    return first_num == second_num\n",
    "```"
   ]
  },
  {
   "cell_type": "code",
   "execution_count": 14,
   "metadata": {},
   "outputs": [],
   "source": [
    "def gcd(m,n):\n",
    "    while m % n != 0:\n",
    "        m, n = n, m % n\n",
    "    return n\n",
    "\n",
    "class Fraction:\n",
    "    \"\"\"Class Fraction\"\"\"\n",
    "    def __init__(self, top, bottom):\n",
    "        \"\"\"Constructor definition\"\"\"\n",
    "        self.num = top\n",
    "        self.den = bottom\n",
    "\n",
    "    def show(self):\n",
    "        print(\"{}/{}\".format(self.num, self.den))\n",
    "        \n",
    "    def __str__(self):\n",
    "        return f\"{self.num}/{self.den}\"\n",
    "\n",
    "    def __add__(self, other_fraction):\n",
    "        new_num = (self.num * other_fraction.den) + (self.den * other_fraction.num)\n",
    "        new_den = self.den * other_fraction.den\n",
    "        common = gcd(new_num, new_den)\n",
    "        return Fraction(new_num // common, new_den // common)\n",
    "    \n",
    "    def __eq__(self, other_fraction):\n",
    "        first_num = self.num * other_fraction.den\n",
    "        second_num = other_fraction.num * self.den\n",
    "    \n",
    "        return first_num == second_num"
   ]
  },
  {
   "cell_type": "code",
   "execution_count": 15,
   "metadata": {},
   "outputs": [
    {
     "name": "stdout",
     "output_type": "stream",
     "text": [
      "1/2\n",
      "2/3\n",
      "7/6\n",
      "False\n"
     ]
    }
   ],
   "source": [
    "x = Fraction(1, 2)\n",
    "x.show()       # 1/2\n",
    "y = Fraction(2, 3)\n",
    "print(y)       # 2/3\n",
    "print(x + y)   # 7/6\n",
    "print(x == y)  # False"
   ]
  },
  {
   "cell_type": "markdown",
   "metadata": {},
   "source": [
    "# 참고자료 - 매직 매소드\n",
    "\n",
    "- 클래스안에 정의할 수 있는 스페셜 메소드이며 클래스를 int, str, list등의 파이썬의 빌트인 타입(built-in type)과 같이 작동이 가능하도록 합니다. \n",
    "- +, -, >, < 등의 연산자에 대해서 각각의 데이터 타입에 맞는 메서드로 Overloading하여 백그라운드에서 연산을 한다.\n",
    "- `__init__`이나 `__str__` 과 같이 메서드 이름 앞뒤에 더블 언더스코어(`__`)를 붙인다."
   ]
  },
  {
   "cell_type": "markdown",
   "metadata": {},
   "source": [
    "우리는 클래스를 생성하면서 직접적으로 `__init__`메서드를 호출하지 않지만 내부적으로는 실행되는 것을 알고 있습니다. 예제를 살펴 봅시다."
   ]
  },
  {
   "cell_type": "code",
   "execution_count": 1,
   "metadata": {},
   "outputs": [
    {
     "name": "stdout",
     "output_type": "stream",
     "text": [
      "name: Adam, age: 2022\n"
     ]
    }
   ],
   "source": [
    "class Man(object):\n",
    "    def __init__(self, name, age):\n",
    "        print('name: {}, age: {}'.format(name, age))\n",
    "        \n",
    "man_1 = Man('Adam', '2022')"
   ]
  },
  {
   "cell_type": "markdown",
   "metadata": {},
   "source": [
    "위의 코드를 보면 클래스를 생성하니 자동으로 `__init__` 메소드가 실행된 것을 알 수 있습니다. "
   ]
  },
  {
   "cell_type": "markdown",
   "metadata": {},
   "source": [
    "이번에는 다른 종류의 매직 메소드를 살펴 보겠습니다. \n",
    "\n",
    "우리가 아무런 생각없이 많이 사용하는 \"+\" 나 \"-\"도 사실 살펴보면 매직 메소드를 호출하는 연산자입니다. 예를 들어, `x + y`를 실행하면 `x`가 가지고 있는 매직 메소드인 `__add__`가 실행됩니다. 결국 백그라운드에서는 \"x.__add__(y)\"가 실행되는 것입니다. \n",
    "\n",
    "예제를 통해, 이를 확인해보도록 하겠습니다.\n",
    "\n",
    "먼저 int 타입을 베이스로하는 커스텀 클래스를 만들어 보겠습니다."
   ]
  },
  {
   "cell_type": "code",
   "execution_count": 5,
   "metadata": {},
   "outputs": [
    {
     "name": "stdout",
     "output_type": "stream",
     "text": [
      "<class '__main__.MyNumber'>\n",
      "True\n",
      "(<class 'int'>,)\n"
     ]
    }
   ],
   "source": [
    "# int를 부모 클래스로 가진 새로운 클래스 생성\n",
    "class MyNumber(int):\n",
    "    pass\n",
    "\n",
    "my_num = MyNumber(7)           # 인스턴스 생성\n",
    "\n",
    "print(type(my_num))            # 타입 확인 => <class '__main__.MyNumber'>\n",
    "print(isinstance(my_num, int)) # int의 인스턴스인지 확인 => True\n",
    "\n",
    "print(MyNumber.__bases__)      # MyNumber의 base class 확인 => (<type 'int'>,)"
   ]
  },
  {
   "cell_type": "markdown",
   "metadata": {},
   "source": [
    "MyNumber 클래스가 int 타입인 것을 확인했습니다. 그러면 일반 int 타입과 덧샘을 해보겠습니다."
   ]
  },
  {
   "cell_type": "code",
   "execution_count": 6,
   "metadata": {},
   "outputs": [
    {
     "name": "stdout",
     "output_type": "stream",
     "text": [
      "10\n"
     ]
    }
   ],
   "source": [
    "# int를 부모 클래스로 가진 새로운 클래스 생성\n",
    "class MyNumber(int):\n",
    "    pass\n",
    "\n",
    "my_num = MyNumber(7)        # 인스턴스 생성\n",
    "print(my_num + 5)           # 덧샘 실행 => 12"
   ]
  },
  {
   "cell_type": "markdown",
   "metadata": {},
   "source": [
    "5 + 5를 실행한 것과 똑같은 결과를 출력했습니다. my_num이 정말 매직 메소드를 가지고 있는지 확인해 볼 수 있을까요?\n"
   ]
  },
  {
   "cell_type": "code",
   "execution_count": 8,
   "metadata": {},
   "outputs": [
    {
     "name": "stdout",
     "output_type": "stream",
     "text": [
      "['__abs__', '__add__', '__and__', '__bool__', '__ceil__', '__class__', '__delattr__', '__dict__', '__dir__', '__divmod__', '__doc__', '__eq__', '__float__', '__floor__', '__floordiv__', '__format__', '__ge__', '__getattribute__', '__getnewargs__', '__gt__', '__hash__', '__index__', '__init__', '__init_subclass__', '__int__', '__invert__', '__le__', '__lshift__', '__lt__', '__mod__', '__module__', '__mul__', '__ne__', '__neg__', '__new__', '__or__', '__pos__', '__pow__', '__radd__', '__rand__', '__rdivmod__', '__reduce__', '__reduce_ex__', '__repr__', '__rfloordiv__', '__rlshift__', '__rmod__', '__rmul__', '__ror__', '__round__', '__rpow__', '__rrshift__', '__rshift__', '__rsub__', '__rtruediv__', '__rxor__', '__setattr__', '__sizeof__', '__str__', '__sub__', '__subclasshook__', '__truediv__', '__trunc__', '__xor__', 'bit_length', 'conjugate', 'denominator', 'from_bytes', 'imag', 'numerator', 'real', 'to_bytes']\n"
     ]
    }
   ],
   "source": [
    "print(dir(my_num))"
   ]
  },
  {
   "cell_type": "markdown",
   "metadata": {},
   "source": [
    "부모 클래스인 int로 부터 상속받은 매직 메소드를 엄청 많이 가지고 있네요. 그렇다면 이번에는 매직 메소드를 직접 호출해보도록 하겠습니다. "
   ]
  },
  {
   "cell_type": "code",
   "execution_count": 9,
   "metadata": {},
   "outputs": [
    {
     "name": "stdout",
     "output_type": "stream",
     "text": [
      "10\n"
     ]
    }
   ],
   "source": [
    "# int를 부모 클래스로 가진 새로운 클래스 생성\n",
    "class MyInt(int):\n",
    "    pass\n",
    "\n",
    "my_num = MyNumber(7)          # 인스턴스 생성\n",
    "\n",
    "print(my_num.__add__(5))      # 매직 메소드를 직접 호출 => 12"
   ]
  },
  {
   "cell_type": "markdown",
   "metadata": {},
   "source": [
    "\"my_num + 5\"의 결과 값과 같은 결과값이 출력됐습니다. \n",
    "\n",
    "그럼 이번에는 매직 메소드인를 수정하여 리턴값을 정수가 아닌 문자열로 바꿔볼까요? "
   ]
  },
  {
   "cell_type": "code",
   "execution_count": 11,
   "metadata": {},
   "outputs": [
    {
     "name": "stdout",
     "output_type": "stream",
     "text": [
      "7 plus 5 = 12\n"
     ]
    }
   ],
   "source": [
    "# int를 부모 클래스로 가진 새로운 클래스 생성\n",
    "class MyNumber(int):\n",
    "    # __add__ 변경\n",
    "    def __add__(self, other):\n",
    "        return '{} plus {} = {}'.format(self.real, other.real, self.real + other.real)\n",
    "\n",
    "my_num = MyNumber(7)          # 인스턴스 생성\n",
    "print(my_num + 5)             # => 7 plus 5 는 12 입니다"
   ]
  },
  {
   "cell_type": "markdown",
   "metadata": {},
   "source": [
    "놀랍죠? 진짜로 덧셈의 결과값을 정수 값이 아닌 문자열로 리턴했습니다.\n",
    "\n",
    "이렇게 built-in type인 int, str, list, dict등은 사용자들의 편리함을 위해서 자신에 타입에 맞게 각종 연산자를 오버로딩하는 매직 메소드를 포함하고 있습니다. \n",
    "\n",
    "다른 예를 하나 더 살펴보기로 합니다. "
   ]
  },
  {
   "cell_type": "code",
   "execution_count": 12,
   "metadata": {},
   "outputs": [
    {
     "name": "stdout",
     "output_type": "stream",
     "text": [
      "[1, 2, 3, 4, 5, 6]\n",
      "[1, 2, 3, 4, 5, 6]\n",
      "3\n",
      "3\n"
     ]
    }
   ],
   "source": [
    "print([1,2,3] + [4,5,6])          # 리스트의 덧셈\n",
    "print([1,2,3].__add__([4,5,6]))   # 매직 메소드로 덧셈\n",
    "\n",
    "print(len({'one':1, 'two': 2, 'three': 3}))       # 사전의 길이 확인\n",
    "print({'one':1, 'two': 2, 'three': 3}.__len__())  # 매직 메소드로 사전의 길이 확인"
   ]
  },
  {
   "cell_type": "markdown",
   "metadata": {},
   "source": [
    "매직 매서드가 어떤 역할을 하는지 감이 오나요? \n",
    "\n",
    "그런데 이런 매직 메소드에 대해서 왜 알아야 할까요? 어차피 백그라운드에서 어떤 연산이 되는지 어떤 메소드가 실행되는지 몰라도 결과값을 같은데 말이죠... \n",
    "\n",
    "그것은 우리가 만드는 클래스에서 매직 메소드를 적용해서 사용하기 위함입니다. \n",
    "\n",
    "`Fraction`보다 좀 더 간단한 클래스의 인스턴스를 만들어 설명해보도록 하겠습니다."
   ]
  },
  {
   "cell_type": "code",
   "execution_count": 13,
   "metadata": {},
   "outputs": [
    {
     "name": "stdout",
     "output_type": "stream",
     "text": [
      "<__main__.Fruit object at 0x000001DB772C6688>\n"
     ]
    }
   ],
   "source": [
    "class Fruit(object):\n",
    "    def __init__(self, name, price):\n",
    "        self.name = name\n",
    "        self.price = price\n",
    "\n",
    "fruit_1 = Fruit('apple', 3000)\n",
    "print(fruit_1)    # 인스턴스 출력"
   ]
  },
  {
   "cell_type": "markdown",
   "metadata": {},
   "source": [
    "인스턴스를 출력해 보았더니 `<__main__.Fruit object at 0x000001DB772C6688>`라는 값을 출력했습니다. 사용자에게는 별로 도움이 안되는 정보인 인스턴스의 메모리 주소값을 출력했습니다. 이런 경우에 사용자에게 보다 유익한 정보를 전달하기 위해서 `__str__`이라는 매직 메소드를 사용하면, 이 문제를 해결할 수 있습니다. "
   ]
  },
  {
   "cell_type": "code",
   "execution_count": 16,
   "metadata": {},
   "outputs": [
    {
     "name": "stdout",
     "output_type": "stream",
     "text": [
      "item: apple, price: 3000\n"
     ]
    }
   ],
   "source": [
    "class Fruit(object):\n",
    "    def __init__(self, name, price):\n",
    "        self.name = name\n",
    "        self.price = price\n",
    "        \n",
    "    def __str__(self):\n",
    "        return 'item: {}, price: {}'.format(self.name, self.price)\n",
    "\n",
    "fruit_1 = Fruit('apple', 3000)\n",
    "\n",
    "print(fruit_1)        # 인스턴스 출력"
   ]
  },
  {
   "cell_type": "markdown",
   "metadata": {},
   "source": [
    "이번에는 두개의 인스턴스를 만들고 두 인스턴스를 통해 몇가지 연산자를 테스트해 보겠습니다.\n"
   ]
  },
  {
   "cell_type": "code",
   "execution_count": 18,
   "metadata": {},
   "outputs": [
    {
     "ename": "TypeError",
     "evalue": "'<' not supported between instances of 'Fruit' and 'Fruit'",
     "output_type": "error",
     "traceback": [
      "\u001b[1;31m---------------------------------------------------------------------------\u001b[0m",
      "\u001b[1;31mTypeError\u001b[0m                                 Traceback (most recent call last)",
      "\u001b[1;32m<ipython-input-18-f660d6741475>\u001b[0m in \u001b[0;36m<module>\u001b[1;34m\u001b[0m\n\u001b[0;32m      8\u001b[0m \u001b[1;33m\u001b[0m\u001b[0m\n\u001b[0;32m      9\u001b[0m \u001b[1;31m# fruit_2가 fruit_1보다 큰지 확인\u001b[0m\u001b[1;33m\u001b[0m\u001b[1;33m\u001b[0m\u001b[1;33m\u001b[0m\u001b[0m\n\u001b[1;32m---> 10\u001b[1;33m \u001b[0mprint\u001b[0m\u001b[1;33m(\u001b[0m\u001b[0mfruit_1\u001b[0m \u001b[1;33m<\u001b[0m \u001b[0mfruit_2\u001b[0m\u001b[1;33m)\u001b[0m\u001b[1;33m\u001b[0m\u001b[1;33m\u001b[0m\u001b[0m\n\u001b[0m",
      "\u001b[1;31mTypeError\u001b[0m: '<' not supported between instances of 'Fruit' and 'Fruit'"
     ]
    }
   ],
   "source": [
    "class Fruit(object):\n",
    "    def __init__(self, name, price):\n",
    "        self.name = name\n",
    "        self.price = price\n",
    "\n",
    "fruit_1 = Fruit('apple', 3000)\n",
    "fruit_2 = Fruit('kiwi', 5000)\n",
    "\n",
    "# fruit_2가 fruit_1보다 큰지 확인\n",
    "print(fruit_1 < fruit_2)"
   ]
  },
  {
   "cell_type": "markdown",
   "metadata": {},
   "source": [
    "타입에러가 발생합니다. 왜 그럴까요? \n",
    "\n",
    "그 이유는 파이썬이 우리의 Fruit 클래스 인스탄스들에 대해서 `<` 연산을 어떻게 해야하는지 모르기 때문입니다. \n",
    "\n",
    "이번에는 `__lt__` 메소드를 수정하여, __가격__이 비교되도록 만들어보죠."
   ]
  },
  {
   "cell_type": "code",
   "execution_count": 19,
   "metadata": {},
   "outputs": [
    {
     "name": "stdout",
     "output_type": "stream",
     "text": [
      "True\n",
      "False\n"
     ]
    }
   ],
   "source": [
    "class Fruit(object):\n",
    "    def __init__(self, name, price):\n",
    "        self.name = name\n",
    "        self.price = price\n",
    "        \n",
    "    def __lt__(self, other):\n",
    "        if self.price < other.price:\n",
    "            return True\n",
    "        else:\n",
    "            return False\n",
    "        \n",
    "fruit_1 = Fruit('apple', 3000)\n",
    "fruit_2 = Fruit('kiwi', 5000)\n",
    "fruit_3 = Fruit('banana', 2000)\n",
    "\n",
    "# fruit_2가 fruit_1보다 큰지 확인\n",
    "print(fruit_1 < fruit_2)   # 3000 < 5000\n",
    "print(fruit_2 < fruit_3)   # 5000 < 2000"
   ]
  },
  {
   "cell_type": "markdown",
   "metadata": {},
   "source": [
    "가격을 비교한 결과가 잘 출력되었습니다. 마지막으로 `__add__` 메소드를 사용해보죠"
   ]
  },
  {
   "cell_type": "code",
   "execution_count": 21,
   "metadata": {},
   "outputs": [
    {
     "ename": "TypeError",
     "evalue": "unsupported operand type(s) for +: 'Fruit' and 'Fruit'",
     "output_type": "error",
     "traceback": [
      "\u001b[1;31m---------------------------------------------------------------------------\u001b[0m",
      "\u001b[1;31mTypeError\u001b[0m                                 Traceback (most recent call last)",
      "\u001b[1;32m<ipython-input-21-e317e96fed6a>\u001b[0m in \u001b[0;36m<module>\u001b[1;34m\u001b[0m\n\u001b[0;32m      7\u001b[0m \u001b[0mfruit_2\u001b[0m \u001b[1;33m=\u001b[0m \u001b[0mFruit\u001b[0m\u001b[1;33m(\u001b[0m\u001b[1;34m'kiwi'\u001b[0m\u001b[1;33m,\u001b[0m \u001b[1;36m5000\u001b[0m\u001b[1;33m)\u001b[0m\u001b[1;33m\u001b[0m\u001b[1;33m\u001b[0m\u001b[0m\n\u001b[0;32m      8\u001b[0m \u001b[1;33m\u001b[0m\u001b[0m\n\u001b[1;32m----> 9\u001b[1;33m \u001b[0mprint\u001b[0m\u001b[1;33m(\u001b[0m\u001b[0mfruit_1\u001b[0m \u001b[1;33m+\u001b[0m \u001b[0mfruit_2\u001b[0m\u001b[1;33m)\u001b[0m\u001b[1;33m\u001b[0m\u001b[1;33m\u001b[0m\u001b[0m\n\u001b[0m",
      "\u001b[1;31mTypeError\u001b[0m: unsupported operand type(s) for +: 'Fruit' and 'Fruit'"
     ]
    }
   ],
   "source": [
    "class Fruit(object):\n",
    "    def __init__(self, name, price):\n",
    "        self.name = name\n",
    "        self.price = price\n",
    "        \n",
    "fruit_1 = Fruit('apple', 3000)\n",
    "fruit_2 = Fruit('kiwi', 5000)       \n",
    "\n",
    "print(fruit_1 + fruit_2)"
   ]
  },
  {
   "cell_type": "markdown",
   "metadata": {},
   "source": [
    "타입에러가 발생했습니다. \n",
    "`+` 연산을 할 수 없는 타입이라고 하네요. 그럼 `__add__` 메소드를 추가해서 가격이 더해지도록 해볼 수 있겠죠?\n",
    "\n",
    "__Add your code here__"
   ]
  },
  {
   "cell_type": "code",
   "execution_count": 22,
   "metadata": {},
   "outputs": [
    {
     "name": "stdout",
     "output_type": "stream",
     "text": [
      "8000\n"
     ]
    }
   ],
   "source": [
    "class Fruit(object):\n",
    "    def __init__(self, name, price):\n",
    "        self.name = name\n",
    "        self.price = price\n",
    "        \n",
    "    def __add__(self, other):\n",
    "        return None               # add your code here\n",
    "        \n",
    "fruit_1 = Fruit('apple', 3000)\n",
    "fruit_2 = Fruit('kiwi', 5000)       \n",
    "\n",
    "print(fruit_1 + fruit_2)"
   ]
  },
  {
   "cell_type": "markdown",
   "metadata": {},
   "source": [
    "apple의 값인 3000과 kiwi의 값인 5000의 합인 8000이 정상적으로 출력 되었습니다. 축하합니다. 맛있게 드세요~"
   ]
  },
  {
   "cell_type": "markdown",
   "metadata": {},
   "source": [
    "# Review Question\n",
    "강의에서 함께 만든 Fraction 클래스를 사용하여 간단한 연산 문제를 풀어보세요.  \n",
    "ex) 3/5 + 1/2 "
   ]
  },
  {
   "cell_type": "markdown",
   "metadata": {},
   "source": []
  },
  {
   "cell_type": "markdown",
   "metadata": {},
   "source": [
    "# References\n",
    "- Object-Oriented Programming in Python, [link](https://runestone.academy/runestone/books/published/pythonds3/Introduction/ObjectOrientedProgramminginPythonDefiningClasses.html)\n",
    "- Python-추상적 자료형(ADT)과 자료 구조(Data Structure), [Here](https://ybdata-sci.tistory.com/16)\n"
   ]
  },
  {
   "cell_type": "markdown",
   "metadata": {},
   "source": [
    "------\n",
    "나는 인애를 원하고 제사를 원하지 아니하며 번제보다 하나님을 아는 것을 원하노라 (호6:6)"
   ]
  }
 ],
 "metadata": {
  "kernelspec": {
   "display_name": "Python 3 (ipykernel)",
   "language": "python",
   "name": "python3"
  },
  "language_info": {
   "codemirror_mode": {
    "name": "ipython",
    "version": 3
   },
   "file_extension": ".py",
   "mimetype": "text/x-python",
   "name": "python",
   "nbconvert_exporter": "python",
   "pygments_lexer": "ipython3",
   "version": "3.9.12"
  }
 },
 "nbformat": 4,
 "nbformat_minor": 4
}

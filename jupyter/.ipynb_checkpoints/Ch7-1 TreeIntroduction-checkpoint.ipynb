{
 "cells": [
  {
   "cell_type": "markdown",
   "metadata": {},
   "source": [
    "우리가 아직 죄인 되었을 때에 그리스도께서 우리를 위하여 죽으심으로 하나님께서 우리에 대한 자기의 사랑을 확증하셨느니라 (롬5:8)\n",
    "\n",
    "-------\n",
    "<center><img src=\"https://github.com/idebtor/DSpy/blob/6b3676c3de29f85d2e7f30679676d1fd96d88b17/images/WelcomeToDataStructures.jpg?raw=true\" width=1000></center>\n",
    "\n",
    "__NOTE:__ The following materials have been compiled and adapted from the numerous sources including my own. Please help me to keep this tutorial up-to-date by reporting any issues or questions. Send any comments or criticisms to `idebtor@gmail.com` Your assistances and comments will be appreciated.\n",
    "\n",
    "--------"
   ]
  },
  {
   "cell_type": "markdown",
   "metadata": {},
   "source": [
    "\n",
    "<b style=\"font-size:30px\">  Chapter 7-1 Tree Introduction </b>\n",
    "\n",
    ": Tree(트리)라는 자료형이란 무엇이며 어떻게 활용되는지, 그리고 이를 효과적으로 활용할 수 있는 트리 알고리즘을 배웁니다.  \n",
    "\n",
    "--------------\n",
    "제 7장에서는 트리(Tree) 자료형과 그에 활용되는 여러 트리 알고리즘(Tree Algorithm)에 대해 알아봅니다."
   ]
  },
  {
   "cell_type": "markdown",
   "metadata": {},
   "source": [
    "# Introduction\n",
    "\n",
    "1.1. Objectives  \n",
    "1.2. 트리의 예 (Examples of Trees)  \n",
    "1.3. 관련 용어와 정의   \n",
    "1.4. 노드와 참조 (Nodes and References)  "
   ]
  },
  {
   "cell_type": "markdown",
   "metadata": {},
   "source": [
    "## Objectives\n",
    ": Chapter 7에서 배우고자하는 목표를 살펴봅시다."
   ]
  },
  {
   "cell_type": "markdown",
   "metadata": {},
   "source": [
    "* 트리 자료형이 무엇인지 이해하고 어떻게 사용되는지 이해한다.\n",
    "* 맵 자료형을 구현하기 위하여 트리가 어떻게 사용되는지 알아본다.\n",
    "* 클래스와 참조를 사용하여 트리를 구현한다.\n",
    "* 트리를 회귀 자료형(Recursive data structure)으로 구현한다.\n",
    "* 힙(Heap)을 사용하여 우선순위 큐(Priority Queue)를 구현한다."
   ]
  },
  {
   "cell_type": "markdown",
   "metadata": {},
   "source": [
    "## 트리의 예 (Examples of Trees)\n",
    ": 트리 자료형을 쉽게 이해하기 위해 몇가지 예를 살펴봅시다."
   ]
  },
  {
   "cell_type": "markdown",
   "metadata": {},
   "source": [
    "스택과 큐와 같은 선형 자료형을 비롯하여 회귀(recursion)에 대해 어느정도 경험이 생겼으니, 이번에는 __트리(Tree)__ 라는 자료형에 대해 알아보겠습니다. 트리는 운영체제, 그래픽스, 데이타베이스 시스템, 네트워크 등 컴퓨터공학 내의 많은 분야에 사용됩니다. 컴퓨터공학에서 사용하는 트리는 실제 식물인 나무(tree)와 비슷한 점이 많습니다. 두 트리(tree) 모두 뿌리(root), 가지(branches), 잎(leaves)을 가지고 있다는 공통점을 가집니다. 하지만 한가지 다른 점은, 트리 자료형은 나무(tree)와는 다르게 뿌리(root)가 가장 위에 존재하고 잎이 아래에 존재한다는 점입니다."
   ]
  },
  {
   "cell_type": "markdown",
   "metadata": {},
   "source": [
    "트리 자료형에 대해 깊이 알아보기 전에 트리의 몇가지 쉬운 예를 살펴보겠습니다. 첫번째 예시는 생물학에서 사용되는 분류 트리(classification tree)입니다. 그림 1은 몇몇 동물에 대해 생물학적 분류를 나타낸 예시입니다. 이 예시를 보면 트리에 대한 몇가지 속성을 살펴볼 수 있습니다. 첫번째는 트리의 계층성(hierarchical property)입니다. 이때 계층성이란, 트리의 층 구조에서 상위층으로 갈수록 포괄적이고 일반적인 성질을 갖고, 하위층으로 갈수록 더욱 세부적이고 특징적인 성질을 갖는다는 것입니다. 이 예시에서는 가장 상위 계층은 왕국(Kingdom), 그 다음 계층(하위(자식,children)층)은 문(phylum), 그 다음 계급(class) 등이 됩니다. 이때, 어떠한 분류로 아무리 깊숙히 들어간다고 하더라도, 모든 것은 다 동물(animal)에 속합니다."
   ]
  },
  {
   "cell_type": "markdown",
   "metadata": {},
   "source": [
    "<center><img src=\"https://github.com/idebtor/DSpy/blob/main/images/chap6/ch6-1.png?raw=true\" width=\"700\" title=\"Figure 1. Taxonomy of Some Common Animals Shown as a Tree\">\n",
    "<center>그림 1. 트리로 나타낸 몇 동물의 분류의 예 <center><br>"
   ]
  },
  {
   "cell_type": "markdown",
   "metadata": {},
   "source": [
    "이때, 트리의 Top에서부터 화살표로 이어진 path를 따라 맨밑의 노드까지 도달할 수 있는 것을 알 수 있습니다. 각 층에서 특정 질문에 대한 답으로 path를 결정할 수 있을 것입니다. 예를 들어, 첫번째 층에서 \"이 동물이 척색동물(Chordate)인가 절지동물(Arthropod)인가?\"라는 질문에 대해 \"척색동물(Chordate)이다!\"라고 대답을 한다면 그 경로를 선택하면 됩니다. 또 내려가다보면 포유동물(Mammal) 노드에서 \"이 포유동물(Mammal)은 영장류(Primate)인가 육식동물(Carnivore)인가?\"와 같은 질문이 나올 수 있고, 이러한 방식으로 트리의 가장 마지막 층까지 내려갈 수 있습니다."
   ]
  },
  {
   "cell_type": "markdown",
   "metadata": {},
   "source": [
    "트리의 두번째 속성은, 같은 부모를 갖는 자식(Children) 노드들은 서로 독립적입니다. 예를 들어, Felis 속에는 Domestica와 Leo가 포함되어 있습니다. 이때, Musca 속에도 Domestica라는 자식이 존재하지만, Felis의 자식인 Domestica와는 완전히 다른, 독립적인 노드입니다. 즉, Musca의 자식인 Domestica 노드를 수정하더라도 Felis의 자식인 Domestica에 영향을 주지 않는다는 것입니다."
   ]
  },
  {
   "cell_type": "markdown",
   "metadata": {},
   "source": [
    "세번째 속성은, 각 Leaf 노드는 고유하다는 것입니다. 트리의 뿌리(Root)에서부터 Leaf 노드까지의 path는 고유한 하나의 경로로 나타낼 수 있습니다. 예를 들어, Animalia 에서 Lion으로의 path는 Animalia -> Chordate -> Mammal -> Carnivora -> Felidae -> Felis -> Leo -> Lion 만 존재합니다."
   ]
  },
  {
   "cell_type": "markdown",
   "metadata": {},
   "source": [
    "우리가 쉽게 접할 수 있는 트리 구조체의 예제로 파일 시스템이 있습니다. 파일 시스템에는 디렉토리(폴더)가 트리의 구조로 이루어져있습니다. 그림 2는 Unix 파일 시스템의 계층 구조의 일부를 나타낸 것입니다."
   ]
  },
  {
   "cell_type": "markdown",
   "metadata": {},
   "source": [
    "<center><img src=\"https://github.com/idebtor/DSpy/blob/main/images/chap6/ch6-2.png?raw=true\" width=\"900\" title=\"Figure 2. A Small Part of the Unix File System Hierarchy\">\n",
    "<center>그림 2. Unix 파일 시스템의 일부 <center><br>"
   ]
  },
  {
   "cell_type": "markdown",
   "metadata": {},
   "source": [
    "파일 시스템 트리는 생물학적 분류 트리와 매우 유사한 점이 많습니다. 우리는 root로부터 임의의 디렉토리로의 경로를 따를 수 있습니다. 또한 그 경로는, 그의 고유한 하위 디렉토리를 포함할 것입니다. 계층적 특성에서 파생된 트리의 또 다른 중요한 속성은, 계층의 하위 계층에 영향을 미치지 않고 트리의 전체 섹션(Subtree)을 다른 위치로 이동할 수 있다는 것입니다. 예를 들어, /etc/에 속하는 전체 subtree를 usr/ 밑으로 옮기게 되면, 그 하위에 있던 httpd/의 고유 경로는 /etc/httpd 에서 /usr/etc/httpd로 바뀌지만 /etc/ 밑에 속해있다는 점은 변하지 않습니다."
   ]
  },
  {
   "cell_type": "markdown",
   "metadata": {},
   "source": [
    "트리의 마지막 예로는 웹페이지가 있습니다. 밑의 예제는 HTML로 간단한 웹페이지를 만든 것입니다. 그림 3은 페이지를 만들기 위해 사용된 HTML 태그를 트리로 나타낸 것입니다."
   ]
  },
  {
   "cell_type": "markdown",
   "metadata": {},
   "source": [
    "``` bash\n",
    "<html xmlns=\"http://www.w3.org/1999/xhtml\"\n",
    "      xml:lang=\"en\" lang=\"en\">\n",
    "<head>\n",
    "    <meta http-equiv=\"Content-Type\"\n",
    "          content=\"text/html; charset=utf-8\" />\n",
    "    <title>simple</title>\n",
    "</head>\n",
    "<body>\n",
    "<h1>A simple web page</h1>\n",
    "<ul>\n",
    "    <li>List item one</li>\n",
    "    <li>List item two</li>\n",
    "</ul>\n",
    "<h2><a href=\"http://www.cs.luther.edu\">Luther CS </a><h2>\n",
    "</body>\n",
    "</html>\n",
    "```"
   ]
  },
  {
   "cell_type": "markdown",
   "metadata": {},
   "source": [
    "<center> <img src=\"https://github.com/idebtor/DSpy/blob/main/images/chap6/ch6-3.png?raw=true\" width=\"500\" title=\"Figure 3. A Tree Corresponding to the Markup Elements of a Web Page\"> <center><br>\n",
    "<center>그림 3. 웹페이지의 마크업 요소에 해당하는 트리 예 <center><br>"
   ]
  },
  {
   "cell_type": "markdown",
   "metadata": {},
   "source": [
    "HTML 코드와 그에 해당하는 트리는 또다른 계층성을 보여줍니다. 트리의 각 층은 HTML 태그 내부의 중첩 수준에 해당합니다. 코드의 첫 번째 태그는 <html>이고 마지막 태그는 </html>로, 페이지 내의 나머지 태그는 모두 쌍 안에 있습니다. 이 중첩 속성(Nesting Property)이 트리의 모든 층에서 참임을 알 수 있습니다."
   ]
  },
  {
   "cell_type": "markdown",
   "metadata": {},
   "source": [
    "## 트리 관련 용어와 정의\n",
    ": 트리의 정의와 트리의 관련 용어를 정리해봅니다."
   ]
  },
  {
   "cell_type": "markdown",
   "metadata": {},
   "source": [
    "__Node(노드)__  \n",
    "Node는 트리의 핵심적인 요소입니다. Node는 \"Key(키)\"라고 불리는 이름과 \"Payload\"라고 부르는 추가적인 정보를 저장할 수 있습니다. 이 payload는 대부분의 트리 알고리즘에서는 중요하게 다뤄지지 않지만, 트리를 실제 사용하는 응용에서는 그 내용이 아주 중요한 요소가 됩니다.  \n",
    "  \n",
    "  \n",
    "__Edge(에지)__  \n",
    "Edge는 트리의 또다른 핵심 요소입니다. Edge는 두 node를 연결하여, 둘 사이의 관계를 나타내줍니다. root를 제외한 모든 node는 다른 node에서부터 하나의 incoming edge를 갖습니다. 하지만 outgoing edge는 여러개 존재할 수 있습니다."
   ]
  },
  {
   "cell_type": "markdown",
   "metadata": {},
   "source": [
    "__Root(루트)__  \n",
    "트리의 Root는 incoming edge가 없는 유일한 node 입니다. 그림 2에서는 /가 root에 해당합니다.  \n",
    "\n",
    "__Path(경로)__  \n",
    "Path는 edge로 연결된 노드들의 정렬된 리스트입니다. 예를 들어, Mammal -> Carnivora -> Felidae -> Felis -> Domestica는 하나의 path입니다."
   ]
  },
  {
   "cell_type": "markdown",
   "metadata": {},
   "source": [
    "__Children(자식)__  \n",
    "같은 Node로부터 incoming edge를 갖는 모든 node는 해당 노드의 자식(Children) 노드라고 합니다. 그림 2의 경우, log/, spool/, yp/는 var/의 자식(Children) 노드가 됩니다.\n",
    "\n",
    "__Parent(부모)__  \n",
    "하나의 node는 그의 outgoing edge에 연결된 모든 node의 부모(parent) 노드가 됩니다. 그림 2에서 var/는 log/, spool/, yp/의 부모(parent)가 됩니다."
   ]
  },
  {
   "cell_type": "markdown",
   "metadata": {},
   "source": [
    "__Sibling__  \n",
    "같은 부모(parent)를 갖는 모든 자식(children) 노드들은 서로 sibling이라고 부릅니다. 파일 시스템 트리에서 etc/와 usr/은 서로 sibling 입니다.\n",
    "\n",
    "__Subtree__  \n",
    "Subtree란, 하나의 부모(parent) node와 그의 모든 자손 node를 포함한 node와 edge로 이루어진 집합(작은 트리)을 의미합니다.\n",
    "\n",
    "__Leaf Node__  \n",
    "Leaf node는 자식(children)이 없는 node를 의미합니다. 예를 들어, 그림 1에서 Human과 Chimpanzee는 leaf node에 해당합니다."
   ]
  },
  {
   "cell_type": "markdown",
   "metadata": {},
   "source": [
    "__Level(층)__  \n",
    "node n의 층(level)은 root에서부터 n까지의 path에 존재하는 edge의 수 입니다. 예를 들어, 그림 1에서의 Felis node의 층은 5입니다. 또한 이 정의에 의하여 root node의 층은 0입니다.\n",
    "\n",
    "__Height(높이)__  \n",
    "트리의 높이(height)는 트리 내의 최대 층(level)에 해당합니다. 그림 2의 트리의 높이(height)는 2가 됩니다."
   ]
  },
  {
   "cell_type": "markdown",
   "metadata": {},
   "source": [
    "기본적인 용어에 대한 정의를 살펴보았으니, 이제 트리의 정의를 살펴보겠습니다. 트리는 두 방식으로 정의내릴 수 있습니다. 첫번째 정의는 node와 edge를 다루고, 두번째 정의는 회귀(recursive) 정의입니다."
   ]
  },
  {
   "cell_type": "markdown",
   "metadata": {},
   "source": [
    "__정의 1__: 트리는 노드의 집합과 노드의 쌍을 잇는 edge의 집합으로 구성된다. 트리는 다음과 같은 속성을 갖는다.  \n",
    "\n",
    "* 하나의 node는 트리의 root로 지정한다.\n",
    "* Root를 제외한 모든 노드 n은 그의 부모 노드인 p로부터 정확히 하나의 edge를 갖는다.\n",
    "* Root로부터 각 노드까지는 고유한 path가 존재한다.\n",
    "* 트리의 각 노드가 최대 2개의 자식(children)을 가질 때, 그 트리를 __이진 트리(Binary Tree)__ 라고 부른다."
   ]
  },
  {
   "cell_type": "markdown",
   "metadata": {},
   "source": [
    "그림 4은 정의 1에 적합한 트리를 나타낸 것입니다. Edge를 나타내는 화살표 방향은 연결의 방향을 나타냅니다."
   ]
  },
  {
   "cell_type": "markdown",
   "metadata": {},
   "source": [
    "<center> <img src=\"https://github.com/idebtor/DSpy/blob/main/images/chap6/ch6-4.png?raw=true\" width=\"400\" title=\"Figure 4. A Tree Consisting of a Set of Nodes and Edges\"> <center><br>\n",
    "<center>그림 4. Node와 Edge들로 구성된 트리의 예<center><br>"
   ]
  },
  {
   "cell_type": "markdown",
   "metadata": {},
   "source": [
    "__정의 2__: 트리는 비어있거나 루트와 0개 이상의 subtree로 구성되어있습니다. 각 subtree의 root는 그의 부모 트리의 root와 edge로 연결됩니다. 그림 5는 트리의 회귀적(recursive) 정의를 나타낸 것입니다. 트리의 회귀적 정의를 사용하면, 그림 5에 나타낸 트리는 최소 4개의 노드로 이루어진 것을 알 수 있습니다(각 subtree는 최소 root를 가져야하기 때문). 이보다 더 많은 노드가 존재할 수 있으나, 개별적으로 관찰하지 않는 이상 알 수 없습니다."
   ]
  },
  {
   "cell_type": "markdown",
   "metadata": {},
   "source": [
    "<center> <img src=\"https://github.com/idebtor/DSpy/blob/main/images/chap6/ch6-5.png?raw=true\" width=\"400\" title=\"Figure 5. A recursive Definition of a tree\"> <center><br>\n",
    "<center>그림 5. 트리의 회귀적(recursive) 정의<center><br>"
   ]
  },
  {
   "cell_type": "markdown",
   "metadata": {},
   "source": [
    "## 노드와 참조 (Nodes and References)\n",
    ": 두 개의 참조가 있는 노드로 구성된 트리 데이터 구조를 정의합니다. "
   ]
  },
  {
   "cell_type": "markdown",
   "metadata": {},
   "source": [
    "이진 트리는 root 값과 양쪽 subtree를 attribute로 갖는 노드 클래스로 정의할 수 있습니다. 특히 이러한 구현은 객체지향 프로그래밍을 따르기 때문에 여러번 언급하고 관찰하도록 하겠습니다. 노드와 참조(nodes and references)를 사용하여 트리를 표현한다면 그림 7과 같은 구조를 생각할 수 있습니다. "
   ]
  },
  {
   "cell_type": "markdown",
   "metadata": {},
   "source": [
    "<center> <img src=\"https://github.com/idebtor/DSpy/blob/main/images/chap6/ch6-7.png?raw=true\" width=\"700\" title=\"Figure 7. A Simple Tree Using a Nodes and References Approach\"> <center><br> \n",
    "<center>그림 7. 노드와 참조를 활용한 간단한 이진 트리의 예<center><br>"
   ]
  },
  {
   "cell_type": "markdown",
   "metadata": {},
   "source": [
    "먼저 목록 4와 같이, 노드와 참조를 사용한 트리를 위한 간단한 클래스 정의를 해보겠습니다. 이때 중요한 점은, `left`와 `right` attribute는 또다른 `Node` 객체로의 참조가 된다는 것입니다. 예를 들어, 새로운 왼쪽 자식을 트리에 추가하기 위해서는 새로운 `Node` 객체를 만들고, root의 `self.left`를 이 객체에 대한 참조를 해야합니다."
   ]
  },
  {
   "cell_type": "code",
   "execution_count": null,
   "metadata": {},
   "outputs": [],
   "source": [
    "# 목록 4\n",
    "class Node:\n",
    "    def __init__(self, key):\n",
    "        self.key = key\n",
    "        self.left = None\n",
    "        self.right = None"
   ]
  },
  {
   "cell_type": "markdown",
   "metadata": {},
   "source": [
    "목록 4의 코드에서 생성자 함수는 root로 지정할 수 있는 key라는 임의의 객체를 받는 것을 볼 수 있습니다. 마치 리스트에 어떠한 종류의 객체를 저장할 수 있듯이, 트리의 root는 아무 형태의 객체에 대한 참조가 될 수 있습니다. 이전 예시에서는 root 값에 노드의 이름을 저장하도록 하였습니다. 그림 7에 나타난 노드와 참조를 트리로 나타낸다면, 6개의 Node 클래스의 instance를 생성해야할 것입니다."
   ]
  },
  {
   "cell_type": "markdown",
   "metadata": {},
   "source": [
    "이제 root 노드 외의 나머지 트리를 구현하기 위한 함수들을 살펴보겠습니다. 먼저 트리에 왼쪽 자식을 추가하려면, 새로운 Node 객체를 생성하고 root 노드의 `left` 속성에 이 객체를 참조해야합니다. 목록 5는 `insertLeft` 함수의 코드입니다."
   ]
  },
  {
   "cell_type": "code",
   "execution_count": null,
   "metadata": {},
   "outputs": [],
   "source": [
    "# 목록 5\n",
    "def insertLeft(self, key):\n",
    "    if self.left == None:\n",
    "        self.left = Node(key)\n",
    "    else:\n",
    "        node = Node(key)\n",
    "        node.left = self.left\n",
    "        self.left = node"
   ]
  },
  {
   "cell_type": "markdown",
   "metadata": {},
   "source": [
    "트리에 새로운 노드를 삽입하기 위해선 두가지의 경우를 염두해야합니다. 첫번째는 기존 트리에 왼쪽 자식이 없는 경우입니다. 이 경우, 단순히 새로운 노드를 삽입해주면 됩니다. 두번째 경우는 기존 트리에 왼쪽 자식이 존재하는 경우입니다. 이 경우, 새로운 노드는 기존 자식을 하위 층으로 밀어넣고 삽입하게 됩니다. 두번째 경우는 목록 5에서 `else`문으로 다룹니다."
   ]
  },
  {
   "cell_type": "markdown",
   "metadata": {},
   "source": [
    "`insertRight`함수 역시 대칭적인 경우를 고려해야합니다. 기존 트리에 오른쪽 자식의 유무를 판별하고, 기존 자식이 있을 경우 위와 같은 방식으로 삽입합니다. 목록 6은 `insertRight` 함수의 코드 입니다."
   ]
  },
  {
   "cell_type": "code",
   "execution_count": null,
   "metadata": {},
   "outputs": [],
   "source": [
    "# 목록 6\n",
    "def insertRight(self,key):\n",
    "    if self.right == None:\n",
    "        self.right = Node(key)\n",
    "    else:\n",
    "        node = Node(key)\n",
    "        node.right = self.right\n",
    "        self.right = node"
   ]
  },
  {
   "cell_type": "markdown",
   "metadata": {},
   "source": [
    "이제 간단한 이진 트리 구조체의 정의를 마무리하기 위해서, root 값과 양쪽 자식의 접근 함수를 만들어보도록 하겠습니다(목록 7)."
   ]
  },
  {
   "cell_type": "code",
   "execution_count": null,
   "metadata": {},
   "outputs": [],
   "source": [
    "# 목록 7\n",
    "def getright(self):\n",
    "    return self.right\n",
    "\n",
    "def getleft(self):\n",
    "    return self.left\n",
    "\n",
    "def setKey(self, obj):\n",
    "    self.key = obj\n",
    "\n",
    "def getKey(self):\n",
    "    return self.key"
   ]
  },
  {
   "cell_type": "markdown",
   "metadata": {},
   "source": [
    "__그러나,__ 이와 같은 자식 접근 함수, 키 접근 함수를 굳이 사용하지 않고, 직접 node.left, node.right, node.key와 같은 형식으로 접근하여 사용하는 것이 보편적입니다. 여기서는 이런 함수를 사용하지 않기로 합니다.  \n",
    "\n",
    "지금까지 구현한 이진 트리 구조체를 가지고 트리의 구조에 대해 자세히 살펴보겠습니다. 먼저 node A를 root로 갖고 node B,C를 자식으로 갖는 트리를 하나 생성해봅니다. \n",
    "\n",
    "코드 3은 이러한 트리를 생성하고, `key`,`left`,`right`에 저장된 값을 살펴보는 코드입니다. 여기서 우리가 알 수 있는 것은, root에 연결된 양쪽의 자식은 모두 개별적으로 `Node` 클래스의 독립적인 객체라는 것입니다. 이러한 성질은, 앞서 트리의 회귀적 정의에서 언급하였듯이, 이진 트리의 모든 자식은 그 스스로가 이진 트리가 될 수 있다는 것을 나타냅니다."
   ]
  },
  {
   "cell_type": "markdown",
   "metadata": {},
   "source": [
    "__Notice:__ \n",
    "\n",
    "다음 세션을 위하여, 다음 코드 셀의 내용을 `node.py`에 저장하기 바랍니다. "
   ]
  },
  {
   "cell_type": "code",
   "execution_count": null,
   "metadata": {},
   "outputs": [],
   "source": [
    "%%writefile node.py\n",
    "\n",
    "class Node:\n",
    "    def __init__(self, key):\n",
    "        self.key = key\n",
    "        self.left = None\n",
    "        self.right = None\n",
    "\n",
    "    def insertLeft(self, key):\n",
    "        if self.left == None:\n",
    "            self.left = Node(key)\n",
    "        else:\n",
    "            node = Node(key)\n",
    "            node.left = self.left\n",
    "            self.left = node\n",
    "\n",
    "    def insertRight(self,key):\n",
    "        if self.right == None:\n",
    "            self.right = Node(key)\n",
    "        else:\n",
    "            node = Node(key)\n",
    "            node.right = self.right\n",
    "            self.right = node\n",
    "   \n",
    "if __name__ == '__main__':\n",
    "    r = Node('A')\n",
    "    print(r.key)\n",
    "    print(r.left)\n",
    "    r.insertLeft('B')\n",
    "    print(r.left.key)\n",
    "    r.insertRight('C')\n",
    "    print(r.right.key)\n",
    "    r.right.key = 'hello'\n",
    "    print(r.right.key)"
   ]
  },
  {
   "cell_type": "markdown",
   "metadata": {},
   "source": [
    "트리의 속성들(key, left, right)이 private 아니기 때문에, 이들을 메소드를 통하지 않고 다음과 같이 직접 접근하면 코드가 간단해집니다. 이런 방법에는 모두 장단점이 존재합니다. "
   ]
  },
  {
   "cell_type": "code",
   "execution_count": null,
   "metadata": {},
   "outputs": [],
   "source": [
    "from node import Node\n",
    "\n",
    "if __name__ == '__main__':\n",
    "    r = Node('A')\n",
    "    print(r.key)\n",
    "    print(r.left)\n",
    "    r.insertLeft('B')\n",
    "    print(r.left.key)\n",
    "    r.insertRight('C')\n",
    "    print(r.right.key)\n",
    "    r.right.key = 'hello'\n",
    "    print(r.right.key)"
   ]
  },
  {
   "cell_type": "markdown",
   "metadata": {},
   "source": [
    "# Summary"
   ]
  },
  {
   "cell_type": "markdown",
   "metadata": {},
   "source": [
    "트리 데이터 구조를 사용하는 사례들과 용어들을 살펴복, 트리 데이터 구조의 기본 단위인 노드와 이를 연결하여 트리를 정의하는 방법에 대해 살펴보았습니다. "
   ]
  },
  {
   "cell_type": "markdown",
   "metadata": {},
   "source": [
    "# Exercises\n",
    "\n",
    "## 이진 트리 만들기\n",
    "\n",
    "- 아래 그림과 같이 6개의 노드를 가진 이진트리를 만드십시오. \n",
    "\n",
    "<center><img src=\"https://github.com/idebtor/DSpy/blob/4d48a2dae357f32214fd0eb93dd16eddf5b839f3/images/chap6/exercise1.png?raw=true\" width=\"500\" title=\"\">\n"
   ]
  },
  {
   "cell_type": "code",
   "execution_count": null,
   "metadata": {},
   "outputs": [],
   "source": [
    "from node import Node \n",
    "\n",
    "if __name__ == '__main__':\n",
    "    root = Node('A')\n",
    "    root.insertLeft('B')\n",
    "    root.insertRight('C')\n",
    "    # your code here"
   ]
  },
  {
   "cell_type": "markdown",
   "metadata": {},
   "source": [
    "## 이진 트리 만들고, 하위 노드 출력하기\n",
    "\n",
    "- 아래 그림과 같이 6개의 노드를 가진 이진트리를 만드십시오. \n",
    "- 트리 상단의 세 노드를 각각 a, b, c, d, e, g로 표시하고, for loop를 이용하여 각 a, b, c, d, e, g 노드들의 하위 노드(child)를 아래와 같이 출력하도록 하십시오. 괄호와 띄어쓰기도 정확히 맞추어 출력합니다.\n",
    "\n",
    "<center><img src=\"https://github.com/idebtor/DSpy/blob/4d48a2dae357f32214fd0eb93dd16eddf5b839f3/images/chap6/exercise1.png?raw=true\" width=\"500\" title=\"\"></center>\n",
    "\n",
    "__Expected Output:__\n",
    "```\n",
    "A:(B, C)\n",
    "B:(D, E)\n",
    "C:(None, G)\n",
    "D:(None, None)\n",
    "E:(None, None)\n",
    "G:(None, None)\n",
    "```"
   ]
  },
  {
   "cell_type": "code",
   "execution_count": null,
   "metadata": {},
   "outputs": [],
   "source": [
    "from node import Node \n",
    "\n",
    "if __name__ == '__main__':\n",
    "    root = Node('A')\n",
    "    # your code here\n",
    "\n",
    "    a = root\n",
    "\n",
    "    # your code here\n",
    "    for node in [a, b, c, d, e, g]:\n",
    "        pass "
   ]
  },
  {
   "cell_type": "markdown",
   "metadata": {},
   "source": [
    "# References\n",
    "- Problem Solving with Algorithms and Data Structures using Python, [Here](https://runestone.academy/runestone/books/published/pythonds3/Introduction/WhyStudyDataStructuresandAbstractDataTypes.html)\n",
    "    - Tree, [Here](https://runestone.academy/ns/books/published//pythonds3/Trees/toctree.html)\n"
   ]
  },
  {
   "cell_type": "markdown",
   "metadata": {},
   "source": [
    "------\n",
    "우리가 아직 죄인 되었을 때에 그리스도께서 우리를 위하여 죽으심으로 하나님께서 우리에 대한 자기의 사랑을 확증하셨느니라 (롬5:8)"
   ]
  }
 ],
 "metadata": {
  "kernelspec": {
   "display_name": "Python 3 (ipykernel)",
   "language": "python",
   "name": "python3"
  },
  "language_info": {
   "codemirror_mode": {
    "name": "ipython",
    "version": 3
   },
   "file_extension": ".py",
   "mimetype": "text/x-python",
   "name": "python",
   "nbconvert_exporter": "python",
   "pygments_lexer": "ipython3",
   "version": "3.8.3"
  },
  "toc-autonumbering": false
 },
 "nbformat": 4,
 "nbformat_minor": 4
}

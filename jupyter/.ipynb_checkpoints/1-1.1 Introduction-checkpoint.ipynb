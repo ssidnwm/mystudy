{
 "cells": [
  {
   "cell_type": "markdown",
   "metadata": {},
   "source": [
    "너는 청년의 때에 너의 창조주를 기억하라 곧 곤고한 날이 이르기 전에, 나는 아무 낙이 없다고 할 해들이 가깝기 전에 (전12:1)\n",
    "\n",
    "-------\n",
    "<center><img src=\"https://github.com/idebtor/DSpy/blob/6b3676c3de29f85d2e7f30679676d1fd96d88b17/images/WelcomeToDataStructures.jpg?raw=true\" width=1000></center>"
   ]
  },
  {
   "cell_type": "markdown",
   "metadata": {},
   "source": [
    "__NOTE:__ The following materials have been compiled and adapted from the numerous sources including my own. Please help me to keep this tutorial up-to-date by reporting any issues or questions. Send any comments or criticisms to `idebtor@gmail.com` Your assistances and comments will be appreciated."
   ]
  },
  {
   "cell_type": "markdown",
   "metadata": {},
   "source": [
    "<b style=\"font-size:30px\"> Table of Contents </b>\n",
    "\n",
    "-------\n",
    "<b style=\"font-size:20px\"> 강의 목차  </b>\n",
    "\n",
    "* <b style=\"font-size:20px\"> Chapter1: Python & OOP\n",
    "</b><br/>\n",
    "자료구조 소개와 파이썬 복습 및 객체지향프로그래밍\n",
    "* <b style=\"font-size:20px\"> Chapter2: \n",
    "ADT & Performance Analysis\n",
    "</b><br/>\n",
    "알고리즘의 성능 측정 방법론\n",
    "* <b style=\"font-size:20px\"> Chapter3: Linear Data Structures\n",
    "</b><br/>\n",
    "Stack, Queue, List, Deque 등의 선형자료구조\n",
    "* <b style=\"font-size:20px\"> Chapter4: Recursion\n",
    "</b><br/>\n",
    "재귀(Recursion)와 재귀함수\n",
    "* <b style=\"font-size:20px\"> Chapter5: Search & Sorting\n",
    "</b><br/>\n",
    "자료 저장 및 정렬을 통한 효과적인 자료 검색 알고리즘\n",
    "* <b style=\"font-size:20px\"> Chapter6: Hashing\n",
    "</b><br/>\n",
    "해쉬(Hash) 테이블과 해쉬맵\n",
    "* <b style=\"font-size:20px\"> Chapter7: Tree \n",
    "</b><br/>\n",
    "트리(Tree) 구조와 알고리즘\n",
    "* <b style=\"font-size:20px\"> Chapter8: Heap\n",
    "</b><br/>\n",
    "힙(Heap) 구조와 Priority Queue 구현\n",
    "* <b style=\"font-size:20px\"> Chapter9: Graph\n",
    "</b><br/>\n",
    "그래프(Graph) 자료 구조와 알고리즘"
   ]
  },
  {
   "cell_type": "markdown",
   "metadata": {},
   "source": [
    "\n",
    "<b style=\"font-size:30px\"> Chapter1: Python & OOP</b>\n",
    "\n",
    ": 자료구조 소개와 파이썬 복습 및 객체지향프로그래밍\n",
    "\n",
    "--------------\n",
    "제 1장에서는 자료구조와 알고리즘을 왜 배워야하는지 알아봅니다. 자료구조와 알고리즘은 각각 효율적인 데이터 처리를 위한 저장 방법론, 그리고 이를 효과적으로 활용할 수 있는 연산 방법론을 의미합니다. 해당 강의는 파이썬 언어를 사용하기 때문에 파이썬 기초와 자료구조에 자주 사용될 부분을 복습할 것입니다. 다만, 강의의 핵심 내용을 배우는 것에 방해되지 않도록 강의에서 사용하는 파이썬이나 주피터노트북에도 익숙해지도록 꾸준히 학습하길 바랍니다. "
   ]
  },
  {
   "cell_type": "markdown",
   "metadata": {},
   "source": [
    "# Objectives\n",
    "```bash\n",
    "1.1 왜 자료구조 및 추상 자료형을 배워야 하는가?\n",
    "1.2 왜 알고리즘을 배워야 하는가?\n",
    "1.3 Example\n",
    "1.4 Summary(요약)\n",
    "```"
   ]
  },
  {
   "cell_type": "markdown",
   "metadata": {},
   "source": [
    "## 왜 자료구조 및 추상 자료형을 배워야하는가?\n",
    "\n",
    "__추상화(Abstraction)__ 를 사용하면, 문제의 복잡성과 문제 해결 과정을 관리하기 위해 세부적인 것에 얽매이지 않고 __큰 그림__ 에 집중할 수 있습니다. 문제를 위한 추상적 모델을 만들어냄으로써, 우리는 문제 해결 과정에서 데이터를 더 간편하고 효율적으로 활용할 수 있게 됩니다. 이러한 모델을 사용하면 알고리즘을 한 문제에 대하여 획일화되고 일관된 방식으로 데이터를 처리할 수 있게 됩니다.  \n",
    "\n",
    "__추상 자료형(Abstract Data Type, ADT)__ 은, 구현하는 방법이 아니라, 자료(data)와 동작(action)에 집중하여 **생각해볼 수 있는 방법**을 표현하는데 적합합니다. 즉, 데이터가 나타내는 것에 촛점을 맞추게 하고, 데이터가 내부적으로 어떻게 구성될지에 잠시 잊을 수 있도록 합니다. 이러한 추상 자료형을 제공함으로써, 우리는 데이터를 __캡슐화(encapsulation)__ 하였다고 표현합니다. 구현에 관한 세부 정보(코드)를 캡슐화함으로써 사용자의 시야에서 숨김으로 다른 더 중요한 것들을 더 잘 보 수 있도록 돕습니다. 이것을 __정보 숨김(information hiding)__ 이라고 합니다."
   ]
  },
  {
   "cell_type": "markdown",
   "metadata": {},
   "source": [
    "<center><img src=\"https://github.com/idebtor/DSpy/blob/main/images/chap1/Chapter%201-2.jpg?raw=true\" width=700 title=\"그림1. 추상 자료형\"></center>\n",
    "<center>그림 1. 추상 자료형</center>"
   ]
  },
  {
   "cell_type": "markdown",
   "metadata": {},
   "source": [
    "[그림 1] 는 추상적인 데이터 유형이 무엇이고 어떻게 작동하는지 보여줍니다. 사용자는 추상 데이터 유형으로 지정된 작업(예: 함수, 메소드)을 사용하여 인터페이스와 상호 작용합니다. 추상 데이터 유형은 사용자가 상호 작용하는 셸입니다. 구현은 한 단계 더 깊이 숨겨져 있습니다. 사용자는 구현에 대한 세부 정보에 관심을 두지 않아도 됩니다.\n",
    "\n",
    "이러한 추상적 자료형을 구체적으로 어떻게 구현하는가에 대해서 고민하고 정리하는 것이 바로 __자료 구조(data structure)__ 의 영역입니다.  \n",
    "\n",
    "가장 쉬운 예시로는 여러분이 알고있는 배열(Array)입니다. 배열은 직선 모양으로 데이터를 저장하는 선형 구조를 의미합니다. 하지만 이러한 선형 구조는 데이터의 양이 많아지면 인덱스를 통한 데이터의 관리가 어려워지는 한계점을 가지기 때문에 우리는 더 나은 자료 구조를 고안하고 배우게 됩니다."
   ]
  },
  {
   "cell_type": "markdown",
   "metadata": {},
   "source": [
    "## 왜 알고리즘을 배워야하는가?\n",
    "\n",
    "다양한 문제들을 접해보고 다양한 알고리즘이 어떻게 설계되는지 살펴 보는 것은 앞으로 도전적인 문제를 다루는데 도움이 됩니다. 여러 가지 다양한 알고리즘을 학습함으로써, 다음에 유사한 문제가 발생할 때 그것을 더 잘 해결할 수 있습니다.\n",
    "\n",
    "알고리즘은 종종 서로 상당히 다를 수 있습니다. 이 말의 의미를 다음 그림을 예시로 살펴보도록 하겠습니다.\n",
    "\n",
    "<center><img src=\"https://github.com/idebtor/DSpy/blob/main/images/chap1/Chapter%201-3.jpg?raw=true\" width=500 title=\"그림2. 알고리즘예시\"></center>\n",
    "<center>그림 2. 알고리즘 예시<center><br>"
   ]
  },
  {
   "cell_type": "markdown",
   "metadata": {},
   "source": [
    "   \n",
    "위에 그림과 같이 제곱근 함수를 계산하려고 합니다. 여기서 주목해야 할 것은 제곱근 함수를 계산하기 위해 세부 정보를 구현하는 여러 가지 방법이 있을 수 있다는 것입니다.   \n",
    "예를 들어, 한 알고리즘은 다른 알고리즘보다 결과를 반환하는 데 10배 더 오래 걸린다고 가정해봅시다. 그렇다면 두 알고리즘 다 주어진 일을 수행할 수는 있지만, 한 쪽이 다른 쪽보다 더 나은 알고리즘이 될 것입니다.\n",
    "\n",
    "최악의 경우, 우리는 다루기 힘든 문제를 직면할 수 있는데, 이것은 현실적인 시간 내에 문제를 해결할 수 있는 알고리즘이 없다는 것을 의미합니다. 따라서 해결책이 있는 문제, 해결책이 없는 문제, 해결책이 존재하지만 합리적으로 작동하려면 너무 많은 시간 또는 기타 리소스가 필요한 문제를 구별할 수 있어야 합니다.\n",
    "\n",
    "컴퓨터 공학자로서, 우리는 문제를 해결하는 능력뿐만 아니라, 해결책을 평가하는 기술도 알고 이해해야 합니다. 결국, 문제를 해결하기 위한 많은 해결책을 찾고 나서 그것이 좋은 것인지 결정하는 것은 우리가 계속해서 할 과제입니다."
   ]
  },
  {
   "cell_type": "markdown",
   "metadata": {},
   "source": [
    "## Example\n",
    "### 등차수열의 합"
   ]
  },
  {
   "cell_type": "markdown",
   "metadata": {},
   "source": [
    "또 다른 예로 양의 정수 `a` 부터 `b`까지의 모든 숫자를 더하는 문제를 해결하는 프로그램을 만든다고 가정을 해봅시다. 이때 알고리즘 A와 같이 단순 덧셈을 이용하여 구현할 수 있을 것이고, 알고리즘 B와 같이 수학적 모델링을 통한 알고리즘을 활용할 수 있을 것입니다."
   ]
  },
  {
   "cell_type": "code",
   "execution_count": 2,
   "metadata": {},
   "outputs": [],
   "source": [
    "a = 1\n",
    "b = 100_000"
   ]
  },
  {
   "cell_type": "markdown",
   "metadata": {},
   "source": [
    "__알고리즘 A:__ 반복문을 활용한 순차적 덧셈  "
   ]
  },
  {
   "cell_type": "code",
   "execution_count": 3,
   "metadata": {},
   "outputs": [
    {
     "name": "stdout",
     "output_type": "stream",
     "text": [
      "5000050000\n",
      "Wall time: 14 ms\n"
     ]
    }
   ],
   "source": [
    "%%time\n",
    "result = 0\n",
    "for i in range(a,b+1):\n",
    "    result += i\n",
    "print(result)"
   ]
  },
  {
   "cell_type": "markdown",
   "metadata": {},
   "source": [
    "마지막 단계에서 `i`를 `b`와 같게 하려면 범위()의 최대값이 `b + 1`이라는 점에 유의하십시오."
   ]
  },
  {
   "cell_type": "markdown",
   "metadata": {},
   "source": [
    "__알고리즘 B:__ 등차수열의 합을 이용한 알고리즘 "
   ]
  },
  {
   "cell_type": "code",
   "execution_count": 4,
   "metadata": {},
   "outputs": [
    {
     "name": "stdout",
     "output_type": "stream",
     "text": [
      "5000050000.0\n",
      "Wall time: 0 ns\n"
     ]
    }
   ],
   "source": [
    "%%time\n",
    "result = (a+b)*((b-a+1)/2)\n",
    "print(result)"
   ]
  },
  {
   "cell_type": "markdown",
   "metadata": {},
   "source": [
    "\n",
    "|예시|A 연산 횟수|B 연산 횟수|\n",
    "|:---:|:---:|:---:|\n",
    "|1~100|덧셈 * 100회|덧셈 * 2회, +-/ * 각 1회|\n",
    "|100~50,000|덧셈 * 49,901회|덧셈 * 2회, +-/ * 각 1회|\n",
    "|1~100,000|덧셈 * 100,000회|덧셈 * 2회, +-/ * 각 1회|\n",
    "\n",
    "\n",
    "이와 같이, 프로그램이 복잡해지고 어려워질수록 알고리즘에 따라 연산량/시간/메모리가 천차만별 할 수 있습니다."
   ]
  },
  {
   "cell_type": "markdown",
   "metadata": {},
   "source": [
    "# Summary\n",
    "\n",
    "프로그램의 성능 평가의 주된 요소는 __공간복잡도__ 와 __시간복잡도__ 입니다. 이를 쉽게 말하면 얼마나 많은 메모리를 사용하는가, 프로그램 수행이 얼마나 많은 시간을 소요하는가 등이고, 부수적으로 코드의 가독성, 활용도 등이 있습니다. 이는 결국 __자료구조__ 와 __알고리즘__ 에 직결된 문제입니다. 데이터를 접근 가능하기 쉽고 메모리 혹은 저장 용량을 최소한으로 차지하는 형태의 자료구조 설계와 연산을 최소화하며 실행 시간을 줄일 수 있는 효과적인 알고리즘이 필요한 것입니다."
   ]
  },
  {
   "cell_type": "markdown",
   "metadata": {
    "tags": []
   },
   "source": [
    "# Review Question"
   ]
  },
  {
   "cell_type": "markdown",
   "metadata": {},
   "source": [
    "자료구조란 무엇인지 설명하세요."
   ]
  },
  {
   "cell_type": "markdown",
   "metadata": {},
   "source": []
  },
  {
   "cell_type": "markdown",
   "metadata": {},
   "source": [
    "# References\n",
    "- Why Study Data Structures and Abstract Data Types?, [Here](https://runestone.academy/runestone/books/published/pythonds3/Introduction/WhyStudyDataStructuresandAbstractDataTypes.html)\n",
    "- Python-추상적 자료형(ADT)과 자료 구조(Data Structure), [Here](https://ybdata-sci.tistory.com/16)\n"
   ]
  },
  {
   "cell_type": "markdown",
   "metadata": {},
   "source": [
    "------\n",
    "너는 청년의 때에 너의 창조주를 기억하라 곧 곤고한 날이 이르기 전에, 나는 아무 낙이 없다고 할 해들이 가깝기 전에 (전12:1)"
   ]
  }
 ],
 "metadata": {
  "kernelspec": {
   "display_name": "Python 3 (ipykernel)",
   "language": "python",
   "name": "python3"
  },
  "language_info": {
   "codemirror_mode": {
    "name": "ipython",
    "version": 3
   },
   "file_extension": ".py",
   "mimetype": "text/x-python",
   "name": "python",
   "nbconvert_exporter": "python",
   "pygments_lexer": "ipython3",
   "version": "3.9.12"
  },
  "toc-autonumbering": true
 },
 "nbformat": 4,
 "nbformat_minor": 4
}

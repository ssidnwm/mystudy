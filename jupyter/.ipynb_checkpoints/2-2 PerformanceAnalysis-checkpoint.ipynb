{
 "cells": [
  {
   "cell_type": "markdown",
   "id": "13f81c70",
   "metadata": {},
   "source": [
    "복 있는 사람은 악인들의 꾀를 따르지 아니하며 죄인들의 길에 서지 아니하며 오만한 자들의 자리에 앉지 아니하고 오직 여호와의 율법을 즐거워하여 그의 율법을 주야로 묵상하는도다 그는 시냇가에 심은 나무가 철을 따라 열매를 맺으며 그 잎사귀가 마르지 아니함 같으니 그가 하는 모든 일이 다 형통하리로다 악인들은 그렇지 아니함이여 오직 바람에 나는 겨와 같도다 그러므로 악인들은 심판을 견디지 못하며 죄인들이 의인들의 모임에 들지 못하리로다 무릇 의인들의 길은 여호와께서 인정하시나 악인들의 길은 망하리로다 (시1:1-6)\n",
    "\n",
    "-------\n",
    "<center><img src=\"https://github.com/idebtor/DSpy/blob/6b3676c3de29f85d2e7f30679676d1fd96d88b17/images/WelcomeToDataStructures.jpg?raw=true\" width=1000></center>\n",
    "\n",
    "__NOTE:__ The following materials have been compiled and adapted from the numerous sources including my own. Please help me to keep this tutorial up-to-date by reporting any issues or questions. Send any comments or criticisms to `idebtor@gmail.com` Your assistances and comments will be appreciated.\n",
    "\n",
    "--------"
   ]
  },
  {
   "cell_type": "markdown",
   "id": "95431d18",
   "metadata": {},
   "source": [
    "\n",
    "<b style=\"font-size:30px\"> Chapter 2. Performance Analysis </b>\n",
    "\n",
    ": 알고리즘 분석과 Big-O Notation\n",
    "\n",
    "--------------\n",
    "제 2장에서는 알고리즘 분석이 중요한 이유를 배우고 이해합니다. 또한, __Big-O__ 표기법을 사용하여 파이썬 리스트(`list`) 및 딕셔너리(`dict`)에 대한 일반적인 작업의 실행 시간을 분석해 봅니다. __Big-O__ 표기법이란 알고리즘의 효율성을 표기해주는 표기법입니다."
   ]
  },
  {
   "cell_type": "markdown",
   "id": "faf71a4e",
   "metadata": {},
   "source": [
    "# Performance Analysis\n",
    "\n",
    ": 파이썬에서 가장 많이 사용되는 리스트와 딕셔너리 데이터 구조의 성능을 분석해봅니다. \n",
    "\n",
    "1.1 Lists  \n",
    "1.2 Dictionaries\n"
   ]
  },
  {
   "cell_type": "markdown",
   "id": "ecb67c27",
   "metadata": {},
   "source": [
    "이제 여러분은 Big-O 표기법과 알고리즘 분석에 대한 개념을 가지고 있으므로, 이번 섹션의 목표는 파이썬 lists 및 Big-O 성능에 대해 알아보는 것입니다. 그런 다음 각 데이터 구조에서 특정 작업을 사용할 경우의 비용과 이점을 설명하는 몇 가지 예를 살펴보겠습니다.\n",
    "\n",
    "파이썬 데이터 구조는 앞으로 배울 다양한 데이터 구조를 구현할 때 사용할 구성 요소이기 때문에 이러한 파이썬 데이터 구조의 효율성을 이해하는 것이 중요합니다. lists(리스트)과 dictionaries(딕셔너리)에 대해 몇 가지 가능한 구현과 구현에 따라 성능이 어떻게 달라지는지 살펴볼 것입니다."
   ]
  },
  {
   "cell_type": "markdown",
   "id": "c20801d1",
   "metadata": {},
   "source": [
    "## Lists (리스트)"
   ]
  },
  {
   "cell_type": "markdown",
   "id": "9de4357a",
   "metadata": {},
   "source": [
    "첫 번째 주요 파이썬 데이터 구조는 `list`입니다.\n",
    "파이썬의 설계자들은 리스트 데이터 구조를 구현할 때 많은 선택을 해야 했습니다. 어떠한 선택을 하느냐에 따라 리스트 작업 수행 속도에 영향을 미칠 수 있습니다.\n",
    "\n",
    "두 가지 일반적인 방법이 있습니다.\n",
    "첫번째 방법은 인덱싱 및 인덱스 위치에 할당하는 것입니다. 이와 같은 작업이 리스트 크기와 무관할 경우 $O(1)$가 됩니다.\n",
    "\n",
    "또 다른 일반적인 방법은 리스트를 늘리는 것입니다. 긴 리스트를 만드는 방법에는 두 가지가 있습니다. `append` 메소드 혹은 __연결 연산자__ 를 사용할 수 있습니다. `append` 메소드의 시간복잡도는 $O(1)$이지만, __연결 연산자__ 의 시간복잡도는 $O(k)$이며 여기서 k는 연결된 리스트의 크기입니다."
   ]
  },
  {
   "cell_type": "markdown",
   "id": "7c06068b",
   "metadata": {},
   "source": [
    "`0`부터 시작하는 `n`개의 숫자 리스트를 생성할 수 있는 네 가지 방법을 살펴보겠습니다. `for` 루프를 시도하고 연결해서 만드는 방법, `append` 메소드를 사용하는 방법, 다음으로, `list comprehension`를 사용하여 리스트를 작성하는 방법과 마지막으로 `list constructor`를 호출하여 `range` 함수를 사용하는 방법을 제시합니다."
   ]
  },
  {
   "cell_type": "markdown",
   "id": "f630f9b8",
   "metadata": {},
   "source": [
    "<b style=\"font-size:20px\"> 실험 1. 리스트를 생성하는 다양한 방법 성능 비교 </b>"
   ]
  },
  {
   "cell_type": "code",
   "execution_count": 3,
   "id": "ef212706",
   "metadata": {},
   "outputs": [],
   "source": [
    "def test1():\n",
    "    lst = []\n",
    "    for i in range(1000):\n",
    "        lst = lst + [i]\n",
    "\n",
    "def test2():\n",
    "    lst = []\n",
    "    for i in range(1000):\n",
    "        lst.append(i)\n",
    "\n",
    "def test3():\n",
    "    lst = [i for i in range(1000)]\n",
    "\n",
    "def test4():\n",
    "    lst = list(range(1000))"
   ]
  },
  {
   "cell_type": "markdown",
   "id": "f51e8109",
   "metadata": {},
   "source": [
    "각 함수가 실행되는 데 걸리는 시간을 측정하기 위해 파이썬의 `timeit` 모듈을 사용할 것입니다. `timeit` 모듈은 파이썬 개발자가 일관된 환경에서 함수를 실행하고 운영 체제 전반에 걸쳐 유사한 타이밍 메커니즘을 사용하여 플랫폼 간 타이밍 측정을 수행하도록 설계되었습니다."
   ]
  },
  {
   "cell_type": "markdown",
   "id": "c27d888a",
   "metadata": {},
   "source": [
    "`timeit`을 사용하려면 `Timer` 객체를 생성해야 합니다. `Timer` 객체의 첫 번째 매개 변수는 statement로서 보통 측정할 함수를 인자로 넣습니다. 두 번째 매개 변수는 setup로서 테스트를 설정하기 위해 한 번 실행되는 문입니다. `timeit` 모듈을 통해 각각을 실행하는 데 걸리는 시간을 기록할 수 있습니다. 완료되면 시간을 소수점 값(seconds)으로 반환합니다. 다음 코드는 각 테스트 함수들을 `number = 10_000`번 실행하는 데 걸리는 시간을 보여 줍니다. 이 옵션을 생략하면, 1백만번을 실행하여, 시간이 오래 걸리는 경우가 있으니 유의하길 바랍니다. "
   ]
  },
  {
   "cell_type": "code",
   "execution_count": 4,
   "id": "d18b518f",
   "metadata": {},
   "outputs": [
    {
     "name": "stdout",
     "output_type": "stream",
     "text": [
      "      concatenation:      10.08 seconds\n",
      "          appending:       0.60 seconds\n",
      " list comprehension:       0.30 seconds\n",
      "         list range:       0.07 seconds\n"
     ]
    }
   ],
   "source": [
    "import timeit\n",
    "\n",
    "t1 = timeit.timeit(stmt=\"test1()\", setup=\"from __main__ import test1\", number=10_000)\n",
    "print(f\"{'concatenation:':>20s} {t1:10.2f} seconds\")\n",
    "\n",
    "t2 = timeit.timeit(\"test2()\", \"from __main__ import test2\", number=10_000)\n",
    "print(f\"{'appending:':>20s} {t2:10.2f} seconds\")\n",
    "\n",
    "t3 = timeit.timeit(\"test3()\", \"from __main__ import test3\", number=10_000)\n",
    "print(f\"{'list comprehension:':>20s} {t3:10.2f} seconds\")\n",
    "\n",
    "t4 = timeit.timeit(\"test4()\", \"from __main__ import test4\", number=10_000)\n",
    "print(f\"{'list range:':>20s} {t4:10.2f} seconds\")"
   ]
  },
  {
   "cell_type": "markdown",
   "id": "21f13e9f",
   "metadata": {},
   "source": [
    "참고로, 위의 코드를 Timer 클래스와 format을 사용하면 다음과 같이 코딩할 수 있습니다.  "
   ]
  },
  {
   "cell_type": "code",
   "execution_count": 5,
   "id": "4383ee6d",
   "metadata": {
    "scrolled": true
   },
   "outputs": [
    {
     "name": "stdout",
     "output_type": "stream",
     "text": [
      "concatenation:           10.25 seconds\n",
      "appending:                0.54 seconds\n",
      "list comprehension:       0.31 seconds\n",
      "list range:               0.10 seconds\n"
     ]
    }
   ],
   "source": [
    "from timeit import Timer\n",
    "\n",
    "t1 = Timer(\"test1()\", \"from __main__ import test1\")\n",
    "print(\"concatenation: {0:15.2f} seconds\".format(t1.timeit(number=10_000)))\n",
    "\n",
    "t2 = Timer(\"test2()\", \"from __main__ import test2\")\n",
    "print(\"appending: {0:19.2f} seconds\".format(t2.timeit(number=10_000)))\n",
    "\n",
    "t3 = Timer(\"test3()\", \"from __main__ import test3\")\n",
    "print(\"list comprehension: {0:10.2f} seconds\".format(t3.timeit(number=10_000)))\n",
    "\n",
    "t4 = Timer(\"test4()\", \"from __main__ import test4\")\n",
    "print(\"list range: {0:18.2f} seconds\".format(t4.timeit(number=10_000)))"
   ]
  },
  {
   "cell_type": "markdown",
   "id": "76030fe2",
   "metadata": {},
   "source": [
    "위의 실험을 통해 `t2`가 `t1`보다 훨씬 빠르다는 것을 알 수 있습니다. 또한, `list comprehension`이 `appending`을 이용한 일반 `for`문보다 약 2배 더 빠르다는 것을 알 수 있습니다. 흥미로운 결과입니다.  \n",
    "주의해야 할 점은 실제로 test함수를 호출하는데 걸리는 시간과 위의 측정된 시간과 정확하게 일치하지는 않습니다. 실제로는 `test` 함수를 호출하기 위한 __오버헤드__가 포함됩니다. 그래서 정확한 시간을 알고 싶을 때에는 연습으로 빈 함수를 호출하는 데 걸리는 시간을 측정하고 이를 빼주면 됩니다."
   ]
  },
  {
   "cell_type": "markdown",
   "id": "812e8cff",
   "metadata": {},
   "source": [
    "이제 성능을 구체적으로 측정할 수 있는 방법을 확인했으므로 `그림 1`을 통해 모든 기본 리스트의 Big-O 효율성을 확인할 수 있습니다. \n",
    "\n",
    "`그림 1`에 대해 곰곰이 살펴보면 `pop`의 두 가지 다른 점을 궁금해 할 수 있습니다. 리스트의 끝에서 pop을 호출하면 O(1)가 되지만 리스트의 첫 번째 요소 또는 중간에서 pop을 호출하면 $O(n)$가 됩니다. 그 이유는 파이썬이 리스트을 구현하는 방법에 있습니다.  \n",
    "\n",
    "파이썬의 구현에서는 리스트의 앞쪽(head)에서 하나의 요소를 가져오면, 리스트의 다른 모든 요소는 리스트의 앞쪽(head)으로 한칸씩 전부 이동하기 때문입니다. 지금은 바보같이 보일 수 있지만, 그림 1을 보면 이러한 구현으로 말미암아 __`index[]`__ 관련 작업들도 $O(1)$로 할 수 있다는 것을 알 수 있습니다. 이것은 파이썬 구현자들이 생각했던 절충안입니다."
   ]
  },
  {
   "cell_type": "markdown",
   "id": "d4e5b30e",
   "metadata": {},
   "source": [
    "|Operation|Big-O | \n",
    "|:---:|:---:|\n",
    "|index[]| O(1) |\n",
    "|index assignment| O(1) |\n",
    "|append| O(1) | \n",
    "|pop()| O(1) | \n",
    "|pop(i)| O(n) | \n",
    "|insert(i, item)| O(n) |\n",
    "|del operator| O(n) |\n",
    "|iteration| O(n) |\n",
    "|contains (in)| O(n) | \n",
    "|get slice [x:y]| O(k) | \n",
    "|del slice| O(n) | \n",
    "|set slice| O(n+k) |\n",
    "|reverse| O(n) |\n",
    "|concatenate| O(k) |\n",
    "|sort| O(n log n) | \n",
    "|multiply| O(nk) | \n",
    "\n",
    "\n",
    "<center>표1.파이썬 리스트 연산자의 빅오 표기법</center>\n"
   ]
  },
  {
   "cell_type": "markdown",
   "id": "2904446b",
   "metadata": {},
   "source": [
    "이러한 성능 차이를 입증하기 위한 방법으로 `timeit` 모듈을 사용하여 다른 실험을 해보겠습니다. 우리의 목표는 프로그램이 리스트 끝에서 pop할 때 알려진 크기의 리스트에서 `pop` 작업의 성능을 확인하고, 프로그램이 리스트 시작 부분에서 pop할 때를 비교하고 확인해 보는 것입니다. \n",
    "\n",
    "우리가 기대하는 것은 리스트의 크기가 커져도 리스트 시작에서 `pop` 하는 시간은 리스트가 커질수록 계속 증가하는 반면, 리스트 끝에서 `pop` 하는 데 필요한 시간은 일정하게 유지되는 것입니다."
   ]
  },
  {
   "cell_type": "markdown",
   "id": "127bdc1f",
   "metadata": {},
   "source": [
    "<b style=\"font-size:20px\"> 실험2. pop(0)와 pop()의 성능 비교 </b>"
   ]
  },
  {
   "cell_type": "code",
   "execution_count": null,
   "id": "294e46e6",
   "metadata": {},
   "outputs": [],
   "source": [
    "pop_zero = Timer(\"x.pop(0)\", \"from __main__ import x\")\n",
    "pop_last = Timer(\"x.pop( )\", \"from __main__ import x\")\n",
    "\n",
    "x = list(range(1_000_000))\n",
    "print(f\"pop(0): {pop_zero.timeit(number=1000):10.5f} seconds\")\n",
    "\n",
    "x = list(range(1_000_000))\n",
    "print(f\"pop( ): {pop_last.timeit(number=1000):10.5f} seconds\")\n",
    "print(len(x))"
   ]
  },
  {
   "cell_type": "markdown",
   "id": "5517dd1e",
   "metadata": {},
   "source": [
    "아래의 코드는 Timer 클래스를 사용하는 대신, 직접적으로 timeit() 함수를 사용해서 구현한 코드입니다."
   ]
  },
  {
   "cell_type": "code",
   "execution_count": 9,
   "id": "8a6523e5",
   "metadata": {},
   "outputs": [
    {
     "name": "stdout",
     "output_type": "stream",
     "text": [
      "pop(0):    4.65582 seconds\n",
      "pop( ):    0.00004 seconds\n"
     ]
    }
   ],
   "source": [
    "import timeit\n",
    "x = list(range(2_000_000))\n",
    "t = timeit.timeit(\"x.pop(0)\", \"from __main__ import x\", number=1000)\n",
    "print(f\"pop(0): {t:10.5f} seconds\")\n",
    "\n",
    "x = list(range(2_000_000))\n",
    "t = timeit.timeit(\"x.pop( )\", \"from __main__ import x\", number=1000)\n",
    "print(f\"pop( ): {t:10.5f} seconds\")"
   ]
  },
  {
   "cell_type": "markdown",
   "id": "64545f63",
   "metadata": {},
   "source": [
    "__output sample__\n",
    "```codes\n",
    "pop(0):    1.21812 seconds\n",
    "pop( ):    0.00005 seconds\n",
    "```\n",
    "\n",
    "끝에서 pop하는 것은 0.00005밀리초가 걸리는 반면, 처음부터 pop하는 것은 1.21812밀리초가 걸립니다. 몇 가지 주목할 점이 있습니다. \n",
    "\n",
    "첫 번째는 `__main__ import x`입니다. 함수를 정의하지는 않았지만 테스트에서 리스트 개체 `x`를 사용할 수도 있습니다. 이 접근 방식을 통해 단일 `pop` 문에만 시간을 두고 해당 단일 작업에 대한 시간을 가장 정확하게 측정할 수 있습니다. 타이머가 1000번 반복되기 때문에 루프를 통해 매번 리스트 크기가 1씩 줄어들고 있다는 점도 중요합니다."
   ]
  },
  {
   "cell_type": "markdown",
   "id": "f888e842",
   "metadata": {},
   "source": [
    "첫 번째 테스트에서는 실제로 `pop(0)`이 `pop()`보다 느리다는 것만 알 수 있었고,`pop(0)`은 $O(n)$이고 `pop()`은 $O(1)$이라는 주장을 검증하지는 않았습니다. \n",
    "\n",
    "이를 검증하려면 다양한 리스트 크기에 대한 성능을 살펴봐야 합니다."
   ]
  },
  {
   "cell_type": "code",
   "execution_count": 7,
   "id": "42acd21b",
   "metadata": {},
   "outputs": [
    {
     "name": "stdout",
     "output_type": "stream",
     "text": [
      "         n         pop(0)         pop( )\n",
      "    100000        0.23517        0.00004\n",
      "    200000        0.45457        0.00004\n",
      "    300000        0.65356        0.00004\n",
      "    400000        0.93166        0.00004\n",
      "    500000        1.15988        0.00004\n",
      "    600000        1.40393        0.00006\n",
      "    700000        1.65855        0.00004\n",
      "    800000        1.85206        0.00004\n",
      "    900000        2.22510        0.00009\n",
      "   1000000        2.38573        0.00005\n"
     ]
    }
   ],
   "source": [
    "pop_zero = Timer(\"x.pop(0)\", \"from __main__ import x\")\n",
    "pop_last = Timer(\"x.pop( )\", \"from __main__ import x\")\n",
    "print(f\"{'n':>10s}{'pop(0)':>15s}{'pop( )':>15s}\")\n",
    "\n",
    "for i in range(100_000, 1_000_001, 100_000):\n",
    "    x = list(range(i))\n",
    "    pop_zero_t = pop_zero.timeit(number=1000)\n",
    "    \n",
    "    x = list(range(i))\n",
    "    pop_last_t = pop_last.timeit(number=1000)\n",
    "    \n",
    "    print(f\"{i:>10d}{pop_zero_t:>15.5f}{pop_last_t:>15.5f}\")"
   ]
  },
  {
   "cell_type": "markdown",
   "id": "aab97687",
   "metadata": {},
   "source": [
    "위와 같은 내용의 코드입니다. \n",
    "참고로, print()안의 format부분에서, `>10d`는 10자리의 빈칸을 확보하고, 오른쪽 정렬하여 decimal(정수)을 출력하라는 표시입니다, "
   ]
  },
  {
   "cell_type": "code",
   "execution_count": 8,
   "id": "2630230c",
   "metadata": {},
   "outputs": [
    {
     "name": "stdout",
     "output_type": "stream",
     "text": [
      "         n         pop(0)         pop( )\n",
      "    100000        0.24368        0.00005\n",
      "    200000        0.44992        0.00008\n",
      "    300000        0.73003        0.00005\n",
      "    400000        0.99035        0.00004\n",
      "    500000        1.21776        0.00005\n",
      "    600000        1.38086        0.00005\n",
      "    700000        1.68641        0.00004\n",
      "    800000        1.87797        0.00004\n",
      "    900000        2.14847        0.00004\n",
      "   1000000        2.96437        0.00008\n"
     ]
    }
   ],
   "source": [
    "import timeit\n",
    "print(\"{0:>10s}{1:>15s}{2:>15s}\".format('n', 'pop(0)', 'pop( )'))\n",
    "\n",
    "for i in range(100_000, 1_000_001, 100_000):\n",
    "    x = list(range(i))\n",
    "    pop_zero_t = timeit.timeit(setup=\"from __main__ import x\", stmt=\"x.pop(0)\", number=1000)\n",
    "    \n",
    "    x = list(range(i))\n",
    "    pop_last_t = timeit.timeit(setup=\"from __main__ import x\", stmt=\"x.pop( )\", number=1000)\n",
    "    \n",
    "    print(\"{0:>10d}{1:>15.5f}{2:>15.5f}\".format(i, pop_zero_t, pop_last_t))"
   ]
  },
  {
   "cell_type": "markdown",
   "id": "fb1c60e7",
   "metadata": {},
   "source": [
    "그림 2은 위와 같은 방법으로 실시한 실험 결과($n_{max}=10^6$)를 그래프로 나타낸 것입니다. 리스트가 점점 길어질수록 `pop(0)`이 발생하는 시간도 증가하는 반면 `pop()`이 발생하는 시간은 매우 평평하다는 것을 알 수 있습니다. 이로인해 `pop(0)`는 $O(n)$, `pop()`은 $O(1)$ 알고리즘이라고 말할 수 있는 것입니다."
   ]
  },
  {
   "cell_type": "markdown",
   "id": "38f7b68b",
   "metadata": {},
   "source": [
    "\n",
    "<center> <img src=\"https://github.com/idebtor/DSpy/blob/c002e1e14c431052d19be9a9eb76fc4963899446/images/chap2/chapter2-10.png?raw=true\" width=500> </center>\n",
    "<center>그림1. pop과 pop(0) 작업의 시간복잡도 비교</center>"
   ]
  },
  {
   "cell_type": "markdown",
   "id": "7d8d9553",
   "metadata": {},
   "source": [
    "## Dictionaries (딕셔너리)"
   ]
  },
  {
   "cell_type": "markdown",
   "id": "29b9563f",
   "metadata": {},
   "source": [
    "두 번째 주요 파이썬 데이터 구조는 딕셔너리입니다. 딕셔너리는 위치가 아닌 `key`로 딕셔너리의 항목에 액세스할 수 있다는 점에서 리스트와 다릅니다. 앞으로 딕셔너리을 구현하는 많은 방법들이 있다는 것을 알게 될 것입니다. 지금 가장 주의해야 할 점은 딕셔너리에 있는 `get item`과 `set item` 작업이 $O(1)$라는 것입니다. `key`가 딕셔너리에 있는지 여부를 확인하는 것도 $O(1)$입니다.   \n",
    "모든 딕셔너리 작업의 효율성은 그림 3에 요약되어 있습니다. 일부 드문 경우 `contains`, `get item`, `set item`이 $O(n)$ 성능으로 바뀌기도 합니다."
   ]
  },
  {
   "cell_type": "markdown",
   "id": "dbfa4c6d",
   "metadata": {},
   "source": [
    "|Operation|Big-O | \n",
    "|:---:|:---:|\n",
    "|copy| O(n) |\n",
    "|get item| O(1) |\n",
    "|set item| O(1) | \n",
    "|delete item| O(1) | \n",
    "|containis (in)| O(1) | \n",
    "|iteration| O(n) |\n",
    "\n",
    "<center>표2. 딕셔너리 연산자의 빅오 표기법</center>\n"
   ]
  },
  {
   "cell_type": "markdown",
   "id": "a61bda8b",
   "metadata": {},
   "source": [
    "마지막 성능 실험을 위해 리스트와 딕셔너리 간의 포함 작업 성능을 비교합니다. 이 과정에서 리스트의 연산자는 $O(n)$이고 딕셔너리의 연산자는 $O(1)$인지 확인합니다. 이 둘을 비교하기 위해 사용할 실험은 간단합니다.  \n",
    "\n",
    "우선 다양한 숫자의 리스트를 만들고 무작위로 숫자를 골라서 그 숫자가 리스트에 있는지 확인해 보겠습니다. 성능 테이블이 올바르면 리스트가 클수록 리스트에 포함된 번호가 있는지 확인하는 데 시간이 더 오래 걸릴 것입니다.\n",
    "\n",
    "key와 숫자를 포함하는 딕셔너리에도 동일한 실험을 반복하겠습니다. 이 실험에서 우리는 숫자가 딕셔너리에 있는지 아닌지를 결정하는 것이 훨씬 빠를 뿐만 아니라 딕셔너리가 커지더라도 확인하는 데 걸리는 시간은 일정하게 유지되어야 한다는 것을 알아야 합니다."
   ]
  },
  {
   "cell_type": "markdown",
   "id": "d3593f36",
   "metadata": {},
   "source": [
    "<b style=\"font-size:20px\"> 실험3. 리스트와 딕셔너리의 성능 비교 </b>\n",
    "\n",
    "최소 10만개의 요소부터 최대 100만개 요소를 가진 리스트와 딕셔너리를 발생하여, 임의의 요소의 존재 여부를 확인하는데 걸리는 시간을 측정하여 결과적으로 아래와 같이 출력하길 원합니다. \n",
    "```\n",
    "         n      list      dict\n",
    "   100,000    0.6211    0.0008\n",
    "   200,000    1.2827    0.0016\n",
    "   300,000    1.8477    0.0008\n",
    "   400,000    2.4204    0.0008\n",
    "   500,000    3.0156    0.0009\n",
    "   600,000    3.6755    0.0016\n",
    "   700,000    4.2802    0.0016\n",
    "   800,000    4.9635    0.0012\n",
    "   900,000    5.5661    0.0009\n",
    " 1,000,000    6.1204    0.0008\n",
    " ```"
   ]
  },
  {
   "cell_type": "markdown",
   "id": "7a46225c",
   "metadata": {},
   "source": [
    "아래 첫 번째 코드는 여러분의 이해를 돕기위한 간단한 실험적인 코드입니다. \n",
    "\n",
    "10개의 요소부터 15개의 요소를 갖는 리스트와 딕셔너리 `x`를 만들고, 무작위 수를 발생하여 그 수가 `x`에 있는지 여부를 판단하는 코드입니다. 루프 변수 `i`를 이용하여 `random.randrange(i)`로 무작위를 수를 발생하므로, 여기서 나온 값은 항상 x 안에 존재합니다. 따라서, 결과값 `y`는 항상 `True`가 나와야 합니다. \n",
    "\n",
    "파이썬에 있는 `in` 연산자는 다른 프로그램 언어에서는 `contains` 혹은 `container` 연산자라고 흔히 부릅니다. "
   ]
  },
  {
   "cell_type": "code",
   "execution_count": 1,
   "id": "b89ddd79",
   "metadata": {},
   "outputs": [
    {
     "name": "stdout",
     "output_type": "stream",
     "text": [
      "0 in [0, 1, 2, 3, 4, 5, 6, 7, 8, 9] ? True\n",
      "3 in [0, 1, 2, 3, 4, 5, 6, 7, 8, 9, 10] ? True\n",
      "9 in [0, 1, 2, 3, 4, 5, 6, 7, 8, 9, 10, 11] ? True\n",
      "5 in [0, 1, 2, 3, 4, 5, 6, 7, 8, 9, 10, 11, 12] ? True\n",
      "6 in [0, 1, 2, 3, 4, 5, 6, 7, 8, 9, 10, 11, 12, 13] ? True\n",
      "10 in [0, 1, 2, 3, 4, 5, 6, 7, 8, 9, 10, 11, 12, 13, 14] ? True\n",
      "9 in {0: 0, 1: 1, 2: 2, 3: 3, 4: 4, 5: 5, 6: 6, 7: 7, 8: 8, 9: 9} ? True\n",
      "6 in {0: 0, 1: 1, 2: 2, 3: 3, 4: 4, 5: 5, 6: 6, 7: 7, 8: 8, 9: 9, 10: 10} ? True\n",
      "9 in {0: 0, 1: 1, 2: 2, 3: 3, 4: 4, 5: 5, 6: 6, 7: 7, 8: 8, 9: 9, 10: 10, 11: 11} ? True\n",
      "8 in {0: 0, 1: 1, 2: 2, 3: 3, 4: 4, 5: 5, 6: 6, 7: 7, 8: 8, 9: 9, 10: 10, 11: 11, 12: 12} ? True\n",
      "10 in {0: 0, 1: 1, 2: 2, 3: 3, 4: 4, 5: 5, 6: 6, 7: 7, 8: 8, 9: 9, 10: 10, 11: 11, 12: 12, 13: 13} ? True\n"
     ]
    }
   ],
   "source": [
    "import timeit\n",
    "import random\n",
    "\n",
    "for i in range(10, 16):\n",
    "    x = list(range(i))                # form a list using list construct\n",
    "    y = random.randrange(i) \n",
    "    z = y in x\n",
    "    print(y, 'in', x, '?', z)\n",
    "    \n",
    "for i in range(10, 15):\n",
    "    x = {j:j for j in range(i)}      # form a dict using dict comprehension\n",
    "    y = random.randrange(i)\n",
    "    z = y in x\n",
    "    print(y, 'in', x, '?', z)"
   ]
  },
  {
   "cell_type": "markdown",
   "id": "11b4c373",
   "metadata": {},
   "source": [
    "최소 10만개의 요소부터 최대 100만개 요소를 가진 리스트와 딕셔너리를 발생하여, 임의의 요소의 존재 여부를 확인하는데 걸리는 시간을 측정하고자 합니다. 위와 같은 방식을 적용하여 우리가 목적하는 시간복잡도 테스트를 하려고 합니다. \n",
    "\n",
    "그러므로, 위의 코드에서 불필요한 y, z 변수는 사용할 필요가 없으므로, 시간 측정을 위하여 아래와 같이 한 줄의 코드로 만들면 간편해집니다. 다만, 여기 코드 `{i}`의 중괄호는 지역변수 `i`를 가져오기 위함입니다. \n",
    "\n",
    "```\n",
    "t = timeit.Timer(f\"random.randrange({i}) in x\", \"from __main__ import random, x\")\n",
    "```"
   ]
  },
  {
   "cell_type": "code",
   "execution_count": null,
   "id": "006e193a",
   "metadata": {},
   "outputs": [],
   "source": [
    "import timeit\n",
    "import random\n",
    "\n",
    "print(f\"{'n':>10s}{'list':>10s}{'dict':>10s}\")\n",
    "\n",
    "for i in range(100_000, 1_000_001, 100_000):\n",
    "    x = list(range(i))\n",
    "    t = timeit.Timer(f\"random.randrange({i}) in x\", \"from __main__ import random, x\")\n",
    "    list_time = t.timeit(number=1000)\n",
    "    \n",
    "    x = {j: None for j in range(i)}\n",
    "    dict_time = t.timeit(number=1000)\n",
    "    print(f\"{i:>10,}{list_time:>10.4f}{dict_time:>10.4f}\")"
   ]
  },
  {
   "cell_type": "markdown",
   "id": "90adb1ca-8b4b-48db-a95a-2c8a821f0ebb",
   "metadata": {},
   "source": [
    "`Timer` 객체를 생성하지 않고,` timeit.timeit()`를 직접 호출하여 다음과 같이 코드할 수 있지만, 만약 여러 개의 테스를 할 때는 `Timer` 객체를 먼저 생성하고 테스트하는 것이 나을 때도 있습니다. "
   ]
  },
  {
   "cell_type": "code",
   "execution_count": null,
   "id": "b1a2118b-7034-4656-9666-5b9a15ac3a1b",
   "metadata": {},
   "outputs": [],
   "source": [
    "import timeit\n",
    "import random\n",
    "\n",
    "print(f\"{'n':>10s}{'list':>10s}{'dict':>10s}\")\n",
    "\n",
    "for i in range(100_000, 1_000_001, 100_000):\n",
    "    x = list(range(i))\n",
    "    list_time = timeit.timeit(f\"random.randrange({i}) in x\", \"from __main__ import random, x\", number=1000)\n",
    "    \n",
    "    x = {j: None for j in range(i)}\n",
    "    dict_time = timeit.timeit(f\"random.randrange({i}) in x\", \"from __main__ import random, x\", number=1000)\n",
    "    print(f\"{i:>10,}{list_time:>10.4f}{dict_time:>10.4f}\")"
   ]
  },
  {
   "cell_type": "markdown",
   "id": "d77e76db",
   "metadata": {},
   "source": [
    "그림 4는 위의 결과를 시각화 한 것입니다. 딕셔너리가 지속적으로 더 빠르다는 것을 알 수 있습니다. 10만개 요소의 최소 리스트 크기에서 딕셔너리는 리스트보다 약 500배 이상 빠릅니다. 100만 개의 요소 중 가장 큰 리스트 크기의 경우에도 딕셔너리가 약 6,000배 이상 더 빠릅니다. 또한 리스트의 `in` 즉 `contains` 연산자에 걸리는 시간이 리스트 크기에 따라 선형적으로 증가하는 것을 볼 수 있습니다. 이렇게 하면 리스트의 연산자가 $O(n)$라는 주장이 확인됩니다. \n",
    "\n",
    "또한 딕셔너리 크기가 커지더라도 딕셔너리의 `in` 즉 `contains` 연산자 시간이 일정하다는 것을 알 수 있습니다. 실제로 10만개의 딕셔너리 크기에 대해 100만개의 딕셔너리 크기에 대해서도 시간 차이가 별로 없는 것을 관찰할 수 있습니다."
   ]
  },
  {
   "cell_type": "markdown",
   "id": "35a944d0",
   "metadata": {},
   "source": [
    "<center> <img src=\"https://github.com/idebtor/DSpy/blob/e0bf464a2abef20770242bd02a721a9246d16b3b/images/chap2/chapter2-9.png?raw=true\" width=500></center>\n",
    "<center>그림2. 리스트와 딕셔너리 연산자 비교</center>"
   ]
  },
  {
   "cell_type": "markdown",
   "id": "223ad5f0",
   "metadata": {},
   "source": [
    "파이썬은 진화하는 언어이기 때문에 항상 변화가 일어날 수 있습니다. 파이썬 데이터 구조의 성능에 대한 최신 정보는 파이썬 웹 사이트에서 찾을 수 있습니다. https://wiki.python.org/moin/TimeComplexity"
   ]
  },
  {
   "cell_type": "markdown",
   "id": "faab01e0",
   "metadata": {},
   "source": [
    "# Summary"
   ]
  },
  {
   "cell_type": "markdown",
   "id": "d048186f",
   "metadata": {},
   "source": [
    "파이썬 데이터 구조는 앞으로 배울 다양한 데이터 구조를 구현할 때 사용할 구성 요소이기 때문에 이러한 파이썬 데이터 구조의 효율성을 이해하는 것이 중요합니다.\n",
    "그 중에서 대표적인 리스트와 딕셔너리에 대해 몇 가지 가능한 구현과 구현에 따라 성능이 어떻게 달라지는지 살펴보았습니다."
   ]
  },
  {
   "cell_type": "markdown",
   "id": "cb365004-4719-454e-ad04-8c29b173852e",
   "metadata": {},
   "source": [
    "# Exercises"
   ]
  },
  {
   "cell_type": "markdown",
   "id": "d2b39db8",
   "metadata": {},
   "source": [
    "## Review Questions\n",
    "\n",
    "앞에서 이미 사용해 본 아래 코드에서 `range(i)` 대신 `range(i * 2)`로 바꾸고, `x = {j: None for j in range(i)}`에서 `None`대신에 `j * 2`로 수정한 후, 시간복잡도를 계산한다면, 무엇이 어떻게 달라지는지 혹은 변함이 없는지 설명하십시오. \n",
    "\n",
    "```\n",
    "print(f\"{'n':>10s}{'list':>10s}{'dict':>10s}\")\n",
    "\n",
    "for i in range(100_000, 1_000_001, 100_000):\n",
    "    t = timeit.Timer(f\"random.randrange({i}) in x\", \"from __main__ import random, x\")\n",
    "    x = list(range(i))\n",
    "    list_time = t.timeit(number=1000)\n",
    "    \n",
    "    x = {j: None for j in range(i)}\n",
    "    dict_time = t.timeit(number=1000)\n",
    "    print(f\"{i:>10,}{list_time:>10.4f}{dict_time:>10.4f}\")\n",
    "```"
   ]
  },
  {
   "cell_type": "code",
   "execution_count": null,
   "id": "4cbda887-c30e-4fc8-96ec-f093897ce858",
   "metadata": {},
   "outputs": [],
   "source": [
    "from timeit import Timer\n",
    "import random\n",
    "\n",
    "#print(f\"{'n':>10s}{'list':>10s}{'dict':>10s}\")\n",
    "\n",
    "for i in range(100_000, 1_000_001, 100_000):\n",
    "    t = Timer(f\"random.randrange({i}) in x\", \"from __main__ import random, x\")\n",
    "    x = list(range(i))\n",
    "    list_time = t.timeit(number=1000)\n",
    "    \n",
    "    x = {j: None for j in range(i)}\n",
    "    dict_time = t.timeit(number=1000)\n",
    "    #print(f\"{i:>10,}{list_time:>10.4f}{dict_time:>10.4f}\")"
   ]
  },
  {
   "cell_type": "markdown",
   "id": "c7de4d2e-23ca-4f92-a37a-ed43d589130b",
   "metadata": {},
   "source": [
    "<b style=\"font-size:24px\"> Problem 1: </b>\n",
    "\n",
    "위의 \"리스트와 딕셔너리의 성능 비교\"를 하는 실험에서 최소 10만개의 요소부터 최대 100만개 요소를 가진 리스트와 딕셔너리를 발생하여, 임의의 요소의 존재 여부를 확인하는데 걸리는 시간을 측정하여 아래와 같은 결과를 얻었다고 가정합시다. \n",
    "\n",
    "```\n",
    "         n      list      dict\n",
    "   100,000    0.6211    0.0008\n",
    "   200,000    1.2827    0.0016\n",
    "   300,000    1.8477    0.0008\n",
    "   400,000    2.4204    0.0008\n",
    "   500,000    3.0156    0.0009\n",
    "   600,000    3.6755    0.0016\n",
    "   700,000    4.2802    0.0016\n",
    "   800,000    4.9635    0.0012\n",
    "   900,000    5.5661    0.0009\n",
    " 1,000,000    6.1204    0.0008\n",
    " ```"
   ]
  },
  {
   "cell_type": "markdown",
   "id": "f7cf4b99-611d-40f3-b3c2-4a768059864c",
   "metadata": {},
   "source": [
    "<b style=\"font-size:20px\"> Problem 1.1: </b>\n",
    "\n",
    "40만개와 80만개의 요소에 대한 시간을 활용하여 리스트와 딕션너리의 Growth Rate를 각각 산출하십시오. 다른 말로 아래와 같은 $T(n)$의 식에서 $a$와 $b$를 구하십시오. \n",
    "\n",
    "\\begin{align}\n",
    "                                T(n) = a N^b\n",
    "\\end{align}\n",
    "\n",
    "<b style=\"font-size:20px\"> Problem 1.2: </b>\n",
    "\n",
    "위에서 구한 Growth Rates를 활용하여, 1 billion 요소에 대하여, 임의의 요소의 존재 여부를 확인하는데 걸리는 시간을 각각 예측하십시오. "
   ]
  },
  {
   "cell_type": "code",
   "execution_count": null,
   "id": "5a3344ae-1c11-472d-b4c6-24db7aec906e",
   "metadata": {},
   "outputs": [],
   "source": []
  },
  {
   "cell_type": "markdown",
   "id": "f3c19644",
   "metadata": {},
   "source": [
    "<b style=\"font-size:24px\"> Problem 2: </b>\n",
    "\n",
    "시간복잡도(Time Complexity)는 어떤 문제를 해결하는데 걸리는 시간과 입력의 함수관계를 의미합니다. 어떤 알고리즘을 수행하는데 필요한 기본 연산이 얼마만큼의 시간이 걸린다고 할 때, 기본연산의 최대 개수를 나타냅니다.\n",
    "\n",
    "시간복잡도(time complexity)로부터 Big-O 표기법을 찾아내는 문제를 진행합니다. "
   ]
  },
  {
   "cell_type": "markdown",
   "id": "5c7d050e",
   "metadata": {},
   "source": [
    "<b style=\"font-size:20px\"> Problem 2.1: </b>\n",
    "\n",
    "다음 연산의 시간복잡도를 $Big-O$ 표기법으로 나타내십시오. 모든 변수의 형식은 `int`라고 가정합니다. \n",
    "```\n",
    "    a = b + c;\n",
    "    d = a + e;\n",
    "```\n",
    "\n",
    "__Solution:__\n"
   ]
  },
  {
   "cell_type": "code",
   "execution_count": null,
   "id": "3540dadc-f695-465a-aecb-91d173e9c088",
   "metadata": {},
   "outputs": [],
   "source": []
  },
  {
   "cell_type": "markdown",
   "id": "0d866c60",
   "metadata": {},
   "source": [
    "<b style=\"font-size:20px\"> Problem 2.2: </b>\n",
    "\n",
    "실행 횟수(step count) n에 따른 시간복잡도 함수(growth rate)들이 아래와 같이 주어졌다고 가정합니다. \n",
    "\n",
    "$n!, 2^n, 2n^2, 5 n \\log n, 20n, 10n$"
   ]
  },
  {
   "cell_type": "markdown",
   "id": "ec8dd87c",
   "metadata": {},
   "source": [
    "다음 문장들에 대해 참이면 T, 거짓이면 F을 괄호에 표기하세요.\n",
    "1. n 값이 커지면 $n!$ 함수는 $5n \\log n$ 함수보다 효율적이다. (  )\n",
    "2. 충분히 큰 n값에 대하여, $20n, 10n$ 함수를 순차적으로 실행시켜도 그 시간복잡도는 $2n^2$보다 작다. (  )\n",
    "3. $2^n$ 함수는 어떤 경우에도 $2n^2$ 함수보다 비효율적이다. (  )\n",
    "4. $5n \\log n$ 함수의 시간복잡도는 $O(n)$이다. (  )\n",
    "\n",
    "\n",
    "__Solution:__\n",
    "\n"
   ]
  },
  {
   "cell_type": "code",
   "execution_count": null,
   "id": "83d44558-649e-4e09-ba17-de4142b40ebf",
   "metadata": {},
   "outputs": [],
   "source": []
  },
  {
   "cell_type": "markdown",
   "id": "78381c05",
   "metadata": {},
   "source": [
    "<b style=\"font-size:20px\"> Problem 2.3: </b>\n",
    "\n",
    "실행 횟수(step count) n에 따른 시간복잡도 함수(growth rate)들이 아래와 같이 주어졌을 때, 빠른 순서대로 나열하십시오.  \n",
    "\n",
    "a) $2^{n^2}$  \n",
    "b) $\\sqrt{n} \\log(n)$  \n",
    "c) $n^{4/3}$   \n",
    "d) $\\log(\\log(n))$  \n",
    "e) $n^4$  \n",
    "f) $2^\\sqrt n$\n",
    "\n",
    "Example the Answer:\n",
    "```\n",
    "b, a, c, d, f, e\n",
    "```\n",
    "\n",
    "\n",
    "__Solution:__\n",
    "\n"
   ]
  },
  {
   "cell_type": "code",
   "execution_count": null,
   "id": "53051e5a-f18c-4f16-9a18-96c0c0f64fe9",
   "metadata": {},
   "outputs": [],
   "source": []
  },
  {
   "cell_type": "markdown",
   "id": "9b4ad155",
   "metadata": {},
   "source": [
    "# References\n",
    "- Lists and Dictionary, [Here](https://runestone.academy/runestone/books/published/pythonds3/AlgorithmAnalysis/Lists.html)\n",
    "- Ch2-3 Performance Analysis, [Here]()"
   ]
  },
  {
   "cell_type": "markdown",
   "id": "a15af4b1-02bf-4ab4-b09c-ce7d8acb1ddb",
   "metadata": {},
   "source": [
    "------\n",
    "\n",
    "복 있는 사람은 악인들의 꾀를 따르지 아니하며 죄인들의 길에 서지 아니하며 오만한 자들의 자리에 앉지 아니하고 오직 여호와의 율법을 즐거워하여 그의 율법을 주야로 묵상하는도다 그는 시냇가에 심은 나무가 철을 따라 열매를 맺으며 그 잎사귀가 마르지 아니함 같으니 그가 하는 모든 일이 다 형통하리로다 악인들은 그렇지 아니함이여 오직 바람에 나는 겨와 같도다 그러므로 악인들은 심판을 견디지 못하며 죄인들이 의인들의 모임에 들지 못하리로다 무릇 의인들의 길은 여호와께서 인정하시나 악인들의 길은 망하리로다 (시1:1-6)"
   ]
  }
 ],
 "metadata": {
  "kernelspec": {
   "display_name": "Python 3 (ipykernel)",
   "language": "python",
   "name": "python3"
  },
  "language_info": {
   "codemirror_mode": {
    "name": "ipython",
    "version": 3
   },
   "file_extension": ".py",
   "mimetype": "text/x-python",
   "name": "python",
   "nbconvert_exporter": "python",
   "pygments_lexer": "ipython3",
   "version": "3.9.12"
  },
  "toc-autonumbering": true
 },
 "nbformat": 4,
 "nbformat_minor": 5
}
